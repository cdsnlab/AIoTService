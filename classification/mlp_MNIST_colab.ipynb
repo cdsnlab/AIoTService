{
 "cells": [
  {
   "cell_type": "markdown",
   "source": [
    "# 1. Connect to Google Drive"
   ],
   "metadata": {}
  },
  {
   "cell_type": "code",
   "execution_count": null,
   "source": [
    "from google.colab import drive\n",
    "\n",
    "drive.mount('/gdrive')\n",
    "gdrive_root = '/gdrive/My Drive'"
   ],
   "outputs": [],
   "metadata": {}
  },
  {
   "cell_type": "markdown",
   "source": [
    "# 2. Import modules"
   ],
   "metadata": {}
  },
  {
   "cell_type": "code",
   "execution_count": null,
   "source": [
    "import os\n",
    "\n",
    "import torch\n",
    "import torch.optim as optim\n",
    "import torch.nn as nn\n",
    "import torch.nn.functional as F\n",
    "from torch.utils.data import DataLoader\n",
    "from torchvision import transforms\n",
    "from torchvision.datasets import MNIST\n",
    "\n",
    "!pip install pyngrok\n",
    "# import TensorBoardColab\n",
    "!pip install -U tensorboardcolab\n",
    "from tensorboardcolab import TensorBoardColab\n",
    "\n",
    "torch.manual_seed(470)\n",
    "torch.cuda.manual_seed(470)"
   ],
   "outputs": [],
   "metadata": {}
  }
 ],
 "metadata": {
  "orig_nbformat": 4,
  "language_info": {
   "name": "python"
  }
 },
 "nbformat": 4,
 "nbformat_minor": 2
}
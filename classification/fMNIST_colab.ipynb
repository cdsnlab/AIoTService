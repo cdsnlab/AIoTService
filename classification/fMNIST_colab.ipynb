{
 "cells": [
  {
   "cell_type": "markdown",
   "source": [
    "# 1. Connect to google drive"
   ],
   "metadata": {}
  },
  {
   "cell_type": "code",
   "execution_count": null,
   "source": [
    "from google.colab import drive\n",
    "\n",
    "drive.mount('/gdrive')\n",
    "gdrive_root = '/gdrive/My Drive'"
   ],
   "outputs": [],
   "metadata": {}
  },
  {
   "cell_type": "markdown",
   "source": [
    "# 2. Import modules"
   ],
   "metadata": {}
  },
  {
   "cell_type": "code",
   "execution_count": null,
   "source": [
    "import os\n",
    "\n",
    "import torch\n",
    "import torch.optim as optim\n",
    "import torch.nn as nn\n",
    "import torch.nn.functional as F\n",
    "from torch.utils.data import DataLoader\n",
    "from torchvision import transforms\n",
    "# from torchvision.datasets import MNIST\n",
    "from torchvision.datasets import FashionMNIST as FMNIST\n",
    "\n",
    "# import TensorBoardColab\n",
    "# !pip install -U tensorboardcolab\n",
    "# from tensorboardcolab import TensorBoardColab\n",
    "\n",
    "torch.manual_seed(470)\n",
    "torch.cuda.manual_seed(470)"
   ],
   "outputs": [],
   "metadata": {}
  },
  {
   "cell_type": "markdown",
   "source": [
    "# 3. Configuration"
   ],
   "metadata": {}
  },
  {
   "cell_type": "code",
   "execution_count": null,
   "source": [
    "# training & optimization hyper-parameters\n",
    "max_epoch = 20\n",
    "learning_rate = 0.0001\n",
    "batch_size = 200\n",
    "device = 'cuda'\n",
    "p=0.2\n",
    "\n",
    "# model hyper-parameters\n",
    "input_dim = 784 # 28x28=784\n",
    "hidden_dim = 512\n",
    "output_dim = 10 \n",
    "\n",
    "# initialize tensorboard for visualization\n",
    "# Note : click the Tensorboard link to see the visualization of training/testing results\n",
    "# tbc = TensorBoardColab()"
   ],
   "outputs": [],
   "metadata": {}
  }
 ],
 "metadata": {
  "orig_nbformat": 4,
  "language_info": {
   "name": "python"
  }
 },
 "nbformat": 4,
 "nbformat_minor": 2
}
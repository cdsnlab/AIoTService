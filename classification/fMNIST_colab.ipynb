{
 "cells": [
  {
   "cell_type": "markdown",
   "source": [
    "# 1. Connect to google drive"
   ],
   "metadata": {}
  },
  {
   "cell_type": "code",
   "execution_count": null,
   "source": [
    "from google.colab import drive\n",
    "\n",
    "drive.mount('/gdrive')\n",
    "gdrive_root = '/gdrive/My Drive'"
   ],
   "outputs": [],
   "metadata": {}
  },
  {
   "cell_type": "markdown",
   "source": [
    "# 2. Import modules"
   ],
   "metadata": {}
  },
  {
   "cell_type": "code",
   "execution_count": null,
   "source": [
    "import os\n",
    "\n",
    "import torch\n",
    "import torch.optim as optim\n",
    "import torch.nn as nn\n",
    "import torch.nn.functional as F\n",
    "from torch.utils.data import DataLoader\n",
    "from torchvision import transforms\n",
    "# from torchvision.datasets import MNIST\n",
    "from torchvision.datasets import FashionMNIST as FMNIST\n",
    "\n",
    "# import TensorBoardColab\n",
    "# !pip install -U tensorboardcolab\n",
    "# from tensorboardcolab import TensorBoardColab\n",
    "\n",
    "torch.manual_seed(470)\n",
    "torch.cuda.manual_seed(470)"
   ],
   "outputs": [],
   "metadata": {}
  },
  {
   "cell_type": "markdown",
   "source": [
    "# 3. Configuration"
   ],
   "metadata": {}
  },
  {
   "cell_type": "code",
   "execution_count": null,
   "source": [
    "# training & optimization hyper-parameters\n",
    "max_epoch = 20\n",
    "learning_rate = 0.0001\n",
    "batch_size = 200\n",
    "device = 'cuda'\n",
    "p=0.2\n",
    "\n",
    "# model hyper-parameters\n",
    "input_dim = 784 # 28x28=784\n",
    "hidden_dim = 512\n",
    "output_dim = 10 \n",
    "\n",
    "# initialize tensorboard for visualization\n",
    "# Note : click the Tensorboard link to see the visualization of training/testing results\n",
    "# tbc = TensorBoardColab()"
   ],
   "outputs": [],
   "metadata": {}
  },
  {
   "cell_type": "markdown",
   "source": [
    "# 4. construct data pipeline"
   ],
   "metadata": {}
  },
  {
   "cell_type": "code",
   "execution_count": null,
   "source": [
    "data_dir = os.path.join(gdrive_root, 'my_data')\n",
    "\n",
    "transform = transforms.ToTensor()\n",
    "\n",
    "# train_dataset = MNIST(data_dir, train=True, download=True, transform=transform)\n",
    "train_dataset = FMNIST(data_dir, train=True, download=True, transform=transform)\n",
    "train_dataloader = DataLoader(train_dataset, batch_size=batch_size, shuffle=True, drop_last=True)\n",
    "\n",
    "# test_dataset = MNIST(data_dir, train=False, download=True, transform=transform)\n",
    "test_dataset = FMNIST(data_dir, train=False, download=True, transform=transform)\n",
    "test_dataloader = DataLoader(test_dataset, batch_size=batch_size, shuffle=False, drop_last=False)"
   ],
   "outputs": [],
   "metadata": {}
  },
  {
   "cell_type": "markdown",
   "source": [
    "# 5. model construction"
   ],
   "metadata": {}
  },
  {
   "cell_type": "code",
   "execution_count": null,
   "source": [
    "class MyClassifier(nn.Module):\n",
    "  def __init__(self, input_dim=784, hidden_dim=512, output_dim=10):\n",
    "    super(MyClassifier, self).__init__()\n",
    "    self.layers = nn.Sequential(\n",
    "      # .. stack your layers here ...\n",
    "\n",
    "      nn.Linear(input_dim, hidden_dim),\n",
    "      nn.ReLU(),\n",
    "      #nn.Dropout(p),\n",
    "      nn.BatchNorm1d(hidden_dim),\n",
    "      nn.Linear(hidden_dim, hidden_dim),\n",
    "      nn.ReLU(),\n",
    "      #nn.Dropout(p),\n",
    "      nn.BatchNorm1d(hidden_dim),\n",
    "      nn.Linear(hidden_dim, 1024),\n",
    "      nn.ReLU(),\n",
    "      #nn.Dropout(p),\n",
    "      nn.BatchNorm1d(1024),\n",
    "      nn.Linear(1024, output_dim)\n",
    "    )\n",
    "    \n",
    "  def forward(self, x):\n",
    "    batch_size = x.size(0)\n",
    "    x = x.view(batch_size, -1)\n",
    "    outputs = self.layers(x)\n",
    "    return outputs"
   ],
   "outputs": [],
   "metadata": {}
  },
  {
   "cell_type": "markdown",
   "source": [
    "# 6. initialize model and optimizer"
   ],
   "metadata": {}
  },
  {
   "cell_type": "code",
   "execution_count": null,
   "source": [
    "my_classifier = MyClassifier(input_dim, hidden_dim, output_dim)\n",
    "my_classifier = my_classifier.to(device)\n",
    "\n",
    "optimizer = optim.Adam(my_classifier.parameters(), lr=learning_rate)"
   ],
   "outputs": [],
   "metadata": {}
  },
  {
   "cell_type": "markdown",
   "source": [
    "# 7. load pre-trained weights if exist"
   ],
   "metadata": {}
  },
  {
   "cell_type": "code",
   "execution_count": null,
   "source": [
    "ckpt_dir = os.path.join(gdrive_root, 'checkpoints')\n",
    "if not os.path.exists(ckpt_dir):\n",
    "  os.makedirs(ckpt_dir)\n",
    "  \n",
    "best_acc = 0.\n",
    "ckpt_path = os.path.join(ckpt_dir, 'lastest.pt')\n",
    "if os.path.exists(ckpt_path):\n",
    "  ckpt = torch.load(ckpt_path)\n",
    "  try:\n",
    "    my_classifier.load_state_dict(ckpt['my_classifier'])\n",
    "    optimizer.load_state_dict(ckpt['optimizer'])\n",
    "    best_acc = ckpt['best_acc']\n",
    "  except RuntimeError as e:\n",
    "      print('wrong checkpoint')\n",
    "  else:    \n",
    "    print('checkpoint is loaded !')\n",
    "    print('current best accuracy : %.2f' % best_acc)"
   ],
   "outputs": [],
   "metadata": {}
  }
 ],
 "metadata": {
  "orig_nbformat": 4,
  "language_info": {
   "name": "python"
  }
 },
 "nbformat": 4,
 "nbformat_minor": 2
}
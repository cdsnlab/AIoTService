{
 "cells": [
  {
   "cell_type": "markdown",
   "source": [
    "# 1. Import"
   ],
   "metadata": {}
  },
  {
   "cell_type": "code",
   "execution_count": null,
   "source": [
    "%matplotlib inline\n",
    "import matplotlib.pyplot as plt\n",
    "import torch\n",
    "import numpy as np\n",
    "\n",
    "print(torch.__version__)\n",
    "from torch import cuda\n",
    "print(cuda.get_device_name(cuda.current_device()))"
   ],
   "outputs": [],
   "metadata": {}
  },
  {
   "cell_type": "markdown",
   "source": [
    "# 2. Load data"
   ],
   "metadata": {}
  },
  {
   "cell_type": "code",
   "execution_count": null,
   "source": [
    "import tensorflow as tf\n",
    "\n",
    "EPOCHS = 30\n",
    "\n",
    "train_kwargs = {'batch_size': 128, 'shuffle': True}\n",
    "valid_kwargs = {'batch_size': 128, 'shuffle': False}\n",
    "test_kwargs = {'batch_size': 128, 'shuffle': False}\n",
    "\n",
    "from torchvision import datasets, transforms\n",
    "\n",
    "transform=transforms.Compose([\n",
    "        # Pad images with 0s\n",
    "        transforms.Pad((0,4,4,0), fill=0, padding_mode='constant'),\n",
    "    \n",
    "        transforms.ToTensor(),\n",
    "        transforms.Normalize((0.1307,), (0.3081,)),\n",
    "        ])\n",
    "dataset_full = datasets.MNIST('../data', train=True, download=True,\n",
    "                   transform=transform)\n",
    "valid_size = 5000\n",
    "train_size = len(dataset_full) - 5000\n",
    "dataset_train, dataset_valid = torch.utils.data.random_split(dataset_full, [train_size, valid_size])\n",
    "\n",
    "dataset_test = datasets.MNIST('../data', train=False,\n",
    "                   transform=transform)\n",
    "\n",
    "train_loader = torch.utils.data.DataLoader(dataset_train,**train_kwargs)\n",
    "valid_loader = torch.utils.data.DataLoader(dataset_valid,**valid_kwargs)\n",
    "test_loader = torch.utils.data.DataLoader(dataset_test, **test_kwargs)"
   ],
   "outputs": [],
   "metadata": {}
  }
 ],
 "metadata": {
  "orig_nbformat": 4,
  "language_info": {
   "name": "python"
  }
 },
 "nbformat": 4,
 "nbformat_minor": 2
}
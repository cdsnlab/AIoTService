{
 "cells": [
  {
   "cell_type": "code",
   "execution_count": null,
   "source": [
    "import numpy as np\n",
    "import matplotlib.pyplot as plt\n",
    "from module_.densityRatio import DensityRatio as dr\n",
    "from module_.SEP import DensityRatioSEP as drSEP"
   ],
   "outputs": [],
   "metadata": {}
  },
  {
   "cell_type": "code",
   "execution_count": null,
   "source": [
    "from module_.artificialDataset import createJumpingMean, createScalingVariance, createSwitchingCovariance, createChangingFrequency"
   ],
   "outputs": [],
   "metadata": {}
  },
  {
   "cell_type": "code",
   "execution_count": null,
   "source": [
    "samples=createJumpingMean()\n",
    "\n",
    "# plt.plot(range(len(samples))[4000:], samples[4000:])\n",
    "plt.plot(range(len(samples)), samples)"
   ],
   "outputs": [],
   "metadata": {}
  },
  {
   "cell_type": "code",
   "execution_count": null,
   "source": [
    "samples2=createScalingVariance()\n",
    "\n",
    "plt.plot(range(len(samples2))[4000:], samples2[4000:])"
   ],
   "outputs": [],
   "metadata": {}
  },
  {
   "cell_type": "code",
   "execution_count": null,
   "source": [
    "samples3=createSwitchingCovariance()\n",
    "x, y = samples3\n",
    "\n",
    "plt.plot(range(len(y))[4000:], y[4000:])"
   ],
   "outputs": [],
   "metadata": {}
  },
  {
   "cell_type": "code",
   "execution_count": null,
   "source": [
    "samples4=createChangingFrequency()\n",
    "\n",
    "plt.plot(range(len(samples4))[4000:], samples4[4000:])"
   ],
   "outputs": [],
   "metadata": {}
  },
  {
   "cell_type": "code",
   "execution_count": null,
   "source": [
    "n = 50\n",
    "k = 10\n",
    "\n",
    "subsequences=[]\n",
    "\n",
    "for i in range(len(samples)):\n",
    "    if i+k>len(samples):\n",
    "        subsequences.append(subsequences[-1])\n",
    "        continue\n",
    "    subsequence=samples[i:i+k]\n",
    "    subsequences.append(subsequence)\n",
    "\n",
    "scores=[]\n",
    "for i in range(len(subsequences)):\n",
    "    left=subsequences[i:min(i+n, len(subsequences)-1)]\n",
    "    right=subsequences[min(i+n, len(subsequences)-1):min(i+2*n, len(subsequences)-1)]\n",
    "\n",
    "    if len(left)!=len(right):\n",
    "        scores.append(0)\n",
    "        continue\n",
    "    \n",
    "    scoreSEP=drSEP(np.array(left), np.array(right)).score\n",
    "    scores.append(scoreSEP)\n",
    "\n",
    "scores=np.array(scores)\n",
    "scores[scores<0]=0\n",
    "plt.plot(range(len(scores)), scores)"
   ],
   "outputs": [],
   "metadata": {}
  }
 ],
 "metadata": {
  "interpreter": {
   "hash": "31f2aee4e71d21fbe5cf8b01ff0e069b9275f58929596ceb00d14d90e3e16cd6"
  },
  "kernelspec": {
   "name": "python3",
   "display_name": "Python 3.8.10 64-bit"
  },
  "language_info": {
   "name": "python",
   "version": "3.8.10",
   "mimetype": "text/x-python",
   "codemirror_mode": {
    "name": "ipython",
    "version": 3
   },
   "pygments_lexer": "ipython3",
   "nbconvert_exporter": "python",
   "file_extension": ".py"
  },
  "orig_nbformat": 4
 },
 "nbformat": 4,
 "nbformat_minor": 2
}
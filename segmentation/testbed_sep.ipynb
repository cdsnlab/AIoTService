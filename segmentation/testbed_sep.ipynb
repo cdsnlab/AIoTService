{
 "cells": [
  {
   "cell_type": "code",
   "execution_count": null,
   "metadata": {},
   "outputs": [],
   "source": [
    "\"\"\"\n",
    "import packages\n",
    "\"\"\"\n",
    "import os, glob\n",
    "import json\n",
    "import pandas as pd\n",
    "import numpy as np\n",
    "import math, random\n",
    "from datetime import datetime\n",
    "import pickle\n",
    "from matplotlib import pyplot as plt\n",
    "import argparse\n",
    "import path, sys, re, time\n",
    "from collections import Counter\n",
    "from scipy.spatial import distance_matrix\n",
    "from scipy.signal import find_peaks"
   ]
  },
  {
   "cell_type": "code",
   "execution_count": null,
   "metadata": {},
   "outputs": [],
   "source": [
    "\"\"\"\n",
    "import custom packages\n",
    "\"\"\"\n",
    "from module_.info.testbed_info import d_files, g_files, c_files, p_files\n",
    "from module_.info.config import config, feature_name\n",
    "from module_.readText import create_episodes, time_correction\n",
    "from module_.featureExtraction import feature_extraction\n",
    "from module_.changePointDetection import change_point_detection\n",
    "# from module_.evaluation import evaluation_\n",
    "# from module_.analysis import neighbor_events as ne\n",
    "# from module_.helper.labeling import feature_label"
   ]
  },
  {
   "cell_type": "markdown",
   "metadata": {},
   "source": [
    "# Testbed (Seminar, multi-resident, episodes)"
   ]
  },
  {
   "cell_type": "code",
   "execution_count": null,
   "metadata": {
    "tags": []
   },
   "outputs": [],
   "source": [
    "\"\"\"\n",
    "load raw files\n",
    "\"\"\"\n",
    "dir_=\"dataset/testbed/discrete/\"\n",
    "task_dict={\n",
    "    0:  [np.load(dir_+file_name) for file_name in g_files.keys()],\n",
    "    1:  [np.load(dir_+file_name) for file_name in d_files.keys()],\n",
    "    2:  [np.load(dir_+file_name) for file_name in c_files.keys()],\n",
    "    3:  [np.load(dir_+file_name) for file_name in p_files.keys()]\n",
    "}\n",
    "name_dict={\n",
    "    0: 'G', 1: 'D', 2: 'C', 3: 'P'\n",
    "}\n",
    "\n",
    "episodes, trs, tags = create_episodes(task_dict, name_dict)\n",
    "episodes=[time_correction(eps, trs[i]) for i, eps in enumerate(episodes)]"
   ]
  },
  {
   "cell_type": "code",
   "execution_count": null,
   "metadata": {
    "tags": []
   },
   "outputs": [],
   "source": [
    "\"\"\"make combinations\n",
    "    1. pick one group type\n",
    "    2. pick an activity stream from the group\n",
    "    3. pick another group type w/o type 1.\n",
    "    4. pick an activity stream from the group\n",
    "\"\"\"\n",
    "data_name='testbed'\n",
    "metric='SEP'\n",
    "\n",
    "for i, eps in enumerate(episodes):\n",
    "    pairname=tags[i][0]+tags[i][2]\n",
    "    print(i, tags[i])\n",
    "    sensor_list=sorted(set(eps[:,0]))\n",
    "    features=feature_extraction(eps, data_name, sensor_list)\n",
    "    scores=change_point_detection(features, i, pairname, data_name=data_name, metric=metric, save=True)\n",
    "    scores=np.array(scores)\n",
    "    scores[scores<0]=0\n",
    "\n",
    "    peak, _ =find_peaks(scores)\n",
    "    positive=[i for i in peak if scores[i]>0.3]\n",
    "    # positive=[i for i in range(len(scores)) if scores[i]>0.45]\n",
    "    \n",
    "###\n",
    "    plt.title(\"{}-{}\".format(tags[i], i))\n",
    "    plt.ylabel('score')\n",
    "    plt.xlabel('event')\n",
    "    plt.ylim(0,0.7)\n",
    "    plt.bar(range(len(eps)), scores)\n",
    "    plt.plot(positive, np.array(scores)[positive], 'bx', label='peak')\n",
    "    plt.axhline(y=0.45, linestyle=':', color='r', label='threshold')\n",
    "    plt.axvline(x=trs[i], linestyle=':', color='g', label='transition')\n",
    "    plt.legend()\n",
    "    plt.savefig(\"./outputs/{}/{}/{}/{}/graph.png\".format(data_name, metric, pairname, i))\n",
    "    plt.clf()\n",
    "\n",
    "###"
   ]
  },
  {
   "cell_type": "code",
   "execution_count": 12,
   "metadata": {},
   "outputs": [
    {
     "name": "stdout",
     "output_type": "stream",
     "text": [
      "GC\n",
      "Avg. TPR and FPR: (0.6962025316455697, 0.13408827692703643)\n",
      "GP\n",
      "Avg. TPR and FPR: (0.7555555555555555, 0.13457249070631971)\n",
      "PG\n",
      "Avg. TPR and FPR: (0.7619047619047619, 0.13496780584447746)\n",
      "PD\n",
      "Avg. TPR and FPR: (0.82, 0.15209205020920502)\n",
      "DG\n",
      "Avg. TPR and FPR: (0.7530864197530864, 0.14532320105075522)\n",
      "CD\n",
      "Avg. TPR and FPR: (0.7843137254901961, 0.1522491349480969)\n",
      "CG\n",
      "Avg. TPR and FPR: (0.7951807228915663, 0.1317110853611433)\n",
      "PC\n",
      "Avg. TPR and FPR: (0.7821782178217822, 0.14619883040935672)\n",
      "DC\n",
      "Avg. TPR and FPR: (0.7352941176470589, 0.15955613014436543)\n",
      "CP\n",
      "Avg. TPR and FPR: (0.8037383177570093, 0.14167792285757166)\n",
      "DP\n",
      "Avg. TPR and FPR: (0.8118811881188119, 0.15587404540223873)\n",
      "GD\n",
      "Avg. TPR and FPR: (0.7619047619047619, 0.14067192192192193)\n",
      "Total Avg. TPR and FPR: (0.775, 0.14465281784958645)\n",
      "52.92666666666667\n"
     ]
    }
   ],
   "source": [
    "\"\"\"\n",
    "    hh101 Evaluation\n",
    "    - load scores\n",
    "\"\"\"\n",
    "total_counts=np.zeros(4)\n",
    "denom = numer = 0\n",
    "for activity_folder in glob.glob(\"./outputs/{}/{}/*\".format(data_name, metric)):\n",
    "    # one type of pairs\n",
    "    activity_pair=activity_folder.split(\"/\")[-1]\n",
    "    print(activity_pair)\n",
    "    pair_counts=np.zeros(4) # TP, FP, TN, FN\n",
    "\n",
    "    for episode_folder in glob.glob(\"{}/*\".format(activity_folder)):\n",
    "        denom+=1\n",
    "        eps_order=int(episode_folder.split(\"/\")[-1])\n",
    "        eps, point=episodes[eps_order], trs[eps_order]\n",
    "        scores=np.load(\"{}/scores.npy\".format(episode_folder))\n",
    "\n",
    "        peaks, _ = find_peaks(scores)\n",
    "        positives=[i for i in peaks if scores[i]>0.1]\n",
    "        numer+=len(positives)\n",
    "        # positives=[i for i in range(len(scores)) if scores[i]>0.3]\n",
    "        ttimestamp=float(eps[point][2])\n",
    "\n",
    "        for i in range(len(scores)):\n",
    "            if i in positives:\n",
    "                if i==point:\n",
    "                    pair_counts[0]+=1\n",
    "                else:\n",
    "                    timestamp_b=float(eps[i-1][2])\n",
    "                    timestamp_a=float(eps[i][2])\n",
    "                    if abs(ttimestamp-timestamp_b)<60 or abs(ttimestamp-timestamp_a)<60:\n",
    "                        pair_counts[0]+=1\n",
    "                    else:\n",
    "                        pair_counts[1]+=1\n",
    "            else:\n",
    "                if i==point:\n",
    "                    pair_counts[3]+=1\n",
    "                else:\n",
    "                    pair_counts[2]+=1\n",
    "    TPR_=pair_counts[0]/(pair_counts[0]+pair_counts[3])\n",
    "    FPR_=pair_counts[1]/(pair_counts[1]+pair_counts[2])\n",
    "    print(\"Avg. TPR and FPR: ({}, {})\".format(TPR_, FPR_))\n",
    "\n",
    "    total_counts+=pair_counts\n",
    "\n",
    "TPR=total_counts[0]/(total_counts[0]+total_counts[3])\n",
    "FPR=total_counts[1]/(total_counts[1]+total_counts[2])\n",
    "print(\"Total Avg. TPR and FPR: ({}, {})\".format(TPR, FPR))\n",
    "\n",
    "\n",
    "print(numer/denom)"
   ]
  }
 ],
 "metadata": {
  "interpreter": {
   "hash": "31f2aee4e71d21fbe5cf8b01ff0e069b9275f58929596ceb00d14d90e3e16cd6"
  },
  "kernelspec": {
   "display_name": "Python 3.8.10 64-bit",
   "name": "python3"
  },
  "language_info": {
   "codemirror_mode": {
    "name": "ipython",
    "version": 3
   },
   "file_extension": ".py",
   "mimetype": "text/x-python",
   "name": "python",
   "nbconvert_exporter": "python",
   "pygments_lexer": "ipython3",
   "version": "3.8.10"
  },
  "metadata": {
   "interpreter": {
    "hash": "31f2aee4e71d21fbe5cf8b01ff0e069b9275f58929596ceb00d14d90e3e16cd6"
   }
  },
  "orig_nbformat": 2
 },
 "nbformat": 4,
 "nbformat_minor": 2
}
{
 "cells": [
  {
   "cell_type": "code",
   "execution_count": null,
   "source": [
    "import numpy as np\n",
    "from matplotlib import pyplot as plt\n",
    "import pickle\n",
    "\n",
    "# from module_.validation import validation\n",
    "from module_.dataLoader import dataLoader\n",
    "from module_.featureExtraction import feature_extraction\n",
    "from module_.changePointDetection import change_point_detection"
   ],
   "outputs": [],
   "metadata": {}
  },
  {
   "cell_type": "code",
   "execution_count": null,
   "source": [
    "episodes, transitions, labels = dataLoader(\"hh101\")\n",
    "\n",
    "# np.save(\"./dataload/hh101/episodes.npy\", episodes)\n",
    "# np.save(\"./dataload/hh101/transitions.npy\", transitions)\n",
    "# np.save(\"./dataload/hh101/labels.npy\", labels)\n",
    "\n",
    "episodes = np.load(\"./dataload/hh101/episodes.npy\", allow_pickle=True)\n",
    "transitions = np.load(\"./dataload/hh101/transitions.npy\")\n",
    "labels = np.load(\"./dataload/hh101/labels.npy\")"
   ],
   "outputs": [],
   "metadata": {}
  },
  {
   "cell_type": "code",
   "execution_count": null,
   "source": [
    "test_index = 0\n",
    "episode, transition, label = episodes[test_index], transitions[test_index], labels[test_index]\n",
    "\n",
    "sensor_list = sorted(set(episode[:,0]))\n",
    "segmentation_features = np.array(feature_extraction(episode, \"hh101\", sensor_list))\n",
    "\n",
    "score_s = np.array(change_point_detection(segmentation_features, \"RuLSIF\"))\n",
    "\n",
    "fig = plt.figure(figsize=(20, 1))\n",
    "ax = fig.add_subplot(1, 1, 1)\n",
    "\n",
    "plt.title(label)\n",
    "plt.ylim(0, 1)\n",
    "plt.plot(range(len(score_s)), score_s)\n",
    "plt.axvline(x=transition, color=\"g\", linestyle=\":\")\n",
    "plt.axhline(y=0.1, color=\"r\", linestyle=\":\")\n"
   ],
   "outputs": [],
   "metadata": {}
  },
  {
   "cell_type": "code",
   "execution_count": null,
   "source": [
    "score_r = np.array(change_point_detection(segmentation_features, \"RuLSIF\"))\n",
    "score_r[score_r<0]=0\n",
    "fig = plt.figure(figsize=(20, 1))\n",
    "ax = fig.add_subplot(1, 1, 1)\n",
    "\n",
    "plt.title(label)\n",
    "plt.ylim(0, 1)\n",
    "plt.plot(range(len(score_r)), score_r)\n",
    "plt.axvline(x=transition, color=\"g\", linestyle=\":\")\n",
    "plt.axhline(y=0.1, color=\"r\", linestyle=\":\")"
   ],
   "outputs": [],
   "metadata": {}
  },
  {
   "cell_type": "code",
   "execution_count": null,
   "source": [
    "label_list = set()\n",
    "for label in labels:\n",
    "    left, right = label.split(\"-\")\n",
    "    label_list.add(left); label_list.add(right)\n",
    "label_list = sorted(label_list)\n",
    "print(label_list)\n",
    "events_dict = {label:(0, 0) for label in label_list}\n",
    "sensor_dict = {label:(0, 0) for label in label_list}\n",
    "duration_dict = {label:(0, 0) for label in label_list}\n",
    "alarm_dict = {label:(0, 0) for label in label_list}\n",
    "\n",
    "# scores = []\n",
    "# scores_r = []\n",
    "for ei in range(len(episodes)):\n",
    "    if ei%100==0:\n",
    "        print(ei, len(episodes))\n",
    "    test_index = ei\n",
    "    episode, transition, label = episodes[test_index], transitions[test_index], labels[test_index]\n",
    "\n",
    "    # left\n",
    "    leftlabel = label.split(\"-\")[0]\n",
    "    events_dict[leftlabel]=(events_dict[leftlabel][0]+len(episode[:transition]),events_dict[leftlabel][1]+1)\n",
    "    sensor_dict[leftlabel]=(sensor_dict[leftlabel][0]+len(set(episode[:transition,0])),sensor_dict[leftlabel][1]+1)\n",
    "    duration_dict[leftlabel]=(duration_dict[leftlabel][0]+float(episode[transition-1,2])-float(episode[0,2]),duration_dict[leftlabel][1]+1)\n",
    "\n",
    "    # sensor_list = sorted(set(episode[:,0]))\n",
    "    # segmentation_features = np.array(feature_extraction(episode, \"hh101\", sensor_list))\n",
    "\n",
    "    # scores = np.array(change_point_detection(segmentation_features[:transition+2], \"RuLSIF\"))\n",
    "\n",
    "    # alarm_dict[leftlabel]=(alarm_dict[leftlabel][0]+sum([1 for i in range(len(scores[:transition])) if scores[i]>0.1]),alarm_dict[leftlabel][1]+1)\n",
    "\n",
    "# np.save(\"./replication/hh101/scores_s.npy\", scores_s)\n",
    "# np.save(\"./replication/hh101/scores_r.npy\", scores_r)\n",
    "\n"
   ],
   "outputs": [],
   "metadata": {}
  },
  {
   "cell_type": "code",
   "execution_count": 9,
   "source": [
    "for k, v in duration_dict.items():\n",
    "    print(k, v[0]/v[1])"
   ],
   "outputs": [
    {
     "output_type": "stream",
     "name": "stdout",
     "text": [
      "Bathe 971.6867308701787\n",
      "Bed_Toilet_Transition 315.5651008942548\n",
      "Cook 367.86838523757376\n",
      "Eat 868.3863929993765\n",
      "Enter_Home 15.455581864096084\n",
      "Leave_Home 15.566632093191147\n",
      "Other 113.9045015348399\n",
      "Personal_Hygiene 199.44883613506622\n",
      "Relax 4122.599046514428\n",
      "Sleep 18251.816145040488\n",
      "Wash_Dishes 223.19730555443536\n",
      "Work 427.3478720982869\n"
     ]
    }
   ],
   "metadata": {}
  },
  {
   "cell_type": "code",
   "execution_count": null,
   "source": [
    "# scores_s = np.load(\"./replication/hh101/scores_s.npy\", allow_pickle=True)\n",
    "scores_r = np.load(\"./replication/hh101/scores_r.npy\", allow_pickle=True)"
   ],
   "outputs": [],
   "metadata": {}
  },
  {
   "cell_type": "code",
   "execution_count": null,
   "source": [
    "true_positive = true_negative = false_positive = false_negative = 0\n",
    "\n",
    "threshold = 0.1\n",
    "\n",
    "for ei in range(len(episodes)):\n",
    "    test_index = ei\n",
    "    episode, transition, label = episodes[test_index], transitions[test_index], labels[test_index]\n",
    "    # score_s = scores_s[test_index]\n",
    "    score_r = scores_r[test_index]\n",
    "\n",
    "    gt_timestamp_l = float(episode[transition-1][2])\n",
    "    gt_timestamp_r = float(episode[transition][2])\n",
    "\n",
    "    tp = tn = fp = fn =0\n",
    "    activation = False\n",
    "    activation_timestamp = 0\n",
    "    for j in range(len(episode)):\n",
    "        r = score_r[j]\n",
    "\n",
    "        score = r\n",
    "        timestamp = float(episode[j][2])\n",
    "\n",
    "        if score>=threshold: #POSITIVE\n",
    "            # if activation and timestamp - activation_timestamp <=20 : #SKIP\n",
    "            #     if j!=transition:\n",
    "            #         tn+=1\n",
    "            #     else:\n",
    "            #         fn+=1\n",
    "            #     activation = False\n",
    "            #     continue\n",
    "            if j==transition:\n",
    "                tp+=1\n",
    "            else:\n",
    "                if abs(gt_timestamp_l-timestamp)<=10 or abs(gt_timestamp_r-timestamp)<=10:\n",
    "                    tp+=1\n",
    "                else:\n",
    "                    fp+=1\n",
    "            activation = True\n",
    "            activation_timestamp = timestamp\n",
    "        else:\n",
    "            if j!=transition:\n",
    "                tn+=1\n",
    "            else:\n",
    "                fn+=1\n",
    "\n",
    "    true_positive+=tp\n",
    "    true_negative+=tn\n",
    "    false_positive+=fp\n",
    "    false_negative+=fn"
   ],
   "outputs": [],
   "metadata": {}
  },
  {
   "cell_type": "code",
   "execution_count": null,
   "source": [
    "true_positive / (true_positive+false_negative), false_positive / (false_positive+true_negative)"
   ],
   "outputs": [],
   "metadata": {}
  }
 ],
 "metadata": {
  "orig_nbformat": 4,
  "language_info": {
   "name": "python",
   "version": "3.8.10",
   "mimetype": "text/x-python",
   "codemirror_mode": {
    "name": "ipython",
    "version": 3
   },
   "pygments_lexer": "ipython3",
   "nbconvert_exporter": "python",
   "file_extension": ".py"
  },
  "kernelspec": {
   "name": "python3",
   "display_name": "Python 3.8.10 64-bit"
  },
  "interpreter": {
   "hash": "31f2aee4e71d21fbe5cf8b01ff0e069b9275f58929596ceb00d14d90e3e16cd6"
  }
 },
 "nbformat": 4,
 "nbformat_minor": 2
}
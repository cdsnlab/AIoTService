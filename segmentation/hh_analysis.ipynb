{
 "metadata": {
  "language_info": {
   "codemirror_mode": {
    "name": "ipython",
    "version": 3
   },
   "file_extension": ".py",
   "mimetype": "text/x-python",
   "name": "python",
   "nbconvert_exporter": "python",
   "pygments_lexer": "ipython3",
   "version": "3.8.5"
  },
  "orig_nbformat": 2,
  "kernelspec": {
   "name": "python3",
   "display_name": "Python 3.8.5 64-bit"
  },
  "metadata": {
   "interpreter": {
    "hash": "31f2aee4e71d21fbe5cf8b01ff0e069b9275f58929596ceb00d14d90e3e16cd6"
   }
  },
  "interpreter": {
   "hash": "31f2aee4e71d21fbe5cf8b01ff0e069b9275f58929596ceb00d14d90e3e16cd6"
  }
 },
 "nbformat": 4,
 "nbformat_minor": 2,
 "cells": [
  {
   "cell_type": "code",
   "execution_count": 1,
   "metadata": {},
   "outputs": [],
   "source": [
    "\"\"\"\n",
    "import packages\n",
    "\"\"\"\n",
    "import os, glob\n",
    "import json\n",
    "import pandas as pd\n",
    "import numpy as np\n",
    "import math, random\n",
    "from datetime import datetime\n",
    "import pickle\n",
    "from matplotlib import pyplot as plt\n",
    "import argparse\n",
    "import path, sys, re, time\n",
    "from collections import Counter\n",
    "from scipy.spatial import distance_matrix\n",
    "from scipy.signal import find_peaks"
   ]
  },
  {
   "cell_type": "code",
   "execution_count": 2,
   "metadata": {},
   "outputs": [],
   "source": [
    "\"\"\"\n",
    "import custom modules\n",
    "\"\"\"\n",
    "from module_.readText import read_hh\n",
    "from module_.info.hh101_info import act_sep as acts\n",
    "from module_.featureExtraction import feature_extraction\n",
    "from module_.changePointDetection import change_point_detection\n",
    "from module_.evaluation import episode_evaluation, all_evaluation"
   ]
  },
  {
   "cell_type": "code",
   "execution_count": 3,
   "metadata": {},
   "outputs": [
    {
     "output_type": "stream",
     "name": "stdout",
     "text": [
      "(322603, 4)\n",
      "(219511, 4)\n",
      "(149769, 4)\n"
     ]
    }
   ],
   "source": [
    "\"\"\"\n",
    "0. load casas dataset: hh101\n",
    "\"\"\"\n",
    "with open('dataset/hh101/ann.txt','rb') as f: \n",
    "    rawdata=f.readlines()\n",
    "events=read_hh(rawdata)\n",
    "events=np.array(events)\n",
    "print(events.shape)\n",
    "\n",
    "\"\"\"\n",
    "1. remove all sensor events except \"Motion\" and \"Door\"\n",
    "\"\"\"\n",
    "\n",
    "d_events=np.array([event for event in events if event[0][0] in ['M', 'D']])\n",
    "print(d_events.shape)\n",
    "\n",
    "\"\"\"\n",
    "2. remove all sensor events with no label\n",
    "\"\"\"\n",
    "ld_events=np.array([event for event in d_events if event[3]!=\"\"])\n",
    "\n",
    "\"\"\"\n",
    "3. mapping activities\n",
    "\"\"\"\n",
    "for i in range(ld_events.shape[0]):\n",
    "    ld_events[i,-1]=acts[ld_events[i,-1]]\n",
    "\n",
    "print(ld_events.shape)\n",
    "\n",
    "\"\"\"\n",
    "4. transition points (before-end)\n",
    "\"\"\"\n",
    "ld_trs=[i for i in range(ld_events.shape[0]) if i<ld_events.shape[0]-1 and ld_events[i,3]!=ld_events[i+1,3]]\n",
    "\n",
    "\"\"\"\n",
    "5. sensor list (at least once)\n",
    "\"\"\"\n",
    "sensor_list=list(sorted(set(ld_events[:0])))\n",
    "print(sensor_list)"
   ]
  },
  {
   "cell_type": "code",
   "execution_count": 15,
   "metadata": {
    "tags": []
   },
   "outputs": [
    {
     "output_type": "display_data",
     "data": {
      "text/plain": "<Figure size 432x288 with 1 Axes>",
      "image/svg+xml": "<?xml version=\"1.0\" encoding=\"utf-8\" standalone=\"no\"?>\n<!DOCTYPE svg PUBLIC \"-//W3C//DTD SVG 1.1//EN\"\n  \"http://www.w3.org/Graphics/SVG/1.1/DTD/svg11.dtd\">\n<svg height=\"277.314375pt\" version=\"1.1\" viewBox=\"0 0 385.78125 277.314375\" width=\"385.78125pt\" xmlns=\"http://www.w3.org/2000/svg\" xmlns:xlink=\"http://www.w3.org/1999/xlink\">\n <metadata>\n  <rdf:RDF xmlns:cc=\"http://creativecommons.org/ns#\" xmlns:dc=\"http://purl.org/dc/elements/1.1/\" xmlns:rdf=\"http://www.w3.org/1999/02/22-rdf-syntax-ns#\">\n   <cc:Work>\n    <dc:type rdf:resource=\"http://purl.org/dc/dcmitype/StillImage\"/>\n    <dc:date>2021-06-29T19:40:24.149514</dc:date>\n    <dc:format>image/svg+xml</dc:format>\n    <dc:creator>\n     <cc:Agent>\n      <dc:title>Matplotlib v3.4.1, https://matplotlib.org/</dc:title>\n     </cc:Agent>\n    </dc:creator>\n   </cc:Work>\n  </rdf:RDF>\n </metadata>\n <defs>\n  <style type=\"text/css\">*{stroke-linecap:butt;stroke-linejoin:round;}</style>\n </defs>\n <g id=\"figure_1\">\n  <g id=\"patch_1\">\n   <path d=\"M 0 277.314375 \nL 385.78125 277.314375 \nL 385.78125 0 \nL 0 0 \nz\n\" style=\"fill:none;\"/>\n  </g>\n  <g id=\"axes_1\">\n   <g id=\"patch_2\">\n    <path d=\"M 43.78125 239.758125 \nL 378.58125 239.758125 \nL 378.58125 22.318125 \nL 43.78125 22.318125 \nz\n\" style=\"fill:#ffffff;\"/>\n   </g>\n   <g id=\"matplotlib.axis_1\">\n    <g id=\"xtick_1\">\n     <g id=\"line2d_1\">\n      <defs>\n       <path d=\"M 0 0 \nL 0 3.5 \n\" id=\"m6456e97570\" style=\"stroke:#000000;stroke-width:0.8;\"/>\n      </defs>\n      <g>\n       <use style=\"stroke:#000000;stroke-width:0.8;\" x=\"58.999432\" xlink:href=\"#m6456e97570\" y=\"239.758125\"/>\n      </g>\n     </g>\n     <g id=\"text_1\">\n      <!-- 0 -->\n      <g transform=\"translate(55.818182 254.356562)scale(0.1 -0.1)\">\n       <defs>\n        <path d=\"M 2034 4250 \nQ 1547 4250 1301 3770 \nQ 1056 3291 1056 2328 \nQ 1056 1369 1301 889 \nQ 1547 409 2034 409 \nQ 2525 409 2770 889 \nQ 3016 1369 3016 2328 \nQ 3016 3291 2770 3770 \nQ 2525 4250 2034 4250 \nz\nM 2034 4750 \nQ 2819 4750 3233 4129 \nQ 3647 3509 3647 2328 \nQ 3647 1150 3233 529 \nQ 2819 -91 2034 -91 \nQ 1250 -91 836 529 \nQ 422 1150 422 2328 \nQ 422 3509 836 4129 \nQ 1250 4750 2034 4750 \nz\n\" id=\"DejaVuSans-30\" transform=\"scale(0.015625)\"/>\n       </defs>\n       <use xlink:href=\"#DejaVuSans-30\"/>\n      </g>\n     </g>\n    </g>\n    <g id=\"xtick_2\">\n     <g id=\"line2d_2\">\n      <g>\n       <use style=\"stroke:#000000;stroke-width:0.8;\" x=\"133.234465\" xlink:href=\"#m6456e97570\" y=\"239.758125\"/>\n      </g>\n     </g>\n     <g id=\"text_2\">\n      <!-- 10 -->\n      <g transform=\"translate(126.871965 254.356562)scale(0.1 -0.1)\">\n       <defs>\n        <path d=\"M 794 531 \nL 1825 531 \nL 1825 4091 \nL 703 3866 \nL 703 4441 \nL 1819 4666 \nL 2450 4666 \nL 2450 531 \nL 3481 531 \nL 3481 0 \nL 794 0 \nL 794 531 \nz\n\" id=\"DejaVuSans-31\" transform=\"scale(0.015625)\"/>\n       </defs>\n       <use xlink:href=\"#DejaVuSans-31\"/>\n       <use x=\"63.623047\" xlink:href=\"#DejaVuSans-30\"/>\n      </g>\n     </g>\n    </g>\n    <g id=\"xtick_3\">\n     <g id=\"line2d_3\">\n      <g>\n       <use style=\"stroke:#000000;stroke-width:0.8;\" x=\"207.469498\" xlink:href=\"#m6456e97570\" y=\"239.758125\"/>\n      </g>\n     </g>\n     <g id=\"text_3\">\n      <!-- 20 -->\n      <g transform=\"translate(201.106998 254.356562)scale(0.1 -0.1)\">\n       <defs>\n        <path d=\"M 1228 531 \nL 3431 531 \nL 3431 0 \nL 469 0 \nL 469 531 \nQ 828 903 1448 1529 \nQ 2069 2156 2228 2338 \nQ 2531 2678 2651 2914 \nQ 2772 3150 2772 3378 \nQ 2772 3750 2511 3984 \nQ 2250 4219 1831 4219 \nQ 1534 4219 1204 4116 \nQ 875 4013 500 3803 \nL 500 4441 \nQ 881 4594 1212 4672 \nQ 1544 4750 1819 4750 \nQ 2544 4750 2975 4387 \nQ 3406 4025 3406 3419 \nQ 3406 3131 3298 2873 \nQ 3191 2616 2906 2266 \nQ 2828 2175 2409 1742 \nQ 1991 1309 1228 531 \nz\n\" id=\"DejaVuSans-32\" transform=\"scale(0.015625)\"/>\n       </defs>\n       <use xlink:href=\"#DejaVuSans-32\"/>\n       <use x=\"63.623047\" xlink:href=\"#DejaVuSans-30\"/>\n      </g>\n     </g>\n    </g>\n    <g id=\"xtick_4\">\n     <g id=\"line2d_4\">\n      <g>\n       <use style=\"stroke:#000000;stroke-width:0.8;\" x=\"281.704532\" xlink:href=\"#m6456e97570\" y=\"239.758125\"/>\n      </g>\n     </g>\n     <g id=\"text_4\">\n      <!-- 30 -->\n      <g transform=\"translate(275.342032 254.356562)scale(0.1 -0.1)\">\n       <defs>\n        <path d=\"M 2597 2516 \nQ 3050 2419 3304 2112 \nQ 3559 1806 3559 1356 \nQ 3559 666 3084 287 \nQ 2609 -91 1734 -91 \nQ 1441 -91 1130 -33 \nQ 819 25 488 141 \nL 488 750 \nQ 750 597 1062 519 \nQ 1375 441 1716 441 \nQ 2309 441 2620 675 \nQ 2931 909 2931 1356 \nQ 2931 1769 2642 2001 \nQ 2353 2234 1838 2234 \nL 1294 2234 \nL 1294 2753 \nL 1863 2753 \nQ 2328 2753 2575 2939 \nQ 2822 3125 2822 3475 \nQ 2822 3834 2567 4026 \nQ 2313 4219 1838 4219 \nQ 1578 4219 1281 4162 \nQ 984 4106 628 3988 \nL 628 4550 \nQ 988 4650 1302 4700 \nQ 1616 4750 1894 4750 \nQ 2613 4750 3031 4423 \nQ 3450 4097 3450 3541 \nQ 3450 3153 3228 2886 \nQ 3006 2619 2597 2516 \nz\n\" id=\"DejaVuSans-33\" transform=\"scale(0.015625)\"/>\n       </defs>\n       <use xlink:href=\"#DejaVuSans-33\"/>\n       <use x=\"63.623047\" xlink:href=\"#DejaVuSans-30\"/>\n      </g>\n     </g>\n    </g>\n    <g id=\"xtick_5\">\n     <g id=\"line2d_5\">\n      <g>\n       <use style=\"stroke:#000000;stroke-width:0.8;\" x=\"355.939565\" xlink:href=\"#m6456e97570\" y=\"239.758125\"/>\n      </g>\n     </g>\n     <g id=\"text_5\">\n      <!-- 40 -->\n      <g transform=\"translate(349.577065 254.356562)scale(0.1 -0.1)\">\n       <defs>\n        <path d=\"M 2419 4116 \nL 825 1625 \nL 2419 1625 \nL 2419 4116 \nz\nM 2253 4666 \nL 3047 4666 \nL 3047 1625 \nL 3713 1625 \nL 3713 1100 \nL 3047 1100 \nL 3047 0 \nL 2419 0 \nL 2419 1100 \nL 313 1100 \nL 313 1709 \nL 2253 4666 \nz\n\" id=\"DejaVuSans-34\" transform=\"scale(0.015625)\"/>\n       </defs>\n       <use xlink:href=\"#DejaVuSans-34\"/>\n       <use x=\"63.623047\" xlink:href=\"#DejaVuSans-30\"/>\n      </g>\n     </g>\n    </g>\n    <g id=\"text_6\">\n     <!-- events -->\n     <g transform=\"translate(194.335156 268.034687)scale(0.1 -0.1)\">\n      <defs>\n       <path d=\"M 3597 1894 \nL 3597 1613 \nL 953 1613 \nQ 991 1019 1311 708 \nQ 1631 397 2203 397 \nQ 2534 397 2845 478 \nQ 3156 559 3463 722 \nL 3463 178 \nQ 3153 47 2828 -22 \nQ 2503 -91 2169 -91 \nQ 1331 -91 842 396 \nQ 353 884 353 1716 \nQ 353 2575 817 3079 \nQ 1281 3584 2069 3584 \nQ 2775 3584 3186 3129 \nQ 3597 2675 3597 1894 \nz\nM 3022 2063 \nQ 3016 2534 2758 2815 \nQ 2500 3097 2075 3097 \nQ 1594 3097 1305 2825 \nQ 1016 2553 972 2059 \nL 3022 2063 \nz\n\" id=\"DejaVuSans-65\" transform=\"scale(0.015625)\"/>\n       <path d=\"M 191 3500 \nL 800 3500 \nL 1894 563 \nL 2988 3500 \nL 3597 3500 \nL 2284 0 \nL 1503 0 \nL 191 3500 \nz\n\" id=\"DejaVuSans-76\" transform=\"scale(0.015625)\"/>\n       <path d=\"M 3513 2113 \nL 3513 0 \nL 2938 0 \nL 2938 2094 \nQ 2938 2591 2744 2837 \nQ 2550 3084 2163 3084 \nQ 1697 3084 1428 2787 \nQ 1159 2491 1159 1978 \nL 1159 0 \nL 581 0 \nL 581 3500 \nL 1159 3500 \nL 1159 2956 \nQ 1366 3272 1645 3428 \nQ 1925 3584 2291 3584 \nQ 2894 3584 3203 3211 \nQ 3513 2838 3513 2113 \nz\n\" id=\"DejaVuSans-6e\" transform=\"scale(0.015625)\"/>\n       <path d=\"M 1172 4494 \nL 1172 3500 \nL 2356 3500 \nL 2356 3053 \nL 1172 3053 \nL 1172 1153 \nQ 1172 725 1289 603 \nQ 1406 481 1766 481 \nL 2356 481 \nL 2356 0 \nL 1766 0 \nQ 1100 0 847 248 \nQ 594 497 594 1153 \nL 594 3053 \nL 172 3053 \nL 172 3500 \nL 594 3500 \nL 594 4494 \nL 1172 4494 \nz\n\" id=\"DejaVuSans-74\" transform=\"scale(0.015625)\"/>\n       <path d=\"M 2834 3397 \nL 2834 2853 \nQ 2591 2978 2328 3040 \nQ 2066 3103 1784 3103 \nQ 1356 3103 1142 2972 \nQ 928 2841 928 2578 \nQ 928 2378 1081 2264 \nQ 1234 2150 1697 2047 \nL 1894 2003 \nQ 2506 1872 2764 1633 \nQ 3022 1394 3022 966 \nQ 3022 478 2636 193 \nQ 2250 -91 1575 -91 \nQ 1294 -91 989 -36 \nQ 684 19 347 128 \nL 347 722 \nQ 666 556 975 473 \nQ 1284 391 1588 391 \nQ 1994 391 2212 530 \nQ 2431 669 2431 922 \nQ 2431 1156 2273 1281 \nQ 2116 1406 1581 1522 \nL 1381 1569 \nQ 847 1681 609 1914 \nQ 372 2147 372 2553 \nQ 372 3047 722 3315 \nQ 1072 3584 1716 3584 \nQ 2034 3584 2315 3537 \nQ 2597 3491 2834 3397 \nz\n\" id=\"DejaVuSans-73\" transform=\"scale(0.015625)\"/>\n      </defs>\n      <use xlink:href=\"#DejaVuSans-65\"/>\n      <use x=\"61.523438\" xlink:href=\"#DejaVuSans-76\"/>\n      <use x=\"120.703125\" xlink:href=\"#DejaVuSans-65\"/>\n      <use x=\"182.226562\" xlink:href=\"#DejaVuSans-6e\"/>\n      <use x=\"245.605469\" xlink:href=\"#DejaVuSans-74\"/>\n      <use x=\"284.814453\" xlink:href=\"#DejaVuSans-73\"/>\n     </g>\n    </g>\n   </g>\n   <g id=\"matplotlib.axis_2\">\n    <g id=\"ytick_1\">\n     <g id=\"line2d_6\">\n      <defs>\n       <path d=\"M 0 0 \nL -3.5 0 \n\" id=\"m59a52f732d\" style=\"stroke:#000000;stroke-width:0.8;\"/>\n      </defs>\n      <g>\n       <use style=\"stroke:#000000;stroke-width:0.8;\" x=\"43.78125\" xlink:href=\"#m59a52f732d\" y=\"229.874489\"/>\n      </g>\n     </g>\n     <g id=\"text_7\">\n      <!-- 0.0 -->\n      <g transform=\"translate(20.878125 233.673707)scale(0.1 -0.1)\">\n       <defs>\n        <path d=\"M 684 794 \nL 1344 794 \nL 1344 0 \nL 684 0 \nL 684 794 \nz\n\" id=\"DejaVuSans-2e\" transform=\"scale(0.015625)\"/>\n       </defs>\n       <use xlink:href=\"#DejaVuSans-30\"/>\n       <use x=\"63.623047\" xlink:href=\"#DejaVuSans-2e\"/>\n       <use x=\"95.410156\" xlink:href=\"#DejaVuSans-30\"/>\n      </g>\n     </g>\n    </g>\n    <g id=\"ytick_2\">\n     <g id=\"line2d_7\">\n      <g>\n       <use style=\"stroke:#000000;stroke-width:0.8;\" x=\"43.78125\" xlink:href=\"#m59a52f732d\" y=\"185.327001\"/>\n      </g>\n     </g>\n     <g id=\"text_8\">\n      <!-- 0.2 -->\n      <g transform=\"translate(20.878125 189.12622)scale(0.1 -0.1)\">\n       <use xlink:href=\"#DejaVuSans-30\"/>\n       <use x=\"63.623047\" xlink:href=\"#DejaVuSans-2e\"/>\n       <use x=\"95.410156\" xlink:href=\"#DejaVuSans-32\"/>\n      </g>\n     </g>\n    </g>\n    <g id=\"ytick_3\">\n     <g id=\"line2d_8\">\n      <g>\n       <use style=\"stroke:#000000;stroke-width:0.8;\" x=\"43.78125\" xlink:href=\"#m59a52f732d\" y=\"140.779514\"/>\n      </g>\n     </g>\n     <g id=\"text_9\">\n      <!-- 0.4 -->\n      <g transform=\"translate(20.878125 144.578732)scale(0.1 -0.1)\">\n       <use xlink:href=\"#DejaVuSans-30\"/>\n       <use x=\"63.623047\" xlink:href=\"#DejaVuSans-2e\"/>\n       <use x=\"95.410156\" xlink:href=\"#DejaVuSans-34\"/>\n      </g>\n     </g>\n    </g>\n    <g id=\"ytick_4\">\n     <g id=\"line2d_9\">\n      <g>\n       <use style=\"stroke:#000000;stroke-width:0.8;\" x=\"43.78125\" xlink:href=\"#m59a52f732d\" y=\"96.232026\"/>\n      </g>\n     </g>\n     <g id=\"text_10\">\n      <!-- 0.6 -->\n      <g transform=\"translate(20.878125 100.031245)scale(0.1 -0.1)\">\n       <defs>\n        <path d=\"M 2113 2584 \nQ 1688 2584 1439 2293 \nQ 1191 2003 1191 1497 \nQ 1191 994 1439 701 \nQ 1688 409 2113 409 \nQ 2538 409 2786 701 \nQ 3034 994 3034 1497 \nQ 3034 2003 2786 2293 \nQ 2538 2584 2113 2584 \nz\nM 3366 4563 \nL 3366 3988 \nQ 3128 4100 2886 4159 \nQ 2644 4219 2406 4219 \nQ 1781 4219 1451 3797 \nQ 1122 3375 1075 2522 \nQ 1259 2794 1537 2939 \nQ 1816 3084 2150 3084 \nQ 2853 3084 3261 2657 \nQ 3669 2231 3669 1497 \nQ 3669 778 3244 343 \nQ 2819 -91 2113 -91 \nQ 1303 -91 875 529 \nQ 447 1150 447 2328 \nQ 447 3434 972 4092 \nQ 1497 4750 2381 4750 \nQ 2619 4750 2861 4703 \nQ 3103 4656 3366 4563 \nz\n\" id=\"DejaVuSans-36\" transform=\"scale(0.015625)\"/>\n       </defs>\n       <use xlink:href=\"#DejaVuSans-30\"/>\n       <use x=\"63.623047\" xlink:href=\"#DejaVuSans-2e\"/>\n       <use x=\"95.410156\" xlink:href=\"#DejaVuSans-36\"/>\n      </g>\n     </g>\n    </g>\n    <g id=\"ytick_5\">\n     <g id=\"line2d_10\">\n      <g>\n       <use style=\"stroke:#000000;stroke-width:0.8;\" x=\"43.78125\" xlink:href=\"#m59a52f732d\" y=\"51.684539\"/>\n      </g>\n     </g>\n     <g id=\"text_11\">\n      <!-- 0.8 -->\n      <g transform=\"translate(20.878125 55.483757)scale(0.1 -0.1)\">\n       <defs>\n        <path d=\"M 2034 2216 \nQ 1584 2216 1326 1975 \nQ 1069 1734 1069 1313 \nQ 1069 891 1326 650 \nQ 1584 409 2034 409 \nQ 2484 409 2743 651 \nQ 3003 894 3003 1313 \nQ 3003 1734 2745 1975 \nQ 2488 2216 2034 2216 \nz\nM 1403 2484 \nQ 997 2584 770 2862 \nQ 544 3141 544 3541 \nQ 544 4100 942 4425 \nQ 1341 4750 2034 4750 \nQ 2731 4750 3128 4425 \nQ 3525 4100 3525 3541 \nQ 3525 3141 3298 2862 \nQ 3072 2584 2669 2484 \nQ 3125 2378 3379 2068 \nQ 3634 1759 3634 1313 \nQ 3634 634 3220 271 \nQ 2806 -91 2034 -91 \nQ 1263 -91 848 271 \nQ 434 634 434 1313 \nQ 434 1759 690 2068 \nQ 947 2378 1403 2484 \nz\nM 1172 3481 \nQ 1172 3119 1398 2916 \nQ 1625 2713 2034 2713 \nQ 2441 2713 2670 2916 \nQ 2900 3119 2900 3481 \nQ 2900 3844 2670 4047 \nQ 2441 4250 2034 4250 \nQ 1625 4250 1398 4047 \nQ 1172 3844 1172 3481 \nz\n\" id=\"DejaVuSans-38\" transform=\"scale(0.015625)\"/>\n       </defs>\n       <use xlink:href=\"#DejaVuSans-30\"/>\n       <use x=\"63.623047\" xlink:href=\"#DejaVuSans-2e\"/>\n       <use x=\"95.410156\" xlink:href=\"#DejaVuSans-38\"/>\n      </g>\n     </g>\n    </g>\n    <g id=\"text_12\">\n     <!-- score -->\n     <g transform=\"translate(14.798438 144.470937)rotate(-90)scale(0.1 -0.1)\">\n      <defs>\n       <path d=\"M 3122 3366 \nL 3122 2828 \nQ 2878 2963 2633 3030 \nQ 2388 3097 2138 3097 \nQ 1578 3097 1268 2742 \nQ 959 2388 959 1747 \nQ 959 1106 1268 751 \nQ 1578 397 2138 397 \nQ 2388 397 2633 464 \nQ 2878 531 3122 666 \nL 3122 134 \nQ 2881 22 2623 -34 \nQ 2366 -91 2075 -91 \nQ 1284 -91 818 406 \nQ 353 903 353 1747 \nQ 353 2603 823 3093 \nQ 1294 3584 2113 3584 \nQ 2378 3584 2631 3529 \nQ 2884 3475 3122 3366 \nz\n\" id=\"DejaVuSans-63\" transform=\"scale(0.015625)\"/>\n       <path d=\"M 1959 3097 \nQ 1497 3097 1228 2736 \nQ 959 2375 959 1747 \nQ 959 1119 1226 758 \nQ 1494 397 1959 397 \nQ 2419 397 2687 759 \nQ 2956 1122 2956 1747 \nQ 2956 2369 2687 2733 \nQ 2419 3097 1959 3097 \nz\nM 1959 3584 \nQ 2709 3584 3137 3096 \nQ 3566 2609 3566 1747 \nQ 3566 888 3137 398 \nQ 2709 -91 1959 -91 \nQ 1206 -91 779 398 \nQ 353 888 353 1747 \nQ 353 2609 779 3096 \nQ 1206 3584 1959 3584 \nz\n\" id=\"DejaVuSans-6f\" transform=\"scale(0.015625)\"/>\n       <path d=\"M 2631 2963 \nQ 2534 3019 2420 3045 \nQ 2306 3072 2169 3072 \nQ 1681 3072 1420 2755 \nQ 1159 2438 1159 1844 \nL 1159 0 \nL 581 0 \nL 581 3500 \nL 1159 3500 \nL 1159 2956 \nQ 1341 3275 1631 3429 \nQ 1922 3584 2338 3584 \nQ 2397 3584 2469 3576 \nQ 2541 3569 2628 3553 \nL 2631 2963 \nz\n\" id=\"DejaVuSans-72\" transform=\"scale(0.015625)\"/>\n      </defs>\n      <use xlink:href=\"#DejaVuSans-73\"/>\n      <use x=\"52.099609\" xlink:href=\"#DejaVuSans-63\"/>\n      <use x=\"107.080078\" xlink:href=\"#DejaVuSans-6f\"/>\n      <use x=\"168.261719\" xlink:href=\"#DejaVuSans-72\"/>\n      <use x=\"207.125\" xlink:href=\"#DejaVuSans-65\"/>\n     </g>\n    </g>\n   </g>\n   <g id=\"line2d_11\">\n    <path clip-path=\"url(#pbb769052e8)\" d=\"M 58.999432 229.874489 \nL 66.422935 229.874489 \nL 73.846438 217.601147 \nL 81.269942 42.637424 \nL 88.693445 35.866773 \nL 96.116948 40.33181 \nL 103.540452 229.874489 \nL 110.963955 32.201761 \nL 118.387458 33.993437 \nL 125.810962 34.013411 \nL 133.234465 40.31313 \nL 140.657968 36.983857 \nL 148.081472 33.993437 \nL 155.504975 229.874489 \nL 162.928478 229.874489 \nL 170.351982 229.874489 \nL 177.775485 229.874489 \nL 185.198988 229.874489 \nL 192.622492 39.287657 \nL 200.045995 39.58241 \nL 207.469498 39.769314 \nL 214.893002 39.90013 \nL 222.316505 40.012613 \nL 229.740008 40.115064 \nL 237.163512 40.229998 \nL 244.587015 40.357118 \nL 252.010518 40.513179 \nL 259.434022 40.714525 \nL 266.857525 229.874489 \nL 274.281028 229.874489 \nL 281.704532 229.874489 \nL 289.128035 33.603979 \nL 296.551538 229.874489 \nL 303.975042 42.161543 \nL 311.398545 42.346687 \nL 318.822048 42.4893 \nL 326.245552 42.601109 \nL 333.669055 42.692769 \nL 341.092558 42.771518 \nL 348.516062 42.883192 \nL 355.939565 36.648894 \nL 363.363068 229.874489 \n\" style=\"fill:none;stroke:#ff0000;stroke-linecap:square;stroke-width:1.5;\"/>\n    <defs>\n     <path d=\"M 0 3 \nC 0.795609 3 1.55874 2.683901 2.12132 2.12132 \nC 2.683901 1.55874 3 0.795609 3 0 \nC 3 -0.795609 2.683901 -1.55874 2.12132 -2.12132 \nC 1.55874 -2.683901 0.795609 -3 0 -3 \nC -0.795609 -3 -1.55874 -2.683901 -2.12132 -2.12132 \nC -2.683901 -1.55874 -3 -0.795609 -3 0 \nC -3 0.795609 -2.683901 1.55874 -2.12132 2.12132 \nC -1.55874 2.683901 -0.795609 3 0 3 \nz\n\" id=\"mf5c37db20b\" style=\"stroke:#ff0000;\"/>\n    </defs>\n    <g clip-path=\"url(#pbb769052e8)\">\n     <use style=\"fill:#ff0000;stroke:#ff0000;\" x=\"58.999432\" xlink:href=\"#mf5c37db20b\" y=\"229.874489\"/>\n     <use style=\"fill:#ff0000;stroke:#ff0000;\" x=\"66.422935\" xlink:href=\"#mf5c37db20b\" y=\"229.874489\"/>\n     <use style=\"fill:#ff0000;stroke:#ff0000;\" x=\"73.846438\" xlink:href=\"#mf5c37db20b\" y=\"217.601147\"/>\n     <use style=\"fill:#ff0000;stroke:#ff0000;\" x=\"81.269942\" xlink:href=\"#mf5c37db20b\" y=\"42.637424\"/>\n     <use style=\"fill:#ff0000;stroke:#ff0000;\" x=\"88.693445\" xlink:href=\"#mf5c37db20b\" y=\"35.866773\"/>\n     <use style=\"fill:#ff0000;stroke:#ff0000;\" x=\"96.116948\" xlink:href=\"#mf5c37db20b\" y=\"40.33181\"/>\n     <use style=\"fill:#ff0000;stroke:#ff0000;\" x=\"103.540452\" xlink:href=\"#mf5c37db20b\" y=\"229.874489\"/>\n     <use style=\"fill:#ff0000;stroke:#ff0000;\" x=\"110.963955\" xlink:href=\"#mf5c37db20b\" y=\"32.201761\"/>\n     <use style=\"fill:#ff0000;stroke:#ff0000;\" x=\"118.387458\" xlink:href=\"#mf5c37db20b\" y=\"33.993437\"/>\n     <use style=\"fill:#ff0000;stroke:#ff0000;\" x=\"125.810962\" xlink:href=\"#mf5c37db20b\" y=\"34.013411\"/>\n     <use style=\"fill:#ff0000;stroke:#ff0000;\" x=\"133.234465\" xlink:href=\"#mf5c37db20b\" y=\"40.31313\"/>\n     <use style=\"fill:#ff0000;stroke:#ff0000;\" x=\"140.657968\" xlink:href=\"#mf5c37db20b\" y=\"36.983857\"/>\n     <use style=\"fill:#ff0000;stroke:#ff0000;\" x=\"148.081472\" xlink:href=\"#mf5c37db20b\" y=\"33.993437\"/>\n     <use style=\"fill:#ff0000;stroke:#ff0000;\" x=\"155.504975\" xlink:href=\"#mf5c37db20b\" y=\"229.874489\"/>\n     <use style=\"fill:#ff0000;stroke:#ff0000;\" x=\"162.928478\" xlink:href=\"#mf5c37db20b\" y=\"229.874489\"/>\n     <use style=\"fill:#ff0000;stroke:#ff0000;\" x=\"170.351982\" xlink:href=\"#mf5c37db20b\" y=\"229.874489\"/>\n     <use style=\"fill:#ff0000;stroke:#ff0000;\" x=\"177.775485\" xlink:href=\"#mf5c37db20b\" y=\"229.874489\"/>\n     <use style=\"fill:#ff0000;stroke:#ff0000;\" x=\"185.198988\" xlink:href=\"#mf5c37db20b\" y=\"229.874489\"/>\n     <use style=\"fill:#ff0000;stroke:#ff0000;\" x=\"192.622492\" xlink:href=\"#mf5c37db20b\" y=\"39.287657\"/>\n     <use style=\"fill:#ff0000;stroke:#ff0000;\" x=\"200.045995\" xlink:href=\"#mf5c37db20b\" y=\"39.58241\"/>\n     <use style=\"fill:#ff0000;stroke:#ff0000;\" x=\"207.469498\" xlink:href=\"#mf5c37db20b\" y=\"39.769314\"/>\n     <use style=\"fill:#ff0000;stroke:#ff0000;\" x=\"214.893002\" xlink:href=\"#mf5c37db20b\" y=\"39.90013\"/>\n     <use style=\"fill:#ff0000;stroke:#ff0000;\" x=\"222.316505\" xlink:href=\"#mf5c37db20b\" y=\"40.012613\"/>\n     <use style=\"fill:#ff0000;stroke:#ff0000;\" x=\"229.740008\" xlink:href=\"#mf5c37db20b\" y=\"40.115064\"/>\n     <use style=\"fill:#ff0000;stroke:#ff0000;\" x=\"237.163512\" xlink:href=\"#mf5c37db20b\" y=\"40.229998\"/>\n     <use style=\"fill:#ff0000;stroke:#ff0000;\" x=\"244.587015\" xlink:href=\"#mf5c37db20b\" y=\"40.357118\"/>\n     <use style=\"fill:#ff0000;stroke:#ff0000;\" x=\"252.010518\" xlink:href=\"#mf5c37db20b\" y=\"40.513179\"/>\n     <use style=\"fill:#ff0000;stroke:#ff0000;\" x=\"259.434022\" xlink:href=\"#mf5c37db20b\" y=\"40.714525\"/>\n     <use style=\"fill:#ff0000;stroke:#ff0000;\" x=\"266.857525\" xlink:href=\"#mf5c37db20b\" y=\"229.874489\"/>\n     <use style=\"fill:#ff0000;stroke:#ff0000;\" x=\"274.281028\" xlink:href=\"#mf5c37db20b\" y=\"229.874489\"/>\n     <use style=\"fill:#ff0000;stroke:#ff0000;\" x=\"281.704532\" xlink:href=\"#mf5c37db20b\" y=\"229.874489\"/>\n     <use style=\"fill:#ff0000;stroke:#ff0000;\" x=\"289.128035\" xlink:href=\"#mf5c37db20b\" y=\"33.603979\"/>\n     <use style=\"fill:#ff0000;stroke:#ff0000;\" x=\"296.551538\" xlink:href=\"#mf5c37db20b\" y=\"229.874489\"/>\n     <use style=\"fill:#ff0000;stroke:#ff0000;\" x=\"303.975042\" xlink:href=\"#mf5c37db20b\" y=\"42.161543\"/>\n     <use style=\"fill:#ff0000;stroke:#ff0000;\" x=\"311.398545\" xlink:href=\"#mf5c37db20b\" y=\"42.346687\"/>\n     <use style=\"fill:#ff0000;stroke:#ff0000;\" x=\"318.822048\" xlink:href=\"#mf5c37db20b\" y=\"42.4893\"/>\n     <use style=\"fill:#ff0000;stroke:#ff0000;\" x=\"326.245552\" xlink:href=\"#mf5c37db20b\" y=\"42.601109\"/>\n     <use style=\"fill:#ff0000;stroke:#ff0000;\" x=\"333.669055\" xlink:href=\"#mf5c37db20b\" y=\"42.692769\"/>\n     <use style=\"fill:#ff0000;stroke:#ff0000;\" x=\"341.092558\" xlink:href=\"#mf5c37db20b\" y=\"42.771518\"/>\n     <use style=\"fill:#ff0000;stroke:#ff0000;\" x=\"348.516062\" xlink:href=\"#mf5c37db20b\" y=\"42.883192\"/>\n     <use style=\"fill:#ff0000;stroke:#ff0000;\" x=\"355.939565\" xlink:href=\"#mf5c37db20b\" y=\"36.648894\"/>\n     <use style=\"fill:#ff0000;stroke:#ff0000;\" x=\"363.363068\" xlink:href=\"#mf5c37db20b\" y=\"229.874489\"/>\n    </g>\n   </g>\n   <g id=\"line2d_12\">\n    <defs>\n     <path d=\"M 0 -3 \nL -0.673542 -0.927051 \nL -2.85317 -0.927051 \nL -1.089814 0.354102 \nL -1.763356 2.427051 \nL -0 1.145898 \nL 1.763356 2.427051 \nL 1.089814 0.354102 \nL 2.85317 -0.927051 \nL 0.673542 -0.927051 \nz\n\" id=\"meb2bf851a7\" style=\"stroke:#1f77b4;stroke-linejoin:bevel;\"/>\n    </defs>\n    <g clip-path=\"url(#pbb769052e8)\">\n     <use style=\"fill:#1f77b4;stroke:#1f77b4;stroke-linejoin:bevel;\" x=\"88.693445\" xlink:href=\"#meb2bf851a7\" y=\"35.866773\"/>\n     <use style=\"fill:#1f77b4;stroke:#1f77b4;stroke-linejoin:bevel;\" x=\"110.963955\" xlink:href=\"#meb2bf851a7\" y=\"32.201761\"/>\n     <use style=\"fill:#1f77b4;stroke:#1f77b4;stroke-linejoin:bevel;\" x=\"148.081472\" xlink:href=\"#meb2bf851a7\" y=\"33.993437\"/>\n     <use style=\"fill:#1f77b4;stroke:#1f77b4;stroke-linejoin:bevel;\" x=\"192.622492\" xlink:href=\"#meb2bf851a7\" y=\"39.287657\"/>\n     <use style=\"fill:#1f77b4;stroke:#1f77b4;stroke-linejoin:bevel;\" x=\"289.128035\" xlink:href=\"#meb2bf851a7\" y=\"33.603979\"/>\n     <use style=\"fill:#1f77b4;stroke:#1f77b4;stroke-linejoin:bevel;\" x=\"303.975042\" xlink:href=\"#meb2bf851a7\" y=\"42.161543\"/>\n     <use style=\"fill:#1f77b4;stroke:#1f77b4;stroke-linejoin:bevel;\" x=\"355.939565\" xlink:href=\"#meb2bf851a7\" y=\"36.648894\"/>\n    </g>\n   </g>\n   <g id=\"line2d_13\">\n    <path clip-path=\"url(#pbb769052e8)\" d=\"M 177.775485 239.758125 \nL 177.775485 22.318125 \n\" style=\"fill:none;stroke:#1f77b4;stroke-dasharray:1.5,2.475;stroke-dashoffset:0;stroke-width:1.5;\"/>\n   </g>\n   <g id=\"patch_3\">\n    <path d=\"M 43.78125 239.758125 \nL 43.78125 22.318125 \n\" style=\"fill:none;stroke:#000000;stroke-linecap:square;stroke-linejoin:miter;stroke-width:0.8;\"/>\n   </g>\n   <g id=\"patch_4\">\n    <path d=\"M 378.58125 239.758125 \nL 378.58125 22.318125 \n\" style=\"fill:none;stroke:#000000;stroke-linecap:square;stroke-linejoin:miter;stroke-width:0.8;\"/>\n   </g>\n   <g id=\"patch_5\">\n    <path d=\"M 43.78125 239.758125 \nL 378.58125 239.758125 \n\" style=\"fill:none;stroke:#000000;stroke-linecap:square;stroke-linejoin:miter;stroke-width:0.8;\"/>\n   </g>\n   <g id=\"patch_6\">\n    <path d=\"M 43.78125 22.318125 \nL 378.58125 22.318125 \n\" style=\"fill:none;stroke:#000000;stroke-linecap:square;stroke-linejoin:miter;stroke-width:0.8;\"/>\n   </g>\n   <g id=\"text_13\">\n    <!-- Other-Relax-0 -->\n    <g transform=\"translate(169.894688 16.318125)scale(0.12 -0.12)\">\n     <defs>\n      <path d=\"M 2522 4238 \nQ 1834 4238 1429 3725 \nQ 1025 3213 1025 2328 \nQ 1025 1447 1429 934 \nQ 1834 422 2522 422 \nQ 3209 422 3611 934 \nQ 4013 1447 4013 2328 \nQ 4013 3213 3611 3725 \nQ 3209 4238 2522 4238 \nz\nM 2522 4750 \nQ 3503 4750 4090 4092 \nQ 4678 3434 4678 2328 \nQ 4678 1225 4090 567 \nQ 3503 -91 2522 -91 \nQ 1538 -91 948 565 \nQ 359 1222 359 2328 \nQ 359 3434 948 4092 \nQ 1538 4750 2522 4750 \nz\n\" id=\"DejaVuSans-4f\" transform=\"scale(0.015625)\"/>\n      <path d=\"M 3513 2113 \nL 3513 0 \nL 2938 0 \nL 2938 2094 \nQ 2938 2591 2744 2837 \nQ 2550 3084 2163 3084 \nQ 1697 3084 1428 2787 \nQ 1159 2491 1159 1978 \nL 1159 0 \nL 581 0 \nL 581 4863 \nL 1159 4863 \nL 1159 2956 \nQ 1366 3272 1645 3428 \nQ 1925 3584 2291 3584 \nQ 2894 3584 3203 3211 \nQ 3513 2838 3513 2113 \nz\n\" id=\"DejaVuSans-68\" transform=\"scale(0.015625)\"/>\n      <path d=\"M 313 2009 \nL 1997 2009 \nL 1997 1497 \nL 313 1497 \nL 313 2009 \nz\n\" id=\"DejaVuSans-2d\" transform=\"scale(0.015625)\"/>\n      <path d=\"M 2841 2188 \nQ 3044 2119 3236 1894 \nQ 3428 1669 3622 1275 \nL 4263 0 \nL 3584 0 \nL 2988 1197 \nQ 2756 1666 2539 1819 \nQ 2322 1972 1947 1972 \nL 1259 1972 \nL 1259 0 \nL 628 0 \nL 628 4666 \nL 2053 4666 \nQ 2853 4666 3247 4331 \nQ 3641 3997 3641 3322 \nQ 3641 2881 3436 2590 \nQ 3231 2300 2841 2188 \nz\nM 1259 4147 \nL 1259 2491 \nL 2053 2491 \nQ 2509 2491 2742 2702 \nQ 2975 2913 2975 3322 \nQ 2975 3731 2742 3939 \nQ 2509 4147 2053 4147 \nL 1259 4147 \nz\n\" id=\"DejaVuSans-52\" transform=\"scale(0.015625)\"/>\n      <path d=\"M 603 4863 \nL 1178 4863 \nL 1178 0 \nL 603 0 \nL 603 4863 \nz\n\" id=\"DejaVuSans-6c\" transform=\"scale(0.015625)\"/>\n      <path d=\"M 2194 1759 \nQ 1497 1759 1228 1600 \nQ 959 1441 959 1056 \nQ 959 750 1161 570 \nQ 1363 391 1709 391 \nQ 2188 391 2477 730 \nQ 2766 1069 2766 1631 \nL 2766 1759 \nL 2194 1759 \nz\nM 3341 1997 \nL 3341 0 \nL 2766 0 \nL 2766 531 \nQ 2569 213 2275 61 \nQ 1981 -91 1556 -91 \nQ 1019 -91 701 211 \nQ 384 513 384 1019 \nQ 384 1609 779 1909 \nQ 1175 2209 1959 2209 \nL 2766 2209 \nL 2766 2266 \nQ 2766 2663 2505 2880 \nQ 2244 3097 1772 3097 \nQ 1472 3097 1187 3025 \nQ 903 2953 641 2809 \nL 641 3341 \nQ 956 3463 1253 3523 \nQ 1550 3584 1831 3584 \nQ 2591 3584 2966 3190 \nQ 3341 2797 3341 1997 \nz\n\" id=\"DejaVuSans-61\" transform=\"scale(0.015625)\"/>\n      <path d=\"M 3513 3500 \nL 2247 1797 \nL 3578 0 \nL 2900 0 \nL 1881 1375 \nL 863 0 \nL 184 0 \nL 1544 1831 \nL 300 3500 \nL 978 3500 \nL 1906 2253 \nL 2834 3500 \nL 3513 3500 \nz\n\" id=\"DejaVuSans-78\" transform=\"scale(0.015625)\"/>\n     </defs>\n     <use xlink:href=\"#DejaVuSans-4f\"/>\n     <use x=\"78.710938\" xlink:href=\"#DejaVuSans-74\"/>\n     <use x=\"117.919922\" xlink:href=\"#DejaVuSans-68\"/>\n     <use x=\"181.298828\" xlink:href=\"#DejaVuSans-65\"/>\n     <use x=\"242.822266\" xlink:href=\"#DejaVuSans-72\"/>\n     <use x=\"277.560547\" xlink:href=\"#DejaVuSans-2d\"/>\n     <use x=\"313.644531\" xlink:href=\"#DejaVuSans-52\"/>\n     <use x=\"378.626953\" xlink:href=\"#DejaVuSans-65\"/>\n     <use x=\"440.150391\" xlink:href=\"#DejaVuSans-6c\"/>\n     <use x=\"467.933594\" xlink:href=\"#DejaVuSans-61\"/>\n     <use x=\"529.212891\" xlink:href=\"#DejaVuSans-78\"/>\n     <use x=\"588.392578\" xlink:href=\"#DejaVuSans-2d\"/>\n     <use x=\"624.476562\" xlink:href=\"#DejaVuSans-30\"/>\n    </g>\n   </g>\n  </g>\n </g>\n <defs>\n  <clipPath id=\"pbb769052e8\">\n   <rect height=\"217.44\" width=\"334.8\" x=\"43.78125\" y=\"22.318125\"/>\n  </clipPath>\n </defs>\n</svg>\n",
      "image/png": "[encoded data removed]"
     },
     "metadata": {
      "needs_background": "light"
     }
    }
   ],
   "source": [
    "\"\"\"\n",
    "    episodes\n",
    "\"\"\"\n",
    "\n",
    "activities=[]\n",
    "previndex=0\n",
    "for i, index in enumerate(ld_trs):\n",
    "    if i==0:\n",
    "        activities.append(ld_events[:index+1])\n",
    "        previndex=index\n",
    "    elif i==len(ld_trs)-1:\n",
    "        activities.append(ld_events[index+1:])\n",
    "    else:\n",
    "        activities.append(ld_events[previndex+1:index+1])\n",
    "        previndex=index\n",
    "\n",
    "episodes=[]\n",
    "eps_trs=[]\n",
    "for i in range(len(activities)):\n",
    "    if i==len(activities)-1:\n",
    "        break\n",
    "    episodes.append(np.concatenate((activities[i], activities[i+1])))\n",
    "    eps_trs.append(len(activities[i]))\n",
    "\n",
    "\n",
    "tpr_, fpr_ = 0, 0\n",
    "tp_ = fp_ = tn_ = fn_ = 0\n",
    "for e_num in range(len(episodes)):\n",
    "    test_gt, test=eps_trs[e_num], episodes[e_num]\n",
    "    tag=\"{}-{}-{}\".format(test[0][-1], test[-1][-1], e_num)\n",
    "    features=np.array(feature_extraction(test, \"hh101\", sensor_list))\n",
    "    scores, _, _, _, _=change_point_detection(features, 'sep')\n",
    "    scores=np.array(scores)\n",
    "    non_peak=[i for i in range(len(scores)) if scores[i]>0.3]\n",
    "    peak, _=find_peaks(scores)\n",
    "    peak=[p for p in peak if scores[p]>0.3]\n",
    "    # plt.title(tag)\n",
    "    # plt.xlabel('events'); plt.ylabel('score')\n",
    "    # plt.plot(range(len(scores)), scores, 'ro-')\n",
    "    # plt.plot(peak, scores[peak], '*')\n",
    "    # plt.axvline(x=test_gt, linestyle=':')\n",
    "    break\n",
    "    # ## peak-check\n",
    "    # bucket={item:0 for item in ['tp','fp','tn','fn']}\n",
    "    # gtb, gta=float(test[test_gt-1][2]), float(test[test_gt][2]) # time-wise\n",
    "    # # gtb, gta=test_gt-1, test_gt\n",
    "    # for i, event in enumerate(test):\n",
    "    #     if i in peak: # positive\n",
    "    #         if i==test_gt:\n",
    "    #             bucket['tp']+=1\n",
    "    #         else:\n",
    "    #             it=float(test[i][2])\n",
    "    #             if abs(it-gtb)<10 or abs(it-gta)<10:\n",
    "    #             # if abs(i-gtb)<5 or abs(i-gta)<5:\n",
    "    #                 bucket['tp']+=1\n",
    "    #             else:\n",
    "    #                 bucket['fp']+=1\n",
    "    #     else: # negative\n",
    "    #         if i==test_gt:\n",
    "    #             bucket['fn']+=1\n",
    "    #         else:\n",
    "    #             bucket['tn']+=1\n",
    "\n",
    "    # fp_+=bucket['fp']\n",
    "    # print(bucket, fp_/(e_num+1))"
   ]
  },
  {
   "cell_type": "code",
   "execution_count": 5,
   "metadata": {},
   "outputs": [
    {
     "output_type": "error",
     "ename": "KeyboardInterrupt",
     "evalue": "",
     "traceback": [
      "\u001b[0;31m---------------------------------------------------------------------------\u001b[0m",
      "\u001b[0;31mKeyboardInterrupt\u001b[0m                         Traceback (most recent call last)",
      "\u001b[0;32m<ipython-input-5-aa791a762427>\u001b[0m in \u001b[0;36m<module>\u001b[0;34m\u001b[0m\n\u001b[1;32m      3\u001b[0m \"\"\"\n\u001b[1;32m      4\u001b[0m \u001b[0mfeatures\u001b[0m\u001b[0;34m=\u001b[0m\u001b[0mnp\u001b[0m\u001b[0;34m.\u001b[0m\u001b[0marray\u001b[0m\u001b[0;34m(\u001b[0m\u001b[0mfeature_extraction\u001b[0m\u001b[0;34m(\u001b[0m\u001b[0mld_events\u001b[0m\u001b[0;34m,\u001b[0m \u001b[0;34m'hh101'\u001b[0m\u001b[0;34m)\u001b[0m\u001b[0;34m)\u001b[0m\u001b[0;34m\u001b[0m\u001b[0;34m\u001b[0m\u001b[0m\n\u001b[0;32m----> 5\u001b[0;31m \u001b[0mscores\u001b[0m\u001b[0;34m=\u001b[0m\u001b[0mchange_point_detection\u001b[0m\u001b[0;34m(\u001b[0m\u001b[0mfeatures\u001b[0m\u001b[0;34m,\u001b[0m \u001b[0;34m'sep'\u001b[0m\u001b[0;34m,\u001b[0m \u001b[0msave\u001b[0m\u001b[0;34m=\u001b[0m\u001b[0;32mTrue\u001b[0m\u001b[0;34m)\u001b[0m\u001b[0;34m\u001b[0m\u001b[0;34m\u001b[0m\u001b[0m\n\u001b[0m",
      "\u001b[0;32m~/Documents/segmentation/module_/changePointDetection.py\u001b[0m in \u001b[0;36mchange_point_detection\u001b[0;34m(features, metric, save, analyze)\u001b[0m\n\u001b[1;32m     26\u001b[0m             \u001b[0mdre\u001b[0m\u001b[0;34m=\u001b[0m\u001b[0mdr\u001b[0m\u001b[0;34m(\u001b[0m\u001b[0mtest_data\u001b[0m\u001b[0;34m=\u001b[0m\u001b[0mbefore\u001b[0m\u001b[0;34m,\u001b[0m \u001b[0mtrain_data\u001b[0m\u001b[0;34m=\u001b[0m\u001b[0mafter\u001b[0m\u001b[0;34m,\u001b[0m \u001b[0malpha\u001b[0m\u001b[0;34m=\u001b[0m\u001b[0;36m0.5\u001b[0m\u001b[0;34m)\u001b[0m\u001b[0;34m;\u001b[0m \u001b[0mscores\u001b[0m\u001b[0;34m.\u001b[0m\u001b[0mappend\u001b[0m\u001b[0;34m(\u001b[0m\u001b[0mdre\u001b[0m\u001b[0;34m.\u001b[0m\u001b[0mPEDiv\u001b[0m\u001b[0;34m)\u001b[0m\u001b[0;34m\u001b[0m\u001b[0;34m\u001b[0m\u001b[0m\n\u001b[1;32m     27\u001b[0m         \u001b[0;32melse\u001b[0m\u001b[0;34m:\u001b[0m\u001b[0;34m\u001b[0m\u001b[0;34m\u001b[0m\u001b[0m\n\u001b[0;32m---> 28\u001b[0;31m             \u001b[0mdre\u001b[0m\u001b[0;34m=\u001b[0m\u001b[0mdr\u001b[0m\u001b[0;34m(\u001b[0m\u001b[0mtest_data\u001b[0m\u001b[0;34m=\u001b[0m\u001b[0mbefore\u001b[0m\u001b[0;34m,\u001b[0m \u001b[0mtrain_data\u001b[0m\u001b[0;34m=\u001b[0m\u001b[0mafter\u001b[0m\u001b[0;34m)\u001b[0m\u001b[0;34m;\u001b[0m \u001b[0mscores\u001b[0m\u001b[0;34m.\u001b[0m\u001b[0mappend\u001b[0m\u001b[0;34m(\u001b[0m\u001b[0mdre\u001b[0m\u001b[0;34m.\u001b[0m\u001b[0mSEP\u001b[0m\u001b[0;34m)\u001b[0m\u001b[0;34m\u001b[0m\u001b[0;34m\u001b[0m\u001b[0m\n\u001b[0m\u001b[1;32m     29\u001b[0m             \u001b[0;32mif\u001b[0m \u001b[0manalyze\u001b[0m\u001b[0;34m:\u001b[0m\u001b[0;34m\u001b[0m\u001b[0;34m\u001b[0m\u001b[0m\n\u001b[1;32m     30\u001b[0m                 \u001b[0mthetas\u001b[0m\u001b[0;34m.\u001b[0m\u001b[0mappend\u001b[0m\u001b[0;34m(\u001b[0m\u001b[0mdre\u001b[0m\u001b[0;34m.\u001b[0m\u001b[0mtheta_SEP\u001b[0m\u001b[0;34m)\u001b[0m\u001b[0;34m\u001b[0m\u001b[0;34m\u001b[0m\u001b[0m\n",
      "\u001b[0;32m~/Documents/segmentation/module_/densityRatio.py\u001b[0m in \u001b[0;36m__init__\u001b[0;34m(self, test_data, train_data, alpha, sigma_list, lambda_list, kernel_num)\u001b[0m\n\u001b[1;32m     28\u001b[0m         \u001b[0mself\u001b[0m\u001b[0;34m.\u001b[0m\u001b[0m__minimum\u001b[0m\u001b[0;34m=\u001b[0m\u001b[0mmin\u001b[0m\u001b[0;34m(\u001b[0m\u001b[0mself\u001b[0m\u001b[0;34m.\u001b[0m\u001b[0m__test_n\u001b[0m\u001b[0;34m,\u001b[0m \u001b[0mself\u001b[0m\u001b[0;34m.\u001b[0m\u001b[0m__train_n\u001b[0m\u001b[0;34m)\u001b[0m                   \u001b[0;31m# n\u001b[0m\u001b[0;34m\u001b[0m\u001b[0;34m\u001b[0m\u001b[0m\n\u001b[1;32m     29\u001b[0m \u001b[0;34m\u001b[0m\u001b[0m\n\u001b[0;32m---> 30\u001b[0;31m         self._DensityRatio(test_data=self.__test, \n\u001b[0m\u001b[1;32m     31\u001b[0m                             \u001b[0mtrain_data\u001b[0m\u001b[0;34m=\u001b[0m\u001b[0mself\u001b[0m\u001b[0;34m.\u001b[0m\u001b[0m__train\u001b[0m\u001b[0;34m,\u001b[0m\u001b[0;34m\u001b[0m\u001b[0;34m\u001b[0m\u001b[0m\n\u001b[1;32m     32\u001b[0m                             \u001b[0malpha\u001b[0m\u001b[0;34m=\u001b[0m\u001b[0malpha\u001b[0m\u001b[0;34m,\u001b[0m\u001b[0;34m\u001b[0m\u001b[0;34m\u001b[0m\u001b[0m\n",
      "\u001b[0;32m~/Documents/segmentation/module_/densityRatio.py\u001b[0m in \u001b[0;36m_DensityRatio\u001b[0;34m(self, test_data, train_data, alpha, sigma_list, lambda_list)\u001b[0m\n\u001b[1;32m     57\u001b[0m             \u001b[0msigma\u001b[0m\u001b[0;34m,\u001b[0m \u001b[0mlambda_\u001b[0m \u001b[0;34m=\u001b[0m \u001b[0msigma_list\u001b[0m\u001b[0;34m[\u001b[0m\u001b[0;36m0\u001b[0m\u001b[0;34m]\u001b[0m\u001b[0;34m,\u001b[0m \u001b[0mlambda_list\u001b[0m\u001b[0;34m[\u001b[0m\u001b[0;36m0\u001b[0m\u001b[0;34m]\u001b[0m\u001b[0;34m\u001b[0m\u001b[0;34m\u001b[0m\u001b[0m\n\u001b[1;32m     58\u001b[0m         \u001b[0;32melse\u001b[0m\u001b[0;34m:\u001b[0m\u001b[0;34m\u001b[0m\u001b[0;34m\u001b[0m\u001b[0m\n\u001b[0;32m---> 59\u001b[0;31m             \u001b[0msigma\u001b[0m\u001b[0;34m,\u001b[0m \u001b[0mlambda_\u001b[0m\u001b[0;34m,\u001b[0m \u001b[0msigma_SEP\u001b[0m\u001b[0;34m,\u001b[0m \u001b[0mlambda_SEP\u001b[0m \u001b[0;34m=\u001b[0m \u001b[0mself\u001b[0m\u001b[0;34m.\u001b[0m\u001b[0m_CV\u001b[0m\u001b[0;34m(\u001b[0m\u001b[0mtest_data\u001b[0m\u001b[0;34m,\u001b[0m \u001b[0mtrain_data\u001b[0m\u001b[0;34m,\u001b[0m \u001b[0malpha\u001b[0m\u001b[0;34m,\u001b[0m \u001b[0msigma_list\u001b[0m\u001b[0;34m,\u001b[0m \u001b[0mlambda_list\u001b[0m\u001b[0;34m)\u001b[0m\u001b[0;34m\u001b[0m\u001b[0;34m\u001b[0m\u001b[0m\n\u001b[0m\u001b[1;32m     60\u001b[0m \u001b[0;34m\u001b[0m\u001b[0m\n\u001b[1;32m     61\u001b[0m         \u001b[0mphi_train\u001b[0m\u001b[0;34m=\u001b[0m\u001b[0mself\u001b[0m\u001b[0;34m.\u001b[0m\u001b[0mgaussian_kernel_matrix\u001b[0m\u001b[0;34m(\u001b[0m\u001b[0mdata\u001b[0m\u001b[0;34m=\u001b[0m\u001b[0mtrain_data\u001b[0m\u001b[0;34m,\u001b[0m \u001b[0mcenters\u001b[0m\u001b[0;34m=\u001b[0m\u001b[0mself\u001b[0m\u001b[0;34m.\u001b[0m\u001b[0m__kernel_centers\u001b[0m\u001b[0;34m,\u001b[0m \u001b[0msigma\u001b[0m\u001b[0;34m=\u001b[0m\u001b[0msigma\u001b[0m\u001b[0;34m)\u001b[0m \u001b[0;31m# (b, n)\u001b[0m\u001b[0;34m\u001b[0m\u001b[0;34m\u001b[0m\u001b[0m\n",
      "\u001b[0;32m~/Documents/segmentation/module_/densityRatio.py\u001b[0m in \u001b[0;36m_CV\u001b[0;34m(self, test_data, train_data, alpha, sigma_list, lambda_list)\u001b[0m\n\u001b[1;32m    163\u001b[0m                 \u001b[0;31m#     w_test.mean() # (1,n)@(n,1) -> (1,1)\u001b[0m\u001b[0;34m\u001b[0m\u001b[0;34m\u001b[0m\u001b[0;34m\u001b[0m\u001b[0m\n\u001b[1;32m    164\u001b[0m \u001b[0;34m\u001b[0m\u001b[0m\n\u001b[0;32m--> 165\u001b[0;31m                 \u001b[0mscore_candidate_SEP\u001b[0m\u001b[0;34m=\u001b[0m\u001b[0mabs\u001b[0m\u001b[0;34m(\u001b[0m\u001b[0mw_train_SEP\u001b[0m\u001b[0;34m.\u001b[0m\u001b[0mmean\u001b[0m\u001b[0;34m(\u001b[0m\u001b[0;34m)\u001b[0m\u001b[0;34m)\u001b[0m\u001b[0;34m\u001b[0m\u001b[0;34m\u001b[0m\u001b[0m\n\u001b[0m\u001b[1;32m    166\u001b[0m                 \u001b[0;31m# score_candidate_SEP=(1.5*h_.T@h_/lambda_candidate).item() # (1,n)@(n,1)->(1,1)\u001b[0m\u001b[0;34m\u001b[0m\u001b[0;34m\u001b[0m\u001b[0;34m\u001b[0m\u001b[0m\n\u001b[1;32m    167\u001b[0m \u001b[0;34m\u001b[0m\u001b[0m\n",
      "\u001b[0;32m~/.local/lib/python3.8/site-packages/numpy/matrixlib/defmatrix.py\u001b[0m in \u001b[0;36mmean\u001b[0;34m(self, axis, dtype, out)\u001b[0m\n\u001b[1;32m    443\u001b[0m \u001b[0;34m\u001b[0m\u001b[0m\n\u001b[1;32m    444\u001b[0m         \"\"\"\n\u001b[0;32m--> 445\u001b[0;31m         \u001b[0;32mreturn\u001b[0m \u001b[0mN\u001b[0m\u001b[0;34m.\u001b[0m\u001b[0mndarray\u001b[0m\u001b[0;34m.\u001b[0m\u001b[0mmean\u001b[0m\u001b[0;34m(\u001b[0m\u001b[0mself\u001b[0m\u001b[0;34m,\u001b[0m \u001b[0maxis\u001b[0m\u001b[0;34m,\u001b[0m \u001b[0mdtype\u001b[0m\u001b[0;34m,\u001b[0m \u001b[0mout\u001b[0m\u001b[0;34m,\u001b[0m \u001b[0mkeepdims\u001b[0m\u001b[0;34m=\u001b[0m\u001b[0;32mTrue\u001b[0m\u001b[0;34m)\u001b[0m\u001b[0;34m.\u001b[0m\u001b[0m_collapse\u001b[0m\u001b[0;34m(\u001b[0m\u001b[0maxis\u001b[0m\u001b[0;34m)\u001b[0m\u001b[0;34m\u001b[0m\u001b[0;34m\u001b[0m\u001b[0m\n\u001b[0m\u001b[1;32m    446\u001b[0m \u001b[0;34m\u001b[0m\u001b[0m\n\u001b[1;32m    447\u001b[0m     \u001b[0;32mdef\u001b[0m \u001b[0mstd\u001b[0m\u001b[0;34m(\u001b[0m\u001b[0mself\u001b[0m\u001b[0;34m,\u001b[0m \u001b[0maxis\u001b[0m\u001b[0;34m=\u001b[0m\u001b[0;32mNone\u001b[0m\u001b[0;34m,\u001b[0m \u001b[0mdtype\u001b[0m\u001b[0;34m=\u001b[0m\u001b[0;32mNone\u001b[0m\u001b[0;34m,\u001b[0m \u001b[0mout\u001b[0m\u001b[0;34m=\u001b[0m\u001b[0;32mNone\u001b[0m\u001b[0;34m,\u001b[0m \u001b[0mddof\u001b[0m\u001b[0;34m=\u001b[0m\u001b[0;36m0\u001b[0m\u001b[0;34m)\u001b[0m\u001b[0;34m:\u001b[0m\u001b[0;34m\u001b[0m\u001b[0;34m\u001b[0m\u001b[0m\n",
      "\u001b[0;32m~/.local/lib/python3.8/site-packages/numpy/core/_methods.py\u001b[0m in \u001b[0;36m_mean\u001b[0;34m(a, axis, dtype, out, keepdims, where)\u001b[0m\n\u001b[1;32m    178\u001b[0m     \u001b[0mret\u001b[0m \u001b[0;34m=\u001b[0m \u001b[0mumr_sum\u001b[0m\u001b[0;34m(\u001b[0m\u001b[0marr\u001b[0m\u001b[0;34m,\u001b[0m \u001b[0maxis\u001b[0m\u001b[0;34m,\u001b[0m \u001b[0mdtype\u001b[0m\u001b[0;34m,\u001b[0m \u001b[0mout\u001b[0m\u001b[0;34m,\u001b[0m \u001b[0mkeepdims\u001b[0m\u001b[0;34m,\u001b[0m \u001b[0mwhere\u001b[0m\u001b[0;34m=\u001b[0m\u001b[0mwhere\u001b[0m\u001b[0;34m)\u001b[0m\u001b[0;34m\u001b[0m\u001b[0;34m\u001b[0m\u001b[0m\n\u001b[1;32m    179\u001b[0m     \u001b[0;32mif\u001b[0m \u001b[0misinstance\u001b[0m\u001b[0;34m(\u001b[0m\u001b[0mret\u001b[0m\u001b[0;34m,\u001b[0m \u001b[0mmu\u001b[0m\u001b[0;34m.\u001b[0m\u001b[0mndarray\u001b[0m\u001b[0;34m)\u001b[0m\u001b[0;34m:\u001b[0m\u001b[0;34m\u001b[0m\u001b[0;34m\u001b[0m\u001b[0m\n\u001b[0;32m--> 180\u001b[0;31m         ret = um.true_divide(\n\u001b[0m\u001b[1;32m    181\u001b[0m                 ret, rcount, out=ret, casting='unsafe', subok=False)\n\u001b[1;32m    182\u001b[0m         \u001b[0;32mif\u001b[0m \u001b[0mis_float16_result\u001b[0m \u001b[0;32mand\u001b[0m \u001b[0mout\u001b[0m \u001b[0;32mis\u001b[0m \u001b[0;32mNone\u001b[0m\u001b[0;34m:\u001b[0m\u001b[0;34m\u001b[0m\u001b[0;34m\u001b[0m\u001b[0m\n",
      "\u001b[0;31mKeyboardInterrupt\u001b[0m: "
     ]
    }
   ],
   "source": [
    "\"\"\"\n",
    "ALL\n",
    "\"\"\"\n",
    "features=np.array(feature_extraction(ld_events, 'hh101'))\n",
    "scores=change_point_detection(features, 'sep', save=True)"
   ]
  },
  {
   "cell_type": "code",
   "execution_count": 4,
   "metadata": {},
   "outputs": [],
   "source": [
    "scores=np.load(\"features/hh_features.npy\")\n",
    "tp, fp, tn, fn = all_evaluation(np.array(scores), ld_events, np.array(ld_trs), 'fp')"
   ]
  },
  {
   "cell_type": "code",
   "execution_count": 5,
   "metadata": {},
   "outputs": [
    {
     "output_type": "stream",
     "name": "stdout",
     "text": [
      "0.644817374136229\n0.12724596417514375\n"
     ]
    }
   ],
   "source": [
    "print(len(tp)/(len(tp)+len(fn)))\n",
    "print(len(fp)/(len(fp)+len(tn)))"
   ]
  },
  {
   "cell_type": "code",
   "execution_count": null,
   "metadata": {},
   "outputs": [],
   "source": [
    "\"\"\"\n",
    "RuLSIF\n",
    "\"\"\"\n",
    "\n",
    "part_scores=np.array(scores)\n",
    "part_scores[part_scores<0]=0\n",
    "part_events=ld_events[:part]\n",
    "\n",
    "# part_scores_sum=[]\n",
    "# for i in range(len(part_scores)):\n",
    "#     prev1, prev2 = max(0, i-1), max(0, i-2)\n",
    "#     part_scores_sum.append(part_scores[prev1]+part_scores[prev2])\n",
    "# positives_=np.array([i for i in range(len(part_scores)) if part_scores_sum[i]>0.55])\n",
    "positives_=np.array([i for i in range(len(part_scores)) if part_scores[i]>0.45])\n",
    "# print(positives_)\n",
    "timestamps_=np.array([float(part_events[i,2]) for i in part_trs])\n",
    "\n",
    "true_positive = false_positive = true_negative = false_negative = 0\n",
    "target_positive, target_time=positives_, timestamps_\n",
    "flag=True\n",
    "for i, event in enumerate(part_events):\n",
    "    if i in target_positive: # POSITIVE\n",
    "        if i in part_trs:\n",
    "            true_positive+=1\n",
    "        else:\n",
    "            event_time=float(event[2])\n",
    "            if sum(abs(target_time-event_time)<15)!=0:\n",
    "                true_positive+=1\n",
    "            else:\n",
    "                false_positive+=1\n",
    "    else:   # NEGATIVE\n",
    "        if i in part_trs:\n",
    "            false_negative+=1\n",
    "        else:\n",
    "            true_negative+=1\n",
    "\n",
    "print(true_positive, false_positive, true_negative, false_negative)\n",
    "true_positive/(true_positive+false_negative), false_positive/(false_positive+true_negative)"
   ]
  },
  {
   "cell_type": "code",
   "execution_count": null,
   "metadata": {},
   "outputs": [],
   "source": [
    "\"\"\"\n",
    "SEP\n",
    "\"\"\"\n",
    "part_scores=np.array(scores)\n",
    "part_events=ld_events[:part]\n",
    "#part_trs\n",
    "\n",
    "# filter -> peak\n",
    "scores_1=np.where(part_scores<0.3, 0, part_scores)\n",
    "print(len([i for i in scores_1 if i>0.3]))\n",
    "positive_1, _=find_peaks(scores_1)\n",
    "timestamp_1=[float(part_events[i,2]) for i in part_trs]\n",
    "print(len(positive_1), len(timestamp_1))\n",
    "\n",
    "# peak -> filter\n",
    "peak_2, _=find_peaks(part_scores)\n",
    "positive_2=[p for p in peak_2 if part_scores[p]>0.3]\n",
    "timestamp_2=[float(part_events[i,2]) for i in part_trs]\n",
    "print(len(positive_2), len(timestamp_2))\n",
    "\n",
    "true_positive = false_positive = true_negative = false_negative = 0\n",
    "target_positive, target_time=positive_2, np.array(timestamp_2)\n",
    "\n",
    "for i, event in enumerate(part_events):\n",
    "    if i in target_positive: # POSITIVE\n",
    "        if i in part_trs:\n",
    "            true_positive+=1\n",
    "        else:\n",
    "            event_time=float(event[2])\n",
    "            if sum(abs(target_time-event_time)<10)!=0:\n",
    "                true_positive+=1\n",
    "            else:\n",
    "                false_positive+=1\n",
    "    else:   # NEGATIVE\n",
    "        if i in part_trs:\n",
    "            false_negative+=1\n",
    "        else:\n",
    "            true_negative+=1"
   ]
  },
  {
   "cell_type": "code",
   "execution_count": null,
   "metadata": {},
   "outputs": [],
   "source": [
    "\"\"\"\n",
    "RuLSIF\n",
    "\"\"\"\n",
    "'''\n",
    "scores=np.array(scores)\n",
    "# scores[scores<0]=0\n",
    "scores_prevsum=[]\n",
    "for i in range(len(scores)):\n",
    "    prev1, prev2 = max(0, i-1), max(0, i-2)\n",
    "    scores_prevsum.append(scores[prev1]+scores[prev2])\n",
    "\n",
    "scores_prevsum=np.array(scores_prevsum)\n",
    "scores_prevsum[scores_prevsum<0]=0\n",
    "# peak, _ =find_peaks(scores)\n",
    "# peak, _ =find_peaks(scores_prevsum)\n",
    "# print(peak, test_gt)\n",
    "# for idx in peak:\n",
    "#     if scores[idx]>0.3:\n",
    "#     plt.plot(idx, scores_prevsum[idx], 'x')\n",
    "plt.bar(range(len(scores)), scores_prevsum)\n",
    "for idx in ld_trs[:5]:\n",
    "    plt.axvline(x=idx, linestyle=\":\", color='g')'''"
   ]
  },
  {
   "cell_type": "code",
   "execution_count": null,
   "metadata": {},
   "outputs": [],
   "source": [
    "\"\"\"\n",
    "0. exclude idle events,,?\n",
    "\"\"\"\n",
    "nonidle_events=np.array([event for event in events if event[3]!=\"\"])\n",
    "\"\"\"\n",
    "0. mapping activities\n",
    "\"\"\"\n",
    "for i in range(nonidle_events.shape[0]):\n",
    "    nonidle_events[i,-1]=acts[nonidle_events[i,-1]]\n",
    "nonidle_transitions=[idx for idx in range(nonidle_events.shape[0]-1) if nonidle_events[idx,3]!=nonidle_events[idx+1,3]]"
   ]
  },
  {
   "cell_type": "code",
   "execution_count": null,
   "metadata": {},
   "outputs": [],
   "source": [
    "activities=[]\n",
    "prev_idx=0\n",
    "for idx in nonidle_transitions:\n",
    "    activities.append(np.array(nonidle_events[prev_idx:idx+1]).reshape((-1,4)))\n",
    "    prev_idx=idx+1"
   ]
  },
  {
   "cell_type": "code",
   "execution_count": null,
   "metadata": {},
   "outputs": [],
   "source": [
    "activities_label=[]\n",
    "for item in activities:\n",
    "    labels=list(set(item[:,3]))\n",
    "    if len(labels)!=1:\n",
    "        print(\"Error: {}\".format(labels))\n",
    "    else:\n",
    "        activities_label.append(labels[0])\n",
    "# len(activities_label)"
   ]
  },
  {
   "cell_type": "code",
   "execution_count": null,
   "metadata": {},
   "outputs": [],
   "source": [
    "episodes, trs, tags=[], [], {}\n",
    "for i in range(len(activities_label)):\n",
    "    if i!=len(activities_label)-1:\n",
    "        llabel, rlabel =activities_label[i], activities_label[i+1]\n",
    "        if llabel!=rlabel:\n",
    "            tags[len(trs)]=(llabel, rlabel)\n",
    "            episode=np.concatenate((activities[i], activities[i+1]))\n",
    "            episodes.append(episode)\n",
    "            trs.append(len(activities[i]))\n",
    "# len(episodes), len(trs), len(tags.values())"
   ]
  },
  {
   "cell_type": "code",
   "execution_count": null,
   "metadata": {},
   "outputs": [],
   "source": [
    "\"\"\"\n",
    "testing\n",
    "\"\"\"\n",
    "\n",
    "sample_tag=\"-\".join(tags[0])\n",
    "sample, sample_gt=episodes[0], trs[0]\n",
    "sensor_list=sorted(set(sample[:,0]))\n",
    "sample_windows=sliding_window(sample)"
   ]
  },
  {
   "cell_type": "code",
   "execution_count": null,
   "metadata": {},
   "outputs": [],
   "source": [
    "# sample_tag, sample.shape, sample_gt, sensor_list, sample_windows.shape\n",
    "features, scores, _, _=cpd(sample_windows, sensor_list, data_name='hh101')"
   ]
  },
  {
   "cell_type": "code",
   "execution_count": null,
   "metadata": {},
   "outputs": [],
   "source": [
    "from module_.densityratio import Densratio as dr\n",
    "\n",
    "test_feature=np.array(features)[0]\n",
    "dre=dr(x=test_feature[:2], y=test_feature[1:])"
   ]
  },
  {
   "cell_type": "code",
   "execution_count": null,
   "metadata": {},
   "outputs": [],
   "source": [
    "print(test_feature)\n",
    "print(dre.sigma, dre.phi_x, dre.phi_y, dre.weights_)"
   ]
  },
  {
   "cell_type": "code",
   "execution_count": null,
   "metadata": {
    "tags": []
   },
   "outputs": [],
   "source": [
    "for e_num in range(len(episodes)):\n",
    "    \n",
    "    tag=\"-\".join(tags[e_num])\n",
    "    test, test_gt=episodes[e_num], trs[e_num]\n",
    "    sensor_list=sorted(set(test[:,0]))\n",
    "    windows=sliding_window(test)\n",
    "\n",
    "    features, _, _, _=cpd(windows, sensor_list, data_name='hh101', f_only=True)\n",
    "    scope=15\n",
    "    # print(test_gt-scope, test_gt+scope)\n",
    "\n",
    "    \n",
    "\n",
    "    break\n",
    "\n",
    "    t_lb, t_ub = max(0, test_gt-scope), min(test_gt+scope, len(test))\n",
    "    transition_nearby=features[t_lb:t_ub]\n",
    "\n",
    "    l_lb, l_ub = max(0, int(test_gt/2)-scope), min(int(test_gt/2)+scope, test_gt)\n",
    "    non_range_l=features[l_lb:l_ub]\n",
    "\n",
    "    r_lb, r_ub = max(test_gt, int(test_gt+(len(test)-test_gt)/2)-scope), min(int(test_gt+(len(test)-test_gt)/2)+scope, len(test))\n",
    "    non_range_r=features[r_lb:r_ub]\n",
    "\n",
    "    # target_features=transition_nearby\n",
    "    target_features=non_range_l # *_*\n",
    "    target_range=range(l_lb, l_ub) # *_*\n",
    "    # if len(target_features)<2*scope:\n",
    "    #     continue\n",
    "\n",
    "    center_features=[]\n",
    "    # target_features=transition_nearby\n",
    "    \n",
    "    for views in target_features:\n",
    "        # print(views[1].shape); break\n",
    "        center_features.append(views[1].reshape(1,-1))\n",
    "    center_features=np.concatenate(center_features)\n",
    "    # print(center_features.shape)\n",
    "\n",
    "    time_ranges=range(0, 3)\n",
    "    window_ranges=range(3, 11)\n",
    "    count_ranges=range(11, 11+len(sensor_list))\n",
    "    elapsed_ranges=range(11+len(sensor_list), center_features.shape[1])\n",
    "\n",
    "    # print(sensor_list)\n",
    "    # plt.ylim(-0.1, 1.1)\n",
    "    # plt.margins(1, 1)\n",
    "    # ncol=0\n",
    "    for colnum in window_ranges:\n",
    "        col=center_features[:,colnum]\n",
    "        sid=-1\n",
    "\n",
    "        if colnum<11:\n",
    "            pass\n",
    "        elif colnum>=11 and colnum<11+len(sensor_list):\n",
    "            sid=colnum-11\n",
    "            colnum=11\n",
    "        else:\n",
    "            sid=colnum-11-len(sensor_list)\n",
    "            colnum=12\n",
    "        \n",
    "        if sid!=-1:\n",
    "            label=\"{} {}\".format(feature_name[colnum], sensor_list[sid])\n",
    "        else:\n",
    "            label=feature_name[colnum]\n",
    "\n",
    "        # if colnum<3: # time features\n",
    "        # if colnum==3: # window duration\n",
    "        if colnum==4 or colnum==5: # latest sensor features\n",
    "        # if colnum==6 or colnum==7 or colnum==8: # most frequent sensor features\n",
    "        # if colnum==9: # entropy\n",
    "        # if colnum==10: # activity level change\n",
    "        # if colnum>=11 and colnum<11+len(sensor_list):\n",
    "            # continue\n",
    "            # if max(col)!=min(col):\n",
    "            # print(col)\n",
    "            plt.plot(target_range, col, label=label)\n",
    "            # ncol+=1\n",
    "\n",
    "    # print(np.array(target_features).shape)\n",
    "    # print(target_range)\n",
    "\n",
    "    feat_name='ls' # *_*\n",
    "    if not os.path.exists(\"./analysis/hh101/{}/{}\".format(tag, feat_name)):\n",
    "        os.mkdir(\"./analysis/hh101/{}/{}\".format(tag, feat_name))\n",
    "    \n",
    "    filename=\"analysis/hh101/{}/{}/l_{}_{}.png\".format(tag, feat_name, e_num, test_gt)\n",
    "    if filename.split(\"/\")[-1][0]=='t':\n",
    "        plt.axvline(x=test_gt, linestyle=':', color='r', label='transition')\n",
    "    plt.legend()\n",
    "\n",
    "    # plt.tight_layout()\n",
    "    plt.savefig(filename)\n",
    "    plt.clf()"
   ]
  }
 ]
}
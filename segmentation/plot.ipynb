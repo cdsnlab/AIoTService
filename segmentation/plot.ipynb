{
 "cells": [
  {
   "cell_type": "markdown",
   "source": [
    "# Plot graph"
   ],
   "metadata": {}
  },
  {
   "cell_type": "markdown",
   "source": [
    "### import"
   ],
   "metadata": {}
  },
  {
   "cell_type": "code",
   "execution_count": null,
   "source": [
    "import numpy as np\n",
    "from matplotlib import pyplot as plt\n",
    "\n",
    "from module_.info.result import *\n",
    "from module_.evaluate import corr_evaluate_days"
   ],
   "outputs": [],
   "metadata": {}
  },
  {
   "cell_type": "markdown",
   "source": [
    "### load data"
   ],
   "metadata": {}
  },
  {
   "cell_type": "code",
   "execution_count": null,
   "source": [
    "# 1. Testbed - Baseline(uLSIF, RuLSIF, SEP) 과 Proposed\n",
    "#   a. Exact CP\n",
    "\n",
    "proposed_testbed_exact_tpr = [0] + proposed[\"testbed\"][\"Exact\"][\"TPR\"]\n",
    "proposed_testbed_exact_fpr = [0] + proposed[\"testbed\"][\"Exact\"][\"FPR\"]\n",
    "\n",
    "sep_testbed_exact_tpr = [0] + sep[\"testbed\"][\"Exact\"][\"TPR\"]\n",
    "sep_testbed_exact_fpr = [0] + sep[\"testbed\"][\"Exact\"][\"FPR\"]\n",
    "\n",
    "rulsif_testbed_exact_tpr = [0] + rulsif[\"testbed\"][\"Exact\"][\"TPR\"]\n",
    "rulsif_testbed_exact_fpr = [0] + rulsif[\"testbed\"][\"Exact\"][\"FPR\"]\n",
    "\n",
    "ulsif_testbed_exact_tpr = [0] + ulsif[\"testbed\"][\"Exact\"][\"TPR\"]\n",
    "ulsif_testbed_exact_fpr = [0] + ulsif[\"testbed\"][\"Exact\"][\"FPR\"]"
   ],
   "outputs": [],
   "metadata": {}
  },
  {
   "cell_type": "code",
   "execution_count": null,
   "source": [
    "# 1. Testbed - Baseline(uLSIF, RuLSIF, SEP) 과 Proposed\n",
    "#   b. Within 1 Window\n",
    "\n",
    "proposed_testbed_within_tpr = [0] + proposed[\"testbed\"][\"Within\"][\"TPR\"]\n",
    "proposed_testbed_within_fpr = [0] + proposed[\"testbed\"][\"Within\"][\"FPR\"]\n",
    "\n",
    "sep_testbed_within_tpr = [0] + sep[\"testbed\"][\"Within\"][\"TPR\"]\n",
    "sep_testbed_within_fpr = [0] + sep[\"testbed\"][\"Within\"][\"FPR\"]\n",
    "\n",
    "rulsif_testbed_within_tpr = [0] + rulsif[\"testbed\"][\"Within\"][\"TPR\"]\n",
    "rulsif_testbed_within_fpr = [0] + rulsif[\"testbed\"][\"Within\"][\"FPR\"]\n",
    "\n",
    "ulsif_testbed_within_tpr = [0] + ulsif[\"testbed\"][\"Within\"][\"TPR\"]\n",
    "ulsif_testbed_within_fpr = [0] + ulsif[\"testbed\"][\"Within\"][\"FPR\"]"
   ],
   "outputs": [],
   "metadata": {}
  },
  {
   "cell_type": "code",
   "execution_count": null,
   "source": [
    "# 2. Casas - Baseline(uLSIF, RuLSIF, SEP) 과 Proposed\n",
    "#   a. Exact CP\n",
    "\n",
    "proposed_casas_exact_tpr = [0] + proposed[\"casas\"][\"Exact\"][\"TPR\"]\n",
    "proposed_casas_exact_fpr = [0] + proposed[\"casas\"][\"Exact\"][\"FPR\"]\n",
    "\n",
    "sep_casas_exact_tpr = [0] + sep[\"casas\"][\"Exact\"][\"TPR\"]\n",
    "sep_casas_exact_fpr = [0] + sep[\"casas\"][\"Exact\"][\"FPR\"]\n",
    "\n",
    "rulsif_casas_exact_tpr = [0] + rulsif[\"casas\"][\"Exact\"][\"TPR\"]\n",
    "rulsif_casas_exact_fpr = [0] + rulsif[\"casas\"][\"Exact\"][\"FPR\"]\n",
    "\n",
    "ulsif_casas_exact_tpr = [0] + ulsif[\"casas\"][\"Exact\"][\"TPR\"]\n",
    "ulsif_casas_exact_fpr = [0] + ulsif[\"casas\"][\"Exact\"][\"FPR\"]"
   ],
   "outputs": [],
   "metadata": {}
  },
  {
   "cell_type": "code",
   "execution_count": null,
   "source": [
    "# 2. Casas - Baseline(uLSIF, RuLSIF, SEP) 과 Proposed\n",
    "#   b. Within 1 Window\n",
    "\n",
    "proposed_casas_within_tpr = [0] + proposed[\"casas\"][\"Within\"][\"TPR\"]\n",
    "proposed_casas_within_fpr = [0] + proposed[\"casas\"][\"Within\"][\"FPR\"]\n",
    "\n",
    "sep_casas_within_tpr = [0] + sep[\"casas\"][\"Within\"][\"TPR\"]\n",
    "sep_casas_within_fpr = [0] + sep[\"casas\"][\"Within\"][\"FPR\"]\n",
    "\n",
    "rulsif_casas_within_tpr = [0] + rulsif[\"casas\"][\"Within\"][\"TPR\"]\n",
    "rulsif_casas_within_fpr = [0] + rulsif[\"casas\"][\"Within\"][\"FPR\"]\n",
    "\n",
    "ulsif_casas_within_tpr = [0] + ulsif[\"casas\"][\"Within\"][\"TPR\"]\n",
    "ulsif_casas_within_fpr = [0] + ulsif[\"casas\"][\"Within\"][\"FPR\"]"
   ],
   "outputs": [],
   "metadata": {}
  },
  {
   "cell_type": "markdown",
   "source": [
    "### plot graph"
   ],
   "metadata": {}
  },
  {
   "cell_type": "code",
   "execution_count": null,
   "source": [
    "plt.plot(\n",
    "    proposed_testbed_exact_fpr, proposed_testbed_exact_tpr, color = \"r\", label = \"Proposed\"\n",
    "    # proposed_testbed_within_fpr, proposed_testbed_within_tpr, color = \"r\", label = \"Proposed\"\n",
    "    # proposed_casas_exact_fpr, proposed_casas_exact_tpr, color = \"r\", label = \"Proposed\"\n",
    "    # proposed_casas_within_fpr, proposed_casas_within_tpr, color = \"r\", label = \"Proposed\"\n",
    ")\n",
    "plt.plot(\n",
    "    sep_testbed_exact_fpr, sep_testbed_exact_tpr, color = \"g\", label = \"SEP\"\n",
    "    # sep_testbed_within_fpr, sep_testbed_within_tpr, color = \"g\", label = \"SEP\"\n",
    "    # sep_casas_exact_fpr, sep_casas_exact_tpr, color = \"g\", label = \"SEP\"\n",
    "    # sep_casas_within_fpr, sep_casas_within_tpr, color = \"g\", label = \"SEP\"\n",
    ")\n",
    "plt.plot(\n",
    "    rulsif_testbed_exact_fpr, rulsif_testbed_exact_tpr, color = \"b\", label = \"RuLSIF\"\n",
    "    # rulsif_testbed_within_fpr, rulsif_testbed_within_tpr, color = \"b\", label = \"RuLSIF\"\n",
    "    # rulsif_casas_exact_fpr, rulsif_casas_exact_tpr, color = \"b\", label = \"RuLSIF\"\n",
    "    # rulsif_casas_within_fpr, rulsif_casas_within_tpr, color = \"b\", label = \"RuLSIF\"\n",
    ")\n",
    "plt.plot(\n",
    "    ulsif_testbed_exact_fpr, ulsif_testbed_exact_tpr, color = \"c\", label = \"uLSIF\"\n",
    "    # ulsif_testbed_within_fpr, ulsif_testbed_within_tpr, color = \"c\", label = \"uLSIF\"\n",
    "    # ulsif_casas_exact_fpr, ulsif_casas_exact_tpr, color = \"c\", label = \"uLSIF\"\n",
    "    # ulsif_casas_within_fpr, ulsif_casas_within_tpr, color = \"c\", label = \"uLSIF\"\n",
    ")\n",
    "plt.legend()\n",
    "plt.title(\"Testbed - Exact CP\")\n",
    "# plt.title(\"Testbed - CP Within 1 window\")\n",
    "# plt.title(\"Casas - Exact CP\")\n",
    "# plt.title(\"Casas - CP Within 1 window\")\n",
    "plt.xlim(0, 0.25); plt.xlabel(\"False Positive Rate\")\n",
    "plt.ylim(0, 1); plt.yticks([i/10. for i in range(11)]); plt.ylabel(\"True Positive Rate\")\n",
    "plt.grid()"
   ],
   "outputs": [],
   "metadata": {}
  },
  {
   "cell_type": "markdown",
   "source": [
    "### yes"
   ],
   "metadata": {}
  },
  {
   "cell_type": "code",
   "execution_count": null,
   "source": [
    "tp_rates, fp_rates = corr_evaluate_days(False, 1, \"testbed\")\n",
    "# tp_rates, fp_rates = corr_evaluate_days(False, 3, \"adlmr\")"
   ],
   "outputs": [],
   "metadata": {}
  },
  {
   "cell_type": "code",
   "execution_count": 27,
   "source": [
    "plt.boxplot(tp_rates)\n",
    "plt.xticks([1], [\"Proposed\"])\n",
    "plt.ylim(0, 1.2)\n",
    "plt.grid()"
   ],
   "outputs": [
    {
     "output_type": "display_data",
     "data": {
      "image/png": "[encoded data removed]",
      "text/plain": [
       "<Figure size 432x288 with 1 Axes>"
      ]
     },
     "metadata": {
      "needs_background": "light"
     }
    }
   ],
   "metadata": {}
  }
 ],
 "metadata": {
  "orig_nbformat": 4,
  "language_info": {
   "name": "python",
   "version": "3.8.10",
   "mimetype": "text/x-python",
   "codemirror_mode": {
    "name": "ipython",
    "version": 3
   },
   "pygments_lexer": "ipython3",
   "nbconvert_exporter": "python",
   "file_extension": ".py"
  },
  "kernelspec": {
   "name": "python3",
   "display_name": "Python 3.8.10 64-bit"
  },
  "interpreter": {
   "hash": "31f2aee4e71d21fbe5cf8b01ff0e069b9275f58929596ceb00d14d90e3e16cd6"
  }
 },
 "nbformat": 4,
 "nbformat_minor": 2
}
{
 "cells": [
  {
   "cell_type": "code",
   "execution_count": 1,
   "source": [
    "import os, glob\n",
    "import pandas as pd\n",
    "import numpy as np\n",
    "import math, random\n",
    "from datetime import datetime\n",
    "import pickle\n",
    "from matplotlib import pyplot as plt\n",
    "import argparse\n",
    "import path, sys, re, time\n",
    "from collections import Counter\n",
    "from scipy.signal import find_peaks\n",
    "\n",
    "from module_.readText import read_hh\n",
    "from module_.featureExtraction import feature_extraction\n",
    "from module_.changePointDetection import change_point_detection\n",
    "from module_.info.hh import baseline_activities\n",
    "from module_.info.config import feature_name, exclude_list\n",
    "from module_.dataLoader import dataLoader"
   ],
   "outputs": [],
   "metadata": {}
  },
  {
   "cell_type": "code",
   "execution_count": 2,
   "source": [
    "# episodes, transitions, labels = dataLoader(\"hh101\")\n",
    "\n",
    "episodes = np.load(\"./dataload/hh101/episodes.npy\", allow_pickle=True)\n",
    "transitions = np.load(\"./dataload/hh101/transitions.npy\")\n",
    "labels = np.load(\"./dataload/hh101/labels.npy\")\n",
    "\n",
    "# np.save(\"./dataload/hh101/episodes.npy\", episodes)\n",
    "# np.save(\"./dataload/hh101/transitions.npy\", transitions)\n",
    "# np.save(\"./dataload/hh101/labels.npy\", labels)"
   ],
   "outputs": [],
   "metadata": {}
  },
  {
   "cell_type": "code",
   "execution_count": null,
   "source": [
    "sensors = set()\n",
    "for episode in episodes:\n",
    "    sensors = sensors | set(episode[:,0])\n",
    "sensors = sorted(sensors)\n",
    "\n",
    "scores = np.load(\"./replication/hh101/scores_original.npy\", allow_pickle=True)\n",
    "features = np.load(\"./replication/hh101/features_original.npy\", allow_pickle=True)\n",
    "\n",
    "threshold = 0.3\n",
    "\n",
    "tp = tn = fp = fn = 0\n",
    "\n",
    "\n",
    "for index in range(len(episodes)):\n",
    "    episode, transition, label = episodes[index], transitions[index], labels[index]\n",
    "\n",
    "    feature, score =  features[index], scores[index]\n",
    "\n",
    "    tl, tr = float(episode[transition-1,2]), float(episode[transition,2])\n",
    "\n",
    "    etp = etn = efp = efn = 0\n",
    "\n",
    "    for i in range(len(episode)):\n",
    "        s, v, t = episode[i][:3]\n",
    "        t = float(t)\n",
    "\n",
    "        if score[i]>threshold:\n",
    "            if abs(t-tl)<10 or abs(t-tr)<10:\n",
    "                etp+=1\n",
    "            else:\n",
    "                efp+=1\n",
    "        else:\n",
    "            if i==transition or i==transition-1:\n",
    "                efn+=1\n",
    "            else:\n",
    "                etn+=1\n",
    "    \n",
    "    if etp!=0:\n",
    "        efn = 0\n",
    "        etp = 1\n",
    "    tp+=etp; tn+=etn; fp+=efp; fn+=efn\n",
    "\n",
    "# print(tp/(tp+fn), fp/(fp+tn))\n",
    "print(tp/len(episodes), 0.5*fn/len(episodes), fp/len(episodes))\n",
    "print(tp, tn, fp, fn)\n",
    "\n",
    "    # feature = np.array(\n",
    "    #     feature_extraction(episode, \"hh101\", sensors)\n",
    "    # )\n",
    "\n",
    "    # score = np.array(\n",
    "    #     change_point_detection(feature, \"RuLSIF\")\n",
    "    # )\n",
    "\n",
    "    # scores.append(score)\n",
    "    # features.append(feature)\n",
    "\n",
    "# np.save(\"./replication/hh101/scores_original.npy\", scores)\n",
    "# np.save(\"./replication/hh101/features_original.npy\", features)"
   ],
   "outputs": [],
   "metadata": {}
  },
  {
   "cell_type": "code",
   "execution_count": 3,
   "source": [
    "# PLOT\n",
    "# SAMPLE\n",
    "\n",
    "sensors = set()\n",
    "for episode in episodes:\n",
    "    sensors = sensors | set(episode[:,0])\n",
    "sensors = sorted(sensors)\n",
    "\n",
    "index = 0\n",
    "episode, transition, label = episodes[index], transitions[index], labels[index]\n",
    "\n",
    "feature = np.array(\n",
    "    feature_extraction(episode, \"hh101\", sensors)\n",
    ")\n",
    "\n",
    "score = np.array(\n",
    "    change_point_detection(feature, \"SEP\")\n",
    ")\n",
    "\n",
    "score[score<0]=0\n",
    "\n",
    "tl, tr = float(episode[transition-1,2]), float(episode[transition,2])\n",
    "lb, ub = transition-1, transition\n",
    "while tl-float(episode[lb,2])<10. and lb!=0:\n",
    "    lb-=1\n",
    "while float(episode[ub,2])-tr<10. and ub!=len(episode)-1:\n",
    "    ub+=1\n",
    "\n",
    "# plt.subplot(1, 2, 1)\n",
    "plt.title(label)\n",
    "plt.plot(range(len(score)), score)\n",
    "plt.axvline(\n",
    "    transition, linestyle=\"dotted\", color=\"g\"\n",
    ")\n",
    "plt.axvspan(\n",
    "    lb, ub, alpha=0.2, color='g'\n",
    ")"
   ],
   "outputs": [
    {
     "output_type": "stream",
     "name": "stderr",
     "text": [
      "/home/kisoo/.local/lib/python3.8/site-packages/numpy/core/fromnumeric.py:3419: RuntimeWarning: Mean of empty slice.\n",
      "  return _methods._mean(a, axis=axis, dtype=dtype,\n",
      "/home/kisoo/.local/lib/python3.8/site-packages/numpy/core/_methods.py:188: RuntimeWarning: invalid value encountered in double_scalars\n",
      "  ret = ret.dtype.type(ret / rcount)\n"
     ]
    },
    {
     "output_type": "execute_result",
     "data": {
      "text/plain": [
       "<matplotlib.patches.Polygon at 0x7fecb863b8b0>"
      ]
     },
     "metadata": {},
     "execution_count": 3
    },
    {
     "output_type": "display_data",
     "data": {
      "image/png": "[encoded data removed]",
      "text/plain": [
       "<Figure size 432x288 with 1 Axes>"
      ]
     },
     "metadata": {
      "needs_background": "light"
     }
    }
   ],
   "metadata": {}
  },
  {
   "cell_type": "code",
   "execution_count": null,
   "source": [
    "from scipy.spatial import distance_matrix\n",
    "\n",
    "print(len(episode[:transition]), len(episode[transition:]), transition)\n",
    "print([i for i in range(len(score)) if score[i]>0.05])\n",
    "enumber = 120\n",
    "print(score[enumber])\n",
    "\n",
    "distance = distance_matrix(feature[enumber:enumber+2], feature[enumber+1:enumber+3])\n",
    "print(distance)\n",
    "print([(i, item) for i, item in enumerate(sensors)])\n",
    "\n",
    "# sample = feature[enumber]-feature[enumber+1]\n",
    "sample = feature[enumber]-feature[enumber+2]\n",
    "# sample = feature[enumber+1]-feature[enumber+2]\n",
    "\n",
    "diff_feature = sorted([(i, abs(sample[i])) for i in range(len(sample)) if sample[i]!=0.], key= lambda x: x[1], reverse=True)\n",
    "\n",
    "print(episode[max(0, enumber-30+1):min(enumber+2+1, len(episode))])\n",
    "diff_feature"
   ],
   "outputs": [],
   "metadata": {}
  }
 ],
 "metadata": {
  "interpreter": {
   "hash": "31f2aee4e71d21fbe5cf8b01ff0e069b9275f58929596ceb00d14d90e3e16cd6"
  },
  "kernelspec": {
   "name": "python3",
   "display_name": "Python 3.8.10 64-bit"
  },
  "language_info": {
   "codemirror_mode": {
    "name": "ipython",
    "version": 3
   },
   "file_extension": ".py",
   "mimetype": "text/x-python",
   "name": "python",
   "nbconvert_exporter": "python",
   "pygments_lexer": "ipython3",
   "version": "3.8.10"
  },
  "metadata": {
   "interpreter": {
    "hash": "31f2aee4e71d21fbe5cf8b01ff0e069b9275f58929596ceb00d14d90e3e16cd6"
   }
  },
  "orig_nbformat": 2
 },
 "nbformat": 4,
 "nbformat_minor": 2
}
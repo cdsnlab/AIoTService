{
 "cells": [
  {
   "cell_type": "markdown",
   "source": [
    "## Import Packages and Modules"
   ],
   "metadata": {}
  },
  {
   "cell_type": "code",
   "execution_count": 1,
   "source": [
    "import os, glob\n",
    "import pandas as pd\n",
    "import numpy as np\n",
    "import math, random\n",
    "from datetime import datetime\n",
    "import pickle\n",
    "from matplotlib import pyplot as plt\n",
    "import argparse\n",
    "import path, sys, re, time\n",
    "from collections import Counter\n",
    "from scipy.signal import find_peaks\n",
    "\n",
    "from module_.readText import read_hh\n",
    "from module_.featureExtraction import feature_extraction\n",
    "from module_.changePointDetection import change_point_detection\n",
    "from module_.info.hh import baseline_activities\n",
    "from module_.info.config import feature_name, exclude_list"
   ],
   "outputs": [],
   "metadata": {}
  },
  {
   "cell_type": "code",
   "execution_count": 2,
   "source": [
    "from module_.replication import replication\n",
    "\n",
    "\n",
    "replication(\"SEP\")"
   ],
   "outputs": [
    {
     "output_type": "stream",
     "name": "stdout",
     "text": [
      "Load Raw Data: 322603 events\n",
      "Use Motion and Door Sensors: 219511 events\n",
      "Raw Transitions: 4457\n",
      "Create Raw Activity List.\n",
      "Construct Dataset based on Distribution: 3745 activities\n",
      "Preprocessed events: 199820, \n",
      "    transitions: 3744,\n",
      "    the number of sensors: 18\n",
      "Feature shape: (199820, 48)\n",
      "10000/199820 (accumulated) time: 97.37157773971558\n",
      "20000/199820 (accumulated) time: 193.7675120830536\n",
      "30000/199820 (accumulated) time: 290.3879518508911\n",
      "40000/199820 (accumulated) time: 389.8780391216278\n",
      "50000/199820 (accumulated) time: 485.8610622882843\n",
      "60000/199820 (accumulated) time: 581.5460960865021\n",
      "70000/199820 (accumulated) time: 680.2721569538116\n",
      "80000/199820 (accumulated) time: 776.8767416477203\n",
      "90000/199820 (accumulated) time: 873.1291608810425\n",
      "100000/199820 (accumulated) time: 969.9090266227722\n",
      "110000/199820 (accumulated) time: 1065.9255678653717\n",
      "120000/199820 (accumulated) time: 1161.972050666809\n",
      "130000/199820 (accumulated) time: 1257.91415309906\n",
      "140000/199820 (accumulated) time: 1353.3742136955261\n",
      "150000/199820 (accumulated) time: 1449.680811882019\n",
      "160000/199820 (accumulated) time: 1545.3051316738129\n",
      "170000/199820 (accumulated) time: 1640.107791185379\n",
      "180000/199820 (accumulated) time: 1735.6382670402527\n",
      "190000/199820 (accumulated) time: 1831.5576345920563\n"
     ]
    }
   ],
   "metadata": {}
  },
  {
   "cell_type": "code",
   "execution_count": 3,
   "source": [
    "ppevents = np.load(\"replication/hh101/ppevents.npy\"); print(ppevents.shape)\n",
    "pptransitions = np.load(\"replication/hh101/pptransitions.npy\"); print(pptransitions.shape)\n",
    "scores = np.load(\"replication/hh101/scores_SEP.npy\"); print(scores.shape)"
   ],
   "outputs": [
    {
     "output_type": "stream",
     "name": "stdout",
     "text": [
      "(199820, 4)\n",
      "(3744,)\n",
      "(199820,)\n"
     ]
    }
   ],
   "metadata": {}
  },
  {
   "cell_type": "code",
   "execution_count": 5,
   "source": [
    "scores[:100]"
   ],
   "outputs": [
    {
     "output_type": "execute_result",
     "data": {
      "text/plain": [
       "array([0, 0, 0, 0, 0, 0, 0, 0, 0, 0, 0, 0, 0, 0, 0, 0, 0, 0, 0, 0, 0, 0,\n",
       "       0, 0, 0, 0, 0, 0, 0, 0, 0, 0, 0, 0, 0, 0, 0, 0, 0, 0, 0, 0, 0, 0,\n",
       "       0, 0, 0, 0, 0, 0, 0, 0, 0, 0, 0, 0, 0, 0, 0, 0, 0, 0, 0, 0, 0, 0,\n",
       "       0, 0, 0, 0, 0, 0, 0, 0, 0, 0, 0, 0, 0, 0, 0, 0, 0, 0, 0, 0, 0, 0,\n",
       "       0, 0, 0, 0, 0, 0, 0, 0, 0, 0, 0, 0])"
      ]
     },
     "metadata": {},
     "execution_count": 5
    }
   ],
   "metadata": {}
  },
  {
   "cell_type": "code",
   "execution_count": 4,
   "source": [
    "eventtimes = np.array([float(event[2]) for event in ppevents])\n",
    "transitiontimes = np.array([float(ppevents[idx,2]) for idx in pptransitions])\n",
    "\n",
    "threshold = 0.1\n",
    "lambda_ = 10\n",
    "TP = TN = FP = FN = 0\n",
    "for i in range(len(ppevents)):\n",
    "    if scores[i]>threshold: # POSITIVE\n",
    "        if i in pptransitions: # TRUE\n",
    "            TP+=1\n",
    "        else:\n",
    "            timediff = abs(transitiontimes-eventtimes[i])\n",
    "            if sum(timediff<lambda_)!=0:\n",
    "                TP+=1\n",
    "            else:\n",
    "                FP+=1\n",
    "    else: # NEGATIVE\n",
    "        if i not in pptransitions:\n",
    "            TN+=1\n",
    "        else:\n",
    "            FN+=1\n",
    "\n",
    "print(TP/(TP+FN))\n",
    "print(FP/(FP+TN))"
   ],
   "outputs": [
    {
     "output_type": "stream",
     "name": "stdout",
     "text": [
      "0.0\n",
      "0.0\n"
     ]
    }
   ],
   "metadata": {}
  },
  {
   "cell_type": "markdown",
   "source": [
    "## Load Dataset: hh101"
   ],
   "metadata": {}
  },
  {
   "cell_type": "code",
   "execution_count": null,
   "source": [
    "events=np.load(\"./preprocessed/test/ann.npy\")\n",
    "\n",
    "print(\"\"\"Raw events: {}\n",
    "First 5 Raw events:\n",
    "{}\"\"\".format(events.shape, events[:5]))"
   ],
   "outputs": [],
   "metadata": {
    "tags": []
   }
  },
  {
   "cell_type": "markdown",
   "source": [
    "## Data Preprocessing"
   ],
   "metadata": {}
  },
  {
   "cell_type": "code",
   "execution_count": null,
   "source": [
    "# INCLUDE ONLY \"MOTION and DOOR\"\n",
    "# events_md=np.array([event for event in events if event[3]!=\"\" and event[0][0] in ['M', 'D']])\n",
    "events_md = np.array([event for event in events if event[0][0] in ['M', 'D']])\n",
    "# events_md = events\n",
    "\n",
    "# MAPPING TO PRE-DEFINED ACTIVITY\n",
    "for i in range(events_md.shape[0]):\n",
    "    events_md[i,3]=baseline_activities[events_md[i,3]]\n",
    "\n",
    "# TRANSITION POINTS\n",
    "trs_md = np.array([i for i in range(len(events_md)) if events_md[i][3]!=events_md[max(i-1,0)][3]])\n",
    "\n",
    "# Sensor List\n",
    "sensor_list = sorted(set(events_md[:,0]))\n",
    "\n",
    "print(\n",
    "\"\"\"The number of events: {},\n",
    "The number of transitions: {},\n",
    "The number of sensors: {}\"\"\".format(len(events_md), len(trs_md), len(sensor_list)))\n",
    "\n",
    "print(Counter([events_md[i,3] for i in trs_md]))"
   ],
   "outputs": [],
   "metadata": {}
  },
  {
   "cell_type": "markdown",
   "source": [
    "## Feature Extraction"
   ],
   "metadata": {}
  },
  {
   "cell_type": "code",
   "execution_count": null,
   "source": [
    "data_name = \"hh101\"\n",
    "choose_type = \"A\"\n",
    "\n",
    "if os.path.exists(\"./replication/{}/features_{}.npy\".format(data_name, choose_type)):\n",
    "    choose_features = np.load(\"./replication/{}/features_{}.npy\".format(data_name, choose_type))\n",
    "else:\n",
    "    raw_features = np.array(feature_extraction(events_md, data_name, sensor_list))\n",
    "\n",
    "    choose_features = []\n",
    "    for i in range(raw_features.shape[1]):\n",
    "        if i not in exclude_list[choose_type]:\n",
    "            choose_features.append(raw_features[:,i].reshape(-1,1))\n",
    "    choose_features = np.concatenate(choose_features, axis=1)\n",
    "\n",
    "    np.save(\"./replication/hh101/features_{}.npy\".format(choose_type), choose_features)\n",
    "\n",
    "    print(\"\"\"Raw features: {}\n",
    "    Excluded features: {}\n",
    "    Chosen features: {}\"\"\".format(raw_features.shape, [feature_name[i] for i in exclude_list[choose_type]], choose_features.shape))"
   ],
   "outputs": [],
   "metadata": {}
  },
  {
   "cell_type": "markdown",
   "source": [
    "## Dissimilarity Scoring"
   ],
   "metadata": {}
  },
  {
   "cell_type": "code",
   "execution_count": null,
   "source": [
    "metric = \"SEP\"\n",
    "scores = np.array(change_point_detection(choose_features, data_name=data_name, metric=metric))\n",
    "\n",
    "np.save(\"./replication/hh101/scores_{}.npy\".format(metric), scores)\n",
    "np.save(\"./replication/hh101/transitions.npy\", trs_md)"
   ],
   "outputs": [],
   "metadata": {}
  },
  {
   "cell_type": "markdown",
   "source": [
    "## Evaluation"
   ],
   "metadata": {}
  },
  {
   "cell_type": "code",
   "execution_count": null,
   "source": [
    "scores = np.load(\"./replication/hh101/scores_RuLSIF.npy\")\n",
    "# transitions = np.load(\"./replication/hh101/transitions.npy\")\n",
    "\n",
    "threshold = 0.1\n",
    "interval = 10\n",
    "# Reject scores lower than threshold\n",
    "# scores[scores<threshold] = 0\n",
    "\n",
    "# Choose peak scores (one score in the range: 2*interval)\n",
    "finalists=[]\n",
    "prevtimestamp = 0\n",
    "for i in range(len(scores)):\n",
    "    # if scores[i]>threshold and float(events_md[i, 2])-prevtimestamp>2*interval:\n",
    "    #     finalists.append(i)\n",
    "    #     prevtimestamp = float(events_md[i, 2])\n",
    "    if scores[i]>threshold:\n",
    "        finalists.append(i)\n",
    "\n",
    "groundtruth = np.array([float(events_md[i, 2]) for i in trs_md])\n",
    "\n",
    "print(len(groundtruth), len(finalists))"
   ],
   "outputs": [],
   "metadata": {}
  },
  {
   "cell_type": "code",
   "execution_count": null,
   "source": [
    "# Evaluation\n",
    "truePositive = trueNegative = falsePositive = falseNegative = 0\n",
    "for i in range(len(events_md)):\n",
    "    if i in finalists: # Positive\n",
    "        if i in trs_md: # True\n",
    "            truePositive+=1\n",
    "        else:\n",
    "            timeGap = abs(groundtruth - float(events_md[i, 2]))\n",
    "            if sum(timeGap<interval)!=0:\n",
    "                truePositive+=1\n",
    "            else:\n",
    "                falsePositive+=1\n",
    "    else: # Negative\n",
    "        if i in trs_md: # False\n",
    "            falseNegative+=1\n",
    "        else:\n",
    "            trueNegative+=1\n",
    "\n",
    "print(truePositive/(truePositive+falseNegative))\n",
    "print(falsePositive/(falsePositive+trueNegative))"
   ],
   "outputs": [],
   "metadata": {}
  },
  {
   "cell_type": "markdown",
   "source": [
    "# 2. Analysis"
   ],
   "metadata": {}
  },
  {
   "cell_type": "code",
   "execution_count": null,
   "source": [
    "episodes, trs, tags = [], [], []\n",
    "previdx=0\n",
    "\n",
    "for i in range(len(trs_md)-1):\n",
    "    left=np.array(events_md[previdx:trs_md[i]])\n",
    "    right=np.array(events_md[trs_md[i]:trs_md[i+1]])\n",
    "    episode=np.concatenate((left, right))\n",
    "    episodes.append(episode)\n",
    "    trs.append(left.shape[0])\n",
    "    pairname=\"{}-{}\".format(left[0][3], right[0][3])\n",
    "    tags.append(pairname)\n",
    "    previdx=trs_md[i]\n",
    "\n",
    "data_name = 'hh101'\n",
    "metric = 'SEP'\n",
    "dataset_folder = './features/{}'.format(data_name)\n",
    "\n",
    "sensor_list = sorted(set(events_md[:,0]))\n",
    "\n",
    "if not os.path.exists(dataset_folder):\n",
    "    os.mkdir(dataset_folder)\n",
    "\n",
    "for ei, eps in enumerate(episodes):\n",
    "    transition_point = trs[ei]\n",
    "    features = feature_extraction(eps, data_name, sensor_list)\n",
    "    features = np.array(features)\n",
    "\n",
    "    folder_ = \"./features/{}/{}/{}\".format(data_name, tags[i], i)\n",
    "    x_ = range(len(eps))\n",
    "\n",
    "    scores=np.array(change_point_detection(features, data_name=data_name, metric=metric))\n",
    "    scores[scores<0]=0\n",
    "    plt.title(tags[i])\n",
    "    plt.bar(range(len(scores)), scores); plt.axvline(x=transition_point, linestyle=':', color='r')\n",
    "    \n",
    "    break"
   ],
   "outputs": [],
   "metadata": {}
  }
 ],
 "metadata": {
  "interpreter": {
   "hash": "31f2aee4e71d21fbe5cf8b01ff0e069b9275f58929596ceb00d14d90e3e16cd6"
  },
  "kernelspec": {
   "name": "python3",
   "display_name": "Python 3.8.10 64-bit"
  },
  "language_info": {
   "codemirror_mode": {
    "name": "ipython",
    "version": 3
   },
   "file_extension": ".py",
   "mimetype": "text/x-python",
   "name": "python",
   "nbconvert_exporter": "python",
   "pygments_lexer": "ipython3",
   "version": "3.8.10"
  },
  "metadata": {
   "interpreter": {
    "hash": "31f2aee4e71d21fbe5cf8b01ff0e069b9275f58929596ceb00d14d90e3e16cd6"
   }
  },
  "orig_nbformat": 2
 },
 "nbformat": 4,
 "nbformat_minor": 2
}
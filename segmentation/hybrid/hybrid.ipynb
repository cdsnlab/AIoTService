{
 "metadata": {
  "language_info": {
   "codemirror_mode": {
    "name": "ipython",
    "version": 3
   },
   "file_extension": ".py",
   "mimetype": "text/x-python",
   "name": "python",
   "nbconvert_exporter": "python",
   "pygments_lexer": "ipython3",
   "version": "3.8.5-final"
  },
  "orig_nbformat": 2,
  "kernelspec": {
   "name": "python3",
   "display_name": "Python 3.8.5 64-bit",
   "metadata": {
    "interpreter": {
     "hash": "31f2aee4e71d21fbe5cf8b01ff0e069b9275f58929596ceb00d14d90e3e16cd6"
    }
   }
  },
  "metadata": {
   "interpreter": {
    "hash": "31f2aee4e71d21fbe5cf8b01ff0e069b9275f58929596ceb00d14d90e3e16cd6"
   }
  }
 },
 "nbformat": 4,
 "nbformat_minor": 2,
 "cells": [
  {
   "cell_type": "code",
   "execution_count": 1,
   "metadata": {},
   "outputs": [],
   "source": [
    "from coordinate import dataset_list, coordinate\n",
    "from preprocess import preprocess, preprocess_adlmr\n",
    "from feature import extract_feature\n",
    "import numpy as np\n",
    "import pickle as pkl\n",
    "from collections import Counter\n",
    "import time\n",
    "from fcmeans import FCM\n",
    "from densityratio import Densratio"
   ]
  },
  {
   "cell_type": "code",
   "execution_count": null,
   "metadata": {
    "tags": []
   },
   "outputs": [],
   "source": [
    "\"\"\"\n",
    "    Loading Data\n",
    "    twor.2009: no interleaving\n",
    "    twor.summer.2009: interleaving\n",
    "    twor.2010: interleaving\n",
    "\"\"\"\n",
    "\n",
    "event_dict={}\n",
    "trans_dict={}\n",
    "activ_dict={}\n",
    "for ds_name in dataset_list:\n",
    "    if ds_name!='adlmr':\n",
    "        continue\n",
    "    print(ds_name)\n",
    "    f=open('./dataset/{}/annotated'.format(ds_name), 'rb')\n",
    "    raw=f.readlines()\n",
    "    f.close()\n",
    "    if ds_name==dataset_list[-1]:\n",
    "        events, trans_indices, activity_set=preprocess_adlmr(raw)\n",
    "    else:\n",
    "        events, trans_indices, activity_set=preprocess(raw) # event format: <sensor, value, timestamp>\n",
    "    event_dict[ds_name]=events\n",
    "    trans_dict[ds_name]=trans_indices\n",
    "    activ_dict[ds_name]=activity_set\n",
    "\n",
    "with open('./save/event_dict','wb') as f:\n",
    "    pkl.dump(event_dict, f)\n",
    "with open('./save/trans_dict','wb') as f:\n",
    "    pkl.dump(trans_dict, f)"
   ]
  },
  {
   "cell_type": "code",
   "execution_count": 2,
   "metadata": {},
   "outputs": [],
   "source": [
    "with open('./save/event_dict','rb') as f:\n",
    "    event_dict=pkl.load(f)\n",
    "with open('./save/trans_dict','rb') as f:\n",
    "    trans_dict=pkl.load(f)\n",
    "    "
   ]
  },
  {
   "cell_type": "code",
   "execution_count": 3,
   "metadata": {},
   "outputs": [],
   "source": [
    "sensor_set=set()\n",
    "for item in event_dict.keys():\n",
    "    sensor_set=sensor_set | set(np.array(event_dict[item])[:,0])"
   ]
  },
  {
   "cell_type": "code",
   "execution_count": 4,
   "metadata": {},
   "outputs": [
    {
     "output_type": "stream",
     "name": "stdout",
     "text": [
      "2580 2580\n2418 2418\n4998\n"
     ]
    }
   ],
   "source": [
    "# clustering in online\n",
    "with open('./save/online_group_A','rb') as f:\n",
    "    online_group_A=pkl.load(f)\n",
    "with open('./save/online_group_B','rb') as f:\n",
    "    online_group_B=pkl.load(f)\n",
    "with open('./save/online_A_score','rb') as f:\n",
    "    online_A_score=pkl.load(f)\n",
    "with open('./save/online_B_score','rb') as f:\n",
    "    online_B_score=pkl.load(f)\n",
    "with open('./save/online_centers','rb') as f:\n",
    "    online_centers=pkl.load(f)\n",
    "print(len(online_group_A), len(online_A_score))\n",
    "print(len(online_group_B), len(online_B_score))\n",
    "print(len(online_centers))"
   ]
  },
  {
   "cell_type": "code",
   "execution_count": 9,
   "metadata": {},
   "outputs": [
    {
     "output_type": "stream",
     "name": "stdout",
     "text": [
      "0/2417, elapsed time: 0.0006058216094970703\n",
      "1000/2417, elapsed time: 1236.7229497432709\n",
      "2000/2417, elapsed time: 2467.9910809993744\n"
     ]
    }
   ],
   "source": [
    "target_subsequence=online_group_B\n",
    "len(target_subsequence)\n",
    "\n",
    "ws, vs=30, 2\n",
    "threshold=0.3\n",
    "scores=[]\n",
    "start=time.time()\n",
    "\n",
    "wbt=[];wt=[];wat=[]\n",
    "fb=[];ff=[];fa=[]\n",
    "\n",
    "for i, event in enumerate(target_subsequence):\n",
    "    if i%1000==0:\n",
    "        print(\"{}/{}, elapsed time: {}\".format(i, len(target_subsequence)-1, time.time()-start))\n",
    "    w_b_t=target_subsequence[-ws+i-1:i-1]\n",
    "    w_t=target_subsequence[-ws+i:i]\n",
    "    w_a_t=target_subsequence[-ws+i+1:i+1]\n",
    "    if i==len(target_subsequence)-1:\n",
    "        w_a_t=w_a_t+[target_subsequence[-1]]\n",
    "\n",
    "    if -ws+i-1<0:\n",
    "        fe=target_subsequence[0]    # first event\n",
    "        w_b_t=[fe for i in range(ws-len(w_b_t))]+w_b_t\n",
    "        w_t=[fe for i in range(ws-len(w_t))]+w_t\n",
    "        w_a_t=[fe for i in range(ws-len(w_a_t))]+w_a_t\n",
    "    \n",
    "    wbt.append(w_b_t); wt.append(w_t); wat.append(w_a_t)\n",
    "\n",
    "    f_b=extract_feature(w_b_t, sensor_set, coordinate)\n",
    "    f_=extract_feature(w_t, sensor_set, coordinate)\n",
    "    f_a=extract_feature(w_a_t, sensor_set, coordinate)\n",
    "\n",
    "    fb.append(f_b); ff.append(f_); fa.append(f_a)\n",
    "\n",
    "    v_b, v_a= np.array([f_b, f_]), np.array([f_, f_a])\n",
    "    score=Densratio(x=v_b, y=v_a).SEPDiv\n",
    "    scores.append(score)\n",
    "\n",
    "dic={\n",
    "    'wbt':wbt,\n",
    "    'wt':wt,\n",
    "    'wat':wat,\n",
    "    'fb':fb,\n",
    "    'f':ff,\n",
    "    'fa':fa\n",
    "}\n",
    "with open('./save/online_B_dict','wb') as f:\n",
    "    pkl.dump(dic, f)\n",
    "with open('./save/online_B_score','wb') as f:\n",
    "    pkl.dump(scores, f)"
   ]
  },
  {
   "cell_type": "code",
   "execution_count": 8,
   "metadata": {
    "tags": []
   },
   "outputs": [],
   "source": [
    "from scipy.signal import find_peaks\n",
    "import matplotlib.pyplot as plt\n",
    "\n",
    "threshold=0.3\n",
    "subsequenceA, subscoreA=online_group_A, online_A_score\n",
    "xA=np.array(subscoreA)\n",
    "xA_=np.where(xA<threshold, 0, xA)\n",
    "peaks_A, _ = find_peaks(xA_, distance=5)\n",
    "\n",
    "bucket_A=[]\n",
    "for i in range(len(peaks_A)):\n",
    "    if i==0:\n",
    "        segment=subsequenceA[:peaks_A[i]]\n",
    "        bucket_A.append(segment)\n",
    "        # print(np.array(segment))\n",
    "        # c=[coordinate[item[0]] for item in segment]\n",
    "        # c_x=[coordinate[item[0]][0] for item in segment]\n",
    "        # c_y=[coordinate[item[0]][1] for item in segment]\n",
    "        # r=[int(item[3]) for item in segment]\n",
    "        # fig, ax=plt.subplots()\n",
    "\n",
    "        # sc=ax.scatter(c_x, c_y, c=r, alpha=0.7, s=1e2)\n",
    "        # for j in range(len(segment)):\n",
    "        #     plt.annotate(segment[j][0], c[j], label=r[j])\n",
    "        # ax.legend(*sc.legend_elements(num=1), title='resident')\n",
    "        # plt.show()\n",
    "        \n",
    "    elif i==len(peaks_A)-1:\n",
    "        bucket_A.append(subsequenceA[peaks_A[i]:])\n",
    "    else:\n",
    "        bucket_A.append(subsequenceA[peaks_A[i]:peaks_A[i+1]])"
   ]
  },
  {
   "cell_type": "code",
   "execution_count": 9,
   "metadata": {},
   "outputs": [],
   "source": [
    "subsequenceB, subscoreB=online_group_B, online_B_score\n",
    "xB=np.array(subscoreB)\n",
    "xB_=np.where(xB<threshold, 0, xB)\n",
    "peaks_B, _ = find_peaks(xB_, distance=5)\n",
    "\n",
    "bucket_B=[]\n",
    "for i in range(len(peaks_B)):\n",
    "    if i==0:\n",
    "        segment=subsequenceB[:peaks_B[i]]\n",
    "        bucket_B.append(segment)\n",
    "\n",
    "    elif i==len(peaks_B)-1:\n",
    "        bucket_B.append(subsequenceB[peaks_B[i]:])\n",
    "    else:\n",
    "        bucket_B.append(subsequenceB[peaks_B[i]:peaks_B[i+1]])"
   ]
  },
  {
   "cell_type": "code",
   "execution_count": 60,
   "metadata": {},
   "outputs": [
    {
     "output_type": "stream",
     "name": "stdout",
     "text": [
      "0.5782747603833865\n0.5526315789473685\nAVERAGE: 0.5656401944894651\n"
     ]
    }
   ],
   "source": [
    "# cluster\n",
    "\n",
    "dominant_cnt=0\n",
    "d_threshold=0.9\n",
    "for i, item in enumerate(bucket_A):\n",
    "\n",
    "    user_cnt=Counter(np.array(item)[:,3])\n",
    "    ratio_1=(user_cnt['1']+user_cnt['12']+user_cnt['21']+user_cnt['11'])/sum(user_cnt.values())\n",
    "    ratio_2=(user_cnt['2']+user_cnt['12']+user_cnt['21']+user_cnt['22'])/sum(user_cnt.values())\n",
    "    if ratio_1>d_threshold or ratio_2>d_threshold:\n",
    "        dominant_cnt+=1\n",
    "    # task_cnt=Counter(np.array(item)[:,4])\n",
    "\n",
    "A_=dominant_cnt/len(bucket_A); print(A_)\n",
    "\n",
    "dominant_cnt=0\n",
    "for i, item in enumerate(bucket_B):\n",
    "\n",
    "    user_cnt=Counter(np.array(item)[:,3])\n",
    "    ratio_1=(user_cnt['1']+user_cnt['12']+user_cnt['21']+user_cnt['11'])/sum(user_cnt.values())\n",
    "    ratio_2=(user_cnt['2']+user_cnt['12']+user_cnt['21']+user_cnt['22'])/sum(user_cnt.values())\n",
    "    if ratio_1>d_threshold or ratio_2>d_threshold:\n",
    "        dominant_cnt+=1\n",
    "    # task_cnt=Counter(np.array(item)[:,4])\n",
    "B_=dominant_cnt/len(bucket_B); print(B_)\n",
    "print(\"AVERAGE:\", (A_*len(bucket_A)+B_*len(bucket_B))/(len(bucket_A)+len(bucket_B)))"
   ]
  },
  {
   "cell_type": "code",
   "execution_count": 104,
   "metadata": {},
   "outputs": [
    {
     "output_type": "stream",
     "name": "stdout",
     "text": [
      "0.4517601192083039\n0.4514953434698079\n0.45041410155008815\n0.451315008529093\n0.4487426505989784\n0.4498039050366819\n0.3316506423577795\n0.45033516816422287\n0.4458786409628218\n0.451190519602496\nCounter({6: 68, 5: 55, 7: 47, 8: 36, 9: 31, 10: 20, 11: 17, 12: 10, 13: 7, 15: 5, 14: 5, 17: 2, 18: 2, 21: 2, 30: 1, 19: 1, 24: 1, 22: 1, 16: 1, 26: 1})\n"
     ]
    }
   ],
   "source": [
    "# print(np.array(bucket_A[3]))\n",
    "# print(np.array(bucket_B[3]))\n",
    "# print(peaks_A[:10])\n",
    "\n",
    "# for idx in peaks_A[:10]:\n",
    "#     print(subscoreA[idx])\n",
    "\n",
    "for idx in peaks_B[:10]:\n",
    "    print(subscoreB[idx])\n",
    "\n",
    "function = lambda x: len(x)\n",
    "\n",
    "len_list_A=[function(segment) for segment in bucket_A]\n",
    "print(Counter(len_list_A))\n"
   ]
  },
  {
   "cell_type": "code",
   "execution_count": 70,
   "metadata": {},
   "outputs": [
    {
     "output_type": "display_data",
     "data": {
      "text/plain": "<Figure size 432x288 with 1 Axes>",
      "image/svg+xml": "<?xml version=\"1.0\" encoding=\"utf-8\" standalone=\"no\"?>\n<!DOCTYPE svg PUBLIC \"-//W3C//DTD SVG 1.1//EN\"\n  \"http://www.w3.org/Graphics/SVG/1.1/DTD/svg11.dtd\">\n<svg height=\"277.314375pt\" version=\"1.1\" viewBox=\"0 0 385.78125 277.314375\" width=\"385.78125pt\" xmlns=\"http://www.w3.org/2000/svg\" xmlns:xlink=\"http://www.w3.org/1999/xlink\">\n <metadata>\n  <rdf:RDF xmlns:cc=\"http://creativecommons.org/ns#\" xmlns:dc=\"http://purl.org/dc/elements/1.1/\" xmlns:rdf=\"http://www.w3.org/1999/02/22-rdf-syntax-ns#\">\n   <cc:Work>\n    <dc:type rdf:resource=\"http://purl.org/dc/dcmitype/StillImage\"/>\n    <dc:date>2021-04-07T00:43:23.882388</dc:date>\n    <dc:format>image/svg+xml</dc:format>\n    <dc:creator>\n     <cc:Agent>\n      <dc:title>Matplotlib v3.4.1, https://matplotlib.org/</dc:title>\n     </cc:Agent>\n    </dc:creator>\n   </cc:Work>\n  </rdf:RDF>\n </metadata>\n <defs>\n  <style type=\"text/css\">*{stroke-linecap:butt;stroke-linejoin:round;}</style>\n </defs>\n <g id=\"figure_1\">\n  <g id=\"patch_1\">\n   <path d=\"M 0 277.314375 \nL 385.78125 277.314375 \nL 385.78125 0 \nL 0 0 \nz\n\" style=\"fill:none;\"/>\n  </g>\n  <g id=\"axes_1\">\n   <g id=\"patch_2\">\n    <path d=\"M 43.78125 239.758125 \nL 378.58125 239.758125 \nL 378.58125 22.318125 \nL 43.78125 22.318125 \nz\n\" style=\"fill:#ffffff;\"/>\n   </g>\n   <g id=\"patch_3\">\n    <path clip-path=\"url(#pd5d2d04653)\" d=\"M 58.999432 239.758125 \nL 98.699037 239.758125 \nL 98.699037 32.672411 \nL 58.999432 32.672411 \nz\n\" style=\"fill:#008000;\"/>\n   </g>\n   <g id=\"patch_4\">\n    <path clip-path=\"url(#pd5d2d04653)\" d=\"M 191.331448 239.758125 \nL 231.031052 239.758125 \nL 231.031052 63.506099 \nL 191.331448 63.506099 \nz\n\" style=\"fill:#008000;\"/>\n   </g>\n   <g id=\"patch_5\">\n    <path clip-path=\"url(#pd5d2d04653)\" d=\"M 323.663463 239.758125 \nL 363.363068 239.758125 \nL 363.363068 94.339786 \nL 323.663463 94.339786 \nz\n\" style=\"fill:#008000;\"/>\n   </g>\n   <g id=\"matplotlib.axis_1\">\n    <g id=\"xtick_1\">\n     <g id=\"line2d_1\">\n      <defs>\n       <path d=\"M 0 0 \nL 0 3.5 \n\" id=\"m5f3cb81603\" style=\"stroke:#000000;stroke-width:0.8;\"/>\n      </defs>\n      <g>\n       <use style=\"stroke:#000000;stroke-width:0.8;\" x=\"78.849234\" xlink:href=\"#m5f3cb81603\" y=\"239.758125\"/>\n      </g>\n     </g>\n     <g id=\"text_1\">\n      <!-- 0.7 -->\n      <g transform=\"translate(70.897672 254.356562)scale(0.1 -0.1)\">\n       <defs>\n        <path d=\"M 2034 4250 \nQ 1547 4250 1301 3770 \nQ 1056 3291 1056 2328 \nQ 1056 1369 1301 889 \nQ 1547 409 2034 409 \nQ 2525 409 2770 889 \nQ 3016 1369 3016 2328 \nQ 3016 3291 2770 3770 \nQ 2525 4250 2034 4250 \nz\nM 2034 4750 \nQ 2819 4750 3233 4129 \nQ 3647 3509 3647 2328 \nQ 3647 1150 3233 529 \nQ 2819 -91 2034 -91 \nQ 1250 -91 836 529 \nQ 422 1150 422 2328 \nQ 422 3509 836 4129 \nQ 1250 4750 2034 4750 \nz\n\" id=\"DejaVuSans-30\" transform=\"scale(0.015625)\"/>\n        <path d=\"M 684 794 \nL 1344 794 \nL 1344 0 \nL 684 0 \nL 684 794 \nz\n\" id=\"DejaVuSans-2e\" transform=\"scale(0.015625)\"/>\n        <path d=\"M 525 4666 \nL 3525 4666 \nL 3525 4397 \nL 1831 0 \nL 1172 0 \nL 2766 4134 \nL 525 4134 \nL 525 4666 \nz\n\" id=\"DejaVuSans-37\" transform=\"scale(0.015625)\"/>\n       </defs>\n       <use xlink:href=\"#DejaVuSans-30\"/>\n       <use x=\"63.623047\" xlink:href=\"#DejaVuSans-2e\"/>\n       <use x=\"95.410156\" xlink:href=\"#DejaVuSans-37\"/>\n      </g>\n     </g>\n    </g>\n    <g id=\"xtick_2\">\n     <g id=\"line2d_2\">\n      <g>\n       <use style=\"stroke:#000000;stroke-width:0.8;\" x=\"211.18125\" xlink:href=\"#m5f3cb81603\" y=\"239.758125\"/>\n      </g>\n     </g>\n     <g id=\"text_2\">\n      <!-- 0.8 -->\n      <g transform=\"translate(203.229688 254.356562)scale(0.1 -0.1)\">\n       <defs>\n        <path d=\"M 2034 2216 \nQ 1584 2216 1326 1975 \nQ 1069 1734 1069 1313 \nQ 1069 891 1326 650 \nQ 1584 409 2034 409 \nQ 2484 409 2743 651 \nQ 3003 894 3003 1313 \nQ 3003 1734 2745 1975 \nQ 2488 2216 2034 2216 \nz\nM 1403 2484 \nQ 997 2584 770 2862 \nQ 544 3141 544 3541 \nQ 544 4100 942 4425 \nQ 1341 4750 2034 4750 \nQ 2731 4750 3128 4425 \nQ 3525 4100 3525 3541 \nQ 3525 3141 3298 2862 \nQ 3072 2584 2669 2484 \nQ 3125 2378 3379 2068 \nQ 3634 1759 3634 1313 \nQ 3634 634 3220 271 \nQ 2806 -91 2034 -91 \nQ 1263 -91 848 271 \nQ 434 634 434 1313 \nQ 434 1759 690 2068 \nQ 947 2378 1403 2484 \nz\nM 1172 3481 \nQ 1172 3119 1398 2916 \nQ 1625 2713 2034 2713 \nQ 2441 2713 2670 2916 \nQ 2900 3119 2900 3481 \nQ 2900 3844 2670 4047 \nQ 2441 4250 2034 4250 \nQ 1625 4250 1398 4047 \nQ 1172 3844 1172 3481 \nz\n\" id=\"DejaVuSans-38\" transform=\"scale(0.015625)\"/>\n       </defs>\n       <use xlink:href=\"#DejaVuSans-30\"/>\n       <use x=\"63.623047\" xlink:href=\"#DejaVuSans-2e\"/>\n       <use x=\"95.410156\" xlink:href=\"#DejaVuSans-38\"/>\n      </g>\n     </g>\n    </g>\n    <g id=\"xtick_3\">\n     <g id=\"line2d_3\">\n      <g>\n       <use style=\"stroke:#000000;stroke-width:0.8;\" x=\"343.513266\" xlink:href=\"#m5f3cb81603\" y=\"239.758125\"/>\n      </g>\n     </g>\n     <g id=\"text_3\">\n      <!-- 0.9 -->\n      <g transform=\"translate(335.561703 254.356562)scale(0.1 -0.1)\">\n       <defs>\n        <path d=\"M 703 97 \nL 703 672 \nQ 941 559 1184 500 \nQ 1428 441 1663 441 \nQ 2288 441 2617 861 \nQ 2947 1281 2994 2138 \nQ 2813 1869 2534 1725 \nQ 2256 1581 1919 1581 \nQ 1219 1581 811 2004 \nQ 403 2428 403 3163 \nQ 403 3881 828 4315 \nQ 1253 4750 1959 4750 \nQ 2769 4750 3195 4129 \nQ 3622 3509 3622 2328 \nQ 3622 1225 3098 567 \nQ 2575 -91 1691 -91 \nQ 1453 -91 1209 -44 \nQ 966 3 703 97 \nz\nM 1959 2075 \nQ 2384 2075 2632 2365 \nQ 2881 2656 2881 3163 \nQ 2881 3666 2632 3958 \nQ 2384 4250 1959 4250 \nQ 1534 4250 1286 3958 \nQ 1038 3666 1038 3163 \nQ 1038 2656 1286 2365 \nQ 1534 2075 1959 2075 \nz\n\" id=\"DejaVuSans-39\" transform=\"scale(0.015625)\"/>\n       </defs>\n       <use xlink:href=\"#DejaVuSans-30\"/>\n       <use x=\"63.623047\" xlink:href=\"#DejaVuSans-2e\"/>\n       <use x=\"95.410156\" xlink:href=\"#DejaVuSans-39\"/>\n      </g>\n     </g>\n    </g>\n    <g id=\"text_4\">\n     <!-- dominance ratio -->\n     <g transform=\"translate(170.34375 268.034687)scale(0.1 -0.1)\">\n      <defs>\n       <path d=\"M 2906 2969 \nL 2906 4863 \nL 3481 4863 \nL 3481 0 \nL 2906 0 \nL 2906 525 \nQ 2725 213 2448 61 \nQ 2172 -91 1784 -91 \nQ 1150 -91 751 415 \nQ 353 922 353 1747 \nQ 353 2572 751 3078 \nQ 1150 3584 1784 3584 \nQ 2172 3584 2448 3432 \nQ 2725 3281 2906 2969 \nz\nM 947 1747 \nQ 947 1113 1208 752 \nQ 1469 391 1925 391 \nQ 2381 391 2643 752 \nQ 2906 1113 2906 1747 \nQ 2906 2381 2643 2742 \nQ 2381 3103 1925 3103 \nQ 1469 3103 1208 2742 \nQ 947 2381 947 1747 \nz\n\" id=\"DejaVuSans-64\" transform=\"scale(0.015625)\"/>\n       <path d=\"M 1959 3097 \nQ 1497 3097 1228 2736 \nQ 959 2375 959 1747 \nQ 959 1119 1226 758 \nQ 1494 397 1959 397 \nQ 2419 397 2687 759 \nQ 2956 1122 2956 1747 \nQ 2956 2369 2687 2733 \nQ 2419 3097 1959 3097 \nz\nM 1959 3584 \nQ 2709 3584 3137 3096 \nQ 3566 2609 3566 1747 \nQ 3566 888 3137 398 \nQ 2709 -91 1959 -91 \nQ 1206 -91 779 398 \nQ 353 888 353 1747 \nQ 353 2609 779 3096 \nQ 1206 3584 1959 3584 \nz\n\" id=\"DejaVuSans-6f\" transform=\"scale(0.015625)\"/>\n       <path d=\"M 3328 2828 \nQ 3544 3216 3844 3400 \nQ 4144 3584 4550 3584 \nQ 5097 3584 5394 3201 \nQ 5691 2819 5691 2113 \nL 5691 0 \nL 5113 0 \nL 5113 2094 \nQ 5113 2597 4934 2840 \nQ 4756 3084 4391 3084 \nQ 3944 3084 3684 2787 \nQ 3425 2491 3425 1978 \nL 3425 0 \nL 2847 0 \nL 2847 2094 \nQ 2847 2600 2669 2842 \nQ 2491 3084 2119 3084 \nQ 1678 3084 1418 2786 \nQ 1159 2488 1159 1978 \nL 1159 0 \nL 581 0 \nL 581 3500 \nL 1159 3500 \nL 1159 2956 \nQ 1356 3278 1631 3431 \nQ 1906 3584 2284 3584 \nQ 2666 3584 2933 3390 \nQ 3200 3197 3328 2828 \nz\n\" id=\"DejaVuSans-6d\" transform=\"scale(0.015625)\"/>\n       <path d=\"M 603 3500 \nL 1178 3500 \nL 1178 0 \nL 603 0 \nL 603 3500 \nz\nM 603 4863 \nL 1178 4863 \nL 1178 4134 \nL 603 4134 \nL 603 4863 \nz\n\" id=\"DejaVuSans-69\" transform=\"scale(0.015625)\"/>\n       <path d=\"M 3513 2113 \nL 3513 0 \nL 2938 0 \nL 2938 2094 \nQ 2938 2591 2744 2837 \nQ 2550 3084 2163 3084 \nQ 1697 3084 1428 2787 \nQ 1159 2491 1159 1978 \nL 1159 0 \nL 581 0 \nL 581 3500 \nL 1159 3500 \nL 1159 2956 \nQ 1366 3272 1645 3428 \nQ 1925 3584 2291 3584 \nQ 2894 3584 3203 3211 \nQ 3513 2838 3513 2113 \nz\n\" id=\"DejaVuSans-6e\" transform=\"scale(0.015625)\"/>\n       <path d=\"M 2194 1759 \nQ 1497 1759 1228 1600 \nQ 959 1441 959 1056 \nQ 959 750 1161 570 \nQ 1363 391 1709 391 \nQ 2188 391 2477 730 \nQ 2766 1069 2766 1631 \nL 2766 1759 \nL 2194 1759 \nz\nM 3341 1997 \nL 3341 0 \nL 2766 0 \nL 2766 531 \nQ 2569 213 2275 61 \nQ 1981 -91 1556 -91 \nQ 1019 -91 701 211 \nQ 384 513 384 1019 \nQ 384 1609 779 1909 \nQ 1175 2209 1959 2209 \nL 2766 2209 \nL 2766 2266 \nQ 2766 2663 2505 2880 \nQ 2244 3097 1772 3097 \nQ 1472 3097 1187 3025 \nQ 903 2953 641 2809 \nL 641 3341 \nQ 956 3463 1253 3523 \nQ 1550 3584 1831 3584 \nQ 2591 3584 2966 3190 \nQ 3341 2797 3341 1997 \nz\n\" id=\"DejaVuSans-61\" transform=\"scale(0.015625)\"/>\n       <path d=\"M 3122 3366 \nL 3122 2828 \nQ 2878 2963 2633 3030 \nQ 2388 3097 2138 3097 \nQ 1578 3097 1268 2742 \nQ 959 2388 959 1747 \nQ 959 1106 1268 751 \nQ 1578 397 2138 397 \nQ 2388 397 2633 464 \nQ 2878 531 3122 666 \nL 3122 134 \nQ 2881 22 2623 -34 \nQ 2366 -91 2075 -91 \nQ 1284 -91 818 406 \nQ 353 903 353 1747 \nQ 353 2603 823 3093 \nQ 1294 3584 2113 3584 \nQ 2378 3584 2631 3529 \nQ 2884 3475 3122 3366 \nz\n\" id=\"DejaVuSans-63\" transform=\"scale(0.015625)\"/>\n       <path d=\"M 3597 1894 \nL 3597 1613 \nL 953 1613 \nQ 991 1019 1311 708 \nQ 1631 397 2203 397 \nQ 2534 397 2845 478 \nQ 3156 559 3463 722 \nL 3463 178 \nQ 3153 47 2828 -22 \nQ 2503 -91 2169 -91 \nQ 1331 -91 842 396 \nQ 353 884 353 1716 \nQ 353 2575 817 3079 \nQ 1281 3584 2069 3584 \nQ 2775 3584 3186 3129 \nQ 3597 2675 3597 1894 \nz\nM 3022 2063 \nQ 3016 2534 2758 2815 \nQ 2500 3097 2075 3097 \nQ 1594 3097 1305 2825 \nQ 1016 2553 972 2059 \nL 3022 2063 \nz\n\" id=\"DejaVuSans-65\" transform=\"scale(0.015625)\"/>\n       <path id=\"DejaVuSans-20\" transform=\"scale(0.015625)\"/>\n       <path d=\"M 2631 2963 \nQ 2534 3019 2420 3045 \nQ 2306 3072 2169 3072 \nQ 1681 3072 1420 2755 \nQ 1159 2438 1159 1844 \nL 1159 0 \nL 581 0 \nL 581 3500 \nL 1159 3500 \nL 1159 2956 \nQ 1341 3275 1631 3429 \nQ 1922 3584 2338 3584 \nQ 2397 3584 2469 3576 \nQ 2541 3569 2628 3553 \nL 2631 2963 \nz\n\" id=\"DejaVuSans-72\" transform=\"scale(0.015625)\"/>\n       <path d=\"M 1172 4494 \nL 1172 3500 \nL 2356 3500 \nL 2356 3053 \nL 1172 3053 \nL 1172 1153 \nQ 1172 725 1289 603 \nQ 1406 481 1766 481 \nL 2356 481 \nL 2356 0 \nL 1766 0 \nQ 1100 0 847 248 \nQ 594 497 594 1153 \nL 594 3053 \nL 172 3053 \nL 172 3500 \nL 594 3500 \nL 594 4494 \nL 1172 4494 \nz\n\" id=\"DejaVuSans-74\" transform=\"scale(0.015625)\"/>\n      </defs>\n      <use xlink:href=\"#DejaVuSans-64\"/>\n      <use x=\"63.476562\" xlink:href=\"#DejaVuSans-6f\"/>\n      <use x=\"124.658203\" xlink:href=\"#DejaVuSans-6d\"/>\n      <use x=\"222.070312\" xlink:href=\"#DejaVuSans-69\"/>\n      <use x=\"249.853516\" xlink:href=\"#DejaVuSans-6e\"/>\n      <use x=\"313.232422\" xlink:href=\"#DejaVuSans-61\"/>\n      <use x=\"374.511719\" xlink:href=\"#DejaVuSans-6e\"/>\n      <use x=\"437.890625\" xlink:href=\"#DejaVuSans-63\"/>\n      <use x=\"492.871094\" xlink:href=\"#DejaVuSans-65\"/>\n      <use x=\"554.394531\" xlink:href=\"#DejaVuSans-20\"/>\n      <use x=\"586.181641\" xlink:href=\"#DejaVuSans-72\"/>\n      <use x=\"627.294922\" xlink:href=\"#DejaVuSans-61\"/>\n      <use x=\"688.574219\" xlink:href=\"#DejaVuSans-74\"/>\n      <use x=\"727.783203\" xlink:href=\"#DejaVuSans-69\"/>\n      <use x=\"755.566406\" xlink:href=\"#DejaVuSans-6f\"/>\n     </g>\n    </g>\n   </g>\n   <g id=\"matplotlib.axis_2\">\n    <g id=\"ytick_1\">\n     <g id=\"line2d_4\">\n      <defs>\n       <path d=\"M 0 0 \nL -3.5 0 \n\" id=\"m40edd07a2f\" style=\"stroke:#000000;stroke-width:0.8;\"/>\n      </defs>\n      <g>\n       <use style=\"stroke:#000000;stroke-width:0.8;\" x=\"43.78125\" xlink:href=\"#m40edd07a2f\" y=\"239.758125\"/>\n      </g>\n     </g>\n     <g id=\"text_5\">\n      <!-- 0.0 -->\n      <g transform=\"translate(20.878125 243.557344)scale(0.1 -0.1)\">\n       <use xlink:href=\"#DejaVuSans-30\"/>\n       <use x=\"63.623047\" xlink:href=\"#DejaVuSans-2e\"/>\n       <use x=\"95.410156\" xlink:href=\"#DejaVuSans-30\"/>\n      </g>\n     </g>\n    </g>\n    <g id=\"ytick_2\">\n     <g id=\"line2d_5\">\n      <g>\n       <use style=\"stroke:#000000;stroke-width:0.8;\" x=\"43.78125\" xlink:href=\"#m40edd07a2f\" y=\"214.049496\"/>\n      </g>\n     </g>\n     <g id=\"text_6\">\n      <!-- 0.1 -->\n      <g transform=\"translate(20.878125 217.848715)scale(0.1 -0.1)\">\n       <defs>\n        <path d=\"M 794 531 \nL 1825 531 \nL 1825 4091 \nL 703 3866 \nL 703 4441 \nL 1819 4666 \nL 2450 4666 \nL 2450 531 \nL 3481 531 \nL 3481 0 \nL 794 0 \nL 794 531 \nz\n\" id=\"DejaVuSans-31\" transform=\"scale(0.015625)\"/>\n       </defs>\n       <use xlink:href=\"#DejaVuSans-30\"/>\n       <use x=\"63.623047\" xlink:href=\"#DejaVuSans-2e\"/>\n       <use x=\"95.410156\" xlink:href=\"#DejaVuSans-31\"/>\n      </g>\n     </g>\n    </g>\n    <g id=\"ytick_3\">\n     <g id=\"line2d_6\">\n      <g>\n       <use style=\"stroke:#000000;stroke-width:0.8;\" x=\"43.78125\" xlink:href=\"#m40edd07a2f\" y=\"188.340867\"/>\n      </g>\n     </g>\n     <g id=\"text_7\">\n      <!-- 0.2 -->\n      <g transform=\"translate(20.878125 192.140086)scale(0.1 -0.1)\">\n       <defs>\n        <path d=\"M 1228 531 \nL 3431 531 \nL 3431 0 \nL 469 0 \nL 469 531 \nQ 828 903 1448 1529 \nQ 2069 2156 2228 2338 \nQ 2531 2678 2651 2914 \nQ 2772 3150 2772 3378 \nQ 2772 3750 2511 3984 \nQ 2250 4219 1831 4219 \nQ 1534 4219 1204 4116 \nQ 875 4013 500 3803 \nL 500 4441 \nQ 881 4594 1212 4672 \nQ 1544 4750 1819 4750 \nQ 2544 4750 2975 4387 \nQ 3406 4025 3406 3419 \nQ 3406 3131 3298 2873 \nQ 3191 2616 2906 2266 \nQ 2828 2175 2409 1742 \nQ 1991 1309 1228 531 \nz\n\" id=\"DejaVuSans-32\" transform=\"scale(0.015625)\"/>\n       </defs>\n       <use xlink:href=\"#DejaVuSans-30\"/>\n       <use x=\"63.623047\" xlink:href=\"#DejaVuSans-2e\"/>\n       <use x=\"95.410156\" xlink:href=\"#DejaVuSans-32\"/>\n      </g>\n     </g>\n    </g>\n    <g id=\"ytick_4\">\n     <g id=\"line2d_7\">\n      <g>\n       <use style=\"stroke:#000000;stroke-width:0.8;\" x=\"43.78125\" xlink:href=\"#m40edd07a2f\" y=\"162.632238\"/>\n      </g>\n     </g>\n     <g id=\"text_8\">\n      <!-- 0.3 -->\n      <g transform=\"translate(20.878125 166.431457)scale(0.1 -0.1)\">\n       <defs>\n        <path d=\"M 2597 2516 \nQ 3050 2419 3304 2112 \nQ 3559 1806 3559 1356 \nQ 3559 666 3084 287 \nQ 2609 -91 1734 -91 \nQ 1441 -91 1130 -33 \nQ 819 25 488 141 \nL 488 750 \nQ 750 597 1062 519 \nQ 1375 441 1716 441 \nQ 2309 441 2620 675 \nQ 2931 909 2931 1356 \nQ 2931 1769 2642 2001 \nQ 2353 2234 1838 2234 \nL 1294 2234 \nL 1294 2753 \nL 1863 2753 \nQ 2328 2753 2575 2939 \nQ 2822 3125 2822 3475 \nQ 2822 3834 2567 4026 \nQ 2313 4219 1838 4219 \nQ 1578 4219 1281 4162 \nQ 984 4106 628 3988 \nL 628 4550 \nQ 988 4650 1302 4700 \nQ 1616 4750 1894 4750 \nQ 2613 4750 3031 4423 \nQ 3450 4097 3450 3541 \nQ 3450 3153 3228 2886 \nQ 3006 2619 2597 2516 \nz\n\" id=\"DejaVuSans-33\" transform=\"scale(0.015625)\"/>\n       </defs>\n       <use xlink:href=\"#DejaVuSans-30\"/>\n       <use x=\"63.623047\" xlink:href=\"#DejaVuSans-2e\"/>\n       <use x=\"95.410156\" xlink:href=\"#DejaVuSans-33\"/>\n      </g>\n     </g>\n    </g>\n    <g id=\"ytick_5\">\n     <g id=\"line2d_8\">\n      <g>\n       <use style=\"stroke:#000000;stroke-width:0.8;\" x=\"43.78125\" xlink:href=\"#m40edd07a2f\" y=\"136.923609\"/>\n      </g>\n     </g>\n     <g id=\"text_9\">\n      <!-- 0.4 -->\n      <g transform=\"translate(20.878125 140.722828)scale(0.1 -0.1)\">\n       <defs>\n        <path d=\"M 2419 4116 \nL 825 1625 \nL 2419 1625 \nL 2419 4116 \nz\nM 2253 4666 \nL 3047 4666 \nL 3047 1625 \nL 3713 1625 \nL 3713 1100 \nL 3047 1100 \nL 3047 0 \nL 2419 0 \nL 2419 1100 \nL 313 1100 \nL 313 1709 \nL 2253 4666 \nz\n\" id=\"DejaVuSans-34\" transform=\"scale(0.015625)\"/>\n       </defs>\n       <use xlink:href=\"#DejaVuSans-30\"/>\n       <use x=\"63.623047\" xlink:href=\"#DejaVuSans-2e\"/>\n       <use x=\"95.410156\" xlink:href=\"#DejaVuSans-34\"/>\n      </g>\n     </g>\n    </g>\n    <g id=\"ytick_6\">\n     <g id=\"line2d_9\">\n      <g>\n       <use style=\"stroke:#000000;stroke-width:0.8;\" x=\"43.78125\" xlink:href=\"#m40edd07a2f\" y=\"111.21498\"/>\n      </g>\n     </g>\n     <g id=\"text_10\">\n      <!-- 0.5 -->\n      <g transform=\"translate(20.878125 115.014199)scale(0.1 -0.1)\">\n       <defs>\n        <path d=\"M 691 4666 \nL 3169 4666 \nL 3169 4134 \nL 1269 4134 \nL 1269 2991 \nQ 1406 3038 1543 3061 \nQ 1681 3084 1819 3084 \nQ 2600 3084 3056 2656 \nQ 3513 2228 3513 1497 \nQ 3513 744 3044 326 \nQ 2575 -91 1722 -91 \nQ 1428 -91 1123 -41 \nQ 819 9 494 109 \nL 494 744 \nQ 775 591 1075 516 \nQ 1375 441 1709 441 \nQ 2250 441 2565 725 \nQ 2881 1009 2881 1497 \nQ 2881 1984 2565 2268 \nQ 2250 2553 1709 2553 \nQ 1456 2553 1204 2497 \nQ 953 2441 691 2322 \nL 691 4666 \nz\n\" id=\"DejaVuSans-35\" transform=\"scale(0.015625)\"/>\n       </defs>\n       <use xlink:href=\"#DejaVuSans-30\"/>\n       <use x=\"63.623047\" xlink:href=\"#DejaVuSans-2e\"/>\n       <use x=\"95.410156\" xlink:href=\"#DejaVuSans-35\"/>\n      </g>\n     </g>\n    </g>\n    <g id=\"ytick_7\">\n     <g id=\"line2d_10\">\n      <g>\n       <use style=\"stroke:#000000;stroke-width:0.8;\" x=\"43.78125\" xlink:href=\"#m40edd07a2f\" y=\"85.506352\"/>\n      </g>\n     </g>\n     <g id=\"text_11\">\n      <!-- 0.6 -->\n      <g transform=\"translate(20.878125 89.30557)scale(0.1 -0.1)\">\n       <defs>\n        <path d=\"M 2113 2584 \nQ 1688 2584 1439 2293 \nQ 1191 2003 1191 1497 \nQ 1191 994 1439 701 \nQ 1688 409 2113 409 \nQ 2538 409 2786 701 \nQ 3034 994 3034 1497 \nQ 3034 2003 2786 2293 \nQ 2538 2584 2113 2584 \nz\nM 3366 4563 \nL 3366 3988 \nQ 3128 4100 2886 4159 \nQ 2644 4219 2406 4219 \nQ 1781 4219 1451 3797 \nQ 1122 3375 1075 2522 \nQ 1259 2794 1537 2939 \nQ 1816 3084 2150 3084 \nQ 2853 3084 3261 2657 \nQ 3669 2231 3669 1497 \nQ 3669 778 3244 343 \nQ 2819 -91 2113 -91 \nQ 1303 -91 875 529 \nQ 447 1150 447 2328 \nQ 447 3434 972 4092 \nQ 1497 4750 2381 4750 \nQ 2619 4750 2861 4703 \nQ 3103 4656 3366 4563 \nz\n\" id=\"DejaVuSans-36\" transform=\"scale(0.015625)\"/>\n       </defs>\n       <use xlink:href=\"#DejaVuSans-30\"/>\n       <use x=\"63.623047\" xlink:href=\"#DejaVuSans-2e\"/>\n       <use x=\"95.410156\" xlink:href=\"#DejaVuSans-36\"/>\n      </g>\n     </g>\n    </g>\n    <g id=\"ytick_8\">\n     <g id=\"line2d_11\">\n      <g>\n       <use style=\"stroke:#000000;stroke-width:0.8;\" x=\"43.78125\" xlink:href=\"#m40edd07a2f\" y=\"59.797723\"/>\n      </g>\n     </g>\n     <g id=\"text_12\">\n      <!-- 0.7 -->\n      <g transform=\"translate(20.878125 63.596941)scale(0.1 -0.1)\">\n       <use xlink:href=\"#DejaVuSans-30\"/>\n       <use x=\"63.623047\" xlink:href=\"#DejaVuSans-2e\"/>\n       <use x=\"95.410156\" xlink:href=\"#DejaVuSans-37\"/>\n      </g>\n     </g>\n    </g>\n    <g id=\"ytick_9\">\n     <g id=\"line2d_12\">\n      <g>\n       <use style=\"stroke:#000000;stroke-width:0.8;\" x=\"43.78125\" xlink:href=\"#m40edd07a2f\" y=\"34.089094\"/>\n      </g>\n     </g>\n     <g id=\"text_13\">\n      <!-- 0.8 -->\n      <g transform=\"translate(20.878125 37.888312)scale(0.1 -0.1)\">\n       <use xlink:href=\"#DejaVuSans-30\"/>\n       <use x=\"63.623047\" xlink:href=\"#DejaVuSans-2e\"/>\n       <use x=\"95.410156\" xlink:href=\"#DejaVuSans-38\"/>\n      </g>\n     </g>\n    </g>\n    <g id=\"text_14\">\n     <!-- percentage in all segments -->\n     <g transform=\"translate(14.798438 199.204531)rotate(-90)scale(0.1 -0.1)\">\n      <defs>\n       <path d=\"M 1159 525 \nL 1159 -1331 \nL 581 -1331 \nL 581 3500 \nL 1159 3500 \nL 1159 2969 \nQ 1341 3281 1617 3432 \nQ 1894 3584 2278 3584 \nQ 2916 3584 3314 3078 \nQ 3713 2572 3713 1747 \nQ 3713 922 3314 415 \nQ 2916 -91 2278 -91 \nQ 1894 -91 1617 61 \nQ 1341 213 1159 525 \nz\nM 3116 1747 \nQ 3116 2381 2855 2742 \nQ 2594 3103 2138 3103 \nQ 1681 3103 1420 2742 \nQ 1159 2381 1159 1747 \nQ 1159 1113 1420 752 \nQ 1681 391 2138 391 \nQ 2594 391 2855 752 \nQ 3116 1113 3116 1747 \nz\n\" id=\"DejaVuSans-70\" transform=\"scale(0.015625)\"/>\n       <path d=\"M 2906 1791 \nQ 2906 2416 2648 2759 \nQ 2391 3103 1925 3103 \nQ 1463 3103 1205 2759 \nQ 947 2416 947 1791 \nQ 947 1169 1205 825 \nQ 1463 481 1925 481 \nQ 2391 481 2648 825 \nQ 2906 1169 2906 1791 \nz\nM 3481 434 \nQ 3481 -459 3084 -895 \nQ 2688 -1331 1869 -1331 \nQ 1566 -1331 1297 -1286 \nQ 1028 -1241 775 -1147 \nL 775 -588 \nQ 1028 -725 1275 -790 \nQ 1522 -856 1778 -856 \nQ 2344 -856 2625 -561 \nQ 2906 -266 2906 331 \nL 2906 616 \nQ 2728 306 2450 153 \nQ 2172 0 1784 0 \nQ 1141 0 747 490 \nQ 353 981 353 1791 \nQ 353 2603 747 3093 \nQ 1141 3584 1784 3584 \nQ 2172 3584 2450 3431 \nQ 2728 3278 2906 2969 \nL 2906 3500 \nL 3481 3500 \nL 3481 434 \nz\n\" id=\"DejaVuSans-67\" transform=\"scale(0.015625)\"/>\n       <path d=\"M 603 4863 \nL 1178 4863 \nL 1178 0 \nL 603 0 \nL 603 4863 \nz\n\" id=\"DejaVuSans-6c\" transform=\"scale(0.015625)\"/>\n       <path d=\"M 2834 3397 \nL 2834 2853 \nQ 2591 2978 2328 3040 \nQ 2066 3103 1784 3103 \nQ 1356 3103 1142 2972 \nQ 928 2841 928 2578 \nQ 928 2378 1081 2264 \nQ 1234 2150 1697 2047 \nL 1894 2003 \nQ 2506 1872 2764 1633 \nQ 3022 1394 3022 966 \nQ 3022 478 2636 193 \nQ 2250 -91 1575 -91 \nQ 1294 -91 989 -36 \nQ 684 19 347 128 \nL 347 722 \nQ 666 556 975 473 \nQ 1284 391 1588 391 \nQ 1994 391 2212 530 \nQ 2431 669 2431 922 \nQ 2431 1156 2273 1281 \nQ 2116 1406 1581 1522 \nL 1381 1569 \nQ 847 1681 609 1914 \nQ 372 2147 372 2553 \nQ 372 3047 722 3315 \nQ 1072 3584 1716 3584 \nQ 2034 3584 2315 3537 \nQ 2597 3491 2834 3397 \nz\n\" id=\"DejaVuSans-73\" transform=\"scale(0.015625)\"/>\n      </defs>\n      <use xlink:href=\"#DejaVuSans-70\"/>\n      <use x=\"63.476562\" xlink:href=\"#DejaVuSans-65\"/>\n      <use x=\"125\" xlink:href=\"#DejaVuSans-72\"/>\n      <use x=\"163.863281\" xlink:href=\"#DejaVuSans-63\"/>\n      <use x=\"218.84375\" xlink:href=\"#DejaVuSans-65\"/>\n      <use x=\"280.367188\" xlink:href=\"#DejaVuSans-6e\"/>\n      <use x=\"343.746094\" xlink:href=\"#DejaVuSans-74\"/>\n      <use x=\"382.955078\" xlink:href=\"#DejaVuSans-61\"/>\n      <use x=\"444.234375\" xlink:href=\"#DejaVuSans-67\"/>\n      <use x=\"507.710938\" xlink:href=\"#DejaVuSans-65\"/>\n      <use x=\"569.234375\" xlink:href=\"#DejaVuSans-20\"/>\n      <use x=\"601.021484\" xlink:href=\"#DejaVuSans-69\"/>\n      <use x=\"628.804688\" xlink:href=\"#DejaVuSans-6e\"/>\n      <use x=\"692.183594\" xlink:href=\"#DejaVuSans-20\"/>\n      <use x=\"723.970703\" xlink:href=\"#DejaVuSans-61\"/>\n      <use x=\"785.25\" xlink:href=\"#DejaVuSans-6c\"/>\n      <use x=\"813.033203\" xlink:href=\"#DejaVuSans-6c\"/>\n      <use x=\"840.816406\" xlink:href=\"#DejaVuSans-20\"/>\n      <use x=\"872.603516\" xlink:href=\"#DejaVuSans-73\"/>\n      <use x=\"924.703125\" xlink:href=\"#DejaVuSans-65\"/>\n      <use x=\"986.226562\" xlink:href=\"#DejaVuSans-67\"/>\n      <use x=\"1049.703125\" xlink:href=\"#DejaVuSans-6d\"/>\n      <use x=\"1147.115234\" xlink:href=\"#DejaVuSans-65\"/>\n      <use x=\"1208.638672\" xlink:href=\"#DejaVuSans-6e\"/>\n      <use x=\"1272.017578\" xlink:href=\"#DejaVuSans-74\"/>\n      <use x=\"1311.226562\" xlink:href=\"#DejaVuSans-73\"/>\n     </g>\n    </g>\n   </g>\n   <g id=\"patch_6\">\n    <path d=\"M 43.78125 239.758125 \nL 43.78125 22.318125 \n\" style=\"fill:none;stroke:#000000;stroke-linecap:square;stroke-linejoin:miter;stroke-width:0.8;\"/>\n   </g>\n   <g id=\"patch_7\">\n    <path d=\"M 378.58125 239.758125 \nL 378.58125 22.318125 \n\" style=\"fill:none;stroke:#000000;stroke-linecap:square;stroke-linejoin:miter;stroke-width:0.8;\"/>\n   </g>\n   <g id=\"patch_8\">\n    <path d=\"M 43.78125 239.758125 \nL 378.58125 239.758125 \n\" style=\"fill:none;stroke:#000000;stroke-linecap:square;stroke-linejoin:miter;stroke-width:0.8;\"/>\n   </g>\n   <g id=\"patch_9\">\n    <path d=\"M 43.78125 22.318125 \nL 378.58125 22.318125 \n\" style=\"fill:none;stroke:#000000;stroke-linecap:square;stroke-linejoin:miter;stroke-width:0.8;\"/>\n   </g>\n   <g id=\"text_15\">\n    <!-- Clustering results -->\n    <g transform=\"translate(158.604375 16.318125)scale(0.12 -0.12)\">\n     <defs>\n      <path d=\"M 4122 4306 \nL 4122 3641 \nQ 3803 3938 3442 4084 \nQ 3081 4231 2675 4231 \nQ 1875 4231 1450 3742 \nQ 1025 3253 1025 2328 \nQ 1025 1406 1450 917 \nQ 1875 428 2675 428 \nQ 3081 428 3442 575 \nQ 3803 722 4122 1019 \nL 4122 359 \nQ 3791 134 3420 21 \nQ 3050 -91 2638 -91 \nQ 1578 -91 968 557 \nQ 359 1206 359 2328 \nQ 359 3453 968 4101 \nQ 1578 4750 2638 4750 \nQ 3056 4750 3426 4639 \nQ 3797 4528 4122 4306 \nz\n\" id=\"DejaVuSans-43\" transform=\"scale(0.015625)\"/>\n      <path d=\"M 544 1381 \nL 544 3500 \nL 1119 3500 \nL 1119 1403 \nQ 1119 906 1312 657 \nQ 1506 409 1894 409 \nQ 2359 409 2629 706 \nQ 2900 1003 2900 1516 \nL 2900 3500 \nL 3475 3500 \nL 3475 0 \nL 2900 0 \nL 2900 538 \nQ 2691 219 2414 64 \nQ 2138 -91 1772 -91 \nQ 1169 -91 856 284 \nQ 544 659 544 1381 \nz\nM 1991 3584 \nL 1991 3584 \nz\n\" id=\"DejaVuSans-75\" transform=\"scale(0.015625)\"/>\n     </defs>\n     <use xlink:href=\"#DejaVuSans-43\"/>\n     <use x=\"69.824219\" xlink:href=\"#DejaVuSans-6c\"/>\n     <use x=\"97.607422\" xlink:href=\"#DejaVuSans-75\"/>\n     <use x=\"160.986328\" xlink:href=\"#DejaVuSans-73\"/>\n     <use x=\"213.085938\" xlink:href=\"#DejaVuSans-74\"/>\n     <use x=\"252.294922\" xlink:href=\"#DejaVuSans-65\"/>\n     <use x=\"313.818359\" xlink:href=\"#DejaVuSans-72\"/>\n     <use x=\"354.931641\" xlink:href=\"#DejaVuSans-69\"/>\n     <use x=\"382.714844\" xlink:href=\"#DejaVuSans-6e\"/>\n     <use x=\"446.09375\" xlink:href=\"#DejaVuSans-67\"/>\n     <use x=\"509.570312\" xlink:href=\"#DejaVuSans-20\"/>\n     <use x=\"541.357422\" xlink:href=\"#DejaVuSans-72\"/>\n     <use x=\"580.220703\" xlink:href=\"#DejaVuSans-65\"/>\n     <use x=\"641.744141\" xlink:href=\"#DejaVuSans-73\"/>\n     <use x=\"693.84375\" xlink:href=\"#DejaVuSans-75\"/>\n     <use x=\"757.222656\" xlink:href=\"#DejaVuSans-6c\"/>\n     <use x=\"785.005859\" xlink:href=\"#DejaVuSans-74\"/>\n     <use x=\"824.214844\" xlink:href=\"#DejaVuSans-73\"/>\n    </g>\n   </g>\n  </g>\n </g>\n <defs>\n  <clipPath id=\"pd5d2d04653\">\n   <rect height=\"217.44\" width=\"334.8\" x=\"43.78125\" y=\"22.318125\"/>\n  </clipPath>\n </defs>\n</svg>\n",
      "image/png": "[encoded data removed]"
     },
     "metadata": {
      "needs_background": "light"
     }
    }
   ],
   "source": [
    "idx=[0, 1, 2]\n",
    "threshold_list=[0.7, 0.8, 0.9]\n",
    "values=[0.8055105348460292, 0.6855753646677472, 0.5656401944894651]\n",
    "plt.bar(idx, values, color='g', width=0.3)\n",
    "plt.xticks(idx, threshold_list)\n",
    "plt.xlabel(\"dominance ratio\")\n",
    "plt.ylabel(\"percentage in all segments\")\n",
    "plt.title(\"Clustering results\")\n",
    "plt.show()"
   ]
  },
  {
   "cell_type": "code",
   "execution_count": 72,
   "metadata": {},
   "outputs": [
    {
     "output_type": "stream",
     "name": "stdout",
     "text": [
      "[['M17' 'ON' '1226295097.99985' '1' '4']\n ['M14' 'OFF' '1226295098.907769' '1' '4']\n ['M16' 'ON' '1226295099.334769' '1' '4']\n ['M16' 'OFF' '1226295100.713119' '1' '4']\n ['M15' 'OFF' '1226295102.586849' '1' '4']\n ['M17' 'OFF' '1226295103.06487' '1' '4']\n ['M15' 'ON' '1226295141.468899' '2' '3']\n ['M16' 'ON' '1226295142.424679' '2' '3']\n ['M17' 'ON' '1226295143.805299' '1' '1']]\n[['M17' 'OFF' '1226295144.78128' '1' '1']\n ['M16' 'OFF' '1226295145.08505' '1' '1']\n ['M15' 'OFF' '1226295145.383899' '1' '1']\n ['M17' 'ON' '1226295189.865099' '1' '1']\n ['I6' 'PRESENT' '1226295191.57974' '1' '1']\n ['M17' 'OFF' '1226295192.051889' '1' '1']]\n[['M17' 'ON' '1226295195.754509' '1' '1']\n ['M17' 'OFF' '1226295198.044519' '1' '1']\n ['M26' 'ON' '1226295198.363039' '1' '1']\n ['M17' 'ON' '1226295201.012619' '1' '1']\n ['I4' 'PRESENT' '1226295202.2011' '1' '1']\n ['I4' 'ABSENT' '1226295204.046519' '1' '1']\n ['I4' 'PRESENT' '1226295204.66789' '1' '1']\n ['M17' 'OFF' '1226295206.194999' '1' '1']\n ['M26' 'OFF' '1226295206.933049' '1' '1']]\n[['M21' 'OFF' '1226295332.48601' '1' '6']\n ['M51' 'ON' '1226295333.37483' '1' '6']\n ['M26' 'OFF' '1226295333.6015' '1' '6']\n ['M19' 'OFF' '1226295334.97404' '1' '6']\n ['M18' 'OFF' '1226295335.83621' '2' '7']\n ['D11' 'OPEN' '1226295336.544909' '2' '7']\n ['M22' 'OFF' '1226295341.108979' '1' '6']\n ['M15' 'ON' '1226295346.4284' '1' '6']\n ['M16' 'OFF' '1226295348.145699' '1' '6']\n ['M17' 'ON' '1226295349.42596' '1' '6']\n ['M51' 'ON' '1226295349.94859' '2' '7']\n ['M15' 'OFF' '1226295350.9293' '1' '6']\n ['M17' 'OFF' '1226295351.394239' '1' '6']]\n[['M17' 'OFF' '1226295351.632289' '1' '6']\n ['D11' 'CLOSE' '1226295352.753309' '2' '7']\n ['M17' 'ON' '1226295355.3873' '2' '7']\n ['M16' 'ON' '1226295357.44261' '2' '7']\n ['M15' 'ON' '1226295357.7406' '2' '7']\n ['D11' 'CLOSE' '1226295358.21911' '2' '7']\n ['M17' 'OFF' '1226295359.26007' '2' '7']]\n[['M51' 'OFF' '1226295378.29345' '1' '6']\n ['M17' 'ON' '1226295379.14347' '1' '6']\n ['M16' 'OFF' '1226295379.788079' '1' '6']\n ['M15' 'OFF' '1226295380.10749' '1' '6']\n ['M19' 'ON' '1226295380.7107' '12' '67']]\n[['M51' 'ON' '1226295381.01482' '12' '67']\n ['M17' 'OFF' '1226295381.62331' '1' '6']\n ['M19' 'OFF' '1226295383.083709' '12' '67']\n ['M51' 'OFF' '1226295385.008009' '12' '67']\n ['M51' 'ON' '1226295385.7081' '1' '6']\n ['M51' 'OFF' '1226295389.9298' '1' '6']]\n[['M51' 'ON' '1226295391.788269' '1' '6']\n ['M19' 'ON' '1226295392.405119' '12' '67']\n ['M17' 'ON' '1226295395.84996' '12' '67']\n ['M51' 'OFF' '1226295397.72826' '1' '6']\n ['M17' 'OFF' '1226295399.22831' '1' '6']\n ['M18' 'OFF' '1226295399.64422' '1' '6']\n ['M18' 'ON' '1226295400.697619' '1' '6']\n ['M17' 'ON' '1226295403.882639' '1' '6']\n ['M16' 'ON' '1226295405.075469' '1' '6']]\n[['M15' 'ON' '1226295406.02532' '1' '6']\n ['M18' 'OFF' '1226295406.265419' '1' '6']\n ['M16' 'OFF' '1226295407.218679' '1' '6']\n ['M17' 'OFF' '1226295408.288969' '1' '6']\n ['M19' 'OFF' '1226295408.503449' '1' '6']\n ['M18' 'ON' '1226295408.90491' '1' '6']]\n[['M16' 'ON' '1226295445.11626' '1' '9']\n ['M17' 'OFF' '1226295447.702559' '1' '9']\n ['M16' 'OFF' '1226295448.80534' '1' '9']\n ['M17' 'ON' '1226295451.353369' '2' '7']\n ['M18' 'ON' '1226295467.803319' '1' '9']\n ['M17' 'OFF' '1226295470.667979' '1' '9']\n ['M51' 'ON' '1226295474.12278' '2' '7']]\n"
     ]
    }
   ],
   "source": [
    "d_threshold=0.7\n",
    "\n",
    "first_=[]\n",
    "\n",
    "for i, item in enumerate(bucket_A):\n",
    "\n",
    "    user_cnt=Counter(np.array(item)[:,3])\n",
    "    ratio_1=(user_cnt['1']+user_cnt['12']+user_cnt['21']+user_cnt['11'])/sum(user_cnt.values())\n",
    "    ratio_2=(user_cnt['2']+user_cnt['12']+user_cnt['21']+user_cnt['22'])/sum(user_cnt.values())\n",
    "    if ratio_1>d_threshold or ratio_2>d_threshold:\n",
    "        first_.append(item)\n",
    "\n",
    "for i, item in enumerate(first_):\n",
    "    if i==10:\n",
    "        break\n",
    "    # task_cnt=Counter(np.array(item)[:,4])\n",
    "    # print(task_cnt)\n",
    "    print(np.array(item))"
   ]
  },
  {
   "cell_type": "code",
   "execution_count": 87,
   "metadata": {},
   "outputs": [
    {
     "output_type": "stream",
     "name": "stdout",
     "text": [
      "0.5294117647058824 0.6264505802320929\n"
     ]
    }
   ],
   "source": [
    "tuA=Counter(np.array(online_group_A)[:,3])\n",
    "ratio_a1=(tuA['1']+tuA['12']+tuA['21']+tuA['11'])/sum(tuA.values())\n",
    "ratio_a2=(tuA['2']+tuA['12']+tuA['21']+tuA['22'])/sum(tuA.values())\n",
    "\n",
    "tuB=Counter(np.array(online_group_B)[:,3])\n",
    "ratio_b1=(tuB['1']+tuB['12']+tuB['21']+tuB['11'])/sum(tuB.values())\n",
    "ratio_b2=(tuB['2']+tuB['12']+tuB['21']+tuB['22'])/sum(tuB.values())\n",
    "\n",
    "avg_1=ratio_a1*sum(tuA.values())+ratio_b1*sum(tuB.values())\n",
    "avg_1/=(sum(tuA.values())+sum(tuB.values()))\n",
    "\n",
    "avg_2=ratio_a2*sum(tuA.values())+ratio_b2*sum(tuB.values())\n",
    "avg_2/=(sum(tuA.values())+sum(tuB.values()))\n",
    "\n",
    "print(avg_1, avg_2)"
   ]
  },
  {
   "cell_type": "code",
   "execution_count": 11,
   "metadata": {},
   "outputs": [],
   "source": [
    "trans_time=[]\n",
    "raw_=event_dict['adlmr']\n",
    "# print(len(event_dict['adlmr']), len(trans_dict['adlmr']))\n",
    "for idx in trans_dict['adlmr']:\n",
    "    trans_time.append(raw_[idx][2])\n",
    "# print(trans_time[:10])"
   ]
  },
  {
   "cell_type": "code",
   "execution_count": 12,
   "metadata": {},
   "outputs": [
    {
     "output_type": "stream",
     "name": "stdout",
     "text": [
      "423\n0.7356521739130435\n89 105\n89 105\n"
     ]
    }
   ],
   "source": [
    "cnt=0\n",
    "interval=30\n",
    "false_idx_A=[]\n",
    "false_seg_A=[]\n",
    "for i, segment in enumerate(bucket_A):\n",
    "    ft, lt=segment[0][2], segment[-1][2]\n",
    "    if (abs(np.array(trans_time)-ft)<interval).sum()!=0:\n",
    "        cnt+=1\n",
    "    elif (abs(np.array(trans_time)-lt)<interval).sum()!=0:\n",
    "        cnt+=1\n",
    "    else:\n",
    "        false_seg_A.append(segment)\n",
    "        false_idx_A.append(i)\n",
    "\n",
    "false_idx_B=[]\n",
    "false_seg_B=[]\n",
    "for i, segment in enumerate(bucket_B):\n",
    "    ft, lt=segment[0][2], segment[-1][2]\n",
    "    if (abs(np.array(trans_time)-ft)<interval).sum()!=0:\n",
    "        cnt+=1\n",
    "    elif (abs(np.array(trans_time)-lt)<interval).sum()!=0:\n",
    "        cnt+=1\n",
    "    else:\n",
    "        false_seg_B.append(segment)\n",
    "        false_idx_B.append(i)\n",
    "\n",
    "print(cnt)\n",
    "print(cnt/len(trans_time))\n",
    "print(len(false_seg_A), len(false_seg_B))\n",
    "print(len(false_idx_A), len(false_idx_B))"
   ]
  },
  {
   "cell_type": "code",
   "execution_count": 5,
   "metadata": {},
   "outputs": [],
   "source": [
    "with open('./save/online_A_dict','rb') as f:\n",
    "    dictA=pkl.load(f)\n",
    "with open('./save/online_B_dict','rb') as f:\n",
    "    dictB=pkl.load(f)\n",
    "\n",
    "wbtA=dictA['wbt']; wtA=dictA['wt']; watA=dictA['wat']; fbA=dictA['fb']; fA=dictA['f']; faA=dictA['fa']\n",
    "wbtB=dictB['wbt']; wtB=dictB['wt']; watB=dictB['wat']; fbB=dictB['fb']; fB=dictB['f']; faB=dictB['fa']"
   ]
  },
  {
   "cell_type": "code",
   "execution_count": 23,
   "metadata": {},
   "outputs": [
    {
     "output_type": "execute_result",
     "data": {
      "text/plain": [
       "[[['M7', 'OFF', 1226393506.438179, '21', '1313'],\n",
       "  ['M7', 'ON', 1226393506.91012, '21', '1313'],\n",
       "  ['M6', 'OFF', 1226393508.21199, '21', '1313'],\n",
       "  ['M6', 'ON', 1226393510.111639, '21', '1313'],\n",
       "  ['M8', 'OFF', 1226393511.548, '21', '1313'],\n",
       "  ['M7', 'OFF', 1226393512.20911, '21', '1313'],\n",
       "  ['M6', 'OFF', 1226393513.99263, '21', '1313'],\n",
       "  ['M6', 'ON', 1226393517.12856, '21', '1313'],\n",
       "  ['M6', 'OFF', 1226393521.978319, '21', '1313'],\n",
       "  ['M6', 'ON', 1226393523.952589, '21', '1313'],\n",
       "  ['M9', 'ON', 1226393525.72529, '21', '1313']],\n",
       " [['M6', 'OFF', 1226393526.24568, '21', '1313'],\n",
       "  ['M9', 'OFF', 1226393527.602989, '21', '1313'],\n",
       "  ['M6', 'ON', 1226393537.32766, '21', '1313'],\n",
       "  ['M6', 'OFF', 1226393539.122529, '21', '1313'],\n",
       "  ['M6', 'ON', 1226393540.62804, '21', '1313'],\n",
       "  ['M10', 'ON', 1226393543.335489, '21', '1313']],\n",
       " [['M6', 'OFF', 1226393543.872639, '21', '1313'],\n",
       "  ['M10', 'OFF', 1226393547.712579, '12', '1313'],\n",
       "  ['M10', 'ON', 1226393563.08344, '12', '1313'],\n",
       "  ['M6', 'ON', 1226393563.7927, '21', '1313'],\n",
       "  ['M10', 'OFF', 1226393564.31167, '12', '1313'],\n",
       "  ['M9', 'ON', 1226393567.441699, '21', '1313']],\n",
       " [['M6', 'OFF', 1226393568.93249, '21', '1313'],\n",
       "  ['M9', 'OFF', 1226393569.191809, '21', '1313'],\n",
       "  ['M7', 'ON', 1226393596.62837, '21', '1313'],\n",
       "  ['M6', 'ON', 1226393597.163079, '21', '1313'],\n",
       "  ['M7', 'OFF', 1226393598.10274, '21', '1313'],\n",
       "  ['M6', 'OFF', 1226393599.261679, '21', '1313']],\n",
       " [['M7', 'ON', 1226393599.78151, '21', '1313'],\n",
       "  ['M7', 'OFF', 1226393601.318819, '21', '1313'],\n",
       "  ['M7', 'ON', 1226393603.2026, '21', '1313'],\n",
       "  ['M9', 'ON', 1226393604.38153, '21', '1313'],\n",
       "  ['M7', 'OFF', 1226393604.99811, '21', '1313'],\n",
       "  ['M9', 'OFF', 1226393606.138099, '21', '1313'],\n",
       "  ['M6', 'ON', 1226393669.09171, '21', '1313']]]"
      ]
     },
     "metadata": {},
     "execution_count": 23
    }
   ],
   "source": [
    "false_seg_A[34:39]"
   ]
  },
  {
   "cell_type": "code",
   "execution_count": 24,
   "metadata": {},
   "outputs": [
    {
     "output_type": "stream",
     "name": "stdout",
     "text": [
      "913\n",
      "['M7', 'OFF', 1226393506.438179, '21', '1313']\n",
      "Similarity (Kernel center and numer)\n",
      "[[1.00000000e+00 7.63972774e-17]\n",
      " [7.63972774e-17 1.00000000e+00]]\n",
      "Similarity (Kernel center and denom)\n",
      "[[7.63972774e-17 1.00000000e+00]\n",
      " [1.67523556e-16 8.05422963e-01]]\n",
      "0.45190393150767033\n",
      "0.45190393150767033\n",
      "924\n",
      "['M6', 'OFF', 1226393526.24568, '21', '1313']\n",
      "Similarity (Kernel center and numer)\n",
      "[[5.78980674e-04 1.00000000e+00]\n",
      " [1.00000000e+00 5.78980674e-04]]\n",
      "Similarity (Kernel center and denom)\n",
      "[[1.00000000e+00 5.78980674e-04]\n",
      " [5.22324289e-01 1.25771950e-03]]\n",
      "0.4514425601921361\n",
      "0.4514425601921361\n",
      "930\n",
      "['M6', 'OFF', 1226393543.872639, '21', '1313']\n",
      "Similarity (Kernel center and numer)\n",
      "[[1.00000000e+00 1.64352933e-14]\n",
      " [1.64352933e-14 1.00000000e+00]]\n",
      "Similarity (Kernel center and denom)\n",
      "[[1.64352933e-14 1.00000000e+00]\n",
      " [1.02963812e-13 2.30244408e-01]]\n",
      "0.45125042970442036\n",
      "0.45125042970442036\n",
      "936\n",
      "['M6', 'OFF', 1226393568.93249, '21', '1313']\n",
      "Similarity (Kernel center and numer)\n",
      "[[1.00000000e+00 1.30677318e-04]\n",
      " [1.30677318e-04 1.00000000e+00]]\n",
      "Similarity (Kernel center and denom)\n",
      "[[1.30677318e-04 1.00000000e+00]\n",
      " [6.59718777e-05 4.81374266e-01]]\n",
      "0.45143802443273545\n",
      "0.45143802443273545\n",
      "942\n",
      "['M7', 'ON', 1226393599.78151, '21', '1313']\n",
      "Similarity (Kernel center and numer)\n",
      "[[0.17491831 1.        ]\n",
      " [1.         0.17491831]]\n",
      "Similarity (Kernel center and denom)\n",
      "[[1.         0.17491831]\n",
      " [0.17710092 0.94605413]]\n",
      "0.31943579080182827\n",
      "0.31943579080182827\n"
     ]
    }
   ],
   "source": [
    "target_seg=false_seg_A[34:39]\n",
    "target_idx=false_idx_A[34:39]\n",
    "check=[peaks_A[item] for item in target_idx]\n",
    "# fb_target=[fbA[item] for item in check]\n",
    "# f_target=[fA[item] for item in check]\n",
    "# fa_target=[faA[item] for item in check]\n",
    "for item in check:\n",
    "    print(item)\n",
    "    print(online_group_A[item])\n",
    "    # print(np.array(fbA[item]))\n",
    "    # print(np.array(fA[item]))\n",
    "    # print(np.array(faA[item]))\n",
    "    # v_b, v_a=np.array([fbB[item], fB[item]]), np.array([fB[item], faB[item]])\n",
    "    v_b, v_a=np.array([fbA[item], fA[item]]), np.array([fA[item], faA[item]])\n",
    "    print(Densratio(x=v_b, y=v_a).SEPDiv)\n",
    "    # print(subscoreB[item])\n",
    "    print(subscoreA[item])\n",
    "# false_seg_B[75:80]\n",
    "# print([subscoreB[item] for item in check])"
   ]
  },
  {
   "cell_type": "code",
   "execution_count": 280,
   "metadata": {},
   "outputs": [
    {
     "output_type": "display_data",
     "data": {
      "text/plain": "<Figure size 432x288 with 1 Axes>",
      "image/svg+xml": "<?xml version=\"1.0\" encoding=\"utf-8\" standalone=\"no\"?>\n<!DOCTYPE svg PUBLIC \"-//W3C//DTD SVG 1.1//EN\"\n  \"http://www.w3.org/Graphics/SVG/1.1/DTD/svg11.dtd\">\n<svg height=\"248.518125pt\" version=\"1.1\" viewBox=\"0 0 374.131818 248.518125\" width=\"374.131818pt\" xmlns=\"http://www.w3.org/2000/svg\" xmlns:xlink=\"http://www.w3.org/1999/xlink\">\n <metadata>\n  <rdf:RDF xmlns:cc=\"http://creativecommons.org/ns#\" xmlns:dc=\"http://purl.org/dc/elements/1.1/\" xmlns:rdf=\"http://www.w3.org/1999/02/22-rdf-syntax-ns#\">\n   <cc:Work>\n    <dc:type rdf:resource=\"http://purl.org/dc/dcmitype/StillImage\"/>\n    <dc:date>2021-04-07T04:19:25.478196</dc:date>\n    <dc:format>image/svg+xml</dc:format>\n    <dc:creator>\n     <cc:Agent>\n      <dc:title>Matplotlib v3.4.1, https://matplotlib.org/</dc:title>\n     </cc:Agent>\n    </dc:creator>\n   </cc:Work>\n  </rdf:RDF>\n </metadata>\n <defs>\n  <style type=\"text/css\">*{stroke-linecap:butt;stroke-linejoin:round;}</style>\n </defs>\n <g id=\"figure_1\">\n  <g id=\"patch_1\">\n   <path d=\"M -0 248.518125 \nL 374.131818 248.518125 \nL 374.131818 0 \nL -0 0 \nz\n\" style=\"fill:none;\"/>\n  </g>\n  <g id=\"axes_1\">\n   <g id=\"patch_2\">\n    <path d=\"M 26.925 224.64 \nL 361.725 224.64 \nL 361.725 7.2 \nL 26.925 7.2 \nz\n\" style=\"fill:#ffffff;\"/>\n   </g>\n   <g id=\"PathCollection_1\">\n    <defs>\n     <path d=\"M 0 5 \nC 1.326016 5 2.597899 4.473168 3.535534 3.535534 \nC 4.473168 2.597899 5 1.326016 5 -0 \nC 5 -1.326016 4.473168 -2.597899 3.535534 -3.535534 \nC 2.597899 -4.473168 1.326016 -5 0 -5 \nC -1.326016 -5 -2.597899 -4.473168 -3.535534 -3.535534 \nC -4.473168 -2.597899 -5 -1.326016 -5 0 \nC -5 1.326016 -4.473168 2.597899 -3.535534 3.535534 \nC -2.597899 4.473168 -1.326016 5 0 5 \nz\n\" id=\"C0_0_bb34d70785\"/>\n    </defs>\n    <g clip-path=\"url(#pc746cb1d6f)\">\n     <use style=\"fill:#fde725;fill-opacity:0.7;stroke:#fde725;stroke-opacity:0.7;\" x=\"42.143182\" xlink:href=\"#C0_0_bb34d70785\" y=\"17.083636\"/>\n    </g>\n    <g clip-path=\"url(#pc746cb1d6f)\">\n     <use style=\"fill:#fde725;fill-opacity:0.7;stroke:#fde725;stroke-opacity:0.7;\" x=\"42.143182\" xlink:href=\"#C0_0_bb34d70785\" y=\"17.083636\"/>\n    </g>\n    <g clip-path=\"url(#pc746cb1d6f)\">\n     <use style=\"fill:#440154;fill-opacity:0.7;stroke:#440154;stroke-opacity:0.7;\" x=\"42.143182\" xlink:href=\"#C0_0_bb34d70785\" y=\"39.047273\"/>\n    </g>\n    <g clip-path=\"url(#pc746cb1d6f)\">\n     <use style=\"fill:#440154;fill-opacity:0.7;stroke:#440154;stroke-opacity:0.7;\" x=\"42.143182\" xlink:href=\"#C0_0_bb34d70785\" y=\"126.901818\"/>\n    </g>\n    <g clip-path=\"url(#pc746cb1d6f)\">\n     <use style=\"fill:#440154;fill-opacity:0.7;stroke:#440154;stroke-opacity:0.7;\" x=\"42.143182\" xlink:href=\"#C0_0_bb34d70785\" y=\"39.047273\"/>\n    </g>\n    <g clip-path=\"url(#pc746cb1d6f)\">\n     <use style=\"fill:#440154;fill-opacity:0.7;stroke:#440154;stroke-opacity:0.7;\" x=\"42.143182\" xlink:href=\"#C0_0_bb34d70785\" y=\"17.083636\"/>\n    </g>\n    <g clip-path=\"url(#pc746cb1d6f)\">\n     <use style=\"fill:#fde725;fill-opacity:0.7;stroke:#fde725;stroke-opacity:0.7;\" x=\"346.506818\" xlink:href=\"#C0_0_bb34d70785\" y=\"192.792727\"/>\n    </g>\n    <g clip-path=\"url(#pc746cb1d6f)\">\n     <use style=\"fill:#fde725;fill-opacity:0.7;stroke:#fde725;stroke-opacity:0.7;\" x=\"346.506818\" xlink:href=\"#C0_0_bb34d70785\" y=\"214.756364\"/>\n    </g>\n    <g clip-path=\"url(#pc746cb1d6f)\">\n     <use style=\"fill:#440154;fill-opacity:0.7;stroke:#440154;stroke-opacity:0.7;\" x=\"42.143182\" xlink:href=\"#C0_0_bb34d70785\" y=\"126.901818\"/>\n    </g>\n    <g clip-path=\"url(#pc746cb1d6f)\">\n     <use style=\"fill:#fde725;fill-opacity:0.7;stroke:#fde725;stroke-opacity:0.7;\" x=\"346.506818\" xlink:href=\"#C0_0_bb34d70785\" y=\"214.756364\"/>\n    </g>\n    <g clip-path=\"url(#pc746cb1d6f)\">\n     <use style=\"fill:#440154;fill-opacity:0.7;stroke:#440154;stroke-opacity:0.7;\" x=\"42.143182\" xlink:href=\"#C0_0_bb34d70785\" y=\"126.901818\"/>\n    </g>\n    <g clip-path=\"url(#pc746cb1d6f)\">\n     <use style=\"fill:#440154;fill-opacity:0.7;stroke:#440154;stroke-opacity:0.7;\" x=\"42.143182\" xlink:href=\"#C0_0_bb34d70785\" y=\"39.047273\"/>\n    </g>\n    <g clip-path=\"url(#pc746cb1d6f)\">\n     <use style=\"fill:#fde725;fill-opacity:0.7;stroke:#fde725;stroke-opacity:0.7;\" x=\"42.143182\" xlink:href=\"#C0_0_bb34d70785\" y=\"17.083636\"/>\n    </g>\n    <g clip-path=\"url(#pc746cb1d6f)\">\n     <use style=\"fill:#440154;fill-opacity:0.7;stroke:#440154;stroke-opacity:0.7;\" x=\"42.143182\" xlink:href=\"#C0_0_bb34d70785\" y=\"126.901818\"/>\n    </g>\n    <g clip-path=\"url(#pc746cb1d6f)\">\n     <use style=\"fill:#440154;fill-opacity:0.7;stroke:#440154;stroke-opacity:0.7;\" x=\"42.143182\" xlink:href=\"#C0_0_bb34d70785\" y=\"39.047273\"/>\n    </g>\n    <g clip-path=\"url(#pc746cb1d6f)\">\n     <use style=\"fill:#fde725;fill-opacity:0.7;stroke:#fde725;stroke-opacity:0.7;\" x=\"42.143182\" xlink:href=\"#C0_0_bb34d70785\" y=\"17.083636\"/>\n    </g>\n   </g>\n   <g id=\"PathCollection_2\">\n    <defs>\n     <path d=\"M 0 5 \nC 1.326016 5 2.597899 4.473168 3.535534 3.535534 \nC 4.473168 2.597899 5 1.326016 5 -0 \nC 5 -1.326016 4.473168 -2.597899 3.535534 -3.535534 \nC 2.597899 -4.473168 1.326016 -5 0 -5 \nC -1.326016 -5 -2.597899 -4.473168 -3.535534 -3.535534 \nC -4.473168 -2.597899 -5 -1.326016 -5 0 \nC -5 1.326016 -4.473168 2.597899 -3.535534 3.535534 \nC -2.597899 4.473168 -1.326016 5 0 5 \nz\n\" id=\"C1_0_aba3e42475\"/>\n    </defs>\n    <g clip-path=\"url(#pc746cb1d6f)\">\n     <use style=\"fill:#fde725;fill-opacity:0.7;stroke:#fde725;stroke-opacity:0.7;\" x=\"42.143182\" xlink:href=\"#C1_0_aba3e42475\" y=\"17.083636\"/>\n    </g>\n    <g clip-path=\"url(#pc746cb1d6f)\">\n     <use style=\"fill:#440154;fill-opacity:0.7;stroke:#440154;stroke-opacity:0.7;\" x=\"42.143182\" xlink:href=\"#C1_0_aba3e42475\" y=\"39.047273\"/>\n    </g>\n    <g clip-path=\"url(#pc746cb1d6f)\">\n     <use style=\"fill:#440154;fill-opacity:0.7;stroke:#440154;stroke-opacity:0.7;\" x=\"42.143182\" xlink:href=\"#C1_0_aba3e42475\" y=\"126.901818\"/>\n    </g>\n    <g clip-path=\"url(#pc746cb1d6f)\">\n     <use style=\"fill:#fde725;fill-opacity:0.7;stroke:#fde725;stroke-opacity:0.7;\" x=\"42.143182\" xlink:href=\"#C1_0_aba3e42475\" y=\"17.083636\"/>\n    </g>\n    <g clip-path=\"url(#pc746cb1d6f)\">\n     <use style=\"fill:#440154;fill-opacity:0.7;stroke:#440154;stroke-opacity:0.7;\" x=\"42.143182\" xlink:href=\"#C1_0_aba3e42475\" y=\"39.047273\"/>\n    </g>\n    <g clip-path=\"url(#pc746cb1d6f)\">\n     <use style=\"fill:#440154;fill-opacity:0.7;stroke:#440154;stroke-opacity:0.7;\" x=\"42.143182\" xlink:href=\"#C1_0_aba3e42475\" y=\"126.901818\"/>\n    </g>\n    <g clip-path=\"url(#pc746cb1d6f)\">\n     <use style=\"fill:#440154;fill-opacity:0.7;stroke:#440154;stroke-opacity:0.7;\" x=\"42.143182\" xlink:href=\"#C1_0_aba3e42475\" y=\"126.901818\"/>\n    </g>\n    <g clip-path=\"url(#pc746cb1d6f)\">\n     <use style=\"fill:#440154;fill-opacity:0.7;stroke:#440154;stroke-opacity:0.7;\" x=\"42.143182\" xlink:href=\"#C1_0_aba3e42475\" y=\"126.901818\"/>\n    </g>\n    <g clip-path=\"url(#pc746cb1d6f)\">\n     <use style=\"fill:#440154;fill-opacity:0.7;stroke:#440154;stroke-opacity:0.7;\" x=\"42.143182\" xlink:href=\"#C1_0_aba3e42475\" y=\"126.901818\"/>\n    </g>\n    <g clip-path=\"url(#pc746cb1d6f)\">\n     <use style=\"fill:#440154;fill-opacity:0.7;stroke:#440154;stroke-opacity:0.7;\" x=\"42.143182\" xlink:href=\"#C1_0_aba3e42475\" y=\"39.047273\"/>\n    </g>\n   </g>\n   <g id=\"matplotlib.axis_1\">\n    <g id=\"xtick_1\">\n     <g id=\"line2d_1\">\n      <defs>\n       <path d=\"M 0 0 \nL 0 3.5 \n\" id=\"m01b0dd2bae\" style=\"stroke:#000000;stroke-width:0.8;\"/>\n      </defs>\n      <g>\n       <use style=\"stroke:#000000;stroke-width:0.8;\" x=\"42.143182\" xlink:href=\"#m01b0dd2bae\" y=\"224.64\"/>\n      </g>\n     </g>\n     <g id=\"text_1\">\n      <!-- 38.0 -->\n      <g transform=\"translate(31.010369 239.238437)scale(0.1 -0.1)\">\n       <defs>\n        <path d=\"M 2597 2516 \nQ 3050 2419 3304 2112 \nQ 3559 1806 3559 1356 \nQ 3559 666 3084 287 \nQ 2609 -91 1734 -91 \nQ 1441 -91 1130 -33 \nQ 819 25 488 141 \nL 488 750 \nQ 750 597 1062 519 \nQ 1375 441 1716 441 \nQ 2309 441 2620 675 \nQ 2931 909 2931 1356 \nQ 2931 1769 2642 2001 \nQ 2353 2234 1838 2234 \nL 1294 2234 \nL 1294 2753 \nL 1863 2753 \nQ 2328 2753 2575 2939 \nQ 2822 3125 2822 3475 \nQ 2822 3834 2567 4026 \nQ 2313 4219 1838 4219 \nQ 1578 4219 1281 4162 \nQ 984 4106 628 3988 \nL 628 4550 \nQ 988 4650 1302 4700 \nQ 1616 4750 1894 4750 \nQ 2613 4750 3031 4423 \nQ 3450 4097 3450 3541 \nQ 3450 3153 3228 2886 \nQ 3006 2619 2597 2516 \nz\n\" id=\"DejaVuSans-33\" transform=\"scale(0.015625)\"/>\n        <path d=\"M 2034 2216 \nQ 1584 2216 1326 1975 \nQ 1069 1734 1069 1313 \nQ 1069 891 1326 650 \nQ 1584 409 2034 409 \nQ 2484 409 2743 651 \nQ 3003 894 3003 1313 \nQ 3003 1734 2745 1975 \nQ 2488 2216 2034 2216 \nz\nM 1403 2484 \nQ 997 2584 770 2862 \nQ 544 3141 544 3541 \nQ 544 4100 942 4425 \nQ 1341 4750 2034 4750 \nQ 2731 4750 3128 4425 \nQ 3525 4100 3525 3541 \nQ 3525 3141 3298 2862 \nQ 3072 2584 2669 2484 \nQ 3125 2378 3379 2068 \nQ 3634 1759 3634 1313 \nQ 3634 634 3220 271 \nQ 2806 -91 2034 -91 \nQ 1263 -91 848 271 \nQ 434 634 434 1313 \nQ 434 1759 690 2068 \nQ 947 2378 1403 2484 \nz\nM 1172 3481 \nQ 1172 3119 1398 2916 \nQ 1625 2713 2034 2713 \nQ 2441 2713 2670 2916 \nQ 2900 3119 2900 3481 \nQ 2900 3844 2670 4047 \nQ 2441 4250 2034 4250 \nQ 1625 4250 1398 4047 \nQ 1172 3844 1172 3481 \nz\n\" id=\"DejaVuSans-38\" transform=\"scale(0.015625)\"/>\n        <path d=\"M 684 794 \nL 1344 794 \nL 1344 0 \nL 684 0 \nL 684 794 \nz\n\" id=\"DejaVuSans-2e\" transform=\"scale(0.015625)\"/>\n        <path d=\"M 2034 4250 \nQ 1547 4250 1301 3770 \nQ 1056 3291 1056 2328 \nQ 1056 1369 1301 889 \nQ 1547 409 2034 409 \nQ 2525 409 2770 889 \nQ 3016 1369 3016 2328 \nQ 3016 3291 2770 3770 \nQ 2525 4250 2034 4250 \nz\nM 2034 4750 \nQ 2819 4750 3233 4129 \nQ 3647 3509 3647 2328 \nQ 3647 1150 3233 529 \nQ 2819 -91 2034 -91 \nQ 1250 -91 836 529 \nQ 422 1150 422 2328 \nQ 422 3509 836 4129 \nQ 1250 4750 2034 4750 \nz\n\" id=\"DejaVuSans-30\" transform=\"scale(0.015625)\"/>\n       </defs>\n       <use xlink:href=\"#DejaVuSans-33\"/>\n       <use x=\"63.623047\" xlink:href=\"#DejaVuSans-38\"/>\n       <use x=\"127.246094\" xlink:href=\"#DejaVuSans-2e\"/>\n       <use x=\"159.033203\" xlink:href=\"#DejaVuSans-30\"/>\n      </g>\n     </g>\n    </g>\n    <g id=\"xtick_2\">\n     <g id=\"line2d_2\">\n      <g>\n       <use style=\"stroke:#000000;stroke-width:0.8;\" x=\"92.870455\" xlink:href=\"#m01b0dd2bae\" y=\"224.64\"/>\n      </g>\n     </g>\n     <g id=\"text_2\">\n      <!-- 38.5 -->\n      <g transform=\"translate(81.737642 239.238437)scale(0.1 -0.1)\">\n       <defs>\n        <path d=\"M 691 4666 \nL 3169 4666 \nL 3169 4134 \nL 1269 4134 \nL 1269 2991 \nQ 1406 3038 1543 3061 \nQ 1681 3084 1819 3084 \nQ 2600 3084 3056 2656 \nQ 3513 2228 3513 1497 \nQ 3513 744 3044 326 \nQ 2575 -91 1722 -91 \nQ 1428 -91 1123 -41 \nQ 819 9 494 109 \nL 494 744 \nQ 775 591 1075 516 \nQ 1375 441 1709 441 \nQ 2250 441 2565 725 \nQ 2881 1009 2881 1497 \nQ 2881 1984 2565 2268 \nQ 2250 2553 1709 2553 \nQ 1456 2553 1204 2497 \nQ 953 2441 691 2322 \nL 691 4666 \nz\n\" id=\"DejaVuSans-35\" transform=\"scale(0.015625)\"/>\n       </defs>\n       <use xlink:href=\"#DejaVuSans-33\"/>\n       <use x=\"63.623047\" xlink:href=\"#DejaVuSans-38\"/>\n       <use x=\"127.246094\" xlink:href=\"#DejaVuSans-2e\"/>\n       <use x=\"159.033203\" xlink:href=\"#DejaVuSans-35\"/>\n      </g>\n     </g>\n    </g>\n    <g id=\"xtick_3\">\n     <g id=\"line2d_3\">\n      <g>\n       <use style=\"stroke:#000000;stroke-width:0.8;\" x=\"143.597727\" xlink:href=\"#m01b0dd2bae\" y=\"224.64\"/>\n      </g>\n     </g>\n     <g id=\"text_3\">\n      <!-- 39.0 -->\n      <g transform=\"translate(132.464915 239.238437)scale(0.1 -0.1)\">\n       <defs>\n        <path d=\"M 703 97 \nL 703 672 \nQ 941 559 1184 500 \nQ 1428 441 1663 441 \nQ 2288 441 2617 861 \nQ 2947 1281 2994 2138 \nQ 2813 1869 2534 1725 \nQ 2256 1581 1919 1581 \nQ 1219 1581 811 2004 \nQ 403 2428 403 3163 \nQ 403 3881 828 4315 \nQ 1253 4750 1959 4750 \nQ 2769 4750 3195 4129 \nQ 3622 3509 3622 2328 \nQ 3622 1225 3098 567 \nQ 2575 -91 1691 -91 \nQ 1453 -91 1209 -44 \nQ 966 3 703 97 \nz\nM 1959 2075 \nQ 2384 2075 2632 2365 \nQ 2881 2656 2881 3163 \nQ 2881 3666 2632 3958 \nQ 2384 4250 1959 4250 \nQ 1534 4250 1286 3958 \nQ 1038 3666 1038 3163 \nQ 1038 2656 1286 2365 \nQ 1534 2075 1959 2075 \nz\n\" id=\"DejaVuSans-39\" transform=\"scale(0.015625)\"/>\n       </defs>\n       <use xlink:href=\"#DejaVuSans-33\"/>\n       <use x=\"63.623047\" xlink:href=\"#DejaVuSans-39\"/>\n       <use x=\"127.246094\" xlink:href=\"#DejaVuSans-2e\"/>\n       <use x=\"159.033203\" xlink:href=\"#DejaVuSans-30\"/>\n      </g>\n     </g>\n    </g>\n    <g id=\"xtick_4\">\n     <g id=\"line2d_4\">\n      <g>\n       <use style=\"stroke:#000000;stroke-width:0.8;\" x=\"194.325\" xlink:href=\"#m01b0dd2bae\" y=\"224.64\"/>\n      </g>\n     </g>\n     <g id=\"text_4\">\n      <!-- 39.5 -->\n      <g transform=\"translate(183.192187 239.238437)scale(0.1 -0.1)\">\n       <use xlink:href=\"#DejaVuSans-33\"/>\n       <use x=\"63.623047\" xlink:href=\"#DejaVuSans-39\"/>\n       <use x=\"127.246094\" xlink:href=\"#DejaVuSans-2e\"/>\n       <use x=\"159.033203\" xlink:href=\"#DejaVuSans-35\"/>\n      </g>\n     </g>\n    </g>\n    <g id=\"xtick_5\">\n     <g id=\"line2d_5\">\n      <g>\n       <use style=\"stroke:#000000;stroke-width:0.8;\" x=\"245.052273\" xlink:href=\"#m01b0dd2bae\" y=\"224.64\"/>\n      </g>\n     </g>\n     <g id=\"text_5\">\n      <!-- 40.0 -->\n      <g transform=\"translate(233.91946 239.238437)scale(0.1 -0.1)\">\n       <defs>\n        <path d=\"M 2419 4116 \nL 825 1625 \nL 2419 1625 \nL 2419 4116 \nz\nM 2253 4666 \nL 3047 4666 \nL 3047 1625 \nL 3713 1625 \nL 3713 1100 \nL 3047 1100 \nL 3047 0 \nL 2419 0 \nL 2419 1100 \nL 313 1100 \nL 313 1709 \nL 2253 4666 \nz\n\" id=\"DejaVuSans-34\" transform=\"scale(0.015625)\"/>\n       </defs>\n       <use xlink:href=\"#DejaVuSans-34\"/>\n       <use x=\"63.623047\" xlink:href=\"#DejaVuSans-30\"/>\n       <use x=\"127.246094\" xlink:href=\"#DejaVuSans-2e\"/>\n       <use x=\"159.033203\" xlink:href=\"#DejaVuSans-30\"/>\n      </g>\n     </g>\n    </g>\n    <g id=\"xtick_6\">\n     <g id=\"line2d_6\">\n      <g>\n       <use style=\"stroke:#000000;stroke-width:0.8;\" x=\"295.779545\" xlink:href=\"#m01b0dd2bae\" y=\"224.64\"/>\n      </g>\n     </g>\n     <g id=\"text_6\">\n      <!-- 40.5 -->\n      <g transform=\"translate(284.646733 239.238437)scale(0.1 -0.1)\">\n       <use xlink:href=\"#DejaVuSans-34\"/>\n       <use x=\"63.623047\" xlink:href=\"#DejaVuSans-30\"/>\n       <use x=\"127.246094\" xlink:href=\"#DejaVuSans-2e\"/>\n       <use x=\"159.033203\" xlink:href=\"#DejaVuSans-35\"/>\n      </g>\n     </g>\n    </g>\n    <g id=\"xtick_7\">\n     <g id=\"line2d_7\">\n      <g>\n       <use style=\"stroke:#000000;stroke-width:0.8;\" x=\"346.506818\" xlink:href=\"#m01b0dd2bae\" y=\"224.64\"/>\n      </g>\n     </g>\n     <g id=\"text_7\">\n      <!-- 41.0 -->\n      <g transform=\"translate(335.374006 239.238437)scale(0.1 -0.1)\">\n       <defs>\n        <path d=\"M 794 531 \nL 1825 531 \nL 1825 4091 \nL 703 3866 \nL 703 4441 \nL 1819 4666 \nL 2450 4666 \nL 2450 531 \nL 3481 531 \nL 3481 0 \nL 794 0 \nL 794 531 \nz\n\" id=\"DejaVuSans-31\" transform=\"scale(0.015625)\"/>\n       </defs>\n       <use xlink:href=\"#DejaVuSans-34\"/>\n       <use x=\"63.623047\" xlink:href=\"#DejaVuSans-31\"/>\n       <use x=\"127.246094\" xlink:href=\"#DejaVuSans-2e\"/>\n       <use x=\"159.033203\" xlink:href=\"#DejaVuSans-30\"/>\n      </g>\n     </g>\n    </g>\n   </g>\n   <g id=\"matplotlib.axis_2\">\n    <g id=\"ytick_1\">\n     <g id=\"line2d_8\">\n      <defs>\n       <path d=\"M 0 0 \nL -3.5 0 \n\" id=\"m031267e834\" style=\"stroke:#000000;stroke-width:0.8;\"/>\n      </defs>\n      <g>\n       <use style=\"stroke:#000000;stroke-width:0.8;\" x=\"26.925\" xlink:href=\"#m031267e834\" y=\"192.792727\"/>\n      </g>\n     </g>\n     <g id=\"text_8\">\n      <!-- 8 -->\n      <g transform=\"translate(13.5625 196.591946)scale(0.1 -0.1)\">\n       <use xlink:href=\"#DejaVuSans-38\"/>\n      </g>\n     </g>\n    </g>\n    <g id=\"ytick_2\">\n     <g id=\"line2d_9\">\n      <g>\n       <use style=\"stroke:#000000;stroke-width:0.8;\" x=\"26.925\" xlink:href=\"#m031267e834\" y=\"148.865455\"/>\n      </g>\n     </g>\n     <g id=\"text_9\">\n      <!-- 10 -->\n      <g transform=\"translate(7.2 152.664673)scale(0.1 -0.1)\">\n       <use xlink:href=\"#DejaVuSans-31\"/>\n       <use x=\"63.623047\" xlink:href=\"#DejaVuSans-30\"/>\n      </g>\n     </g>\n    </g>\n    <g id=\"ytick_3\">\n     <g id=\"line2d_10\">\n      <g>\n       <use style=\"stroke:#000000;stroke-width:0.8;\" x=\"26.925\" xlink:href=\"#m031267e834\" y=\"104.938182\"/>\n      </g>\n     </g>\n     <g id=\"text_10\">\n      <!-- 12 -->\n      <g transform=\"translate(7.2 108.737401)scale(0.1 -0.1)\">\n       <defs>\n        <path d=\"M 1228 531 \nL 3431 531 \nL 3431 0 \nL 469 0 \nL 469 531 \nQ 828 903 1448 1529 \nQ 2069 2156 2228 2338 \nQ 2531 2678 2651 2914 \nQ 2772 3150 2772 3378 \nQ 2772 3750 2511 3984 \nQ 2250 4219 1831 4219 \nQ 1534 4219 1204 4116 \nQ 875 4013 500 3803 \nL 500 4441 \nQ 881 4594 1212 4672 \nQ 1544 4750 1819 4750 \nQ 2544 4750 2975 4387 \nQ 3406 4025 3406 3419 \nQ 3406 3131 3298 2873 \nQ 3191 2616 2906 2266 \nQ 2828 2175 2409 1742 \nQ 1991 1309 1228 531 \nz\n\" id=\"DejaVuSans-32\" transform=\"scale(0.015625)\"/>\n       </defs>\n       <use xlink:href=\"#DejaVuSans-31\"/>\n       <use x=\"63.623047\" xlink:href=\"#DejaVuSans-32\"/>\n      </g>\n     </g>\n    </g>\n    <g id=\"ytick_4\">\n     <g id=\"line2d_11\">\n      <g>\n       <use style=\"stroke:#000000;stroke-width:0.8;\" x=\"26.925\" xlink:href=\"#m031267e834\" y=\"61.010909\"/>\n      </g>\n     </g>\n     <g id=\"text_11\">\n      <!-- 14 -->\n      <g transform=\"translate(7.2 64.810128)scale(0.1 -0.1)\">\n       <use xlink:href=\"#DejaVuSans-31\"/>\n       <use x=\"63.623047\" xlink:href=\"#DejaVuSans-34\"/>\n      </g>\n     </g>\n    </g>\n    <g id=\"ytick_5\">\n     <g id=\"line2d_12\">\n      <g>\n       <use style=\"stroke:#000000;stroke-width:0.8;\" x=\"26.925\" xlink:href=\"#m031267e834\" y=\"17.083636\"/>\n      </g>\n     </g>\n     <g id=\"text_12\">\n      <!-- 16 -->\n      <g transform=\"translate(7.2 20.882855)scale(0.1 -0.1)\">\n       <defs>\n        <path d=\"M 2113 2584 \nQ 1688 2584 1439 2293 \nQ 1191 2003 1191 1497 \nQ 1191 994 1439 701 \nQ 1688 409 2113 409 \nQ 2538 409 2786 701 \nQ 3034 994 3034 1497 \nQ 3034 2003 2786 2293 \nQ 2538 2584 2113 2584 \nz\nM 3366 4563 \nL 3366 3988 \nQ 3128 4100 2886 4159 \nQ 2644 4219 2406 4219 \nQ 1781 4219 1451 3797 \nQ 1122 3375 1075 2522 \nQ 1259 2794 1537 2939 \nQ 1816 3084 2150 3084 \nQ 2853 3084 3261 2657 \nQ 3669 2231 3669 1497 \nQ 3669 778 3244 343 \nQ 2819 -91 2113 -91 \nQ 1303 -91 875 529 \nQ 447 1150 447 2328 \nQ 447 3434 972 4092 \nQ 1497 4750 2381 4750 \nQ 2619 4750 2861 4703 \nQ 3103 4656 3366 4563 \nz\n\" id=\"DejaVuSans-36\" transform=\"scale(0.015625)\"/>\n       </defs>\n       <use xlink:href=\"#DejaVuSans-31\"/>\n       <use x=\"63.623047\" xlink:href=\"#DejaVuSans-36\"/>\n      </g>\n     </g>\n    </g>\n   </g>\n   <g id=\"patch_3\">\n    <path d=\"M 26.925 224.64 \nL 26.925 7.2 \n\" style=\"fill:none;stroke:#000000;stroke-linecap:square;stroke-linejoin:miter;stroke-width:0.8;\"/>\n   </g>\n   <g id=\"patch_4\">\n    <path d=\"M 361.725 224.64 \nL 361.725 7.2 \n\" style=\"fill:none;stroke:#000000;stroke-linecap:square;stroke-linejoin:miter;stroke-width:0.8;\"/>\n   </g>\n   <g id=\"patch_5\">\n    <path d=\"M 26.925 224.64 \nL 361.725 224.64 \n\" style=\"fill:none;stroke:#000000;stroke-linecap:square;stroke-linejoin:miter;stroke-width:0.8;\"/>\n   </g>\n   <g id=\"patch_6\">\n    <path d=\"M 26.925 7.2 \nL 361.725 7.2 \n\" style=\"fill:none;stroke:#000000;stroke-linecap:square;stroke-linejoin:miter;stroke-width:0.8;\"/>\n   </g>\n   <g id=\"text_13\">\n    <!-- M15 -->\n    <g transform=\"translate(42.143182 17.083636)scale(0.1 -0.1)\">\n     <defs>\n      <path d=\"M 628 4666 \nL 1569 4666 \nL 2759 1491 \nL 3956 4666 \nL 4897 4666 \nL 4897 0 \nL 4281 0 \nL 4281 4097 \nL 3078 897 \nL 2444 897 \nL 1241 4097 \nL 1241 0 \nL 628 0 \nL 628 4666 \nz\n\" id=\"DejaVuSans-4d\" transform=\"scale(0.015625)\"/>\n     </defs>\n     <use xlink:href=\"#DejaVuSans-4d\"/>\n     <use x=\"86.279297\" xlink:href=\"#DejaVuSans-31\"/>\n     <use x=\"149.902344\" xlink:href=\"#DejaVuSans-35\"/>\n    </g>\n   </g>\n   <g id=\"text_14\">\n    <!-- M15 -->\n    <g transform=\"translate(42.143182 17.083636)scale(0.1 -0.1)\">\n     <use xlink:href=\"#DejaVuSans-4d\"/>\n     <use x=\"86.279297\" xlink:href=\"#DejaVuSans-31\"/>\n     <use x=\"149.902344\" xlink:href=\"#DejaVuSans-35\"/>\n    </g>\n   </g>\n   <g id=\"text_15\">\n    <!-- M16 -->\n    <g transform=\"translate(42.143182 39.047273)scale(0.1 -0.1)\">\n     <use xlink:href=\"#DejaVuSans-4d\"/>\n     <use x=\"86.279297\" xlink:href=\"#DejaVuSans-31\"/>\n     <use x=\"149.902344\" xlink:href=\"#DejaVuSans-36\"/>\n    </g>\n   </g>\n   <g id=\"text_16\">\n    <!-- M17 -->\n    <g transform=\"translate(42.143182 126.901818)scale(0.1 -0.1)\">\n     <defs>\n      <path d=\"M 525 4666 \nL 3525 4666 \nL 3525 4397 \nL 1831 0 \nL 1172 0 \nL 2766 4134 \nL 525 4134 \nL 525 4666 \nz\n\" id=\"DejaVuSans-37\" transform=\"scale(0.015625)\"/>\n     </defs>\n     <use xlink:href=\"#DejaVuSans-4d\"/>\n     <use x=\"86.279297\" xlink:href=\"#DejaVuSans-31\"/>\n     <use x=\"149.902344\" xlink:href=\"#DejaVuSans-37\"/>\n    </g>\n   </g>\n   <g id=\"text_17\">\n    <!-- M16 -->\n    <g transform=\"translate(42.143182 39.047273)scale(0.1 -0.1)\">\n     <use xlink:href=\"#DejaVuSans-4d\"/>\n     <use x=\"86.279297\" xlink:href=\"#DejaVuSans-31\"/>\n     <use x=\"149.902344\" xlink:href=\"#DejaVuSans-36\"/>\n    </g>\n   </g>\n   <g id=\"text_18\">\n    <!-- M15 -->\n    <g transform=\"translate(42.143182 17.083636)scale(0.1 -0.1)\">\n     <use xlink:href=\"#DejaVuSans-4d\"/>\n     <use x=\"86.279297\" xlink:href=\"#DejaVuSans-31\"/>\n     <use x=\"149.902344\" xlink:href=\"#DejaVuSans-35\"/>\n    </g>\n   </g>\n   <g id=\"text_19\">\n    <!-- D14 -->\n    <g transform=\"translate(346.506818 192.792727)scale(0.1 -0.1)\">\n     <defs>\n      <path d=\"M 1259 4147 \nL 1259 519 \nL 2022 519 \nQ 2988 519 3436 956 \nQ 3884 1394 3884 2338 \nQ 3884 3275 3436 3711 \nQ 2988 4147 2022 4147 \nL 1259 4147 \nz\nM 628 4666 \nL 1925 4666 \nQ 3281 4666 3915 4102 \nQ 4550 3538 4550 2338 \nQ 4550 1131 3912 565 \nQ 3275 0 1925 0 \nL 628 0 \nL 628 4666 \nz\n\" id=\"DejaVuSans-44\" transform=\"scale(0.015625)\"/>\n     </defs>\n     <use xlink:href=\"#DejaVuSans-44\"/>\n     <use x=\"77.001953\" xlink:href=\"#DejaVuSans-31\"/>\n     <use x=\"140.625\" xlink:href=\"#DejaVuSans-34\"/>\n    </g>\n   </g>\n   <g id=\"text_20\">\n    <!-- D15 -->\n    <g transform=\"translate(346.506818 214.756364)scale(0.1 -0.1)\">\n     <use xlink:href=\"#DejaVuSans-44\"/>\n     <use x=\"77.001953\" xlink:href=\"#DejaVuSans-31\"/>\n     <use x=\"140.625\" xlink:href=\"#DejaVuSans-35\"/>\n    </g>\n   </g>\n   <g id=\"text_21\">\n    <!-- M17 -->\n    <g transform=\"translate(42.143182 126.901818)scale(0.1 -0.1)\">\n     <use xlink:href=\"#DejaVuSans-4d\"/>\n     <use x=\"86.279297\" xlink:href=\"#DejaVuSans-31\"/>\n     <use x=\"149.902344\" xlink:href=\"#DejaVuSans-37\"/>\n    </g>\n   </g>\n   <g id=\"text_22\">\n    <!-- D15 -->\n    <g transform=\"translate(346.506818 214.756364)scale(0.1 -0.1)\">\n     <use xlink:href=\"#DejaVuSans-44\"/>\n     <use x=\"77.001953\" xlink:href=\"#DejaVuSans-31\"/>\n     <use x=\"140.625\" xlink:href=\"#DejaVuSans-35\"/>\n    </g>\n   </g>\n   <g id=\"text_23\">\n    <!-- M17 -->\n    <g transform=\"translate(42.143182 126.901818)scale(0.1 -0.1)\">\n     <use xlink:href=\"#DejaVuSans-4d\"/>\n     <use x=\"86.279297\" xlink:href=\"#DejaVuSans-31\"/>\n     <use x=\"149.902344\" xlink:href=\"#DejaVuSans-37\"/>\n    </g>\n   </g>\n   <g id=\"text_24\">\n    <!-- M16 -->\n    <g transform=\"translate(42.143182 39.047273)scale(0.1 -0.1)\">\n     <use xlink:href=\"#DejaVuSans-4d\"/>\n     <use x=\"86.279297\" xlink:href=\"#DejaVuSans-31\"/>\n     <use x=\"149.902344\" xlink:href=\"#DejaVuSans-36\"/>\n    </g>\n   </g>\n   <g id=\"text_25\">\n    <!-- M15 -->\n    <g transform=\"translate(42.143182 17.083636)scale(0.1 -0.1)\">\n     <use xlink:href=\"#DejaVuSans-4d\"/>\n     <use x=\"86.279297\" xlink:href=\"#DejaVuSans-31\"/>\n     <use x=\"149.902344\" xlink:href=\"#DejaVuSans-35\"/>\n    </g>\n   </g>\n   <g id=\"text_26\">\n    <!-- M17 -->\n    <g transform=\"translate(42.143182 126.901818)scale(0.1 -0.1)\">\n     <use xlink:href=\"#DejaVuSans-4d\"/>\n     <use x=\"86.279297\" xlink:href=\"#DejaVuSans-31\"/>\n     <use x=\"149.902344\" xlink:href=\"#DejaVuSans-37\"/>\n    </g>\n   </g>\n   <g id=\"text_27\">\n    <!-- M16 -->\n    <g transform=\"translate(42.143182 39.047273)scale(0.1 -0.1)\">\n     <use xlink:href=\"#DejaVuSans-4d\"/>\n     <use x=\"86.279297\" xlink:href=\"#DejaVuSans-31\"/>\n     <use x=\"149.902344\" xlink:href=\"#DejaVuSans-36\"/>\n    </g>\n   </g>\n   <g id=\"text_28\">\n    <!-- M15 -->\n    <g transform=\"translate(42.143182 17.083636)scale(0.1 -0.1)\">\n     <use xlink:href=\"#DejaVuSans-4d\"/>\n     <use x=\"86.279297\" xlink:href=\"#DejaVuSans-31\"/>\n     <use x=\"149.902344\" xlink:href=\"#DejaVuSans-35\"/>\n    </g>\n   </g>\n   <g id=\"text_29\">\n    <!-- M15 -->\n    <g transform=\"translate(42.143182 17.083636)scale(0.1 -0.1)\">\n     <use xlink:href=\"#DejaVuSans-4d\"/>\n     <use x=\"86.279297\" xlink:href=\"#DejaVuSans-31\"/>\n     <use x=\"149.902344\" xlink:href=\"#DejaVuSans-35\"/>\n    </g>\n   </g>\n   <g id=\"text_30\">\n    <!-- M16 -->\n    <g transform=\"translate(42.143182 39.047273)scale(0.1 -0.1)\">\n     <use xlink:href=\"#DejaVuSans-4d\"/>\n     <use x=\"86.279297\" xlink:href=\"#DejaVuSans-31\"/>\n     <use x=\"149.902344\" xlink:href=\"#DejaVuSans-36\"/>\n    </g>\n   </g>\n   <g id=\"text_31\">\n    <!-- M17 -->\n    <g transform=\"translate(42.143182 126.901818)scale(0.1 -0.1)\">\n     <use xlink:href=\"#DejaVuSans-4d\"/>\n     <use x=\"86.279297\" xlink:href=\"#DejaVuSans-31\"/>\n     <use x=\"149.902344\" xlink:href=\"#DejaVuSans-37\"/>\n    </g>\n   </g>\n   <g id=\"text_32\">\n    <!-- M15 -->\n    <g transform=\"translate(42.143182 17.083636)scale(0.1 -0.1)\">\n     <use xlink:href=\"#DejaVuSans-4d\"/>\n     <use x=\"86.279297\" xlink:href=\"#DejaVuSans-31\"/>\n     <use x=\"149.902344\" xlink:href=\"#DejaVuSans-35\"/>\n    </g>\n   </g>\n   <g id=\"text_33\">\n    <!-- M16 -->\n    <g transform=\"translate(42.143182 39.047273)scale(0.1 -0.1)\">\n     <use xlink:href=\"#DejaVuSans-4d\"/>\n     <use x=\"86.279297\" xlink:href=\"#DejaVuSans-31\"/>\n     <use x=\"149.902344\" xlink:href=\"#DejaVuSans-36\"/>\n    </g>\n   </g>\n   <g id=\"text_34\">\n    <!-- M17 -->\n    <g transform=\"translate(42.143182 126.901818)scale(0.1 -0.1)\">\n     <use xlink:href=\"#DejaVuSans-4d\"/>\n     <use x=\"86.279297\" xlink:href=\"#DejaVuSans-31\"/>\n     <use x=\"149.902344\" xlink:href=\"#DejaVuSans-37\"/>\n    </g>\n   </g>\n   <g id=\"text_35\">\n    <!-- M17 -->\n    <g transform=\"translate(42.143182 126.901818)scale(0.1 -0.1)\">\n     <use xlink:href=\"#DejaVuSans-4d\"/>\n     <use x=\"86.279297\" xlink:href=\"#DejaVuSans-31\"/>\n     <use x=\"149.902344\" xlink:href=\"#DejaVuSans-37\"/>\n    </g>\n   </g>\n   <g id=\"text_36\">\n    <!-- M17 -->\n    <g transform=\"translate(42.143182 126.901818)scale(0.1 -0.1)\">\n     <use xlink:href=\"#DejaVuSans-4d\"/>\n     <use x=\"86.279297\" xlink:href=\"#DejaVuSans-31\"/>\n     <use x=\"149.902344\" xlink:href=\"#DejaVuSans-37\"/>\n    </g>\n   </g>\n   <g id=\"text_37\">\n    <!-- M17 -->\n    <g transform=\"translate(42.143182 126.901818)scale(0.1 -0.1)\">\n     <use xlink:href=\"#DejaVuSans-4d\"/>\n     <use x=\"86.279297\" xlink:href=\"#DejaVuSans-31\"/>\n     <use x=\"149.902344\" xlink:href=\"#DejaVuSans-37\"/>\n    </g>\n   </g>\n   <g id=\"text_38\">\n    <!-- M16 -->\n    <g transform=\"translate(42.143182 39.047273)scale(0.1 -0.1)\">\n     <use xlink:href=\"#DejaVuSans-4d\"/>\n     <use x=\"86.279297\" xlink:href=\"#DejaVuSans-31\"/>\n     <use x=\"149.902344\" xlink:href=\"#DejaVuSans-36\"/>\n    </g>\n   </g>\n  </g>\n </g>\n <defs>\n  <clipPath id=\"pc746cb1d6f\">\n   <rect height=\"217.44\" width=\"334.8\" x=\"26.925\" y=\"7.2\"/>\n  </clipPath>\n </defs>\n</svg>\n",
      "image/png": "[encoded data removed]"
     },
     "metadata": {
      "needs_background": "light"
     }
    }
   ],
   "source": [
    "target=false_seg_B[35:37]\n",
    "for segment in target:\n",
    "    c=[coordinate[item[0]] for item in segment]\n",
    "    c_x=[coordinate[item[0]][0] for item in segment]\n",
    "    c_y=[coordinate[item[0]][1] for item in segment]\n",
    "    r=[int(item[3]) for item in segment]\n",
    "    # fig, ax=plt.subplots()\n",
    "\n",
    "    plt.scatter(c_x, c_y, c=r, alpha=0.7, s=1e2)\n",
    "    for j in range(len(segment)):\n",
    "        plt.annotate(segment[j][0], c[j], label=r[j])\n",
    "    # ax.legend(*sc.legend_elements(num=1), title='resident')\n",
    "plt.show()"
   ]
  },
  {
   "cell_type": "code",
   "execution_count": 132,
   "metadata": {},
   "outputs": [
    {
     "output_type": "display_data",
     "data": {
      "text/plain": "<Figure size 432x288 with 1 Axes>",
      "image/svg+xml": "<?xml version=\"1.0\" encoding=\"utf-8\" standalone=\"no\"?>\n<!DOCTYPE svg PUBLIC \"-//W3C//DTD SVG 1.1//EN\"\n  \"http://www.w3.org/Graphics/SVG/1.1/DTD/svg11.dtd\">\n<svg height=\"277.314375pt\" version=\"1.1\" viewBox=\"0 0 385.78125 277.314375\" width=\"385.78125pt\" xmlns=\"http://www.w3.org/2000/svg\" xmlns:xlink=\"http://www.w3.org/1999/xlink\">\n <metadata>\n  <rdf:RDF xmlns:cc=\"http://creativecommons.org/ns#\" xmlns:dc=\"http://purl.org/dc/elements/1.1/\" xmlns:rdf=\"http://www.w3.org/1999/02/22-rdf-syntax-ns#\">\n   <cc:Work>\n    <dc:type rdf:resource=\"http://purl.org/dc/dcmitype/StillImage\"/>\n    <dc:date>2021-04-07T02:26:41.181022</dc:date>\n    <dc:format>image/svg+xml</dc:format>\n    <dc:creator>\n     <cc:Agent>\n      <dc:title>Matplotlib v3.4.1, https://matplotlib.org/</dc:title>\n     </cc:Agent>\n    </dc:creator>\n   </cc:Work>\n  </rdf:RDF>\n </metadata>\n <defs>\n  <style type=\"text/css\">*{stroke-linecap:butt;stroke-linejoin:round;}</style>\n </defs>\n <g id=\"figure_1\">\n  <g id=\"patch_1\">\n   <path d=\"M 0 277.314375 \nL 385.78125 277.314375 \nL 385.78125 0 \nL 0 0 \nz\n\" style=\"fill:none;\"/>\n  </g>\n  <g id=\"axes_1\">\n   <g id=\"patch_2\">\n    <path d=\"M 43.78125 239.758125 \nL 378.58125 239.758125 \nL 378.58125 22.318125 \nL 43.78125 22.318125 \nz\n\" style=\"fill:#ffffff;\"/>\n   </g>\n   <g id=\"patch_3\">\n    <path clip-path=\"url(#p59c444741d)\" d=\"M 58.999432 239.758125 \nL 98.699037 239.758125 \nL 98.699037 81.628844 \nL 58.999432 81.628844 \nz\n\" style=\"fill:#00bfbf;\"/>\n   </g>\n   <g id=\"patch_4\">\n    <path clip-path=\"url(#p59c444741d)\" d=\"M 191.331448 239.758125 \nL 231.031052 239.758125 \nL 231.031052 61.067142 \nL 191.331448 61.067142 \nz\n\" style=\"fill:#00bfbf;\"/>\n   </g>\n   <g id=\"patch_5\">\n    <path clip-path=\"url(#p59c444741d)\" d=\"M 323.663463 239.758125 \nL 363.363068 239.758125 \nL 363.363068 32.672411 \nL 323.663463 32.672411 \nz\n\" style=\"fill:#00bfbf;\"/>\n   </g>\n   <g id=\"matplotlib.axis_1\">\n    <g id=\"xtick_1\">\n     <g id=\"line2d_1\">\n      <defs>\n       <path d=\"M 0 0 \nL 0 3.5 \n\" id=\"mbda7cc9552\" style=\"stroke:#000000;stroke-width:0.8;\"/>\n      </defs>\n      <g>\n       <use style=\"stroke:#000000;stroke-width:0.8;\" x=\"78.849234\" xlink:href=\"#mbda7cc9552\" y=\"239.758125\"/>\n      </g>\n     </g>\n     <g id=\"text_1\">\n      <!-- 15 -->\n      <g transform=\"translate(72.486734 254.356562)scale(0.1 -0.1)\">\n       <defs>\n        <path d=\"M 794 531 \nL 1825 531 \nL 1825 4091 \nL 703 3866 \nL 703 4441 \nL 1819 4666 \nL 2450 4666 \nL 2450 531 \nL 3481 531 \nL 3481 0 \nL 794 0 \nL 794 531 \nz\n\" id=\"DejaVuSans-31\" transform=\"scale(0.015625)\"/>\n        <path d=\"M 691 4666 \nL 3169 4666 \nL 3169 4134 \nL 1269 4134 \nL 1269 2991 \nQ 1406 3038 1543 3061 \nQ 1681 3084 1819 3084 \nQ 2600 3084 3056 2656 \nQ 3513 2228 3513 1497 \nQ 3513 744 3044 326 \nQ 2575 -91 1722 -91 \nQ 1428 -91 1123 -41 \nQ 819 9 494 109 \nL 494 744 \nQ 775 591 1075 516 \nQ 1375 441 1709 441 \nQ 2250 441 2565 725 \nQ 2881 1009 2881 1497 \nQ 2881 1984 2565 2268 \nQ 2250 2553 1709 2553 \nQ 1456 2553 1204 2497 \nQ 953 2441 691 2322 \nL 691 4666 \nz\n\" id=\"DejaVuSans-35\" transform=\"scale(0.015625)\"/>\n       </defs>\n       <use xlink:href=\"#DejaVuSans-31\"/>\n       <use x=\"63.623047\" xlink:href=\"#DejaVuSans-35\"/>\n      </g>\n     </g>\n    </g>\n    <g id=\"xtick_2\">\n     <g id=\"line2d_2\">\n      <g>\n       <use style=\"stroke:#000000;stroke-width:0.8;\" x=\"211.18125\" xlink:href=\"#mbda7cc9552\" y=\"239.758125\"/>\n      </g>\n     </g>\n     <g id=\"text_2\">\n      <!-- 20 -->\n      <g transform=\"translate(204.81875 254.356562)scale(0.1 -0.1)\">\n       <defs>\n        <path d=\"M 1228 531 \nL 3431 531 \nL 3431 0 \nL 469 0 \nL 469 531 \nQ 828 903 1448 1529 \nQ 2069 2156 2228 2338 \nQ 2531 2678 2651 2914 \nQ 2772 3150 2772 3378 \nQ 2772 3750 2511 3984 \nQ 2250 4219 1831 4219 \nQ 1534 4219 1204 4116 \nQ 875 4013 500 3803 \nL 500 4441 \nQ 881 4594 1212 4672 \nQ 1544 4750 1819 4750 \nQ 2544 4750 2975 4387 \nQ 3406 4025 3406 3419 \nQ 3406 3131 3298 2873 \nQ 3191 2616 2906 2266 \nQ 2828 2175 2409 1742 \nQ 1991 1309 1228 531 \nz\n\" id=\"DejaVuSans-32\" transform=\"scale(0.015625)\"/>\n        <path d=\"M 2034 4250 \nQ 1547 4250 1301 3770 \nQ 1056 3291 1056 2328 \nQ 1056 1369 1301 889 \nQ 1547 409 2034 409 \nQ 2525 409 2770 889 \nQ 3016 1369 3016 2328 \nQ 3016 3291 2770 3770 \nQ 2525 4250 2034 4250 \nz\nM 2034 4750 \nQ 2819 4750 3233 4129 \nQ 3647 3509 3647 2328 \nQ 3647 1150 3233 529 \nQ 2819 -91 2034 -91 \nQ 1250 -91 836 529 \nQ 422 1150 422 2328 \nQ 422 3509 836 4129 \nQ 1250 4750 2034 4750 \nz\n\" id=\"DejaVuSans-30\" transform=\"scale(0.015625)\"/>\n       </defs>\n       <use xlink:href=\"#DejaVuSans-32\"/>\n       <use x=\"63.623047\" xlink:href=\"#DejaVuSans-30\"/>\n      </g>\n     </g>\n    </g>\n    <g id=\"xtick_3\">\n     <g id=\"line2d_3\">\n      <g>\n       <use style=\"stroke:#000000;stroke-width:0.8;\" x=\"343.513266\" xlink:href=\"#mbda7cc9552\" y=\"239.758125\"/>\n      </g>\n     </g>\n     <g id=\"text_3\">\n      <!-- 30 -->\n      <g transform=\"translate(337.150766 254.356562)scale(0.1 -0.1)\">\n       <defs>\n        <path d=\"M 2597 2516 \nQ 3050 2419 3304 2112 \nQ 3559 1806 3559 1356 \nQ 3559 666 3084 287 \nQ 2609 -91 1734 -91 \nQ 1441 -91 1130 -33 \nQ 819 25 488 141 \nL 488 750 \nQ 750 597 1062 519 \nQ 1375 441 1716 441 \nQ 2309 441 2620 675 \nQ 2931 909 2931 1356 \nQ 2931 1769 2642 2001 \nQ 2353 2234 1838 2234 \nL 1294 2234 \nL 1294 2753 \nL 1863 2753 \nQ 2328 2753 2575 2939 \nQ 2822 3125 2822 3475 \nQ 2822 3834 2567 4026 \nQ 2313 4219 1838 4219 \nQ 1578 4219 1281 4162 \nQ 984 4106 628 3988 \nL 628 4550 \nQ 988 4650 1302 4700 \nQ 1616 4750 1894 4750 \nQ 2613 4750 3031 4423 \nQ 3450 4097 3450 3541 \nQ 3450 3153 3228 2886 \nQ 3006 2619 2597 2516 \nz\n\" id=\"DejaVuSans-33\" transform=\"scale(0.015625)\"/>\n       </defs>\n       <use xlink:href=\"#DejaVuSans-33\"/>\n       <use x=\"63.623047\" xlink:href=\"#DejaVuSans-30\"/>\n      </g>\n     </g>\n    </g>\n    <g id=\"text_4\">\n     <!-- interval (sec) -->\n     <g transform=\"translate(178.197656 268.034687)scale(0.1 -0.1)\">\n      <defs>\n       <path d=\"M 603 3500 \nL 1178 3500 \nL 1178 0 \nL 603 0 \nL 603 3500 \nz\nM 603 4863 \nL 1178 4863 \nL 1178 4134 \nL 603 4134 \nL 603 4863 \nz\n\" id=\"DejaVuSans-69\" transform=\"scale(0.015625)\"/>\n       <path d=\"M 3513 2113 \nL 3513 0 \nL 2938 0 \nL 2938 2094 \nQ 2938 2591 2744 2837 \nQ 2550 3084 2163 3084 \nQ 1697 3084 1428 2787 \nQ 1159 2491 1159 1978 \nL 1159 0 \nL 581 0 \nL 581 3500 \nL 1159 3500 \nL 1159 2956 \nQ 1366 3272 1645 3428 \nQ 1925 3584 2291 3584 \nQ 2894 3584 3203 3211 \nQ 3513 2838 3513 2113 \nz\n\" id=\"DejaVuSans-6e\" transform=\"scale(0.015625)\"/>\n       <path d=\"M 1172 4494 \nL 1172 3500 \nL 2356 3500 \nL 2356 3053 \nL 1172 3053 \nL 1172 1153 \nQ 1172 725 1289 603 \nQ 1406 481 1766 481 \nL 2356 481 \nL 2356 0 \nL 1766 0 \nQ 1100 0 847 248 \nQ 594 497 594 1153 \nL 594 3053 \nL 172 3053 \nL 172 3500 \nL 594 3500 \nL 594 4494 \nL 1172 4494 \nz\n\" id=\"DejaVuSans-74\" transform=\"scale(0.015625)\"/>\n       <path d=\"M 3597 1894 \nL 3597 1613 \nL 953 1613 \nQ 991 1019 1311 708 \nQ 1631 397 2203 397 \nQ 2534 397 2845 478 \nQ 3156 559 3463 722 \nL 3463 178 \nQ 3153 47 2828 -22 \nQ 2503 -91 2169 -91 \nQ 1331 -91 842 396 \nQ 353 884 353 1716 \nQ 353 2575 817 3079 \nQ 1281 3584 2069 3584 \nQ 2775 3584 3186 3129 \nQ 3597 2675 3597 1894 \nz\nM 3022 2063 \nQ 3016 2534 2758 2815 \nQ 2500 3097 2075 3097 \nQ 1594 3097 1305 2825 \nQ 1016 2553 972 2059 \nL 3022 2063 \nz\n\" id=\"DejaVuSans-65\" transform=\"scale(0.015625)\"/>\n       <path d=\"M 2631 2963 \nQ 2534 3019 2420 3045 \nQ 2306 3072 2169 3072 \nQ 1681 3072 1420 2755 \nQ 1159 2438 1159 1844 \nL 1159 0 \nL 581 0 \nL 581 3500 \nL 1159 3500 \nL 1159 2956 \nQ 1341 3275 1631 3429 \nQ 1922 3584 2338 3584 \nQ 2397 3584 2469 3576 \nQ 2541 3569 2628 3553 \nL 2631 2963 \nz\n\" id=\"DejaVuSans-72\" transform=\"scale(0.015625)\"/>\n       <path d=\"M 191 3500 \nL 800 3500 \nL 1894 563 \nL 2988 3500 \nL 3597 3500 \nL 2284 0 \nL 1503 0 \nL 191 3500 \nz\n\" id=\"DejaVuSans-76\" transform=\"scale(0.015625)\"/>\n       <path d=\"M 2194 1759 \nQ 1497 1759 1228 1600 \nQ 959 1441 959 1056 \nQ 959 750 1161 570 \nQ 1363 391 1709 391 \nQ 2188 391 2477 730 \nQ 2766 1069 2766 1631 \nL 2766 1759 \nL 2194 1759 \nz\nM 3341 1997 \nL 3341 0 \nL 2766 0 \nL 2766 531 \nQ 2569 213 2275 61 \nQ 1981 -91 1556 -91 \nQ 1019 -91 701 211 \nQ 384 513 384 1019 \nQ 384 1609 779 1909 \nQ 1175 2209 1959 2209 \nL 2766 2209 \nL 2766 2266 \nQ 2766 2663 2505 2880 \nQ 2244 3097 1772 3097 \nQ 1472 3097 1187 3025 \nQ 903 2953 641 2809 \nL 641 3341 \nQ 956 3463 1253 3523 \nQ 1550 3584 1831 3584 \nQ 2591 3584 2966 3190 \nQ 3341 2797 3341 1997 \nz\n\" id=\"DejaVuSans-61\" transform=\"scale(0.015625)\"/>\n       <path d=\"M 603 4863 \nL 1178 4863 \nL 1178 0 \nL 603 0 \nL 603 4863 \nz\n\" id=\"DejaVuSans-6c\" transform=\"scale(0.015625)\"/>\n       <path id=\"DejaVuSans-20\" transform=\"scale(0.015625)\"/>\n       <path d=\"M 1984 4856 \nQ 1566 4138 1362 3434 \nQ 1159 2731 1159 2009 \nQ 1159 1288 1364 580 \nQ 1569 -128 1984 -844 \nL 1484 -844 \nQ 1016 -109 783 600 \nQ 550 1309 550 2009 \nQ 550 2706 781 3412 \nQ 1013 4119 1484 4856 \nL 1984 4856 \nz\n\" id=\"DejaVuSans-28\" transform=\"scale(0.015625)\"/>\n       <path d=\"M 2834 3397 \nL 2834 2853 \nQ 2591 2978 2328 3040 \nQ 2066 3103 1784 3103 \nQ 1356 3103 1142 2972 \nQ 928 2841 928 2578 \nQ 928 2378 1081 2264 \nQ 1234 2150 1697 2047 \nL 1894 2003 \nQ 2506 1872 2764 1633 \nQ 3022 1394 3022 966 \nQ 3022 478 2636 193 \nQ 2250 -91 1575 -91 \nQ 1294 -91 989 -36 \nQ 684 19 347 128 \nL 347 722 \nQ 666 556 975 473 \nQ 1284 391 1588 391 \nQ 1994 391 2212 530 \nQ 2431 669 2431 922 \nQ 2431 1156 2273 1281 \nQ 2116 1406 1581 1522 \nL 1381 1569 \nQ 847 1681 609 1914 \nQ 372 2147 372 2553 \nQ 372 3047 722 3315 \nQ 1072 3584 1716 3584 \nQ 2034 3584 2315 3537 \nQ 2597 3491 2834 3397 \nz\n\" id=\"DejaVuSans-73\" transform=\"scale(0.015625)\"/>\n       <path d=\"M 3122 3366 \nL 3122 2828 \nQ 2878 2963 2633 3030 \nQ 2388 3097 2138 3097 \nQ 1578 3097 1268 2742 \nQ 959 2388 959 1747 \nQ 959 1106 1268 751 \nQ 1578 397 2138 397 \nQ 2388 397 2633 464 \nQ 2878 531 3122 666 \nL 3122 134 \nQ 2881 22 2623 -34 \nQ 2366 -91 2075 -91 \nQ 1284 -91 818 406 \nQ 353 903 353 1747 \nQ 353 2603 823 3093 \nQ 1294 3584 2113 3584 \nQ 2378 3584 2631 3529 \nQ 2884 3475 3122 3366 \nz\n\" id=\"DejaVuSans-63\" transform=\"scale(0.015625)\"/>\n       <path d=\"M 513 4856 \nL 1013 4856 \nQ 1481 4119 1714 3412 \nQ 1947 2706 1947 2009 \nQ 1947 1309 1714 600 \nQ 1481 -109 1013 -844 \nL 513 -844 \nQ 928 -128 1133 580 \nQ 1338 1288 1338 2009 \nQ 1338 2731 1133 3434 \nQ 928 4138 513 4856 \nz\n\" id=\"DejaVuSans-29\" transform=\"scale(0.015625)\"/>\n      </defs>\n      <use xlink:href=\"#DejaVuSans-69\"/>\n      <use x=\"27.783203\" xlink:href=\"#DejaVuSans-6e\"/>\n      <use x=\"91.162109\" xlink:href=\"#DejaVuSans-74\"/>\n      <use x=\"130.371094\" xlink:href=\"#DejaVuSans-65\"/>\n      <use x=\"191.894531\" xlink:href=\"#DejaVuSans-72\"/>\n      <use x=\"233.007812\" xlink:href=\"#DejaVuSans-76\"/>\n      <use x=\"292.1875\" xlink:href=\"#DejaVuSans-61\"/>\n      <use x=\"353.466797\" xlink:href=\"#DejaVuSans-6c\"/>\n      <use x=\"381.25\" xlink:href=\"#DejaVuSans-20\"/>\n      <use x=\"413.037109\" xlink:href=\"#DejaVuSans-28\"/>\n      <use x=\"452.050781\" xlink:href=\"#DejaVuSans-73\"/>\n      <use x=\"504.150391\" xlink:href=\"#DejaVuSans-65\"/>\n      <use x=\"565.673828\" xlink:href=\"#DejaVuSans-63\"/>\n      <use x=\"620.654297\" xlink:href=\"#DejaVuSans-29\"/>\n     </g>\n    </g>\n   </g>\n   <g id=\"matplotlib.axis_2\">\n    <g id=\"ytick_1\">\n     <g id=\"line2d_4\">\n      <defs>\n       <path d=\"M 0 0 \nL -3.5 0 \n\" id=\"m3c168132e4\" style=\"stroke:#000000;stroke-width:0.8;\"/>\n      </defs>\n      <g>\n       <use style=\"stroke:#000000;stroke-width:0.8;\" x=\"43.78125\" xlink:href=\"#m3c168132e4\" y=\"239.758125\"/>\n      </g>\n     </g>\n     <g id=\"text_5\">\n      <!-- 0.0 -->\n      <g transform=\"translate(20.878125 243.557344)scale(0.1 -0.1)\">\n       <defs>\n        <path d=\"M 684 794 \nL 1344 794 \nL 1344 0 \nL 684 0 \nL 684 794 \nz\n\" id=\"DejaVuSans-2e\" transform=\"scale(0.015625)\"/>\n       </defs>\n       <use xlink:href=\"#DejaVuSans-30\"/>\n       <use x=\"63.623047\" xlink:href=\"#DejaVuSans-2e\"/>\n       <use x=\"95.410156\" xlink:href=\"#DejaVuSans-30\"/>\n      </g>\n     </g>\n    </g>\n    <g id=\"ytick_2\">\n     <g id=\"line2d_5\">\n      <g>\n       <use style=\"stroke:#000000;stroke-width:0.8;\" x=\"43.78125\" xlink:href=\"#m3c168132e4\" y=\"211.608176\"/>\n      </g>\n     </g>\n     <g id=\"text_6\">\n      <!-- 0.1 -->\n      <g transform=\"translate(20.878125 215.407394)scale(0.1 -0.1)\">\n       <use xlink:href=\"#DejaVuSans-30\"/>\n       <use x=\"63.623047\" xlink:href=\"#DejaVuSans-2e\"/>\n       <use x=\"95.410156\" xlink:href=\"#DejaVuSans-31\"/>\n      </g>\n     </g>\n    </g>\n    <g id=\"ytick_3\">\n     <g id=\"line2d_6\">\n      <g>\n       <use style=\"stroke:#000000;stroke-width:0.8;\" x=\"43.78125\" xlink:href=\"#m3c168132e4\" y=\"183.458226\"/>\n      </g>\n     </g>\n     <g id=\"text_7\">\n      <!-- 0.2 -->\n      <g transform=\"translate(20.878125 187.257445)scale(0.1 -0.1)\">\n       <use xlink:href=\"#DejaVuSans-30\"/>\n       <use x=\"63.623047\" xlink:href=\"#DejaVuSans-2e\"/>\n       <use x=\"95.410156\" xlink:href=\"#DejaVuSans-32\"/>\n      </g>\n     </g>\n    </g>\n    <g id=\"ytick_4\">\n     <g id=\"line2d_7\">\n      <g>\n       <use style=\"stroke:#000000;stroke-width:0.8;\" x=\"43.78125\" xlink:href=\"#m3c168132e4\" y=\"155.308277\"/>\n      </g>\n     </g>\n     <g id=\"text_8\">\n      <!-- 0.3 -->\n      <g transform=\"translate(20.878125 159.107496)scale(0.1 -0.1)\">\n       <use xlink:href=\"#DejaVuSans-30\"/>\n       <use x=\"63.623047\" xlink:href=\"#DejaVuSans-2e\"/>\n       <use x=\"95.410156\" xlink:href=\"#DejaVuSans-33\"/>\n      </g>\n     </g>\n    </g>\n    <g id=\"ytick_5\">\n     <g id=\"line2d_8\">\n      <g>\n       <use style=\"stroke:#000000;stroke-width:0.8;\" x=\"43.78125\" xlink:href=\"#m3c168132e4\" y=\"127.158328\"/>\n      </g>\n     </g>\n     <g id=\"text_9\">\n      <!-- 0.4 -->\n      <g transform=\"translate(20.878125 130.957546)scale(0.1 -0.1)\">\n       <defs>\n        <path d=\"M 2419 4116 \nL 825 1625 \nL 2419 1625 \nL 2419 4116 \nz\nM 2253 4666 \nL 3047 4666 \nL 3047 1625 \nL 3713 1625 \nL 3713 1100 \nL 3047 1100 \nL 3047 0 \nL 2419 0 \nL 2419 1100 \nL 313 1100 \nL 313 1709 \nL 2253 4666 \nz\n\" id=\"DejaVuSans-34\" transform=\"scale(0.015625)\"/>\n       </defs>\n       <use xlink:href=\"#DejaVuSans-30\"/>\n       <use x=\"63.623047\" xlink:href=\"#DejaVuSans-2e\"/>\n       <use x=\"95.410156\" xlink:href=\"#DejaVuSans-34\"/>\n      </g>\n     </g>\n    </g>\n    <g id=\"ytick_6\">\n     <g id=\"line2d_9\">\n      <g>\n       <use style=\"stroke:#000000;stroke-width:0.8;\" x=\"43.78125\" xlink:href=\"#m3c168132e4\" y=\"99.008378\"/>\n      </g>\n     </g>\n     <g id=\"text_10\">\n      <!-- 0.5 -->\n      <g transform=\"translate(20.878125 102.807597)scale(0.1 -0.1)\">\n       <use xlink:href=\"#DejaVuSans-30\"/>\n       <use x=\"63.623047\" xlink:href=\"#DejaVuSans-2e\"/>\n       <use x=\"95.410156\" xlink:href=\"#DejaVuSans-35\"/>\n      </g>\n     </g>\n    </g>\n    <g id=\"ytick_7\">\n     <g id=\"line2d_10\">\n      <g>\n       <use style=\"stroke:#000000;stroke-width:0.8;\" x=\"43.78125\" xlink:href=\"#m3c168132e4\" y=\"70.858429\"/>\n      </g>\n     </g>\n     <g id=\"text_11\">\n      <!-- 0.6 -->\n      <g transform=\"translate(20.878125 74.657648)scale(0.1 -0.1)\">\n       <defs>\n        <path d=\"M 2113 2584 \nQ 1688 2584 1439 2293 \nQ 1191 2003 1191 1497 \nQ 1191 994 1439 701 \nQ 1688 409 2113 409 \nQ 2538 409 2786 701 \nQ 3034 994 3034 1497 \nQ 3034 2003 2786 2293 \nQ 2538 2584 2113 2584 \nz\nM 3366 4563 \nL 3366 3988 \nQ 3128 4100 2886 4159 \nQ 2644 4219 2406 4219 \nQ 1781 4219 1451 3797 \nQ 1122 3375 1075 2522 \nQ 1259 2794 1537 2939 \nQ 1816 3084 2150 3084 \nQ 2853 3084 3261 2657 \nQ 3669 2231 3669 1497 \nQ 3669 778 3244 343 \nQ 2819 -91 2113 -91 \nQ 1303 -91 875 529 \nQ 447 1150 447 2328 \nQ 447 3434 972 4092 \nQ 1497 4750 2381 4750 \nQ 2619 4750 2861 4703 \nQ 3103 4656 3366 4563 \nz\n\" id=\"DejaVuSans-36\" transform=\"scale(0.015625)\"/>\n       </defs>\n       <use xlink:href=\"#DejaVuSans-30\"/>\n       <use x=\"63.623047\" xlink:href=\"#DejaVuSans-2e\"/>\n       <use x=\"95.410156\" xlink:href=\"#DejaVuSans-36\"/>\n      </g>\n     </g>\n    </g>\n    <g id=\"ytick_8\">\n     <g id=\"line2d_11\">\n      <g>\n       <use style=\"stroke:#000000;stroke-width:0.8;\" x=\"43.78125\" xlink:href=\"#m3c168132e4\" y=\"42.70848\"/>\n      </g>\n     </g>\n     <g id=\"text_12\">\n      <!-- 0.7 -->\n      <g transform=\"translate(20.878125 46.507698)scale(0.1 -0.1)\">\n       <defs>\n        <path d=\"M 525 4666 \nL 3525 4666 \nL 3525 4397 \nL 1831 0 \nL 1172 0 \nL 2766 4134 \nL 525 4134 \nL 525 4666 \nz\n\" id=\"DejaVuSans-37\" transform=\"scale(0.015625)\"/>\n       </defs>\n       <use xlink:href=\"#DejaVuSans-30\"/>\n       <use x=\"63.623047\" xlink:href=\"#DejaVuSans-2e\"/>\n       <use x=\"95.410156\" xlink:href=\"#DejaVuSans-37\"/>\n      </g>\n     </g>\n    </g>\n    <g id=\"text_13\">\n     <!-- accuracy -->\n     <g transform=\"translate(14.798438 153.5975)rotate(-90)scale(0.1 -0.1)\">\n      <defs>\n       <path d=\"M 544 1381 \nL 544 3500 \nL 1119 3500 \nL 1119 1403 \nQ 1119 906 1312 657 \nQ 1506 409 1894 409 \nQ 2359 409 2629 706 \nQ 2900 1003 2900 1516 \nL 2900 3500 \nL 3475 3500 \nL 3475 0 \nL 2900 0 \nL 2900 538 \nQ 2691 219 2414 64 \nQ 2138 -91 1772 -91 \nQ 1169 -91 856 284 \nQ 544 659 544 1381 \nz\nM 1991 3584 \nL 1991 3584 \nz\n\" id=\"DejaVuSans-75\" transform=\"scale(0.015625)\"/>\n       <path d=\"M 2059 -325 \nQ 1816 -950 1584 -1140 \nQ 1353 -1331 966 -1331 \nL 506 -1331 \nL 506 -850 \nL 844 -850 \nQ 1081 -850 1212 -737 \nQ 1344 -625 1503 -206 \nL 1606 56 \nL 191 3500 \nL 800 3500 \nL 1894 763 \nL 2988 3500 \nL 3597 3500 \nL 2059 -325 \nz\n\" id=\"DejaVuSans-79\" transform=\"scale(0.015625)\"/>\n      </defs>\n      <use xlink:href=\"#DejaVuSans-61\"/>\n      <use x=\"61.279297\" xlink:href=\"#DejaVuSans-63\"/>\n      <use x=\"116.259766\" xlink:href=\"#DejaVuSans-63\"/>\n      <use x=\"171.240234\" xlink:href=\"#DejaVuSans-75\"/>\n      <use x=\"234.619141\" xlink:href=\"#DejaVuSans-72\"/>\n      <use x=\"275.732422\" xlink:href=\"#DejaVuSans-61\"/>\n      <use x=\"337.011719\" xlink:href=\"#DejaVuSans-63\"/>\n      <use x=\"391.992188\" xlink:href=\"#DejaVuSans-79\"/>\n     </g>\n    </g>\n   </g>\n   <g id=\"patch_6\">\n    <path d=\"M 43.78125 239.758125 \nL 43.78125 22.318125 \n\" style=\"fill:none;stroke:#000000;stroke-linecap:square;stroke-linejoin:miter;stroke-width:0.8;\"/>\n   </g>\n   <g id=\"patch_7\">\n    <path d=\"M 378.58125 239.758125 \nL 378.58125 22.318125 \n\" style=\"fill:none;stroke:#000000;stroke-linecap:square;stroke-linejoin:miter;stroke-width:0.8;\"/>\n   </g>\n   <g id=\"patch_8\">\n    <path d=\"M 43.78125 239.758125 \nL 378.58125 239.758125 \n\" style=\"fill:none;stroke:#000000;stroke-linecap:square;stroke-linejoin:miter;stroke-width:0.8;\"/>\n   </g>\n   <g id=\"patch_9\">\n    <path d=\"M 43.78125 22.318125 \nL 378.58125 22.318125 \n\" style=\"fill:none;stroke:#000000;stroke-linecap:square;stroke-linejoin:miter;stroke-width:0.8;\"/>\n   </g>\n   <g id=\"text_14\">\n    <!-- Evaluation of Segmentation -->\n    <g transform=\"translate(127.755 16.318125)scale(0.12 -0.12)\">\n     <defs>\n      <path d=\"M 628 4666 \nL 3578 4666 \nL 3578 4134 \nL 1259 4134 \nL 1259 2753 \nL 3481 2753 \nL 3481 2222 \nL 1259 2222 \nL 1259 531 \nL 3634 531 \nL 3634 0 \nL 628 0 \nL 628 4666 \nz\n\" id=\"DejaVuSans-45\" transform=\"scale(0.015625)\"/>\n      <path d=\"M 1959 3097 \nQ 1497 3097 1228 2736 \nQ 959 2375 959 1747 \nQ 959 1119 1226 758 \nQ 1494 397 1959 397 \nQ 2419 397 2687 759 \nQ 2956 1122 2956 1747 \nQ 2956 2369 2687 2733 \nQ 2419 3097 1959 3097 \nz\nM 1959 3584 \nQ 2709 3584 3137 3096 \nQ 3566 2609 3566 1747 \nQ 3566 888 3137 398 \nQ 2709 -91 1959 -91 \nQ 1206 -91 779 398 \nQ 353 888 353 1747 \nQ 353 2609 779 3096 \nQ 1206 3584 1959 3584 \nz\n\" id=\"DejaVuSans-6f\" transform=\"scale(0.015625)\"/>\n      <path d=\"M 2375 4863 \nL 2375 4384 \nL 1825 4384 \nQ 1516 4384 1395 4259 \nQ 1275 4134 1275 3809 \nL 1275 3500 \nL 2222 3500 \nL 2222 3053 \nL 1275 3053 \nL 1275 0 \nL 697 0 \nL 697 3053 \nL 147 3053 \nL 147 3500 \nL 697 3500 \nL 697 3744 \nQ 697 4328 969 4595 \nQ 1241 4863 1831 4863 \nL 2375 4863 \nz\n\" id=\"DejaVuSans-66\" transform=\"scale(0.015625)\"/>\n      <path d=\"M 3425 4513 \nL 3425 3897 \nQ 3066 4069 2747 4153 \nQ 2428 4238 2131 4238 \nQ 1616 4238 1336 4038 \nQ 1056 3838 1056 3469 \nQ 1056 3159 1242 3001 \nQ 1428 2844 1947 2747 \nL 2328 2669 \nQ 3034 2534 3370 2195 \nQ 3706 1856 3706 1288 \nQ 3706 609 3251 259 \nQ 2797 -91 1919 -91 \nQ 1588 -91 1214 -16 \nQ 841 59 441 206 \nL 441 856 \nQ 825 641 1194 531 \nQ 1563 422 1919 422 \nQ 2459 422 2753 634 \nQ 3047 847 3047 1241 \nQ 3047 1584 2836 1778 \nQ 2625 1972 2144 2069 \nL 1759 2144 \nQ 1053 2284 737 2584 \nQ 422 2884 422 3419 \nQ 422 4038 858 4394 \nQ 1294 4750 2059 4750 \nQ 2388 4750 2728 4690 \nQ 3069 4631 3425 4513 \nz\n\" id=\"DejaVuSans-53\" transform=\"scale(0.015625)\"/>\n      <path d=\"M 2906 1791 \nQ 2906 2416 2648 2759 \nQ 2391 3103 1925 3103 \nQ 1463 3103 1205 2759 \nQ 947 2416 947 1791 \nQ 947 1169 1205 825 \nQ 1463 481 1925 481 \nQ 2391 481 2648 825 \nQ 2906 1169 2906 1791 \nz\nM 3481 434 \nQ 3481 -459 3084 -895 \nQ 2688 -1331 1869 -1331 \nQ 1566 -1331 1297 -1286 \nQ 1028 -1241 775 -1147 \nL 775 -588 \nQ 1028 -725 1275 -790 \nQ 1522 -856 1778 -856 \nQ 2344 -856 2625 -561 \nQ 2906 -266 2906 331 \nL 2906 616 \nQ 2728 306 2450 153 \nQ 2172 0 1784 0 \nQ 1141 0 747 490 \nQ 353 981 353 1791 \nQ 353 2603 747 3093 \nQ 1141 3584 1784 3584 \nQ 2172 3584 2450 3431 \nQ 2728 3278 2906 2969 \nL 2906 3500 \nL 3481 3500 \nL 3481 434 \nz\n\" id=\"DejaVuSans-67\" transform=\"scale(0.015625)\"/>\n      <path d=\"M 3328 2828 \nQ 3544 3216 3844 3400 \nQ 4144 3584 4550 3584 \nQ 5097 3584 5394 3201 \nQ 5691 2819 5691 2113 \nL 5691 0 \nL 5113 0 \nL 5113 2094 \nQ 5113 2597 4934 2840 \nQ 4756 3084 4391 3084 \nQ 3944 3084 3684 2787 \nQ 3425 2491 3425 1978 \nL 3425 0 \nL 2847 0 \nL 2847 2094 \nQ 2847 2600 2669 2842 \nQ 2491 3084 2119 3084 \nQ 1678 3084 1418 2786 \nQ 1159 2488 1159 1978 \nL 1159 0 \nL 581 0 \nL 581 3500 \nL 1159 3500 \nL 1159 2956 \nQ 1356 3278 1631 3431 \nQ 1906 3584 2284 3584 \nQ 2666 3584 2933 3390 \nQ 3200 3197 3328 2828 \nz\n\" id=\"DejaVuSans-6d\" transform=\"scale(0.015625)\"/>\n     </defs>\n     <use xlink:href=\"#DejaVuSans-45\"/>\n     <use x=\"63.183594\" xlink:href=\"#DejaVuSans-76\"/>\n     <use x=\"122.363281\" xlink:href=\"#DejaVuSans-61\"/>\n     <use x=\"183.642578\" xlink:href=\"#DejaVuSans-6c\"/>\n     <use x=\"211.425781\" xlink:href=\"#DejaVuSans-75\"/>\n     <use x=\"274.804688\" xlink:href=\"#DejaVuSans-61\"/>\n     <use x=\"336.083984\" xlink:href=\"#DejaVuSans-74\"/>\n     <use x=\"375.292969\" xlink:href=\"#DejaVuSans-69\"/>\n     <use x=\"403.076172\" xlink:href=\"#DejaVuSans-6f\"/>\n     <use x=\"464.257812\" xlink:href=\"#DejaVuSans-6e\"/>\n     <use x=\"527.636719\" xlink:href=\"#DejaVuSans-20\"/>\n     <use x=\"559.423828\" xlink:href=\"#DejaVuSans-6f\"/>\n     <use x=\"620.605469\" xlink:href=\"#DejaVuSans-66\"/>\n     <use x=\"655.810547\" xlink:href=\"#DejaVuSans-20\"/>\n     <use x=\"687.597656\" xlink:href=\"#DejaVuSans-53\"/>\n     <use x=\"751.074219\" xlink:href=\"#DejaVuSans-65\"/>\n     <use x=\"812.597656\" xlink:href=\"#DejaVuSans-67\"/>\n     <use x=\"876.074219\" xlink:href=\"#DejaVuSans-6d\"/>\n     <use x=\"973.486328\" xlink:href=\"#DejaVuSans-65\"/>\n     <use x=\"1035.009766\" xlink:href=\"#DejaVuSans-6e\"/>\n     <use x=\"1098.388672\" xlink:href=\"#DejaVuSans-74\"/>\n     <use x=\"1137.597656\" xlink:href=\"#DejaVuSans-61\"/>\n     <use x=\"1198.876953\" xlink:href=\"#DejaVuSans-74\"/>\n     <use x=\"1238.085938\" xlink:href=\"#DejaVuSans-69\"/>\n     <use x=\"1265.869141\" xlink:href=\"#DejaVuSans-6f\"/>\n     <use x=\"1327.050781\" xlink:href=\"#DejaVuSans-6e\"/>\n    </g>\n   </g>\n  </g>\n </g>\n <defs>\n  <clipPath id=\"p59c444741d\">\n   <rect height=\"217.44\" width=\"334.8\" x=\"43.78125\" y=\"22.318125\"/>\n  </clipPath>\n </defs>\n</svg>\n",
      "image/png": "[encoded data removed]"
     },
     "metadata": {
      "needs_background": "light"
     }
    }
   ],
   "source": [
    "idx=[0, 1, 2]\n",
    "threshold_list=['15', '20', '30']\n",
    "values=[0.5617391304347826, 0.6347826086956522, 0.7356521739130435]\n",
    "plt.bar(idx, values, color='c', width=0.3)\n",
    "plt.xticks(idx, threshold_list)\n",
    "plt.xlabel(\"interval (sec)\")\n",
    "plt.ylabel(\"accuracy\")\n",
    "plt.title(\"Evaluation of Segmentation\")\n",
    "plt.show()"
   ]
  },
  {
   "cell_type": "code",
   "execution_count": null,
   "metadata": {},
   "outputs": [],
   "source": [
    "for item in event_dict.keys():\n",
    "    print(\"\"\"\n",
    "        dataset_name: {},\n",
    "        event_length: {},\n",
    "        number_of_unique_sensor: {},\n",
    "        number_of_transition: {}\n",
    "    \"\"\".format(item, len(event_dict[item]), len(set(np.array(event_dict[item])[:,0])), len(trans_dict[item])) )"
   ]
  },
  {
   "cell_type": "code",
   "execution_count": 27,
   "metadata": {
    "tags": []
   },
   "outputs": [
    {
     "output_type": "stream",
     "name": "stdout",
     "text": [
      "17231\n",
      "0/17230, elapsed time: 0.00039839744567871094\n",
      "[[28.00000016 13.21618638]\n",
      " [31.91928223  7.08674558]]\n",
      "1000/17230, elapsed time: 542.0115659236908\n",
      "2000/17230, elapsed time: 1158.926739692688\n",
      "3000/17230, elapsed time: 1769.6291737556458\n",
      "4000/17230, elapsed time: 2391.890565633774\n",
      "5000/17230, elapsed time: 3029.4643619060516\n"
     ]
    },
    {
     "output_type": "error",
     "ename": "KeyboardInterrupt",
     "evalue": "",
     "traceback": [
      "\u001b[0;31m---------------------------------------------------------------------------\u001b[0m",
      "\u001b[0;31mKeyboardInterrupt\u001b[0m                         Traceback (most recent call last)",
      "\u001b[0;32m<ipython-input-27-36d21837e4c9>\u001b[0m in \u001b[0;36m<module>\u001b[0;34m\u001b[0m\n\u001b[1;32m     39\u001b[0m         \u001b[0;32mcontinue\u001b[0m\u001b[0;34m\u001b[0m\u001b[0;34m\u001b[0m\u001b[0m\n\u001b[1;32m     40\u001b[0m \u001b[0;34m\u001b[0m\u001b[0m\n\u001b[0;32m---> 41\u001b[0;31m     \u001b[0mfcm\u001b[0m\u001b[0;34m.\u001b[0m\u001b[0mfit\u001b[0m\u001b[0;34m(\u001b[0m\u001b[0mnp\u001b[0m\u001b[0;34m.\u001b[0m\u001b[0marray\u001b[0m\u001b[0;34m(\u001b[0m\u001b[0mevent_locations\u001b[0m\u001b[0;34m)\u001b[0m\u001b[0;34m)\u001b[0m\u001b[0;34m\u001b[0m\u001b[0;34m\u001b[0m\u001b[0m\n\u001b[0m\u001b[1;32m     42\u001b[0m     \u001b[0mcenter_a\u001b[0m\u001b[0;34m,\u001b[0m \u001b[0mcenter_b\u001b[0m\u001b[0;34m=\u001b[0m\u001b[0mfcm\u001b[0m\u001b[0;34m.\u001b[0m\u001b[0mcenters\u001b[0m\u001b[0;34m\u001b[0m\u001b[0;34m\u001b[0m\u001b[0m\n\u001b[1;32m     43\u001b[0m     \u001b[0;31m# print(i, fcm.centers)\u001b[0m\u001b[0;34m\u001b[0m\u001b[0;34m\u001b[0m\u001b[0;34m\u001b[0m\u001b[0m\n",
      "\u001b[0;32m~/.local/lib/python3.8/site-packages/fcmeans/fcm.py\u001b[0m in \u001b[0;36mfit\u001b[0;34m(self, X)\u001b[0m\n\u001b[1;32m     87\u001b[0m         \"\"\"\n\u001b[1;32m     88\u001b[0m         \u001b[0mself\u001b[0m\u001b[0;34m.\u001b[0m\u001b[0mn_samples\u001b[0m \u001b[0;34m=\u001b[0m \u001b[0mX\u001b[0m\u001b[0;34m.\u001b[0m\u001b[0mshape\u001b[0m\u001b[0;34m[\u001b[0m\u001b[0;36m0\u001b[0m\u001b[0;34m]\u001b[0m\u001b[0;34m\u001b[0m\u001b[0;34m\u001b[0m\u001b[0m\n\u001b[0;32m---> 89\u001b[0;31m         \u001b[0mself\u001b[0m\u001b[0;34m.\u001b[0m\u001b[0mu\u001b[0m \u001b[0;34m=\u001b[0m \u001b[0mrandom\u001b[0m\u001b[0;34m.\u001b[0m\u001b[0muniform\u001b[0m\u001b[0;34m(\u001b[0m\u001b[0mkey\u001b[0m\u001b[0;34m=\u001b[0m\u001b[0mself\u001b[0m\u001b[0;34m.\u001b[0m\u001b[0mkey\u001b[0m\u001b[0;34m,\u001b[0m \u001b[0mshape\u001b[0m\u001b[0;34m=\u001b[0m\u001b[0;34m(\u001b[0m\u001b[0mself\u001b[0m\u001b[0;34m.\u001b[0m\u001b[0mn_samples\u001b[0m\u001b[0;34m,\u001b[0m\u001b[0mself\u001b[0m\u001b[0;34m.\u001b[0m\u001b[0mn_clusters\u001b[0m\u001b[0;34m)\u001b[0m\u001b[0;34m)\u001b[0m\u001b[0;34m\u001b[0m\u001b[0;34m\u001b[0m\u001b[0m\n\u001b[0m\u001b[1;32m     90\u001b[0m         \u001b[0mself\u001b[0m\u001b[0;34m.\u001b[0m\u001b[0mu\u001b[0m \u001b[0;34m=\u001b[0m \u001b[0mself\u001b[0m\u001b[0;34m.\u001b[0m\u001b[0mu\u001b[0m \u001b[0;34m/\u001b[0m \u001b[0mnp\u001b[0m\u001b[0;34m.\u001b[0m\u001b[0mtile\u001b[0m\u001b[0;34m(\u001b[0m\u001b[0mself\u001b[0m\u001b[0;34m.\u001b[0m\u001b[0mu\u001b[0m\u001b[0;34m.\u001b[0m\u001b[0msum\u001b[0m\u001b[0;34m(\u001b[0m\u001b[0maxis\u001b[0m\u001b[0;34m=\u001b[0m\u001b[0;36m1\u001b[0m\u001b[0;34m)\u001b[0m\u001b[0;34m[\u001b[0m\u001b[0mnp\u001b[0m\u001b[0;34m.\u001b[0m\u001b[0mnewaxis\u001b[0m\u001b[0;34m]\u001b[0m\u001b[0;34m.\u001b[0m\u001b[0mT\u001b[0m\u001b[0;34m,\u001b[0m \u001b[0mself\u001b[0m\u001b[0;34m.\u001b[0m\u001b[0mn_clusters\u001b[0m\u001b[0;34m)\u001b[0m\u001b[0;34m\u001b[0m\u001b[0;34m\u001b[0m\u001b[0m\n\u001b[1;32m     91\u001b[0m         \u001b[0;32mfor\u001b[0m \u001b[0miteration\u001b[0m \u001b[0;32min\u001b[0m \u001b[0mrange\u001b[0m\u001b[0;34m(\u001b[0m\u001b[0mself\u001b[0m\u001b[0;34m.\u001b[0m\u001b[0mmax_iter\u001b[0m\u001b[0;34m)\u001b[0m\u001b[0;34m:\u001b[0m\u001b[0;34m\u001b[0m\u001b[0;34m\u001b[0m\u001b[0m\n",
      "\u001b[0;32m~/.local/lib/python3.8/site-packages/jax/_src/random.py\u001b[0m in \u001b[0;36muniform\u001b[0;34m(key, shape, dtype, minval, maxval)\u001b[0m\n\u001b[1;32m    372\u001b[0m   \u001b[0mdtype\u001b[0m \u001b[0;34m=\u001b[0m \u001b[0mdtypes\u001b[0m\u001b[0;34m.\u001b[0m\u001b[0mcanonicalize_dtype\u001b[0m\u001b[0;34m(\u001b[0m\u001b[0mdtype\u001b[0m\u001b[0;34m)\u001b[0m\u001b[0;34m\u001b[0m\u001b[0;34m\u001b[0m\u001b[0m\n\u001b[1;32m    373\u001b[0m   \u001b[0mshape\u001b[0m \u001b[0;34m=\u001b[0m \u001b[0mcore\u001b[0m\u001b[0;34m.\u001b[0m\u001b[0mas_named_shape\u001b[0m\u001b[0;34m(\u001b[0m\u001b[0mshape\u001b[0m\u001b[0;34m)\u001b[0m\u001b[0;34m\u001b[0m\u001b[0;34m\u001b[0m\u001b[0m\n\u001b[0;32m--> 374\u001b[0;31m   \u001b[0;32mreturn\u001b[0m \u001b[0m_uniform\u001b[0m\u001b[0;34m(\u001b[0m\u001b[0mkey\u001b[0m\u001b[0;34m,\u001b[0m \u001b[0mshape\u001b[0m\u001b[0;34m,\u001b[0m \u001b[0mdtype\u001b[0m\u001b[0;34m,\u001b[0m \u001b[0mminval\u001b[0m\u001b[0;34m,\u001b[0m \u001b[0mmaxval\u001b[0m\u001b[0;34m)\u001b[0m  \u001b[0;31m# type: ignore\u001b[0m\u001b[0;34m\u001b[0m\u001b[0;34m\u001b[0m\u001b[0m\n\u001b[0m\u001b[1;32m    375\u001b[0m \u001b[0;34m\u001b[0m\u001b[0m\n\u001b[1;32m    376\u001b[0m \u001b[0;34m@\u001b[0m\u001b[0mpartial\u001b[0m\u001b[0;34m(\u001b[0m\u001b[0mjit\u001b[0m\u001b[0;34m,\u001b[0m \u001b[0mstatic_argnums\u001b[0m\u001b[0;34m=\u001b[0m\u001b[0;34m(\u001b[0m\u001b[0;36m1\u001b[0m\u001b[0;34m,\u001b[0m \u001b[0;36m2\u001b[0m\u001b[0;34m)\u001b[0m\u001b[0;34m)\u001b[0m\u001b[0;34m\u001b[0m\u001b[0;34m\u001b[0m\u001b[0m\n",
      "\u001b[0;32m~/.local/lib/python3.8/site-packages/jax/_src/traceback_util.py\u001b[0m in \u001b[0;36mreraise_with_filtered_traceback\u001b[0;34m(*args, **kwargs)\u001b[0m\n\u001b[1;32m    137\u001b[0m   \u001b[0;32mdef\u001b[0m \u001b[0mreraise_with_filtered_traceback\u001b[0m\u001b[0;34m(\u001b[0m\u001b[0;34m*\u001b[0m\u001b[0margs\u001b[0m\u001b[0;34m,\u001b[0m \u001b[0;34m**\u001b[0m\u001b[0mkwargs\u001b[0m\u001b[0;34m)\u001b[0m\u001b[0;34m:\u001b[0m\u001b[0;34m\u001b[0m\u001b[0;34m\u001b[0m\u001b[0m\n\u001b[1;32m    138\u001b[0m     \u001b[0;32mtry\u001b[0m\u001b[0;34m:\u001b[0m\u001b[0;34m\u001b[0m\u001b[0;34m\u001b[0m\u001b[0m\n\u001b[0;32m--> 139\u001b[0;31m       \u001b[0;32mreturn\u001b[0m \u001b[0mfun\u001b[0m\u001b[0;34m(\u001b[0m\u001b[0;34m*\u001b[0m\u001b[0margs\u001b[0m\u001b[0;34m,\u001b[0m \u001b[0;34m**\u001b[0m\u001b[0mkwargs\u001b[0m\u001b[0;34m)\u001b[0m\u001b[0;34m\u001b[0m\u001b[0;34m\u001b[0m\u001b[0m\n\u001b[0m\u001b[1;32m    140\u001b[0m     \u001b[0;32mexcept\u001b[0m \u001b[0mException\u001b[0m \u001b[0;32mas\u001b[0m \u001b[0me\u001b[0m\u001b[0;34m:\u001b[0m\u001b[0;34m\u001b[0m\u001b[0;34m\u001b[0m\u001b[0m\n\u001b[1;32m    141\u001b[0m       \u001b[0;32mif\u001b[0m \u001b[0;32mnot\u001b[0m \u001b[0mis_under_reraiser\u001b[0m\u001b[0;34m(\u001b[0m\u001b[0me\u001b[0m\u001b[0;34m)\u001b[0m\u001b[0;34m:\u001b[0m\u001b[0;34m\u001b[0m\u001b[0;34m\u001b[0m\u001b[0m\n",
      "\u001b[0;32m~/.local/lib/python3.8/site-packages/jax/api.py\u001b[0m in \u001b[0;36mf_jitted\u001b[0;34m(*args, **kwargs)\u001b[0m\n\u001b[1;32m    380\u001b[0m         \u001b[0;32mreturn\u001b[0m \u001b[0mcpp_jitted_f\u001b[0m\u001b[0;34m(\u001b[0m\u001b[0;34m*\u001b[0m\u001b[0margs\u001b[0m\u001b[0;34m,\u001b[0m \u001b[0;34m**\u001b[0m\u001b[0mkwargs\u001b[0m\u001b[0;34m)\u001b[0m\u001b[0;34m\u001b[0m\u001b[0;34m\u001b[0m\u001b[0m\n\u001b[1;32m    381\u001b[0m       \u001b[0;32melse\u001b[0m\u001b[0;34m:\u001b[0m\u001b[0;34m\u001b[0m\u001b[0;34m\u001b[0m\u001b[0m\n\u001b[0;32m--> 382\u001b[0;31m         \u001b[0;32mreturn\u001b[0m \u001b[0mcpp_jitted_f\u001b[0m\u001b[0;34m(\u001b[0m\u001b[0mcontext\u001b[0m\u001b[0;34m,\u001b[0m \u001b[0;34m*\u001b[0m\u001b[0margs\u001b[0m\u001b[0;34m,\u001b[0m \u001b[0;34m**\u001b[0m\u001b[0mkwargs\u001b[0m\u001b[0;34m)\u001b[0m\u001b[0;34m\u001b[0m\u001b[0;34m\u001b[0m\u001b[0m\n\u001b[0m\u001b[1;32m    383\u001b[0m   \u001b[0;32melse\u001b[0m\u001b[0;34m:\u001b[0m\u001b[0;34m\u001b[0m\u001b[0;34m\u001b[0m\u001b[0m\n\u001b[1;32m    384\u001b[0m     cpp_jitted_f = jax_jit.jit(fun, cache_miss, get_device_info,\n",
      "\u001b[0;32m~/.local/lib/python3.8/site-packages/jax/api.py\u001b[0m in \u001b[0;36mcache_miss_wrapper\u001b[0;34m(_, *args, **kw)\u001b[0m\n\u001b[1;32m    349\u001b[0m   \u001b[0;31m# version.\u001b[0m\u001b[0;34m\u001b[0m\u001b[0;34m\u001b[0m\u001b[0;34m\u001b[0m\u001b[0m\n\u001b[1;32m    350\u001b[0m   \u001b[0;32mif\u001b[0m \u001b[0mlib\u001b[0m\u001b[0;34m.\u001b[0m\u001b[0m_xla_extension_version\u001b[0m \u001b[0;34m<\u001b[0m \u001b[0;36m11\u001b[0m\u001b[0;34m:\u001b[0m\u001b[0;34m\u001b[0m\u001b[0;34m\u001b[0m\u001b[0m\n\u001b[0;32m--> 351\u001b[0;31m     \u001b[0;32mdef\u001b[0m \u001b[0mcache_miss_wrapper\u001b[0m\u001b[0;34m(\u001b[0m\u001b[0m_\u001b[0m\u001b[0;34m,\u001b[0m \u001b[0;34m*\u001b[0m\u001b[0margs\u001b[0m\u001b[0;34m,\u001b[0m \u001b[0;34m**\u001b[0m\u001b[0mkw\u001b[0m\u001b[0;34m)\u001b[0m\u001b[0;34m:\u001b[0m \u001b[0;32mreturn\u001b[0m \u001b[0mcache_miss\u001b[0m\u001b[0;34m(\u001b[0m\u001b[0;34m*\u001b[0m\u001b[0margs\u001b[0m\u001b[0;34m,\u001b[0m \u001b[0;34m**\u001b[0m\u001b[0mkw\u001b[0m\u001b[0;34m)\u001b[0m\u001b[0;34m\u001b[0m\u001b[0;34m\u001b[0m\u001b[0m\n\u001b[0m\u001b[1;32m    352\u001b[0m     \u001b[0mstatic_argnums_\u001b[0m \u001b[0;34m=\u001b[0m \u001b[0;34m(\u001b[0m\u001b[0;36m0\u001b[0m\u001b[0;34m,\u001b[0m\u001b[0;34m)\u001b[0m \u001b[0;34m+\u001b[0m \u001b[0mtuple\u001b[0m\u001b[0;34m(\u001b[0m\u001b[0mi\u001b[0m \u001b[0;34m+\u001b[0m \u001b[0;36m1\u001b[0m \u001b[0;32mfor\u001b[0m \u001b[0mi\u001b[0m \u001b[0;32min\u001b[0m \u001b[0mstatic_argnums\u001b[0m\u001b[0;34m)\u001b[0m\u001b[0;34m\u001b[0m\u001b[0;34m\u001b[0m\u001b[0m\n\u001b[1;32m    353\u001b[0m     cpp_jitted_f = jax_jit.jit(fun, cache_miss_wrapper, get_device_info,\n",
      "\u001b[0;32m~/.local/lib/python3.8/site-packages/jax/api.py\u001b[0m in \u001b[0;36mcache_miss\u001b[0;34m(*args, **kwargs)\u001b[0m\n\u001b[1;32m    293\u001b[0m       \u001b[0m_check_arg\u001b[0m\u001b[0;34m(\u001b[0m\u001b[0marg\u001b[0m\u001b[0;34m)\u001b[0m\u001b[0;34m\u001b[0m\u001b[0;34m\u001b[0m\u001b[0m\n\u001b[1;32m    294\u001b[0m     \u001b[0mflat_fun\u001b[0m\u001b[0;34m,\u001b[0m \u001b[0mout_tree\u001b[0m \u001b[0;34m=\u001b[0m \u001b[0mflatten_fun\u001b[0m\u001b[0;34m(\u001b[0m\u001b[0mf\u001b[0m\u001b[0;34m,\u001b[0m \u001b[0min_tree\u001b[0m\u001b[0;34m)\u001b[0m\u001b[0;34m\u001b[0m\u001b[0;34m\u001b[0m\u001b[0m\n\u001b[0;32m--> 295\u001b[0;31m     out_flat = xla.xla_call(\n\u001b[0m\u001b[1;32m    296\u001b[0m         \u001b[0mflat_fun\u001b[0m\u001b[0;34m,\u001b[0m\u001b[0;34m\u001b[0m\u001b[0;34m\u001b[0m\u001b[0m\n\u001b[1;32m    297\u001b[0m         \u001b[0;34m*\u001b[0m\u001b[0margs_flat\u001b[0m\u001b[0;34m,\u001b[0m\u001b[0;34m\u001b[0m\u001b[0;34m\u001b[0m\u001b[0m\n",
      "\u001b[0;32m~/.local/lib/python3.8/site-packages/jax/core.py\u001b[0m in \u001b[0;36mbind\u001b[0;34m(self, fun, *args, **params)\u001b[0m\n\u001b[1;32m   1400\u001b[0m \u001b[0;34m\u001b[0m\u001b[0m\n\u001b[1;32m   1401\u001b[0m   \u001b[0;32mdef\u001b[0m \u001b[0mbind\u001b[0m\u001b[0;34m(\u001b[0m\u001b[0mself\u001b[0m\u001b[0;34m,\u001b[0m \u001b[0mfun\u001b[0m\u001b[0;34m,\u001b[0m \u001b[0;34m*\u001b[0m\u001b[0margs\u001b[0m\u001b[0;34m,\u001b[0m \u001b[0;34m**\u001b[0m\u001b[0mparams\u001b[0m\u001b[0;34m)\u001b[0m\u001b[0;34m:\u001b[0m\u001b[0;34m\u001b[0m\u001b[0;34m\u001b[0m\u001b[0m\n\u001b[0;32m-> 1402\u001b[0;31m     \u001b[0;32mreturn\u001b[0m \u001b[0mcall_bind\u001b[0m\u001b[0;34m(\u001b[0m\u001b[0mself\u001b[0m\u001b[0;34m,\u001b[0m \u001b[0mfun\u001b[0m\u001b[0;34m,\u001b[0m \u001b[0;34m*\u001b[0m\u001b[0margs\u001b[0m\u001b[0;34m,\u001b[0m \u001b[0;34m**\u001b[0m\u001b[0mparams\u001b[0m\u001b[0;34m)\u001b[0m\u001b[0;34m\u001b[0m\u001b[0;34m\u001b[0m\u001b[0m\n\u001b[0m\u001b[1;32m   1403\u001b[0m \u001b[0;34m\u001b[0m\u001b[0m\n\u001b[1;32m   1404\u001b[0m   \u001b[0;32mdef\u001b[0m \u001b[0mprocess\u001b[0m\u001b[0;34m(\u001b[0m\u001b[0mself\u001b[0m\u001b[0;34m,\u001b[0m \u001b[0mtrace\u001b[0m\u001b[0;34m,\u001b[0m \u001b[0mfun\u001b[0m\u001b[0;34m,\u001b[0m \u001b[0mtracers\u001b[0m\u001b[0;34m,\u001b[0m \u001b[0mparams\u001b[0m\u001b[0;34m)\u001b[0m\u001b[0;34m:\u001b[0m\u001b[0;34m\u001b[0m\u001b[0;34m\u001b[0m\u001b[0m\n",
      "\u001b[0;32m~/.local/lib/python3.8/site-packages/jax/core.py\u001b[0m in \u001b[0;36mcall_bind\u001b[0;34m(primitive, fun, *args, **params)\u001b[0m\n\u001b[1;32m   1391\u001b[0m   \u001b[0mtracers\u001b[0m \u001b[0;34m=\u001b[0m \u001b[0mmap\u001b[0m\u001b[0;34m(\u001b[0m\u001b[0mtop_trace\u001b[0m\u001b[0;34m.\u001b[0m\u001b[0mfull_raise\u001b[0m\u001b[0;34m,\u001b[0m \u001b[0margs\u001b[0m\u001b[0;34m)\u001b[0m\u001b[0;34m\u001b[0m\u001b[0;34m\u001b[0m\u001b[0m\n\u001b[1;32m   1392\u001b[0m   \u001b[0;32mwith\u001b[0m \u001b[0mmaybe_new_sublevel\u001b[0m\u001b[0;34m(\u001b[0m\u001b[0mtop_trace\u001b[0m\u001b[0;34m)\u001b[0m\u001b[0;34m:\u001b[0m\u001b[0;34m\u001b[0m\u001b[0;34m\u001b[0m\u001b[0m\n\u001b[0;32m-> 1393\u001b[0;31m     \u001b[0mouts\u001b[0m \u001b[0;34m=\u001b[0m \u001b[0mprimitive\u001b[0m\u001b[0;34m.\u001b[0m\u001b[0mprocess\u001b[0m\u001b[0;34m(\u001b[0m\u001b[0mtop_trace\u001b[0m\u001b[0;34m,\u001b[0m \u001b[0mfun\u001b[0m\u001b[0;34m,\u001b[0m \u001b[0mtracers\u001b[0m\u001b[0;34m,\u001b[0m \u001b[0mparams\u001b[0m\u001b[0;34m)\u001b[0m\u001b[0;34m\u001b[0m\u001b[0;34m\u001b[0m\u001b[0m\n\u001b[0m\u001b[1;32m   1394\u001b[0m   \u001b[0;32mreturn\u001b[0m \u001b[0mmap\u001b[0m\u001b[0;34m(\u001b[0m\u001b[0mfull_lower\u001b[0m\u001b[0;34m,\u001b[0m \u001b[0mapply_todos\u001b[0m\u001b[0;34m(\u001b[0m\u001b[0menv_trace_todo\u001b[0m\u001b[0;34m(\u001b[0m\u001b[0;34m)\u001b[0m\u001b[0;34m,\u001b[0m \u001b[0mouts\u001b[0m\u001b[0;34m)\u001b[0m\u001b[0;34m)\u001b[0m\u001b[0;34m\u001b[0m\u001b[0;34m\u001b[0m\u001b[0m\n\u001b[1;32m   1395\u001b[0m \u001b[0;34m\u001b[0m\u001b[0m\n",
      "\u001b[0;32m~/.local/lib/python3.8/site-packages/jax/core.py\u001b[0m in \u001b[0;36mprocess\u001b[0;34m(self, trace, fun, tracers, params)\u001b[0m\n\u001b[1;32m   1403\u001b[0m \u001b[0;34m\u001b[0m\u001b[0m\n\u001b[1;32m   1404\u001b[0m   \u001b[0;32mdef\u001b[0m \u001b[0mprocess\u001b[0m\u001b[0;34m(\u001b[0m\u001b[0mself\u001b[0m\u001b[0;34m,\u001b[0m \u001b[0mtrace\u001b[0m\u001b[0;34m,\u001b[0m \u001b[0mfun\u001b[0m\u001b[0;34m,\u001b[0m \u001b[0mtracers\u001b[0m\u001b[0;34m,\u001b[0m \u001b[0mparams\u001b[0m\u001b[0;34m)\u001b[0m\u001b[0;34m:\u001b[0m\u001b[0;34m\u001b[0m\u001b[0;34m\u001b[0m\u001b[0m\n\u001b[0;32m-> 1405\u001b[0;31m     \u001b[0;32mreturn\u001b[0m \u001b[0mtrace\u001b[0m\u001b[0;34m.\u001b[0m\u001b[0mprocess_call\u001b[0m\u001b[0;34m(\u001b[0m\u001b[0mself\u001b[0m\u001b[0;34m,\u001b[0m \u001b[0mfun\u001b[0m\u001b[0;34m,\u001b[0m \u001b[0mtracers\u001b[0m\u001b[0;34m,\u001b[0m \u001b[0mparams\u001b[0m\u001b[0;34m)\u001b[0m\u001b[0;34m\u001b[0m\u001b[0;34m\u001b[0m\u001b[0m\n\u001b[0m\u001b[1;32m   1406\u001b[0m \u001b[0;34m\u001b[0m\u001b[0m\n\u001b[1;32m   1407\u001b[0m   \u001b[0;32mdef\u001b[0m \u001b[0mpost_process\u001b[0m\u001b[0;34m(\u001b[0m\u001b[0mself\u001b[0m\u001b[0;34m,\u001b[0m \u001b[0mtrace\u001b[0m\u001b[0;34m,\u001b[0m \u001b[0mout_tracers\u001b[0m\u001b[0;34m,\u001b[0m \u001b[0mparams\u001b[0m\u001b[0;34m)\u001b[0m\u001b[0;34m:\u001b[0m\u001b[0;34m\u001b[0m\u001b[0;34m\u001b[0m\u001b[0m\n",
      "\u001b[0;32m~/.local/lib/python3.8/site-packages/jax/core.py\u001b[0m in \u001b[0;36mprocess_call\u001b[0;34m(self, primitive, f, tracers, params)\u001b[0m\n\u001b[1;32m    598\u001b[0m \u001b[0;34m\u001b[0m\u001b[0m\n\u001b[1;32m    599\u001b[0m   \u001b[0;32mdef\u001b[0m \u001b[0mprocess_call\u001b[0m\u001b[0;34m(\u001b[0m\u001b[0mself\u001b[0m\u001b[0;34m,\u001b[0m \u001b[0mprimitive\u001b[0m\u001b[0;34m,\u001b[0m \u001b[0mf\u001b[0m\u001b[0;34m,\u001b[0m \u001b[0mtracers\u001b[0m\u001b[0;34m,\u001b[0m \u001b[0mparams\u001b[0m\u001b[0;34m)\u001b[0m\u001b[0;34m:\u001b[0m\u001b[0;34m\u001b[0m\u001b[0;34m\u001b[0m\u001b[0m\n\u001b[0;32m--> 600\u001b[0;31m     \u001b[0;32mreturn\u001b[0m \u001b[0mprimitive\u001b[0m\u001b[0;34m.\u001b[0m\u001b[0mimpl\u001b[0m\u001b[0;34m(\u001b[0m\u001b[0mf\u001b[0m\u001b[0;34m,\u001b[0m \u001b[0;34m*\u001b[0m\u001b[0mtracers\u001b[0m\u001b[0;34m,\u001b[0m \u001b[0;34m**\u001b[0m\u001b[0mparams\u001b[0m\u001b[0;34m)\u001b[0m\u001b[0;34m\u001b[0m\u001b[0;34m\u001b[0m\u001b[0m\n\u001b[0m\u001b[1;32m    601\u001b[0m   \u001b[0mprocess_map\u001b[0m \u001b[0;34m=\u001b[0m \u001b[0mprocess_call\u001b[0m\u001b[0;34m\u001b[0m\u001b[0;34m\u001b[0m\u001b[0m\n\u001b[1;32m    602\u001b[0m \u001b[0;34m\u001b[0m\u001b[0m\n",
      "\u001b[0;32m~/.local/lib/python3.8/site-packages/jax/interpreters/xla.py\u001b[0m in \u001b[0;36m_xla_call_impl\u001b[0;34m(fun, device, backend, name, donated_invars, *args)\u001b[0m\n\u001b[1;32m    575\u001b[0m \u001b[0;34m\u001b[0m\u001b[0m\n\u001b[1;32m    576\u001b[0m \u001b[0;32mdef\u001b[0m \u001b[0m_xla_call_impl\u001b[0m\u001b[0;34m(\u001b[0m\u001b[0mfun\u001b[0m\u001b[0;34m:\u001b[0m \u001b[0mlu\u001b[0m\u001b[0;34m.\u001b[0m\u001b[0mWrappedFun\u001b[0m\u001b[0;34m,\u001b[0m \u001b[0;34m*\u001b[0m\u001b[0margs\u001b[0m\u001b[0;34m,\u001b[0m \u001b[0mdevice\u001b[0m\u001b[0;34m,\u001b[0m \u001b[0mbackend\u001b[0m\u001b[0;34m,\u001b[0m \u001b[0mname\u001b[0m\u001b[0;34m,\u001b[0m \u001b[0mdonated_invars\u001b[0m\u001b[0;34m)\u001b[0m\u001b[0;34m:\u001b[0m\u001b[0;34m\u001b[0m\u001b[0;34m\u001b[0m\u001b[0m\n\u001b[0;32m--> 577\u001b[0;31m   compiled_fun = _xla_callable(fun, device, backend, name, donated_invars,\n\u001b[0m\u001b[1;32m    578\u001b[0m                                *unsafe_map(arg_spec, args))\n\u001b[1;32m    579\u001b[0m   \u001b[0;32mtry\u001b[0m\u001b[0;34m:\u001b[0m\u001b[0;34m\u001b[0m\u001b[0;34m\u001b[0m\u001b[0m\n",
      "\u001b[0;32m~/.local/lib/python3.8/site-packages/jax/linear_util.py\u001b[0m in \u001b[0;36mmemoized_fun\u001b[0;34m(fun, *args)\u001b[0m\n\u001b[1;32m    258\u001b[0m       \u001b[0mfun\u001b[0m\u001b[0;34m.\u001b[0m\u001b[0mpopulate_stores\u001b[0m\u001b[0;34m(\u001b[0m\u001b[0mstores\u001b[0m\u001b[0;34m)\u001b[0m\u001b[0;34m\u001b[0m\u001b[0;34m\u001b[0m\u001b[0m\n\u001b[1;32m    259\u001b[0m     \u001b[0;32melse\u001b[0m\u001b[0;34m:\u001b[0m\u001b[0;34m\u001b[0m\u001b[0;34m\u001b[0m\u001b[0m\n\u001b[0;32m--> 260\u001b[0;31m       \u001b[0mans\u001b[0m \u001b[0;34m=\u001b[0m \u001b[0mcall\u001b[0m\u001b[0;34m(\u001b[0m\u001b[0mfun\u001b[0m\u001b[0;34m,\u001b[0m \u001b[0;34m*\u001b[0m\u001b[0margs\u001b[0m\u001b[0;34m)\u001b[0m\u001b[0;34m\u001b[0m\u001b[0;34m\u001b[0m\u001b[0m\n\u001b[0m\u001b[1;32m    261\u001b[0m       \u001b[0mcache\u001b[0m\u001b[0;34m[\u001b[0m\u001b[0mkey\u001b[0m\u001b[0;34m]\u001b[0m \u001b[0;34m=\u001b[0m \u001b[0;34m(\u001b[0m\u001b[0mans\u001b[0m\u001b[0;34m,\u001b[0m \u001b[0mfun\u001b[0m\u001b[0;34m.\u001b[0m\u001b[0mstores\u001b[0m\u001b[0;34m)\u001b[0m\u001b[0;34m\u001b[0m\u001b[0;34m\u001b[0m\u001b[0m\n\u001b[1;32m    262\u001b[0m \u001b[0;34m\u001b[0m\u001b[0m\n",
      "\u001b[0;32m~/.local/lib/python3.8/site-packages/jax/interpreters/xla.py\u001b[0m in \u001b[0;36m_xla_callable\u001b[0;34m(fun, device, backend, name, donated_invars, *arg_specs)\u001b[0m\n\u001b[1;32m    724\u001b[0m       device_assignment=(device.id,) if device else None)\n\u001b[1;32m    725\u001b[0m   \u001b[0moptions\u001b[0m\u001b[0;34m.\u001b[0m\u001b[0mparameter_is_tupled_arguments\u001b[0m \u001b[0;34m=\u001b[0m \u001b[0mtuple_args\u001b[0m\u001b[0;34m\u001b[0m\u001b[0;34m\u001b[0m\u001b[0m\n\u001b[0;32m--> 726\u001b[0;31m   \u001b[0mcompiled\u001b[0m \u001b[0;34m=\u001b[0m \u001b[0mbackend_compile\u001b[0m\u001b[0;34m(\u001b[0m\u001b[0mbackend\u001b[0m\u001b[0;34m,\u001b[0m \u001b[0mbuilt\u001b[0m\u001b[0;34m,\u001b[0m \u001b[0moptions\u001b[0m\u001b[0;34m)\u001b[0m\u001b[0;34m\u001b[0m\u001b[0;34m\u001b[0m\u001b[0m\n\u001b[0m\u001b[1;32m    727\u001b[0m   \u001b[0;32mif\u001b[0m \u001b[0mnreps\u001b[0m \u001b[0;34m==\u001b[0m \u001b[0;36m1\u001b[0m\u001b[0;34m:\u001b[0m\u001b[0;34m\u001b[0m\u001b[0;34m\u001b[0m\u001b[0m\n\u001b[1;32m    728\u001b[0m     \u001b[0;32mreturn\u001b[0m \u001b[0mpartial\u001b[0m\u001b[0;34m(\u001b[0m\u001b[0m_execute_compiled\u001b[0m\u001b[0;34m,\u001b[0m \u001b[0mcompiled\u001b[0m\u001b[0;34m,\u001b[0m \u001b[0mout_avals\u001b[0m\u001b[0;34m,\u001b[0m \u001b[0mresult_handlers\u001b[0m\u001b[0;34m)\u001b[0m\u001b[0;34m\u001b[0m\u001b[0;34m\u001b[0m\u001b[0m\n",
      "\u001b[0;32m~/.local/lib/python3.8/site-packages/jax/interpreters/xla.py\u001b[0m in \u001b[0;36mbackend_compile\u001b[0;34m(backend, built_c, options)\u001b[0m\n\u001b[1;32m    342\u001b[0m   \u001b[0;31m# we use a separate function call to ensure that XLA compilation appears\u001b[0m\u001b[0;34m\u001b[0m\u001b[0;34m\u001b[0m\u001b[0;34m\u001b[0m\u001b[0m\n\u001b[1;32m    343\u001b[0m   \u001b[0;31m# separately in Python profiling results\u001b[0m\u001b[0;34m\u001b[0m\u001b[0;34m\u001b[0m\u001b[0;34m\u001b[0m\u001b[0m\n\u001b[0;32m--> 344\u001b[0;31m   \u001b[0;32mreturn\u001b[0m \u001b[0mbackend\u001b[0m\u001b[0;34m.\u001b[0m\u001b[0mcompile\u001b[0m\u001b[0;34m(\u001b[0m\u001b[0mbuilt_c\u001b[0m\u001b[0;34m,\u001b[0m \u001b[0mcompile_options\u001b[0m\u001b[0;34m=\u001b[0m\u001b[0moptions\u001b[0m\u001b[0;34m)\u001b[0m\u001b[0;34m\u001b[0m\u001b[0;34m\u001b[0m\u001b[0m\n\u001b[0m\u001b[1;32m    345\u001b[0m \u001b[0;34m\u001b[0m\u001b[0m\n\u001b[1;32m    346\u001b[0m \u001b[0;32mdef\u001b[0m \u001b[0m_execute_compiled_primitive\u001b[0m\u001b[0;34m(\u001b[0m\u001b[0mprim\u001b[0m\u001b[0;34m,\u001b[0m \u001b[0mcompiled\u001b[0m\u001b[0;34m,\u001b[0m \u001b[0mresult_handler\u001b[0m\u001b[0;34m,\u001b[0m \u001b[0;34m*\u001b[0m\u001b[0margs\u001b[0m\u001b[0;34m)\u001b[0m\u001b[0;34m:\u001b[0m\u001b[0;34m\u001b[0m\u001b[0;34m\u001b[0m\u001b[0m\n",
      "\u001b[0;31mKeyboardInterrupt\u001b[0m: "
     ]
    }
   ],
   "source": [
    "SEG_result=[]\n",
    "SEG=[]\n",
    "events=event_dict['adlmr']\n",
    "win_size=30\n",
    "view_size=2\n",
    "threshold=0.3\n",
    "\n",
    "event_locations=[]\n",
    "\n",
    "fcm=FCM(n_clusters=2, max_iter=50)\n",
    "\n",
    "group_a=[]\n",
    "group_b=[]\n",
    "prev_center, prev_group=None, None\n",
    "center=[]\n",
    "\n",
    "start=time.time()\n",
    "\n",
    "\n",
    "print(len(events))\n",
    "for i, event in enumerate(events):\n",
    "    event_locations.append(coordinate[event[0]])\n",
    "    if i%1000==0:\n",
    "        print(\"{}/{}, elapsed time: {}\".format(i, len(events)-1, time.time()-start))\n",
    "        with open('./save/online_group_A','wb') as f:\n",
    "            pkl.dump(group_a, f)\n",
    "        with open('./save/online_group_B','wb') as f:\n",
    "            pkl.dump(group_b, f)\n",
    "        with open('./save/online_centers','wb') as f:\n",
    "            pkl.dump(center, f)\n",
    "    # ADDj=False\n",
    "    # if len(SEG)==0:\n",
    "    #     segment=[]\n",
    "    #     segment.append(event)\n",
    "    #     SEG.append(segment)\n",
    "    #     ADDj=True\n",
    "    # else:\n",
    "    if len(event_locations)<=2:\n",
    "        continue\n",
    "\n",
    "    fcm.fit(np.array(event_locations))\n",
    "    center_a, center_b=fcm.centers\n",
    "    # print(i, fcm.centers)\n",
    "    # center_dict={'a': center_a, 'b': center_b}\n",
    "    # center.append(fcm.centers)\n",
    "    label=int(fcm.predict(np.array([coordinate[event[0]]]))[0])\n",
    "    \n",
    "    if prev_center==None:\n",
    "        print(fcm.centers)\n",
    "        prev_center={0: center_a, 1: center_b}\n",
    "        prev_group={0: group_a, 1: group_b}\n",
    "        center.append(np.array([center_a, center_b]))\n",
    "        if label==0:\n",
    "            group_a.append(event)\n",
    "        else:\n",
    "            group_b.append(event)\n",
    "    else:\n",
    "        # distance comparison\n",
    "        current_0=fcm.centers[0]\n",
    "        dist_0=np.linalg.norm(prev_center[0]-current_0) # distance between prev 0 and current 0\n",
    "        dist_1=np.linalg.norm(prev_center[1]-current_0) # distance between prev 1 and current 0\n",
    "\n",
    "        if min(dist_0, dist_1)==dist_0: # prev 0 is current 0\n",
    "            prev_group[label].append(event)\n",
    "            prev_center={0: center_a, 1: center_b}\n",
    "            center.append(np.array([center_a, center_b]))\n",
    "        else: # prev 1 is current 0\n",
    "            prev_group[abs(label-1)].append(event)\n",
    "            prev_center={0: center_b, 1: center_a}\n",
    "            prev_group={0: group_b, 1: group_a}\n",
    "            center.append(np.array([center_b, center_a]))\n",
    "        # for idx, seg in enumerate(SEG):\n",
    "        #     # if len(seg)!=0:\n",
    "        #     seg_first, seg_last=seg[0], seg[-1]\n",
    "        #     last_label=fcm.predict(np.array([coordinate[seg_last[0]]]))[0]\n",
    "\n",
    "        #     fcm_check=True if event_label==last_label else False\n",
    "\n",
    "        #     if fcm_check: # do cpd_check\n",
    "        #         if last_label==0:\n",
    "        #             w_snd_last=group_A[-win_size-1:-1]\n",
    "        #             w_last, w_target= group_A[-win_size:], group_A[-win_size+1:]+[event]\n",
    "        #         else:\n",
    "        #             w_snd_last=group_B[-win_size-1:-1]\n",
    "        #             w_last, w_target= group_B[-win_size:], group_B[-win_size+1:]+[event]\n",
    "                \n",
    "        #         if len(w_snd_last)<win_size:\n",
    "        #             w_snd_last=[seg_first for i in range(win_size-len(w_snd_last))]+w_snd_last\n",
    "        #             w_last=[seg_first for i in range(win_size-len(w_last))]+w_last\n",
    "        #             w_target=[seg_first for i in range(win_size-len(w_target))]+w_target\n",
    "\n",
    "        #         f_snd_last=extract_feature(w_snd_last, sensor_set, coordinate)\n",
    "        #         f_last=extract_feature(w_last, sensor_set, coordinate)\n",
    "        #         f_target=extract_feature(w_target, sensor_set, coordinate)\n",
    "                \n",
    "        #         v_last, v_target= np.array([f_snd_last, f_last]), np.array([f_last, f_target])\n",
    "        #         dr=Densratio(x=v_last, y=v_target)\n",
    "        #         # print(dr.KLDiv, dr.PEDiv, dr.SEPDiv)\n",
    "        #         score=dr.SEPDiv\n",
    "        #         if last_label==0:\n",
    "        #             score_A.append(score)\n",
    "        #         else:\n",
    "        #             score_B.append(score)\n",
    "        #         cpd_check=True if score>threshold else False\n",
    "\n",
    "        #         if not cpd_check: # same cluster and non-transition\n",
    "        #             seg.append(event)\n",
    "        #             ADDj=True\n",
    "        #         else:   # same cluster and transition\n",
    "        #             SEG_result.append(seg)\n",
    "        #             SEG[idx]=[event]\n",
    "        #             ADDj=True\n",
    "        #         break\n",
    "        # if ADDj==False:\n",
    "        #     SEG.append([event])\n",
    "    # print(i, time.time()-start)\n",
    "    # print(i)\n",
    "    # print(len(group_A), len(group_B))"
   ]
  },
  {
   "cell_type": "code",
   "execution_count": null,
   "metadata": {},
   "outputs": [],
   "source": [
    "\"\"\"\n",
    "    Pseudo-code\n",
    "\n",
    "    Input:  Sensor Events S_={S1, S2, ..., Sn}\n",
    "            ADDj (initial status of sensor event Sj)\n",
    "                * If Sj is included in any segment, True. Otherwise False.\n",
    "    Output: Sensor Segments SEG_={SEG1, ..., SEGm}\n",
    "\n",
    "    (Method)    FCM check: FCM(Si, Sj) -> True/False\n",
    "                    * if Si and Sj are in the same cluster, True. Otherwise False.\n",
    "                CPD check: CPD(Sk, Sp) -> True/False\n",
    "                    * ?\n",
    "\n",
    "    while Sj and ADDj == False:\n",
    "        If len(SEG_)==0:\n",
    "            create SEG1\n",
    "            SEG1.append(Sj)\n",
    "            ADDj=True\n",
    "        else\n",
    "            for segment in SEG_:\n",
    "                if len(segment)!=0:\n",
    "                    segment_last=segment[-1]\n",
    "                    segment_first=segment[0]\n",
    "                    fcm1=FCM(Sj, segment_last)\n",
    "                    cpd1=CPD(Sj, segment_last)\n",
    "                    if fcm1 and cpd1:\n",
    "                        segment.append(Sj)\n",
    "                        ADDj=True\n",
    "                    elif fcm1 and (not cpd1):\n",
    "                        process segment\n",
    "                        clear segment\n",
    "                        segment.append(Sj)\n",
    "                        ADDj=True\n",
    "                    endif\n",
    "                (endif)\n",
    "            endfor\n",
    "\n",
    "            if ADDj==False: # should create new subsequence.\n",
    "                create SEG(m+1)\n",
    "                SEG(m+1).append(Sj)\n",
    "            endif\n",
    "        endif\n",
    "    endwhile\n",
    "\"\"\""
   ]
  }
 ]
}
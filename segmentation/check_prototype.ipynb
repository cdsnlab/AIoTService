{
 "cells": [
  {
   "cell_type": "code",
   "execution_count": 1,
   "source": [
    "import numpy as np\n",
    "import pandas as pd\n",
    "from matplotlib import pyplot as plt\n",
    "\n",
    "from module_.similarity import similarity\n",
    "from module_.dataLoader import dataLoader"
   ],
   "outputs": [],
   "metadata": {}
  },
  {
   "cell_type": "code",
   "execution_count": 2,
   "source": [
    "# hh101\n",
    "dataset_list = [\"hh101\", \"adlmr\", \"testbed\"]\n",
    "dataset = dataset_list[0]\n",
    "\n",
    "episodes, transitions, labels = dataLoader(dataset, option=True)\n",
    "# episodes = np.load(\"./dataload/hh101/episodes.npy\", allow_pickle=True)\n",
    "# transitions = np.load(\"./dataload/hh101/transitions.npy\")\n",
    "# labels = np.load(\"./dataload/hh101/labels.npy\")"
   ],
   "outputs": [
    {
     "output_type": "stream",
     "name": "stdout",
     "text": [
      "Remove Other.\n",
      "hh101 Data Load Completed.\n",
      "    Number of Activity Pairs: 1937\n",
      "    \n"
     ]
    }
   ],
   "metadata": {}
  },
  {
   "cell_type": "code",
   "execution_count": null,
   "source": [
    "idx = 10\n",
    "print(labels[idx], transitions[idx])\n",
    "sensor_list = sorted(set(episodes[idx][:,0]))\n",
    "id_ = {i:item for i, item in enumerate(sensor_list)}\n",
    "print(id_.items())\n",
    "correl = similarity(episodes[idx], dataset)"
   ],
   "outputs": [],
   "metadata": {}
  },
  {
   "cell_type": "code",
   "execution_count": null,
   "source": [
    "event_sensor_indices = [sensor_list.index(event[0]) for event in episodes[idx]]\n",
    "\n",
    "# print({i:item for i, item in enumerate(sensor_list)})\n",
    "\n",
    "df_indices = [f\"{sensor_list[ei]} {episodes[idx][j][1]}\" \n",
    "            for j, ei in enumerate(event_sensor_indices)]\n",
    "\n",
    "\n",
    "\n",
    "l = [correl[j][:, ei].T+correl[j][ei, :]\n",
    "    for j, ei in enumerate(event_sensor_indices)]\n",
    "l = np.array(l)\n",
    "\n",
    "data = {sensor_list[i]:list(l[:,i]) for i in range(len(sensor_list))}\n",
    "df = pd.DataFrame(data, index=df_indices)\n",
    "\n",
    "# print(df)\n",
    "    \n",
    "\n",
    "event_similar_rows = [item[:,event_sensor_indices[j]].T+item[event_sensor_indices[j],:] \n",
    "    for j, item in enumerate(correl)]\n",
    "event_similar_sums = [sum(item) for item in event_similar_rows]\n",
    "partial_average_sum = [event_similar_sums[i] \n",
    "    for i in range(len(event_similar_sums))]\n",
    "\n",
    "plt.plot(range(len(partial_average_sum)), \n",
    "    partial_average_sum)\n",
    "plt.axvline(\n",
    "    x=transitions[idx], color=\"g\", linestyle=\":\"\n",
    ")\n",
    "plt.axvline(\n",
    "    x=transitions[idx]-1, color=\"g\", linestyle=\":\"\n",
    ")\n",
    "\n",
    "# print(episodes[idx])\n",
    "# df.to_csv(\"./correlation/adlmr/csv/adlmr_2.csv\")"
   ],
   "outputs": [],
   "metadata": {}
  }
 ],
 "metadata": {
  "orig_nbformat": 4,
  "language_info": {
   "name": "python",
   "version": "3.8.10",
   "mimetype": "text/x-python",
   "codemirror_mode": {
    "name": "ipython",
    "version": 3
   },
   "pygments_lexer": "ipython3",
   "nbconvert_exporter": "python",
   "file_extension": ".py"
  },
  "kernelspec": {
   "name": "python3",
   "display_name": "Python 3.8.10 64-bit"
  },
  "interpreter": {
   "hash": "31f2aee4e71d21fbe5cf8b01ff0e069b9275f58929596ceb00d14d90e3e16cd6"
  }
 },
 "nbformat": 4,
 "nbformat_minor": 2
}
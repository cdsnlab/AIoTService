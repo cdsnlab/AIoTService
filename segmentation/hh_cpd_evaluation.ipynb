{
 "cells": [
  {
   "cell_type": "markdown",
   "source": [
    "# Casas hh101 dataset\n",
    "## Single-resident"
   ],
   "metadata": {}
  },
  {
   "cell_type": "markdown",
   "source": [
    "### import"
   ],
   "metadata": {}
  },
  {
   "cell_type": "code",
   "execution_count": 1,
   "source": [
    "import os, glob\n",
    "import pandas as pd\n",
    "import numpy as np\n",
    "import math, random\n",
    "from datetime import datetime\n",
    "import pickle\n",
    "from matplotlib import pyplot as plt\n",
    "import argparse\n",
    "import path, sys, re, time\n",
    "from collections import Counter\n",
    "from scipy.signal import find_peaks\n",
    "\n",
    "from module_.readText import read_hh\n",
    "from module_.featureExtraction import feature_extraction\n",
    "from module_.changePointDetection import change_point_detection\n",
    "from module_.info.hh import baseline_activities\n",
    "from module_.info.config import feature_name, exclude_list\n",
    "from module_.dataLoader import dataLoader\n",
    "from module_.evaluate import cpd_calculate"
   ],
   "outputs": [],
   "metadata": {}
  },
  {
   "cell_type": "markdown",
   "source": [
    "### configuration"
   ],
   "metadata": {}
  },
  {
   "cell_type": "code",
   "execution_count": 11,
   "source": [
    "dataset = \"hh101\"\n",
    "\n",
    "algorithm = \"SEP\"\n",
    "# algorithm = \"RuLSIF\"\n",
    "# algorithm = \"uLSIF\""
   ],
   "outputs": [],
   "metadata": {}
  },
  {
   "cell_type": "markdown",
   "source": [
    "### dataset"
   ],
   "metadata": {}
  },
  {
   "cell_type": "code",
   "execution_count": 3,
   "source": [
    "episodes, transitions, labels = dataLoader(dataset)\n",
    "sensors = set()\n",
    "for episode in episodes:\n",
    "    sensors = sensors | set(episode[:,0])\n",
    "sensors = sorted(sensors)"
   ],
   "outputs": [],
   "metadata": {}
  },
  {
   "cell_type": "markdown",
   "source": [
    "### execute"
   ],
   "metadata": {}
  },
  {
   "cell_type": "code",
   "execution_count": 12,
   "source": [
    "# scores_list = cpd_calculate(episodes, dataset, sensors, algorithm, True)\n",
    "\n",
    "scores_list = []\n",
    "\n",
    "for index in range(len(episodes)):\n",
    "\n",
    "    if index<5: continue\n",
    "\n",
    "    episode, transition, label = episodes[index], transitions[index], labels[index]\n",
    "\n",
    "    features = np.array(feature_extraction(episode, dataset, sensors))\n",
    "\n",
    "    scores = np.array(change_point_detection(features, algorithm))\n",
    "    scores[scores<0] = 0\n",
    "    scores_list.append(scores)\n",
    "    \n",
    "    plt.plot(range(len(scores)), scores)\n",
    "    plt.axvline(x = transition, color = 'r')\n",
    "\n",
    "    break\n",
    "\n",
    "# np.save(f\"./evaluation/{dataset}/{algorithm}/scores_{algorithm}_temp.npy\", scores_list)"
   ],
   "outputs": [
    {
     "output_type": "display_data",
     "data": {
      "image/png": "[encoded data removed]",
      "text/plain": [
       "<Figure size 432x288 with 1 Axes>"
      ]
     },
     "metadata": {
      "needs_background": "light"
     }
    }
   ],
   "metadata": {}
  },
  {
   "cell_type": "markdown",
   "source": [
    "### evaluation"
   ],
   "metadata": {}
  },
  {
   "cell_type": "code",
   "execution_count": 22,
   "source": [
    "interval = 10\n",
    "# algorithm = \"RuLSIF\"\n",
    "print(algorithm)\n",
    "scores_list = np.load(f\"./evaluation/{dataset}/{algorithm}/scores_{algorithm}_temp.npy\", allow_pickle=True)\n",
    "\n",
    "for threshold in range(10, 0, -1):\n",
    "    threshold /= float(20)\n",
    "    tp_rates = []\n",
    "    fp_rates = []\n",
    "\n",
    "    for e in range(len(episodes)):\n",
    "\n",
    "        episode, transition, label = episodes[e], transitions[e], labels[e]\n",
    "        scores = scores_list[e]\n",
    "\n",
    "        tp = tn = fp = fn = 0\n",
    "\n",
    "        gt_time = float(episode[transition, 2])\n",
    "\n",
    "        for ee in range(len(episode)):\n",
    "            event_time = float(episode[ee, 2])\n",
    "            if scores[ee]>threshold:\n",
    "                if abs(gt_time-event_time)<interval:\n",
    "                    tp+=1\n",
    "                else:\n",
    "                    fp+=1\n",
    "            else:\n",
    "                if ee==transition:\n",
    "                    fn+=1\n",
    "                else:\n",
    "                    tn+=1\n",
    "\n",
    "        assert tp+tn+fp+fn == len(episode)\n",
    "\n",
    "        tp_rates.append(tp/(tp+fn))\n",
    "        fp_rates.append(fp/(fp+tn))\n",
    "\n",
    "    print(threshold, sum(tp_rates)/len(tp_rates), sum(fp_rates)/len(fp_rates))"
   ],
   "outputs": [
    {
     "output_type": "stream",
     "name": "stdout",
     "text": [
      "SEP\n",
      "0.5 0.3799134322678847 0.04545394435857707\n",
      "0.45 0.38431316590563214 0.04627049463761131\n",
      "0.4 0.4160149171921443 0.05752945620090478\n",
      "0.35 0.41649056407190077 0.0577301898851714\n",
      "0.3 0.4734885754149478 0.06917465936702621\n",
      "0.25 0.571950310755965 0.08933602551880926\n",
      "0.2 0.6805631329603933 0.17694469266412508\n",
      "0.15 0.6975179675094055 0.19210044545178137\n",
      "0.1 0.7689218763383988 0.23203792811773552\n",
      "0.05 0.8009347447168507 0.25516215385146873\n"
     ]
    }
   ],
   "metadata": {}
  }
 ],
 "metadata": {
  "interpreter": {
   "hash": "31f2aee4e71d21fbe5cf8b01ff0e069b9275f58929596ceb00d14d90e3e16cd6"
  },
  "kernelspec": {
   "name": "python3",
   "display_name": "Python 3.8.10 64-bit"
  },
  "language_info": {
   "codemirror_mode": {
    "name": "ipython",
    "version": 3
   },
   "file_extension": ".py",
   "mimetype": "text/x-python",
   "name": "python",
   "nbconvert_exporter": "python",
   "pygments_lexer": "ipython3",
   "version": "3.8.10"
  },
  "metadata": {
   "interpreter": {
    "hash": "31f2aee4e71d21fbe5cf8b01ff0e069b9275f58929596ceb00d14d90e3e16cd6"
   }
  },
  "orig_nbformat": 2
 },
 "nbformat": 4,
 "nbformat_minor": 2
}
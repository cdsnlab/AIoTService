{
 "cells": [
  {
   "cell_type": "code",
   "execution_count": 50,
   "source": [
    "# 모듈과 라이브러리 임포트\n",
    "# 데이터셋 불러오기\n",
    "# 전체 센서 리스트 만들기\n",
    "\n",
    "import numpy as np\n",
    "\n",
    "from module_.dataLoader import dataLoader\n",
    "\n",
    "episodes, transitions, labels = dataLoader('testbed')\n",
    "\n",
    "sensors = set()\n",
    "for e in episodes:\n",
    "    sensors = sensors | set(e[:,0])\n",
    "sensors = sorted(sensors)"
   ],
   "outputs": [
    {
     "output_type": "stream",
     "name": "stdout",
     "text": [
      "tasks: ['Chatting', 'Discussion', 'GroupStudy', 'Presentation']\n"
     ]
    }
   ],
   "metadata": {}
  },
  {
   "cell_type": "code",
   "execution_count": 182,
   "source": [
    "# 샘플 데이터셋에 대해서 시작시간 부터 종료시간까지 1초 단위로 Motion 센서의 ON과 OFF 상태를 Binary array로 변환함\n",
    "\n",
    "i = 0\n",
    "episode, transition, label = episodes[i], transitions[i], labels[i]\n",
    "\n",
    "start_time, end_time = int(episode[0,2]), int(episode[-1,2])\n",
    "\n",
    "active_log = np.zeros((end_time-start_time+1, len(sensors)))\n",
    "\n",
    "active_states = {sensor: False for sensor in sensors}\n",
    "active_startt = {sensor: 0 for sensor in sensors}\n",
    "\n",
    "# test = []\n",
    "\n",
    "for i in range(len(episode)):\n",
    "    s, v, t = episode[i]\n",
    "    t = int(t)-start_time\n",
    "    if s[0]!=\"M\": \n",
    "        # test.append(episode[i])\n",
    "        continue\n",
    "\n",
    "    if v==\"true\":\n",
    "        if active_states[s]==False: # False -> True (State 변경)\n",
    "            active_startt[s]=t\n",
    "            active_states[s]=True\n",
    "\n",
    "            # test.append(episode[i])\n",
    "        else:                       # True -> True (이전 True까지 Update)\n",
    "            active_log[active_startt[s]:t,sensors.index(s)]=1\n",
    "            active_startt[s]=t\n",
    "    else:\n",
    "        if active_states[s]==True:  # True -> False (이전 True까지 Update하고 초기화)\n",
    "            active_log[active_startt[s]:t,sensors.index(s)]=1\n",
    "            active_startt[s]=t\n",
    "            active_states[s]=False\n",
    "\n",
    "            # test.append(episode[i])\n",
    "    \n",
    "    for sensor in sensors:\n",
    "        if active_states[sensor] and t-active_startt[sensor]>40: # True -> ... (True 이후 이벤트가 없는 경우 - Update하고 초기화)\n",
    "            active_log[active_startt[sensor]:active_startt[sensor]+40,sensors.index(sensor)]=1\n",
    "            active_states[sensor]=False\n",
    "\n",
    "            # test.append(\n",
    "            #     np.array([sensor, \"false\", t+start_time])\n",
    "            # )\n",
    "\n",
    "    if i==len(episode)-1:\n",
    "        for sensor in sensors:\n",
    "            if active_states[sensor]:\n",
    "                active_log[active_startt[sensor]:,sensors.index(sensor)]=1\n",
    "                active_states[sensor]=False\n",
    "\n",
    "                # test.append(\n",
    "                #     np.array([sensor, \"false\", t+start_time])\n",
    "                # )"
   ],
   "outputs": [
    {
     "output_type": "stream",
     "name": "stdout",
     "text": [
      "Chatting82-Discussion35 2625.0 2639.0 43.75 43.983333333333334\n"
     ]
    }
   ],
   "metadata": {}
  },
  {
   "cell_type": "code",
   "execution_count": null,
   "source": [
    "active_log.shape # (duration, sensor_number)\n",
    "\n",
    "on_interval = {sensor: [] for sensor in sensors}\n",
    "\n",
    "for i in range(active_log.shape[1]):\n",
    "\n",
    "    # 1. 센서 i의 ON 구간을 전부 찾는다\n",
    "    # 2. 각 구간에서 다른 센서들의 ON 비율을 계산해서 [0, 1] 정규화된 벡터를 저장한다 (시작, 종료, 벡터)\n",
    "    # 최종 결과물 - 각 센서별 ON 상태에서의 벡터 집합\n",
    "    # 각 센서별로 클러스터링을 합니다.\n",
    "\n",
    "    col = active_log[:, i]\n",
    "    start_on = 0\n",
    "    on_ing = False\n",
    "    for j in range(len(col)):\n",
    "        if col[j]==1:\n",
    "            if not on_ing:\n",
    "                start_on = j\n",
    "                on_ing = True\n",
    "        else:\n",
    "            if on_ing:\n",
    "                on_interval[sensors[i]].append((start_on, j-1))\n",
    "                on_ing = False\n",
    "        \n",
    "        if j==len(col)-1:\n",
    "            if on_ing:\n",
    "                on_interval[sensors[i]].append((start_on, j))\n",
    "                on_ing = False\n"
   ],
   "outputs": [],
   "metadata": {}
  },
  {
   "cell_type": "code",
   "execution_count": 183,
   "source": [
    "# Time windows\n",
    "\n",
    "l, r = int(episode[transition-1,2])-start_time, int(episode[transition,2])-start_time\n",
    "\n",
    "time_interval = 60\n",
    "\n",
    "time_windows = []\n",
    "ground_truth = set()\n",
    "for i in range(0, len(active_log), time_interval):\n",
    "    if i<=l<i+time_interval:\n",
    "        ground_truth.add(int(i/time_interval))\n",
    "    if i<=r<i+time_interval:\n",
    "        ground_truth.add(int(i/time_interval))\n",
    "\n",
    "    window = np.sum(active_log[i:i+time_interval,:], axis=0)\n",
    "    time_windows.append(window)\n",
    "\n",
    "ground_truth = list(ground_truth)\n",
    "time_windows = np.array(\n",
    "    time_windows\n",
    ") #/ time_interval\n",
    "\n",
    "print(ground_truth)"
   ],
   "outputs": [
    {
     "output_type": "stream",
     "name": "stdout",
     "text": [
      "[43]\n"
     ]
    }
   ],
   "metadata": {}
  },
  {
   "cell_type": "code",
   "execution_count": 49,
   "source": [
    "print(label, ground_truth)\n",
    "# left = time_windows[:ground_truth[-1]]\n",
    "# right = time_windows[ground_truth[-1]:]\n",
    "\n",
    "# np.savetxt(f'./csv/{label.split(\"-\")[0]}.csv', left, delimiter=\",\")\n",
    "# np.savetxt(f'./csv/{label.split(\"-\")[1]}.csv', right, delimiter=\",\")\n",
    "\n",
    "full = time_windows\n",
    "np.savetxt(f'./csv/{label}.csv', full, delimiter=\",\")"
   ],
   "outputs": [
    {
     "output_type": "stream",
     "name": "stdout",
     "text": [
      "Presentation81-GroupStudy12 [36, 37]\n"
     ]
    }
   ],
   "metadata": {}
  },
  {
   "cell_type": "code",
   "execution_count": 184,
   "source": [
    "# Calculate correlation\n",
    "\n",
    "from itertools import combinations\n",
    "\n",
    "l = []\n",
    "past_length = 3\n",
    "long_term_correlation = []\n",
    "\n",
    "# score = []\n",
    "\n",
    "for i in range(len(time_windows)):\n",
    "\n",
    "    # Previous {past_length} time windows' average relationship\n",
    "    prev_avg_correlation = np.mean(\n",
    "        np.array(long_term_correlation), axis=0\n",
    "    )\n",
    "\n",
    "    curr_correlation = np.zeros((len(sensors), len(sensors)))\n",
    "\n",
    "    window = time_windows[i]\n",
    "    # active_sensors = [j for j in range(len(window)) if window[j]!=0.]\n",
    "    active_sensors = [j for j in range(len(window))]\n",
    "\n",
    "    # pair = list(combinations(active_sensors, 2))\n",
    "    pair = list(combinations(active_sensors, 2)) + [(si, si) for si in range(len(sensors))]\n",
    "\n",
    "    for a, b in pair:\n",
    "        r, c = max(a, b), min(a, b)\n",
    "        weight = window[a]*window[b]/(time_interval**2)\n",
    "        curr_correlation[r, c] = weight\n",
    "\n",
    "    l.append(curr_correlation.copy())\n",
    "\n",
    "    curr_avg_correlation = np.mean(\n",
    "        np.array(long_term_correlation[1:]+[curr_correlation]), axis=0\n",
    "    )\n",
    "\n",
    "    # Decision\n",
    "    if i==0:\n",
    "        print(\"Initialization: No previous relationship\")\n",
    "        # score.append(0.)\n",
    "    else:\n",
    "        # prev_avg_correlation - 이전 N개의 Relationship 평균\n",
    "        # curr_avg_correlation - 현재 포함 N개의 Relationship 평균\n",
    "\n",
    "        difference = abs(prev_avg_correlation-curr_avg_correlation)\n",
    "\n",
    "        # score.append(np.mean(difference))\n",
    "\n",
    "    long_term_correlation.append(curr_correlation.copy())\n",
    "    long_term_correlation = long_term_correlation[-past_length:]\n",
    "\n"
   ],
   "outputs": [
    {
     "output_type": "stream",
     "name": "stdout",
     "text": [
      "Initialization: No previous relationship\n"
     ]
    },
    {
     "output_type": "stream",
     "name": "stderr",
     "text": [
      "/home/kisoo/.local/lib/python3.8/site-packages/numpy/core/fromnumeric.py:3419: RuntimeWarning: Mean of empty slice.\n",
      "  return _methods._mean(a, axis=axis, dtype=dtype,\n",
      "/home/kisoo/.local/lib/python3.8/site-packages/numpy/core/_methods.py:188: RuntimeWarning: invalid value encountered in double_scalars\n",
      "  ret = ret.dtype.type(ret / rcount)\n"
     ]
    }
   ],
   "metadata": {}
  },
  {
   "cell_type": "code",
   "execution_count": 187,
   "source": [
    "# Apply correlation\n",
    "\n",
    "scores = []\n",
    "\n",
    "win_num = 3\n",
    "\n",
    "for i in range(len(time_windows)):\n",
    "    window = time_windows[i]\n",
    "    # active_sensors = [j for j in range(len(window)) if window[j]>0.]\n",
    "    # active_sensors = [j for j in range(len(window))]\n",
    "\n",
    "    # pair = list(combinations(active_sensors, 2))\n",
    "    pair = list(combinations([si for si in range(len(sensors))], 2)) + [(si, si) for si in range(len(sensors))]\n",
    "\n",
    "    prev_coefficients = l[max(0, i-win_num):i]\n",
    "    curr_coefficient = l[i]\n",
    "    score = 0.\n",
    "\n",
    "    if len(prev_coefficients)==0:\n",
    "        scores.append(0)\n",
    "        continue\n",
    "\n",
    "    for a, b in pair:\n",
    "        r, c = max(a, b), min(a, b)\n",
    "        prev_c = sum([item[r, c] for item in prev_coefficients])/len(prev_coefficients)\n",
    "        # weight = window[a]*window[b]/(time_interval**2)\n",
    "        # weight = abs(window[a]+window[b])/(2*time_interval)\n",
    "        curr_c = curr_coefficient[r, c]\n",
    "\n",
    "        score += abs(prev_c-curr_c)\n",
    "        # score += weight*(1-prev_c)\n",
    "    \n",
    "    scores.append(score)"
   ],
   "outputs": [],
   "metadata": {}
  },
  {
   "cell_type": "markdown",
   "source": [
    "## time windows to csv file"
   ],
   "metadata": {}
  },
  {
   "cell_type": "code",
   "execution_count": null,
   "source": [
    "import pandas as pd\n",
    "\n",
    "df = pd.DataFrame(time_windows)\n",
    "df.columns = sensors\n",
    "df.index = [i*60 if i not in ground_truth else \"transition\" for i in range(1, len(time_windows)+1)]\n",
    "df.to_csv(f\"./csv/{label}.csv\", sep=\",\")"
   ],
   "outputs": [],
   "metadata": {}
  },
  {
   "cell_type": "code",
   "execution_count": 188,
   "source": [
    "from matplotlib import pyplot as plt\n",
    "\n",
    "plt.plot(range(len(scores)), scores)\n",
    "min_ = min(ground_truth)\n",
    "max_ = max(ground_truth)\n",
    "\n",
    "plt.axvspan(min_-1, max_+1, alpha=0.2)\n",
    "print(scores[min_-1:max_+3])\n",
    "print(len([score for score in scores if score>1.5]))"
   ],
   "outputs": [
    {
     "output_type": "stream",
     "name": "stdout",
     "text": [
      "[3.344444444444444, 10.965648148148148, 8.421296296296298, 7.151574074074075]\n",
      "75\n"
     ]
    },
    {
     "output_type": "display_data",
     "data": {
      "image/png": "[encoded data removed]",
      "text/plain": [
       "<Figure size 432x288 with 1 Axes>"
      ]
     },
     "metadata": {
      "needs_background": "light"
     }
    }
   ],
   "metadata": {}
  },
  {
   "cell_type": "code",
   "execution_count": null,
   "source": [
    "# RuLSIF            \n",
    "from module_.featureExtraction import feature_extraction\n",
    "from module_.changePointDetection import change_point_detection\n",
    "from matplotlib import pyplot as plt\n",
    "\n",
    "# test = np.array(test)\n",
    "\n",
    "# features = np.array(\n",
    "#     feature_extraction(test, 'testbed', sensors)\n",
    "# )\n",
    "# scores = np.array(\n",
    "#     change_point_detection(features, 'RuLSIF')\n",
    "# )\n",
    "# score_s = np.array(change_point_detection(time_windows, \"RuLSIF\"))\n",
    "\n",
    "fig = plt.figure(figsize=(20, 1))\n",
    "ax = fig.add_subplot(1, 1, 1)\n",
    "\n",
    "plt.title(label)\n",
    "# plt.ylim(0, 1)\n",
    "plt.plot(range(len(score)), score)\n",
    "for item in ground_truth:\n",
    "    plt.axvline(x=item, color=\"g\", linestyle=\":\")\n",
    "# plt.axhline(y=0.1, color=\"r\", linestyle=\":\")"
   ],
   "outputs": [],
   "metadata": {}
  }
 ],
 "metadata": {
  "orig_nbformat": 4,
  "language_info": {
   "name": "python",
   "version": "3.8.10",
   "mimetype": "text/x-python",
   "codemirror_mode": {
    "name": "ipython",
    "version": 3
   },
   "pygments_lexer": "ipython3",
   "nbconvert_exporter": "python",
   "file_extension": ".py"
  },
  "kernelspec": {
   "name": "python3",
   "display_name": "Python 3.8.10 64-bit"
  },
  "interpreter": {
   "hash": "31f2aee4e71d21fbe5cf8b01ff0e069b9275f58929596ceb00d14d90e3e16cd6"
  }
 },
 "nbformat": 4,
 "nbformat_minor": 2
}
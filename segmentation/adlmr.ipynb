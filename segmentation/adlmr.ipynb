{
 "cells": [
  {
   "cell_type": "code",
   "execution_count": null,
   "metadata": {},
   "outputs": [],
   "source": [
    "\"\"\"\n",
    "import packages\n",
    "\"\"\"\n",
    "import os, glob\n",
    "import pandas as pd\n",
    "import numpy as np\n",
    "import math, random\n",
    "from datetime import datetime\n",
    "import pickle\n",
    "from matplotlib import pyplot as plt\n",
    "import argparse\n",
    "import path, sys, re, time\n",
    "from collections import Counter\n",
    "from scipy.spatial import distance_matrix\n",
    "from scipy.signal import find_peaks"
   ]
  },
  {
   "cell_type": "code",
   "execution_count": null,
   "metadata": {},
   "outputs": [],
   "source": [
    "\"\"\"\n",
    "import custom modules\n",
    "\"\"\"\n",
    "from module_.readText import read_adlmr\n",
    "from module_.info.adlmr import adlmr_location\n",
    "from module_.featureExtraction import feature_extraction\n",
    "from module_.changePointDetection import change_point_detection\n",
    "from module_.info.config import feature_name"
   ]
  },
  {
   "cell_type": "code",
   "execution_count": null,
   "metadata": {},
   "outputs": [],
   "source": [
    "# load dataset\n",
    "\n",
    "f=open(\"./dataset/adlmr/annotated\", 'rb')\n",
    "text = f.readlines()\n",
    "tasks = read_adlmr(text)"
   ]
  },
  {
   "cell_type": "code",
   "execution_count": null,
   "metadata": {},
   "outputs": [],
   "source": [
    "data_name='adlmr'\n",
    "metric='SEP'\n",
    "\n",
    "folder=\"./features/{}\".format(data_name)\n",
    "if not os.path.exists(folder):\n",
    "    os.mkdir(folder)\n",
    "\n",
    "fig = plt.figure(constrained_layout=True, figsize=(15, 15))\n",
    "\n",
    "sensor_set=set()\n",
    "for _, v in tasks.items():\n",
    "    for v_ in v:\n",
    "        sensor_set = sensor_set | set(np.array(v_)[:,0])\n",
    "sensor_list=sorted(sensor_set)\n",
    "print(len(sensor_list))\n",
    "\n",
    "for k, v in tasks.items():\n",
    "    activityfolder=\"{}/{}\".format(folder, k)\n",
    "    if not os.path.exists(activityfolder):\n",
    "        os.mkdir(activityfolder)\n",
    "    for i, eps in enumerate(v):\n",
    "        eps=np.array(eps)\n",
    "        afolder=\"{}/{}\".format(activityfolder, i)\n",
    "        if not os.path.exists(afolder):\n",
    "            os.mkdir(afolder)\n",
    "        \n",
    "        # sensor_list = sorted(set(eps[:, 0]))\n",
    "        features = np.array(feature_extraction(eps, data_name, sensor_list))\n",
    "\n",
    "        x_ = range(len(eps))\n",
    "\n",
    "        scores = change_point_detection(features, \"\", data_name, metric)\n",
    "\n",
    "        names = list(feature_name.values())\n",
    "        for i in range(12):\n",
    "            ax_ = fig.add_subplot(13, 1, i+1)\n",
    "            ax_.plot(x_, features[:,i], '.-')\n",
    "            ax_.set_ylabel(names[i])\n",
    "            ax_.set_ylim(-0.1,2)\n",
    "        ax_ = fig.add_subplot(13, 1, 13)\n",
    "        ax_.bar(x_, scores, color='g')\n",
    "        ax_.set_ylabel(metric)\n",
    "        ax_.set_ylim(0,1)\n",
    "        fig.savefig(\"{}/feature_basic.png\".format(afolder))\n",
    "        fig.clf()\n",
    "\n",
    "        # # fig, ax = plt.subplots(len(sensor_list), 1, sharex=True, constrained_layout=True, figsize=(15, 15))\n",
    "        # for i in range(12, 12+len(sensor_list)):\n",
    "        #     i_ = i - 12\n",
    "        #     ax_ = fig.add_subplot(len(sensor_list), 2, 2*i_+1)\n",
    "        #     ax_.plot(x_, features[:,i], '.-')\n",
    "        #     ax_.set_ylabel(sensor_list[i_])\n",
    "        #     ax_.set_ylim(0,1)\n",
    "        \n",
    "        # # fig.savefig(\"{}/feature_count.png\".format(idx_folder))\n",
    "        # # fig.clf()\n",
    "\n",
    "        # # fig, ax = plt.subplots(len(sensor_list), 1, sharex=True, constrained_layout=True, figsize=(15, 15))\n",
    "        # for i in range(12+len(sensor_list), 12+2*len(sensor_list)):\n",
    "        #     i_ = i-(12+len(sensor_list))\n",
    "        #     ax_ = fig.add_subplot(len(sensor_list), 2, 2*(i_+1))\n",
    "        #     ax_.plot(x_, features[:,i], '.-')\n",
    "        #     ax_.set_ylabel(sensor_list[i_])\n",
    "        #     ax_.set_ylim(0,1)\n",
    "        \n",
    "        # fig.savefig(\"{}/feature_sensor.png\".format(afolder))\n",
    "        # fig.clf()\n"
   ]
  }
 ],
 "metadata": {
  "interpreter": {
   "hash": "31f2aee4e71d21fbe5cf8b01ff0e069b9275f58929596ceb00d14d90e3e16cd6"
  },
  "kernelspec": {
   "display_name": "Python 3.8.10 64-bit",
   "name": "python3"
  },
  "language_info": {
   "codemirror_mode": {
    "name": "ipython",
    "version": 3
   },
   "file_extension": ".py",
   "mimetype": "text/x-python",
   "name": "python",
   "nbconvert_exporter": "python",
   "pygments_lexer": "ipython3",
   "version": "3.8.10"
  },
  "metadata": {
   "interpreter": {
    "hash": "31f2aee4e71d21fbe5cf8b01ff0e069b9275f58929596ceb00d14d90e3e16cd6"
   }
  },
  "orig_nbformat": 2
 },
 "nbformat": 4,
 "nbformat_minor": 2
}
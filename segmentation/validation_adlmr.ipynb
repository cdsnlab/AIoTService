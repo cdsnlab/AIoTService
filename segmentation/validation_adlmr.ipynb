{
 "cells": [
  {
   "cell_type": "code",
   "execution_count": 1,
   "source": [
    "import numpy as np\n",
    "from matplotlib import pyplot as plt\n",
    "\n",
    "from module_.dataLoader import dataLoader\n",
    "from module_.featureExtraction import feature_extraction\n",
    "from module_.changePointDetection import change_point_detection\n",
    "\n",
    "from module_.info.config import feature_name"
   ],
   "outputs": [],
   "metadata": {}
  },
  {
   "cell_type": "code",
   "execution_count": 2,
   "source": [
    "episodes, transitions, labels = dataLoader(\"adlmr\")"
   ],
   "outputs": [],
   "metadata": {}
  },
  {
   "cell_type": "code",
   "execution_count": null,
   "source": [
    "test_index = 2\n",
    "episode, transition, label = episodes[test_index], transitions[test_index], labels[test_index]\n",
    "\n",
    "sensor_list = sorted(set(episode[:,0]))\n",
    "segmentation_features = np.array(feature_extraction(episode, \"adlmr\", sensor_list))\n",
    "\n",
    "score_s = np.array(change_point_detection(segmentation_features, \"RuLSIF\"))\n",
    "\n",
    "fig = plt.figure(figsize=(20, 1))\n",
    "ax = fig.add_subplot(1, 1, 1)\n",
    "\n",
    "plt.title(label)\n",
    "plt.ylim(0, 1)\n",
    "plt.plot(range(len(score_s)), score_s)\n",
    "plt.axvline(x=transition, color=\"g\", linestyle=\":\")\n",
    "plt.axhline(y=0.1, color=\"r\", linestyle=\":\")\n",
    "\n",
    "# test on group activity dataset\n",
    "# statistics of false alarms per activity: (hh101, adlmr, testbed)\n",
    "# is it problem or not?"
   ],
   "outputs": [],
   "metadata": {}
  },
  {
   "cell_type": "code",
   "execution_count": null,
   "source": [
    "score_list = []\n",
    "for ei in range(len(episodes)):\n",
    "    if ei%100==0:\n",
    "        print(ei, len(episodes))\n",
    "    test_index = ei\n",
    "    episode, transition, label = episodes[test_index], transitions[test_index], labels[test_index]\n",
    "\n",
    "    sensor_list = sorted(set(episode[:,0]))\n",
    "    segmentation_features = np.array(feature_extraction(episode, \"adlmr\", sensor_list))\n",
    "\n",
    "    scores = np.array(change_point_detection(segmentation_features, \"RuLSIF\"))\n",
    "    score_list.append(scores)\n",
    "\n",
    "np.save(\"./replication/adlmr/scores_r.npy\", score_list)"
   ],
   "outputs": [],
   "metadata": {}
  },
  {
   "cell_type": "code",
   "execution_count": null,
   "source": [
    "true_positive = true_negative = false_positive = false_negative = 0\n",
    "\n",
    "threshold = 0.1\n",
    "\n",
    "for ei in range(len(episodes)):\n",
    "    test_index = ei\n",
    "    episode, transition, label = episodes[test_index], transitions[test_index], labels[test_index]\n",
    "    scores = score_list[test_index]\n",
    "\n",
    "    gt_timestamp_l = float(episode[transition-1][2])\n",
    "    gt_timestamp_r = float(episode[transition][2])\n",
    "\n",
    "    tp = tn = fp = fn =0\n",
    "    activation = False\n",
    "    activation_timestamp = 0\n",
    "    for j in range(len(episode)):\n",
    "        s = scores[j]\n",
    "\n",
    "        score = s\n",
    "        timestamp = float(episode[j][2])\n",
    "\n",
    "        if score>=threshold: #POSITIVE\n",
    "            # if activation and timestamp - activation_timestamp <=20 : #SKIP\n",
    "            #     if j!=transition:\n",
    "            #         tn+=1\n",
    "            #     else:\n",
    "            #         fn+=1\n",
    "            #     activation = False\n",
    "            #     continue\n",
    "            if j==transition:\n",
    "                tp+=1\n",
    "            else:\n",
    "                if abs(gt_timestamp_l-timestamp)<=2 or abs(gt_timestamp_r-timestamp)<=2:\n",
    "                    tp+=1\n",
    "                else:\n",
    "                    fp+=1\n",
    "            activation = True\n",
    "            activation_timestamp = timestamp\n",
    "        else:\n",
    "            if j!=transition:\n",
    "                tn+=1\n",
    "            else:\n",
    "                fn+=1\n",
    "\n",
    "    true_positive+=tp\n",
    "    true_negative+=tn\n",
    "    false_positive+=fp\n",
    "    false_negative+=fn"
   ],
   "outputs": [],
   "metadata": {}
  },
  {
   "cell_type": "code",
   "execution_count": null,
   "source": [
    "true_positive / (true_positive+false_negative), false_positive / (false_positive+true_negative)"
   ],
   "outputs": [],
   "metadata": {}
  },
  {
   "cell_type": "code",
   "execution_count": null,
   "source": [
    "label_list = set()\n",
    "for label in labels:\n",
    "    left, right = label.split(\"-\")\n",
    "    label_list.add(left); label_list.add(right)\n",
    "label_list = sorted(label_list)\n",
    "\n",
    "events_dict = {label:(0, 0) for label in label_list}\n",
    "sensor_dict = {label:(0, 0) for label in label_list}\n",
    "duration_dict = {label:(0, 0) for label in label_list}\n",
    "alarm_dict = {label:(0, 0) for label in label_list}\n",
    "\n",
    "for ei in range(len(episodes)):\n",
    "    if ei%100==0:\n",
    "        print(ei, len(episodes))\n",
    "    test_index = ei\n",
    "    episode, transition, label = episodes[test_index], transitions[test_index], labels[test_index]\n",
    "\n",
    "    # left\n",
    "    leftlabel = label[:2]\n",
    "    events_dict[leftlabel]=(events_dict[leftlabel][0]+len(episode[:transition]),events_dict[leftlabel][1]+1)\n",
    "    sensor_dict[leftlabel]=(sensor_dict[leftlabel][0]+len(set(episode[:transition,0])),sensor_dict[leftlabel][1]+1)\n",
    "    duration_dict[leftlabel]=(duration_dict[leftlabel][0]+float(episode[transition-1,2])-float(episode[0,2]),duration_dict[leftlabel][1]+1)\n",
    "\n",
    "    sensor_list = sorted(set(episode[:,0]))\n",
    "    segmentation_features = np.array(feature_extraction(episode, \"adlmr\", sensor_list))\n",
    "\n",
    "    scores = np.array(change_point_detection(segmentation_features[:transition+2], \"RuLSIF\"))\n",
    "\n",
    "    alarm_dict[leftlabel]=(alarm_dict[leftlabel][0]+sum([1 for i in range(len(scores[:transition])) if scores[i]>0.1]),alarm_dict[leftlabel][1]+1)"
   ],
   "outputs": [],
   "metadata": {}
  },
  {
   "cell_type": "code",
   "execution_count": null,
   "source": [
    "for k, v in alarm_dict.items():\n",
    "    print(k, v[0]/v[1])"
   ],
   "outputs": [],
   "metadata": {}
  },
  {
   "cell_type": "markdown",
   "source": [
    "# 1. Dataloader - adlmr\n",
    "# 2. Extract Features and Store them\n",
    "# 3. Scoring (RuLSIF)\n",
    "# 4. Select Feature set whose score is above threshold\n",
    "# 5. analyze the change of Features and infer the cause that brought high score!"
   ],
   "metadata": {}
  },
  {
   "cell_type": "code",
   "execution_count": null,
   "source": [
    "threshold, window_size = 1e-1, 30\n",
    "\n",
    "for i in range(len(episodes)):\n",
    "    episode, transition, label = episodes[i], transitions[i], labels[i]\n",
    "\n",
    "    sensor_list = sorted(set(episode[:,0])); print(len(sensor_list))\n",
    "\n",
    "    features = np.array(\n",
    "        feature_extraction(episode, \"adlmr\", sensor_list)\n",
    "    )\n",
    "\n",
    "    scores = np.array(\n",
    "        change_point_detection(features, \"RuLSIF\")\n",
    "    )\n",
    "\n",
    "    positive_indices = [i for i in range(len(scores)) if scores[i]>threshold]\n",
    "\n",
    "    break"
   ],
   "outputs": [],
   "metadata": {}
  },
  {
   "cell_type": "code",
   "execution_count": null,
   "source": [
    "# print(len(positive_indices), len(scores))\n",
    "print(positive_indices, transition)\n",
    "\n",
    "test = 85 #positive_indices[1]\n",
    "print(test, scores[test])\n",
    "\n",
    "event_stream = episode[max(0, test-window_size+1):min(len(episode), test+3)]\n",
    "feature_set = features[test:min(len(episode), test+3)]\n",
    "# print(event_stream)\n",
    "\n",
    "for f in range(feature_set.shape[1]):\n",
    "    f_col = feature_set[:,f]\n",
    "\n",
    "    \n",
    "    if f>len(feature_name)-2:\n",
    "        idx = int((f-len(feature_name)+2)/len(sensor_list))\n",
    "        name = feature_name[len(feature_name)-2+idx] + sensor_list[(f-len(feature_name)+2)%len(sensor_list)]\n",
    "    else:\n",
    "        name = feature_name[f]\n",
    "    if min(f_col)!=max(f_col):\n",
    "        print(name, f_col)"
   ],
   "outputs": [],
   "metadata": {}
  }
 ],
 "metadata": {
  "orig_nbformat": 4,
  "language_info": {
   "name": "python",
   "version": "3.8.10",
   "mimetype": "text/x-python",
   "codemirror_mode": {
    "name": "ipython",
    "version": 3
   },
   "pygments_lexer": "ipython3",
   "nbconvert_exporter": "python",
   "file_extension": ".py"
  },
  "kernelspec": {
   "name": "python3",
   "display_name": "Python 3.8.10 64-bit"
  },
  "interpreter": {
   "hash": "31f2aee4e71d21fbe5cf8b01ff0e069b9275f58929596ceb00d14d90e3e16cd6"
  }
 },
 "nbformat": 4,
 "nbformat_minor": 2
}
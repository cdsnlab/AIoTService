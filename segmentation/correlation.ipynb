{
 "cells": [
  {
   "cell_type": "markdown",
   "source": [
    "# Import packages and modules"
   ],
   "metadata": {}
  },
  {
   "cell_type": "code",
   "execution_count": 1,
   "source": [
    "import os, glob\n",
    "import json\n",
    "import pandas as pd\n",
    "import numpy as np\n",
    "import math, random\n",
    "import datetime as dt\n",
    "import pickle\n",
    "from matplotlib import pyplot as plt\n",
    "import argparse\n",
    "import path, sys, re, time\n",
    "from collections import Counter\n",
    "from scipy.spatial import distance_matrix\n",
    "from scipy.signal import find_peaks\n",
    "\n",
    "\n",
    "from module_.info.testbed import activityfiles_new\n",
    "from module_.info.config import config, feature_name\n",
    "from module_.readText import create_episodes, time_correction, read_adlmr\n",
    "from module_.featureExtraction import feature_extraction\n",
    "from module_.changePointDetection import change_point_detection\n"
   ],
   "outputs": [],
   "metadata": {}
  },
  {
   "cell_type": "code",
   "execution_count": null,
   "source": [
    "from module_.correlation import correlation\n",
    "\n",
    "result = correlation(\"hh101\",\"RuLSIF\")"
   ],
   "outputs": [],
   "metadata": {}
  },
  {
   "cell_type": "code",
   "execution_count": null,
   "source": [
    "from module_.dataLoader import dataLoader\n",
    "\n",
    "episodes, transitions, labels = dataLoader(\"hh101\")"
   ],
   "outputs": [],
   "metadata": {}
  },
  {
   "cell_type": "code",
   "execution_count": 2,
   "source": [
    "# np.save(\"./correlation/dataload/hh101/episodes.npy\", episodes)\n",
    "# np.save(\"./correlation/dataload/hh101/transitions.npy\", transitions)\n",
    "# np.save(\"./correlation/dataload/hh101/labels.npy\", labels)\n",
    "\n",
    "episodes = np.load(\"./correlation/dataload/hh101/episodes.npy\", allow_pickle=True)\n",
    "transitions = np.load(\"./correlation/dataload/hh101/transitions.npy\")\n",
    "labels = np.load(\"./correlation/dataload/hh101/labels.npy\")"
   ],
   "outputs": [],
   "metadata": {}
  },
  {
   "cell_type": "code",
   "execution_count": 52,
   "source": [
    "from module_.prototype import coefficient\n",
    "# import numpy as np\n",
    "\n",
    "test_idx = 30\n",
    "episode, transition, label = episodes[test_idx], transitions[test_idx], labels[test_idx]\n",
    "\n",
    "states = coefficient(episode, lambda_=5)\n",
    "\n",
    "fig = plt.figure(figsize=(20, 1))\n",
    "ax = fig.add_subplot(1, 1, 1)\n",
    "\n",
    "timestamps=[float(timestamp)-float(episode[0,2]) for timestamp in episode[:,2]]\n",
    "transition_timestamp = float(episode[transition,2])-float(episode[0,2])\n",
    "\n",
    "# print(states)\n",
    "\n",
    "plt.plot(timestamps, states, '.-', color='b')\n",
    "plt.title(label)\n",
    "plt.axvline(x=transition_timestamp, linestyle=\":\", color=\"g\", label=\"transition\")\n",
    "plt.axvspan(0, transition_timestamp, facecolor='r', alpha=0.2, \n",
    "    #label=label.split(\"-\")[0]\n",
    ")\n",
    "plt.axvspan(transition_timestamp, float(episode[-1,2])-float(episode[0,2]),\n",
    "    facecolor='b', alpha=0.2, \n",
    "#    label=label.split(\"-\")[1]\n",
    ")\n",
    "plt.axvspan(max(0, transition_timestamp-10), min(transition_timestamp+10, float(episode[-1,2])-float(episode[0,2])), \n",
    "    facecolor='g', alpha=0.2\n",
    ")\n",
    "plt.legend()\n",
    "plt.show()\n",
    "# print(transition)\n",
    "# print(episode[max(0,transition-10):transition+10])\n",
    "# print(states[max(0,transition-10):transition+10])"
   ],
   "outputs": [
    {
     "output_type": "display_data",
     "data": {
      "text/plain": [
       "<Figure size 1440x72 with 1 Axes>"
      ],
      "image/svg+xml": "<?xml version=\"1.0\" encoding=\"utf-8\" standalone=\"no\"?>\n<!DOCTYPE svg PUBLIC \"-//W3C//DTD SVG 1.1//EN\"\n  \"http://www.w3.org/Graphics/SVG/1.1/DTD/svg11.dtd\">\n<svg height=\"100.55625pt\" version=\"1.1\" viewBox=\"0 0 1159.665625 100.55625\" width=\"1159.665625pt\" xmlns=\"http://www.w3.org/2000/svg\" xmlns:xlink=\"http://www.w3.org/1999/xlink\">\n <metadata>\n  <rdf:RDF xmlns:cc=\"http://creativecommons.org/ns#\" xmlns:dc=\"http://purl.org/dc/elements/1.1/\" xmlns:rdf=\"http://www.w3.org/1999/02/22-rdf-syntax-ns#\">\n   <cc:Work>\n    <dc:type rdf:resource=\"http://purl.org/dc/dcmitype/StillImage\"/>\n    <dc:date>2021-08-26T21:36:01.429978</dc:date>\n    <dc:format>image/svg+xml</dc:format>\n    <dc:creator>\n     <cc:Agent>\n      <dc:title>Matplotlib v3.4.1, https://matplotlib.org/</dc:title>\n     </cc:Agent>\n    </dc:creator>\n   </cc:Work>\n  </rdf:RDF>\n </metadata>\n <defs>\n  <style type=\"text/css\">*{stroke-linecap:butt;stroke-linejoin:round;}</style>\n </defs>\n <g id=\"figure_1\">\n  <g id=\"patch_1\">\n   <path d=\"M 0 100.55625 \nL 1159.665625 100.55625 \nL 1159.665625 0 \nL 0 0 \nz\n\" style=\"fill:none;\"/>\n  </g>\n  <g id=\"axes_1\">\n   <g id=\"patch_2\">\n    <path d=\"M 36.465625 76.678125 \nL 1152.465625 76.678125 \nL 1152.465625 22.318125 \nL 36.465625 22.318125 \nz\n\" style=\"fill:#ffffff;\"/>\n   </g>\n   <g id=\"patch_3\">\n    <path clip-path=\"url(#p33d9d94e5c)\" d=\"M 87.192898 76.678125 \nL 87.192898 22.318125 \nL 224.048909 22.318125 \nL 224.048909 76.678125 \nz\n\" style=\"fill:#ff0000;opacity:0.2;\"/>\n   </g>\n   <g id=\"patch_4\">\n    <path clip-path=\"url(#p33d9d94e5c)\" d=\"M 224.048909 76.678125 \nL 224.048909 22.318125 \nL 1101.738352 22.318125 \nL 1101.738352 76.678125 \nz\n\" style=\"fill:#0000ff;opacity:0.2;\"/>\n   </g>\n   <g id=\"patch_5\">\n    <path clip-path=\"url(#p33d9d94e5c)\" d=\"M 180.945186 76.678125 \nL 180.945186 22.318125 \nL 267.152633 22.318125 \nL 267.152633 76.678125 \nz\n\" style=\"fill:#008000;opacity:0.2;\"/>\n   </g>\n   <g id=\"matplotlib.axis_1\">\n    <g id=\"xtick_1\">\n     <g id=\"line2d_1\">\n      <defs>\n       <path d=\"M 0 0 \nL 0 3.5 \n\" id=\"mbeb8e7ddfc\" style=\"stroke:#000000;stroke-width:0.8;\"/>\n      </defs>\n      <g>\n       <use style=\"stroke:#000000;stroke-width:0.8;\" x=\"87.192898\" xlink:href=\"#mbeb8e7ddfc\" y=\"76.678125\"/>\n      </g>\n     </g>\n     <g id=\"text_1\">\n      <!-- 0 -->\n      <g transform=\"translate(84.011648 91.276563)scale(0.1 -0.1)\">\n       <defs>\n        <path d=\"M 2034 4250 \nQ 1547 4250 1301 3770 \nQ 1056 3291 1056 2328 \nQ 1056 1369 1301 889 \nQ 1547 409 2034 409 \nQ 2525 409 2770 889 \nQ 3016 1369 3016 2328 \nQ 3016 3291 2770 3770 \nQ 2525 4250 2034 4250 \nz\nM 2034 4750 \nQ 2819 4750 3233 4129 \nQ 3647 3509 3647 2328 \nQ 3647 1150 3233 529 \nQ 2819 -91 2034 -91 \nQ 1250 -91 836 529 \nQ 422 1150 422 2328 \nQ 422 3509 836 4129 \nQ 1250 4750 2034 4750 \nz\n\" id=\"DejaVuSans-30\" transform=\"scale(0.015625)\"/>\n       </defs>\n       <use xlink:href=\"#DejaVuSans-30\"/>\n      </g>\n     </g>\n    </g>\n    <g id=\"xtick_2\">\n     <g id=\"line2d_2\">\n      <g>\n       <use style=\"stroke:#000000;stroke-width:0.8;\" x=\"302.711514\" xlink:href=\"#mbeb8e7ddfc\" y=\"76.678125\"/>\n      </g>\n     </g>\n     <g id=\"text_2\">\n      <!-- 50 -->\n      <g transform=\"translate(296.349014 91.276563)scale(0.1 -0.1)\">\n       <defs>\n        <path d=\"M 691 4666 \nL 3169 4666 \nL 3169 4134 \nL 1269 4134 \nL 1269 2991 \nQ 1406 3038 1543 3061 \nQ 1681 3084 1819 3084 \nQ 2600 3084 3056 2656 \nQ 3513 2228 3513 1497 \nQ 3513 744 3044 326 \nQ 2575 -91 1722 -91 \nQ 1428 -91 1123 -41 \nQ 819 9 494 109 \nL 494 744 \nQ 775 591 1075 516 \nQ 1375 441 1709 441 \nQ 2250 441 2565 725 \nQ 2881 1009 2881 1497 \nQ 2881 1984 2565 2268 \nQ 2250 2553 1709 2553 \nQ 1456 2553 1204 2497 \nQ 953 2441 691 2322 \nL 691 4666 \nz\n\" id=\"DejaVuSans-35\" transform=\"scale(0.015625)\"/>\n       </defs>\n       <use xlink:href=\"#DejaVuSans-35\"/>\n       <use x=\"63.623047\" xlink:href=\"#DejaVuSans-30\"/>\n      </g>\n     </g>\n    </g>\n    <g id=\"xtick_3\">\n     <g id=\"line2d_3\">\n      <g>\n       <use style=\"stroke:#000000;stroke-width:0.8;\" x=\"518.23013\" xlink:href=\"#mbeb8e7ddfc\" y=\"76.678125\"/>\n      </g>\n     </g>\n     <g id=\"text_3\">\n      <!-- 100 -->\n      <g transform=\"translate(508.68638 91.276563)scale(0.1 -0.1)\">\n       <defs>\n        <path d=\"M 794 531 \nL 1825 531 \nL 1825 4091 \nL 703 3866 \nL 703 4441 \nL 1819 4666 \nL 2450 4666 \nL 2450 531 \nL 3481 531 \nL 3481 0 \nL 794 0 \nL 794 531 \nz\n\" id=\"DejaVuSans-31\" transform=\"scale(0.015625)\"/>\n       </defs>\n       <use xlink:href=\"#DejaVuSans-31\"/>\n       <use x=\"63.623047\" xlink:href=\"#DejaVuSans-30\"/>\n       <use x=\"127.246094\" xlink:href=\"#DejaVuSans-30\"/>\n      </g>\n     </g>\n    </g>\n    <g id=\"xtick_4\">\n     <g id=\"line2d_4\">\n      <g>\n       <use style=\"stroke:#000000;stroke-width:0.8;\" x=\"733.748746\" xlink:href=\"#mbeb8e7ddfc\" y=\"76.678125\"/>\n      </g>\n     </g>\n     <g id=\"text_4\">\n      <!-- 150 -->\n      <g transform=\"translate(724.204996 91.276563)scale(0.1 -0.1)\">\n       <use xlink:href=\"#DejaVuSans-31\"/>\n       <use x=\"63.623047\" xlink:href=\"#DejaVuSans-35\"/>\n       <use x=\"127.246094\" xlink:href=\"#DejaVuSans-30\"/>\n      </g>\n     </g>\n    </g>\n    <g id=\"xtick_5\">\n     <g id=\"line2d_5\">\n      <g>\n       <use style=\"stroke:#000000;stroke-width:0.8;\" x=\"949.267361\" xlink:href=\"#mbeb8e7ddfc\" y=\"76.678125\"/>\n      </g>\n     </g>\n     <g id=\"text_5\">\n      <!-- 200 -->\n      <g transform=\"translate(939.723611 91.276563)scale(0.1 -0.1)\">\n       <defs>\n        <path d=\"M 1228 531 \nL 3431 531 \nL 3431 0 \nL 469 0 \nL 469 531 \nQ 828 903 1448 1529 \nQ 2069 2156 2228 2338 \nQ 2531 2678 2651 2914 \nQ 2772 3150 2772 3378 \nQ 2772 3750 2511 3984 \nQ 2250 4219 1831 4219 \nQ 1534 4219 1204 4116 \nQ 875 4013 500 3803 \nL 500 4441 \nQ 881 4594 1212 4672 \nQ 1544 4750 1819 4750 \nQ 2544 4750 2975 4387 \nQ 3406 4025 3406 3419 \nQ 3406 3131 3298 2873 \nQ 3191 2616 2906 2266 \nQ 2828 2175 2409 1742 \nQ 1991 1309 1228 531 \nz\n\" id=\"DejaVuSans-32\" transform=\"scale(0.015625)\"/>\n       </defs>\n       <use xlink:href=\"#DejaVuSans-32\"/>\n       <use x=\"63.623047\" xlink:href=\"#DejaVuSans-30\"/>\n       <use x=\"127.246094\" xlink:href=\"#DejaVuSans-30\"/>\n      </g>\n     </g>\n    </g>\n   </g>\n   <g id=\"matplotlib.axis_2\">\n    <g id=\"ytick_1\">\n     <g id=\"line2d_6\">\n      <defs>\n       <path d=\"M 0 0 \nL -3.5 0 \n\" id=\"m91e9e43891\" style=\"stroke:#000000;stroke-width:0.8;\"/>\n      </defs>\n      <g>\n       <use style=\"stroke:#000000;stroke-width:0.8;\" x=\"36.465625\" xlink:href=\"#m91e9e43891\" y=\"64.883973\"/>\n      </g>\n     </g>\n     <g id=\"text_6\">\n      <!-- 0.05 -->\n      <g transform=\"translate(7.2 68.683192)scale(0.1 -0.1)\">\n       <defs>\n        <path d=\"M 684 794 \nL 1344 794 \nL 1344 0 \nL 684 0 \nL 684 794 \nz\n\" id=\"DejaVuSans-2e\" transform=\"scale(0.015625)\"/>\n       </defs>\n       <use xlink:href=\"#DejaVuSans-30\"/>\n       <use x=\"63.623047\" xlink:href=\"#DejaVuSans-2e\"/>\n       <use x=\"95.410156\" xlink:href=\"#DejaVuSans-30\"/>\n       <use x=\"159.033203\" xlink:href=\"#DejaVuSans-35\"/>\n      </g>\n     </g>\n    </g>\n    <g id=\"ytick_2\">\n     <g id=\"line2d_7\">\n      <g>\n       <use style=\"stroke:#000000;stroke-width:0.8;\" x=\"36.465625\" xlink:href=\"#m91e9e43891\" y=\"48.665876\"/>\n      </g>\n     </g>\n     <g id=\"text_7\">\n      <!-- 0.10 -->\n      <g transform=\"translate(7.2 52.465095)scale(0.1 -0.1)\">\n       <use xlink:href=\"#DejaVuSans-30\"/>\n       <use x=\"63.623047\" xlink:href=\"#DejaVuSans-2e\"/>\n       <use x=\"95.410156\" xlink:href=\"#DejaVuSans-31\"/>\n       <use x=\"159.033203\" xlink:href=\"#DejaVuSans-30\"/>\n      </g>\n     </g>\n    </g>\n    <g id=\"ytick_3\">\n     <g id=\"line2d_8\">\n      <g>\n       <use style=\"stroke:#000000;stroke-width:0.8;\" x=\"36.465625\" xlink:href=\"#m91e9e43891\" y=\"32.447779\"/>\n      </g>\n     </g>\n     <g id=\"text_8\">\n      <!-- 0.15 -->\n      <g transform=\"translate(7.2 36.246998)scale(0.1 -0.1)\">\n       <use xlink:href=\"#DejaVuSans-30\"/>\n       <use x=\"63.623047\" xlink:href=\"#DejaVuSans-2e\"/>\n       <use x=\"95.410156\" xlink:href=\"#DejaVuSans-31\"/>\n       <use x=\"159.033203\" xlink:href=\"#DejaVuSans-35\"/>\n      </g>\n     </g>\n    </g>\n   </g>\n   <g id=\"line2d_9\">\n    <path clip-path=\"url(#p33d9d94e5c)\" d=\"M 87.192898 74.207216 \nL 90.988401 70.774234 \nL 115.159357 70.914927 \nL 121.681984 63.275438 \nL 131.433262 59.152312 \nL 134.904224 43.500508 \nL 136.418871 41.038248 \nL 136.663278 24.789034 \nL 139.497995 32.840662 \nL 154.858929 49.726204 \nL 156.506633 43.527074 \nL 163.703696 44.447852 \nL 224.048909 47.245514 \nL 228.932923 46.192665 \nL 233.818892 45.897686 \nL 238.627217 45.06539 \nL 244.302717 45.761257 \nL 256.510024 45.761257 \nL 259.732411 45.761257 \nL 264.569758 45.761257 \nL 847.383858 45.761257 \nL 851.979901 45.761257 \nL 858.455671 45.761257 \nL 877.232873 45.761257 \nL 969.277271 45.761257 \nL 976.419383 45.761257 \nL 989.388191 45.761257 \nL 1002.417254 45.761257 \nL 1040.186183 45.761257 \nL 1050.623551 45.761257 \nL 1063.042922 45.761257 \nL 1080.620358 45.761257 \nL 1083.227366 45.761257 \nL 1101.738352 45.761257 \n\" style=\"fill:none;stroke:#0000ff;stroke-linecap:square;stroke-width:1.5;\"/>\n    <defs>\n     <path d=\"M 0 1.5 \nC 0.397805 1.5 0.77937 1.341951 1.06066 1.06066 \nC 1.341951 0.77937 1.5 0.397805 1.5 0 \nC 1.5 -0.397805 1.341951 -0.77937 1.06066 -1.06066 \nC 0.77937 -1.341951 0.397805 -1.5 0 -1.5 \nC -0.397805 -1.5 -0.77937 -1.341951 -1.06066 -1.06066 \nC -1.341951 -0.77937 -1.5 -0.397805 -1.5 0 \nC -1.5 0.397805 -1.341951 0.77937 -1.06066 1.06066 \nC -0.77937 1.341951 -0.397805 1.5 0 1.5 \nz\n\" id=\"mf951890c9b\" style=\"stroke:#0000ff;\"/>\n    </defs>\n    <g clip-path=\"url(#p33d9d94e5c)\">\n     <use style=\"fill:#0000ff;stroke:#0000ff;\" x=\"87.192898\" xlink:href=\"#mf951890c9b\" y=\"74.207216\"/>\n     <use style=\"fill:#0000ff;stroke:#0000ff;\" x=\"90.988401\" xlink:href=\"#mf951890c9b\" y=\"70.774234\"/>\n     <use style=\"fill:#0000ff;stroke:#0000ff;\" x=\"115.159357\" xlink:href=\"#mf951890c9b\" y=\"70.914927\"/>\n     <use style=\"fill:#0000ff;stroke:#0000ff;\" x=\"121.681984\" xlink:href=\"#mf951890c9b\" y=\"63.275438\"/>\n     <use style=\"fill:#0000ff;stroke:#0000ff;\" x=\"131.433262\" xlink:href=\"#mf951890c9b\" y=\"59.152312\"/>\n     <use style=\"fill:#0000ff;stroke:#0000ff;\" x=\"134.904224\" xlink:href=\"#mf951890c9b\" y=\"43.500508\"/>\n     <use style=\"fill:#0000ff;stroke:#0000ff;\" x=\"136.418871\" xlink:href=\"#mf951890c9b\" y=\"41.038248\"/>\n     <use style=\"fill:#0000ff;stroke:#0000ff;\" x=\"136.663278\" xlink:href=\"#mf951890c9b\" y=\"24.789034\"/>\n     <use style=\"fill:#0000ff;stroke:#0000ff;\" x=\"139.497995\" xlink:href=\"#mf951890c9b\" y=\"32.840662\"/>\n     <use style=\"fill:#0000ff;stroke:#0000ff;\" x=\"154.858929\" xlink:href=\"#mf951890c9b\" y=\"49.726204\"/>\n     <use style=\"fill:#0000ff;stroke:#0000ff;\" x=\"156.506633\" xlink:href=\"#mf951890c9b\" y=\"43.527074\"/>\n     <use style=\"fill:#0000ff;stroke:#0000ff;\" x=\"163.703696\" xlink:href=\"#mf951890c9b\" y=\"44.447852\"/>\n     <use style=\"fill:#0000ff;stroke:#0000ff;\" x=\"224.048909\" xlink:href=\"#mf951890c9b\" y=\"47.245514\"/>\n     <use style=\"fill:#0000ff;stroke:#0000ff;\" x=\"228.932923\" xlink:href=\"#mf951890c9b\" y=\"46.192665\"/>\n     <use style=\"fill:#0000ff;stroke:#0000ff;\" x=\"233.818892\" xlink:href=\"#mf951890c9b\" y=\"45.897686\"/>\n     <use style=\"fill:#0000ff;stroke:#0000ff;\" x=\"238.627217\" xlink:href=\"#mf951890c9b\" y=\"45.06539\"/>\n     <use style=\"fill:#0000ff;stroke:#0000ff;\" x=\"244.302717\" xlink:href=\"#mf951890c9b\" y=\"45.761257\"/>\n     <use style=\"fill:#0000ff;stroke:#0000ff;\" x=\"256.510024\" xlink:href=\"#mf951890c9b\" y=\"45.761257\"/>\n     <use style=\"fill:#0000ff;stroke:#0000ff;\" x=\"259.732411\" xlink:href=\"#mf951890c9b\" y=\"45.761257\"/>\n     <use style=\"fill:#0000ff;stroke:#0000ff;\" x=\"264.569758\" xlink:href=\"#mf951890c9b\" y=\"45.761257\"/>\n     <use style=\"fill:#0000ff;stroke:#0000ff;\" x=\"847.383858\" xlink:href=\"#mf951890c9b\" y=\"45.761257\"/>\n     <use style=\"fill:#0000ff;stroke:#0000ff;\" x=\"851.979901\" xlink:href=\"#mf951890c9b\" y=\"45.761257\"/>\n     <use style=\"fill:#0000ff;stroke:#0000ff;\" x=\"858.455671\" xlink:href=\"#mf951890c9b\" y=\"45.761257\"/>\n     <use style=\"fill:#0000ff;stroke:#0000ff;\" x=\"877.232873\" xlink:href=\"#mf951890c9b\" y=\"45.761257\"/>\n     <use style=\"fill:#0000ff;stroke:#0000ff;\" x=\"969.277271\" xlink:href=\"#mf951890c9b\" y=\"45.761257\"/>\n     <use style=\"fill:#0000ff;stroke:#0000ff;\" x=\"976.419383\" xlink:href=\"#mf951890c9b\" y=\"45.761257\"/>\n     <use style=\"fill:#0000ff;stroke:#0000ff;\" x=\"989.388191\" xlink:href=\"#mf951890c9b\" y=\"45.761257\"/>\n     <use style=\"fill:#0000ff;stroke:#0000ff;\" x=\"1002.417254\" xlink:href=\"#mf951890c9b\" y=\"45.761257\"/>\n     <use style=\"fill:#0000ff;stroke:#0000ff;\" x=\"1040.186183\" xlink:href=\"#mf951890c9b\" y=\"45.761257\"/>\n     <use style=\"fill:#0000ff;stroke:#0000ff;\" x=\"1050.623551\" xlink:href=\"#mf951890c9b\" y=\"45.761257\"/>\n     <use style=\"fill:#0000ff;stroke:#0000ff;\" x=\"1063.042922\" xlink:href=\"#mf951890c9b\" y=\"45.761257\"/>\n     <use style=\"fill:#0000ff;stroke:#0000ff;\" x=\"1080.620358\" xlink:href=\"#mf951890c9b\" y=\"45.761257\"/>\n     <use style=\"fill:#0000ff;stroke:#0000ff;\" x=\"1083.227366\" xlink:href=\"#mf951890c9b\" y=\"45.761257\"/>\n     <use style=\"fill:#0000ff;stroke:#0000ff;\" x=\"1101.738352\" xlink:href=\"#mf951890c9b\" y=\"45.761257\"/>\n    </g>\n   </g>\n   <g id=\"line2d_10\">\n    <path clip-path=\"url(#p33d9d94e5c)\" d=\"M 224.048909 76.678125 \nL 224.048909 22.318125 \n\" style=\"fill:none;stroke:#008000;stroke-dasharray:1.5,2.475;stroke-dashoffset:0;stroke-width:1.5;\"/>\n   </g>\n   <g id=\"patch_6\">\n    <path d=\"M 36.465625 76.678125 \nL 36.465625 22.318125 \n\" style=\"fill:none;stroke:#000000;stroke-linecap:square;stroke-linejoin:miter;stroke-width:0.8;\"/>\n   </g>\n   <g id=\"patch_7\">\n    <path d=\"M 1152.465625 76.678125 \nL 1152.465625 22.318125 \n\" style=\"fill:none;stroke:#000000;stroke-linecap:square;stroke-linejoin:miter;stroke-width:0.8;\"/>\n   </g>\n   <g id=\"patch_8\">\n    <path d=\"M 36.465625 76.678125 \nL 1152.465625 76.678125 \n\" style=\"fill:none;stroke:#000000;stroke-linecap:square;stroke-linejoin:miter;stroke-width:0.8;\"/>\n   </g>\n   <g id=\"patch_9\">\n    <path d=\"M 36.465625 22.318125 \nL 1152.465625 22.318125 \n\" style=\"fill:none;stroke:#000000;stroke-linecap:square;stroke-linejoin:miter;stroke-width:0.8;\"/>\n   </g>\n   <g id=\"text_9\">\n    <!-- Other-Personal_Hygiene -->\n    <g transform=\"translate(522.419688 16.318125)scale(0.12 -0.12)\">\n     <defs>\n      <path d=\"M 2522 4238 \nQ 1834 4238 1429 3725 \nQ 1025 3213 1025 2328 \nQ 1025 1447 1429 934 \nQ 1834 422 2522 422 \nQ 3209 422 3611 934 \nQ 4013 1447 4013 2328 \nQ 4013 3213 3611 3725 \nQ 3209 4238 2522 4238 \nz\nM 2522 4750 \nQ 3503 4750 4090 4092 \nQ 4678 3434 4678 2328 \nQ 4678 1225 4090 567 \nQ 3503 -91 2522 -91 \nQ 1538 -91 948 565 \nQ 359 1222 359 2328 \nQ 359 3434 948 4092 \nQ 1538 4750 2522 4750 \nz\n\" id=\"DejaVuSans-4f\" transform=\"scale(0.015625)\"/>\n      <path d=\"M 1172 4494 \nL 1172 3500 \nL 2356 3500 \nL 2356 3053 \nL 1172 3053 \nL 1172 1153 \nQ 1172 725 1289 603 \nQ 1406 481 1766 481 \nL 2356 481 \nL 2356 0 \nL 1766 0 \nQ 1100 0 847 248 \nQ 594 497 594 1153 \nL 594 3053 \nL 172 3053 \nL 172 3500 \nL 594 3500 \nL 594 4494 \nL 1172 4494 \nz\n\" id=\"DejaVuSans-74\" transform=\"scale(0.015625)\"/>\n      <path d=\"M 3513 2113 \nL 3513 0 \nL 2938 0 \nL 2938 2094 \nQ 2938 2591 2744 2837 \nQ 2550 3084 2163 3084 \nQ 1697 3084 1428 2787 \nQ 1159 2491 1159 1978 \nL 1159 0 \nL 581 0 \nL 581 4863 \nL 1159 4863 \nL 1159 2956 \nQ 1366 3272 1645 3428 \nQ 1925 3584 2291 3584 \nQ 2894 3584 3203 3211 \nQ 3513 2838 3513 2113 \nz\n\" id=\"DejaVuSans-68\" transform=\"scale(0.015625)\"/>\n      <path d=\"M 3597 1894 \nL 3597 1613 \nL 953 1613 \nQ 991 1019 1311 708 \nQ 1631 397 2203 397 \nQ 2534 397 2845 478 \nQ 3156 559 3463 722 \nL 3463 178 \nQ 3153 47 2828 -22 \nQ 2503 -91 2169 -91 \nQ 1331 -91 842 396 \nQ 353 884 353 1716 \nQ 353 2575 817 3079 \nQ 1281 3584 2069 3584 \nQ 2775 3584 3186 3129 \nQ 3597 2675 3597 1894 \nz\nM 3022 2063 \nQ 3016 2534 2758 2815 \nQ 2500 3097 2075 3097 \nQ 1594 3097 1305 2825 \nQ 1016 2553 972 2059 \nL 3022 2063 \nz\n\" id=\"DejaVuSans-65\" transform=\"scale(0.015625)\"/>\n      <path d=\"M 2631 2963 \nQ 2534 3019 2420 3045 \nQ 2306 3072 2169 3072 \nQ 1681 3072 1420 2755 \nQ 1159 2438 1159 1844 \nL 1159 0 \nL 581 0 \nL 581 3500 \nL 1159 3500 \nL 1159 2956 \nQ 1341 3275 1631 3429 \nQ 1922 3584 2338 3584 \nQ 2397 3584 2469 3576 \nQ 2541 3569 2628 3553 \nL 2631 2963 \nz\n\" id=\"DejaVuSans-72\" transform=\"scale(0.015625)\"/>\n      <path d=\"M 313 2009 \nL 1997 2009 \nL 1997 1497 \nL 313 1497 \nL 313 2009 \nz\n\" id=\"DejaVuSans-2d\" transform=\"scale(0.015625)\"/>\n      <path d=\"M 1259 4147 \nL 1259 2394 \nL 2053 2394 \nQ 2494 2394 2734 2622 \nQ 2975 2850 2975 3272 \nQ 2975 3691 2734 3919 \nQ 2494 4147 2053 4147 \nL 1259 4147 \nz\nM 628 4666 \nL 2053 4666 \nQ 2838 4666 3239 4311 \nQ 3641 3956 3641 3272 \nQ 3641 2581 3239 2228 \nQ 2838 1875 2053 1875 \nL 1259 1875 \nL 1259 0 \nL 628 0 \nL 628 4666 \nz\n\" id=\"DejaVuSans-50\" transform=\"scale(0.015625)\"/>\n      <path d=\"M 2834 3397 \nL 2834 2853 \nQ 2591 2978 2328 3040 \nQ 2066 3103 1784 3103 \nQ 1356 3103 1142 2972 \nQ 928 2841 928 2578 \nQ 928 2378 1081 2264 \nQ 1234 2150 1697 2047 \nL 1894 2003 \nQ 2506 1872 2764 1633 \nQ 3022 1394 3022 966 \nQ 3022 478 2636 193 \nQ 2250 -91 1575 -91 \nQ 1294 -91 989 -36 \nQ 684 19 347 128 \nL 347 722 \nQ 666 556 975 473 \nQ 1284 391 1588 391 \nQ 1994 391 2212 530 \nQ 2431 669 2431 922 \nQ 2431 1156 2273 1281 \nQ 2116 1406 1581 1522 \nL 1381 1569 \nQ 847 1681 609 1914 \nQ 372 2147 372 2553 \nQ 372 3047 722 3315 \nQ 1072 3584 1716 3584 \nQ 2034 3584 2315 3537 \nQ 2597 3491 2834 3397 \nz\n\" id=\"DejaVuSans-73\" transform=\"scale(0.015625)\"/>\n      <path d=\"M 1959 3097 \nQ 1497 3097 1228 2736 \nQ 959 2375 959 1747 \nQ 959 1119 1226 758 \nQ 1494 397 1959 397 \nQ 2419 397 2687 759 \nQ 2956 1122 2956 1747 \nQ 2956 2369 2687 2733 \nQ 2419 3097 1959 3097 \nz\nM 1959 3584 \nQ 2709 3584 3137 3096 \nQ 3566 2609 3566 1747 \nQ 3566 888 3137 398 \nQ 2709 -91 1959 -91 \nQ 1206 -91 779 398 \nQ 353 888 353 1747 \nQ 353 2609 779 3096 \nQ 1206 3584 1959 3584 \nz\n\" id=\"DejaVuSans-6f\" transform=\"scale(0.015625)\"/>\n      <path d=\"M 3513 2113 \nL 3513 0 \nL 2938 0 \nL 2938 2094 \nQ 2938 2591 2744 2837 \nQ 2550 3084 2163 3084 \nQ 1697 3084 1428 2787 \nQ 1159 2491 1159 1978 \nL 1159 0 \nL 581 0 \nL 581 3500 \nL 1159 3500 \nL 1159 2956 \nQ 1366 3272 1645 3428 \nQ 1925 3584 2291 3584 \nQ 2894 3584 3203 3211 \nQ 3513 2838 3513 2113 \nz\n\" id=\"DejaVuSans-6e\" transform=\"scale(0.015625)\"/>\n      <path d=\"M 2194 1759 \nQ 1497 1759 1228 1600 \nQ 959 1441 959 1056 \nQ 959 750 1161 570 \nQ 1363 391 1709 391 \nQ 2188 391 2477 730 \nQ 2766 1069 2766 1631 \nL 2766 1759 \nL 2194 1759 \nz\nM 3341 1997 \nL 3341 0 \nL 2766 0 \nL 2766 531 \nQ 2569 213 2275 61 \nQ 1981 -91 1556 -91 \nQ 1019 -91 701 211 \nQ 384 513 384 1019 \nQ 384 1609 779 1909 \nQ 1175 2209 1959 2209 \nL 2766 2209 \nL 2766 2266 \nQ 2766 2663 2505 2880 \nQ 2244 3097 1772 3097 \nQ 1472 3097 1187 3025 \nQ 903 2953 641 2809 \nL 641 3341 \nQ 956 3463 1253 3523 \nQ 1550 3584 1831 3584 \nQ 2591 3584 2966 3190 \nQ 3341 2797 3341 1997 \nz\n\" id=\"DejaVuSans-61\" transform=\"scale(0.015625)\"/>\n      <path d=\"M 603 4863 \nL 1178 4863 \nL 1178 0 \nL 603 0 \nL 603 4863 \nz\n\" id=\"DejaVuSans-6c\" transform=\"scale(0.015625)\"/>\n      <path d=\"M 3263 -1063 \nL 3263 -1509 \nL -63 -1509 \nL -63 -1063 \nL 3263 -1063 \nz\n\" id=\"DejaVuSans-5f\" transform=\"scale(0.015625)\"/>\n      <path d=\"M 628 4666 \nL 1259 4666 \nL 1259 2753 \nL 3553 2753 \nL 3553 4666 \nL 4184 4666 \nL 4184 0 \nL 3553 0 \nL 3553 2222 \nL 1259 2222 \nL 1259 0 \nL 628 0 \nL 628 4666 \nz\n\" id=\"DejaVuSans-48\" transform=\"scale(0.015625)\"/>\n      <path d=\"M 2059 -325 \nQ 1816 -950 1584 -1140 \nQ 1353 -1331 966 -1331 \nL 506 -1331 \nL 506 -850 \nL 844 -850 \nQ 1081 -850 1212 -737 \nQ 1344 -625 1503 -206 \nL 1606 56 \nL 191 3500 \nL 800 3500 \nL 1894 763 \nL 2988 3500 \nL 3597 3500 \nL 2059 -325 \nz\n\" id=\"DejaVuSans-79\" transform=\"scale(0.015625)\"/>\n      <path d=\"M 2906 1791 \nQ 2906 2416 2648 2759 \nQ 2391 3103 1925 3103 \nQ 1463 3103 1205 2759 \nQ 947 2416 947 1791 \nQ 947 1169 1205 825 \nQ 1463 481 1925 481 \nQ 2391 481 2648 825 \nQ 2906 1169 2906 1791 \nz\nM 3481 434 \nQ 3481 -459 3084 -895 \nQ 2688 -1331 1869 -1331 \nQ 1566 -1331 1297 -1286 \nQ 1028 -1241 775 -1147 \nL 775 -588 \nQ 1028 -725 1275 -790 \nQ 1522 -856 1778 -856 \nQ 2344 -856 2625 -561 \nQ 2906 -266 2906 331 \nL 2906 616 \nQ 2728 306 2450 153 \nQ 2172 0 1784 0 \nQ 1141 0 747 490 \nQ 353 981 353 1791 \nQ 353 2603 747 3093 \nQ 1141 3584 1784 3584 \nQ 2172 3584 2450 3431 \nQ 2728 3278 2906 2969 \nL 2906 3500 \nL 3481 3500 \nL 3481 434 \nz\n\" id=\"DejaVuSans-67\" transform=\"scale(0.015625)\"/>\n      <path d=\"M 603 3500 \nL 1178 3500 \nL 1178 0 \nL 603 0 \nL 603 3500 \nz\nM 603 4863 \nL 1178 4863 \nL 1178 4134 \nL 603 4134 \nL 603 4863 \nz\n\" id=\"DejaVuSans-69\" transform=\"scale(0.015625)\"/>\n     </defs>\n     <use xlink:href=\"#DejaVuSans-4f\"/>\n     <use x=\"78.710938\" xlink:href=\"#DejaVuSans-74\"/>\n     <use x=\"117.919922\" xlink:href=\"#DejaVuSans-68\"/>\n     <use x=\"181.298828\" xlink:href=\"#DejaVuSans-65\"/>\n     <use x=\"242.822266\" xlink:href=\"#DejaVuSans-72\"/>\n     <use x=\"277.560547\" xlink:href=\"#DejaVuSans-2d\"/>\n     <use x=\"313.644531\" xlink:href=\"#DejaVuSans-50\"/>\n     <use x=\"370.322266\" xlink:href=\"#DejaVuSans-65\"/>\n     <use x=\"431.845703\" xlink:href=\"#DejaVuSans-72\"/>\n     <use x=\"472.958984\" xlink:href=\"#DejaVuSans-73\"/>\n     <use x=\"525.058594\" xlink:href=\"#DejaVuSans-6f\"/>\n     <use x=\"586.240234\" xlink:href=\"#DejaVuSans-6e\"/>\n     <use x=\"649.619141\" xlink:href=\"#DejaVuSans-61\"/>\n     <use x=\"710.898438\" xlink:href=\"#DejaVuSans-6c\"/>\n     <use x=\"738.681641\" xlink:href=\"#DejaVuSans-5f\"/>\n     <use x=\"788.681641\" xlink:href=\"#DejaVuSans-48\"/>\n     <use x=\"863.876953\" xlink:href=\"#DejaVuSans-79\"/>\n     <use x=\"923.056641\" xlink:href=\"#DejaVuSans-67\"/>\n     <use x=\"986.533203\" xlink:href=\"#DejaVuSans-69\"/>\n     <use x=\"1014.316406\" xlink:href=\"#DejaVuSans-65\"/>\n     <use x=\"1075.839844\" xlink:href=\"#DejaVuSans-6e\"/>\n     <use x=\"1139.21875\" xlink:href=\"#DejaVuSans-65\"/>\n    </g>\n   </g>\n   <g id=\"legend_1\">\n    <g id=\"patch_10\">\n     <path d=\"M 1065.826562 44.99625 \nL 1145.465625 44.99625 \nQ 1147.465625 44.99625 1147.465625 42.99625 \nL 1147.465625 29.318125 \nQ 1147.465625 27.318125 1145.465625 27.318125 \nL 1065.826562 27.318125 \nQ 1063.826562 27.318125 1063.826562 29.318125 \nL 1063.826562 42.99625 \nQ 1063.826562 44.99625 1065.826562 44.99625 \nz\n\" style=\"fill:#ffffff;opacity:0.8;stroke:#cccccc;stroke-linejoin:miter;\"/>\n    </g>\n    <g id=\"line2d_11\">\n     <path d=\"M 1067.826562 35.416563 \nL 1087.826562 35.416563 \n\" style=\"fill:none;stroke:#008000;stroke-dasharray:1.5,2.475;stroke-dashoffset:0;stroke-width:1.5;\"/>\n    </g>\n    <g id=\"line2d_12\"/>\n    <g id=\"text_10\">\n     <!-- transition -->\n     <g transform=\"translate(1095.826562 38.916563)scale(0.1 -0.1)\">\n      <use xlink:href=\"#DejaVuSans-74\"/>\n      <use x=\"39.208984\" xlink:href=\"#DejaVuSans-72\"/>\n      <use x=\"80.322266\" xlink:href=\"#DejaVuSans-61\"/>\n      <use x=\"141.601562\" xlink:href=\"#DejaVuSans-6e\"/>\n      <use x=\"204.980469\" xlink:href=\"#DejaVuSans-73\"/>\n      <use x=\"257.080078\" xlink:href=\"#DejaVuSans-69\"/>\n      <use x=\"284.863281\" xlink:href=\"#DejaVuSans-74\"/>\n      <use x=\"324.072266\" xlink:href=\"#DejaVuSans-69\"/>\n      <use x=\"351.855469\" xlink:href=\"#DejaVuSans-6f\"/>\n      <use x=\"413.037109\" xlink:href=\"#DejaVuSans-6e\"/>\n     </g>\n    </g>\n   </g>\n  </g>\n </g>\n <defs>\n  <clipPath id=\"p33d9d94e5c\">\n   <rect height=\"54.36\" width=\"1116\" x=\"36.465625\" y=\"22.318125\"/>\n  </clipPath>\n </defs>\n</svg>\n",
      "image/png": "[encoded data removed]"
     },
     "metadata": {
      "needs_background": "light"
     }
    }
   ],
   "metadata": {}
  },
  {
   "cell_type": "markdown",
   "source": [
    "## testbed"
   ],
   "metadata": {}
  },
  {
   "cell_type": "code",
   "execution_count": null,
   "source": [
    "dir_=\"dataset/testbed/npy/seminar/MS\"\n",
    "task_dict={i:[np.load(\"{}/{}\".format(dir_, name)) for name in v] for i, v in enumerate(activityfiles_new.values())}\n",
    "initial_dict={i:k[0] for i, k in enumerate(activityfiles_new.keys())}\n",
    "label_dict={k[0]:k for k in activityfiles_new.keys()}\n",
    "\n",
    "episodes, trs, tags = create_episodes(task_dict, initial_dict)\n",
    "episodes=[time_correction(eps, trs[i]) for i, eps in enumerate(episodes)]"
   ],
   "outputs": [],
   "metadata": {}
  },
  {
   "cell_type": "code",
   "execution_count": null,
   "source": [
    "# view_size = 5\n",
    "\n",
    "test_idx = 12\n",
    "test_chunk = episodes[test_idx]\n",
    "transitions = [trs[test_idx]]\n",
    "\n",
    "sensor_list = sorted(set(test_chunk[:,0]))\n",
    "\n",
    "prev_box = {sensor_:None for sensor_ in sensor_list} # Previous state for comparison (If no difference, no update)\n",
    "\n",
    "features = []\n",
    "\n",
    "prev_matrix = np.ones((len(sensor_list), len(sensor_list)))\n",
    "correlation_matrix = np.ones((len(sensor_list), len(sensor_list)))\n",
    "\n",
    "\n",
    "dict_timestamps={} # Memory of Each sensor's previous timestamp\n",
    "\n",
    "first_timestamp = float(test_chunk[0][2])-1\n",
    "\n",
    "l = []\n",
    "for i, event in enumerate(test_chunk):\n",
    "    feature = []\n",
    "    sensor = event[0]\n",
    "    timestamp = float(event[2])\n",
    "\n",
    "    if sensor not in dict_timestamps.keys():\n",
    "        dict_timestamps[sensor]=[first_timestamp, timestamp]\n",
    "    else:\n",
    "        dict_timestamps[sensor].append(timestamp)\n",
    "\n",
    "    index_r = sensor_list.index(sensor) # Current sensor\n",
    "    sensor_x = dict_timestamps[sensor] # Current sensor's timestamps\n",
    "    # sensor_x = dict_timestamps[sensor][-view_size:]\n",
    "\n",
    "    # Update correlation with other sensors\n",
    "    for sensor_ in dict_timestamps.keys():\n",
    "        if sensor_==sensor:\n",
    "            continue\n",
    "        # sensor_y = dict_timestamps[sensor_][-view_size:]\n",
    "        sensor_y = dict_timestamps[sensor_] # Other sensor's timestamp\n",
    "\n",
    "        min_length = min(len(sensor_x), len(sensor_y))\n",
    "\n",
    "        if min_length == 0: # Not enough data\n",
    "            continue\n",
    "        else:\n",
    "            sensor_x_ = sensor_x[-min_length:]\n",
    "            sensor_y_ = sensor_y[-min_length:]\n",
    "\n",
    "        assert len(sensor_x_)==len(sensor_y_)\n",
    "\n",
    "        index_c = sensor_list.index(sensor_) # The other sensor\n",
    "\n",
    "        if False:\n",
    "            correlation_matrix[index_r, index_c] = prev_matrix[index_r, index_c]\n",
    "            correlation_matrix[index_c, index_r] = prev_matrix[index_r, index_c]\n",
    "        else:\n",
    "            correl = np.corrcoef(sensor_x_, sensor_y_)[0,1]#; print(sensor_x_, sensor_y_, sensor, sensor_, correl)\n",
    "            if not np.isnan(correl): # variance = 0\n",
    "                correlation_matrix[index_r, index_c]=correl\n",
    "                correlation_matrix[index_c, index_r]=correl\n",
    "\n",
    "                prev_matrix[index_r, index_c] = correl\n",
    "                prev_matrix[index_c, index_r] = correl\n",
    "\n",
    "                prev_box[sensor_] = sensor_y\n",
    "\n",
    "    l.append(np.mean(correlation_matrix[index_r]))\n",
    "\n",
    "print(len(test_chunk), len(l))\n",
    "\n",
    "fig = plt.figure(figsize=(10, 1))\n",
    "ax = fig.add_subplot(1, 1, 1)\n",
    "\n",
    "ax.plot(range(len(l)), l)\n",
    "for t in transitions:\n",
    "    plt.axvline(x=t, linestyle=':', color='g')"
   ],
   "outputs": [],
   "metadata": {}
  },
  {
   "cell_type": "code",
   "execution_count": null,
   "source": [
    "window_size = 30\n",
    "metric = 'RuLSIF'\n",
    "features = []\n",
    "for i in range(len(l)):\n",
    "    bucket=[]\n",
    "    idx=i-window_size+1\n",
    "    while idx<=i:\n",
    "        bucket.append(l[max(0, idx)])\n",
    "        idx+=1\n",
    "    \n",
    "    features.append(bucket)\n",
    "\n",
    "print(np.array(features).shape)\n",
    "\n",
    "scores = np.array(change_point_detection(features, metric))\n",
    "# scores[scores<0] = 0\n",
    "assert len(scores) == len(l)\n",
    "plt.bar(range(len(scores)), scores)\n",
    "for t in transitions:\n",
    "    plt.axvline(x=t, linestyle=':', color='g')"
   ],
   "outputs": [],
   "metadata": {}
  },
  {
   "cell_type": "code",
   "execution_count": null,
   "source": [
    "ll = []\n",
    "for i in range(len(l)-1):\n",
    "    ll.append(abs(l[i]-l[i+1]))\n",
    "ll = np.array(ll)\n",
    "\n",
    "plt.bar(range(len(ll)), ll)\n",
    "for t in transitions:\n",
    "    plt.axvline(x=t, linestyle=':', color='g')"
   ],
   "outputs": [],
   "metadata": {}
  },
  {
   "cell_type": "code",
   "execution_count": null,
   "source": [
    "sorted(set(test_chunk[:,0]))"
   ],
   "outputs": [],
   "metadata": {}
  },
  {
   "cell_type": "markdown",
   "source": [
    "## adlmr"
   ],
   "metadata": {}
  },
  {
   "cell_type": "code",
   "execution_count": null,
   "source": [
    "f = open(\"./dataset/adlmr/annotated\", 'rb')\n",
    "text = f.readlines()\n",
    "tasks = read_adlmr(text)"
   ],
   "outputs": [],
   "metadata": {}
  },
  {
   "cell_type": "markdown",
   "source": [
    "## hh"
   ],
   "metadata": {}
  },
  {
   "cell_type": "code",
   "execution_count": null,
   "source": [
    "# load dataset\n",
    "directory_hh101=\"./dataset/hh/hh101/ann.txt\"\n",
    "\n",
    "f=open(directory_hh101, 'r')\n",
    "txt=f.readlines()\n",
    "events=[]\n",
    "activity = \"Idle\"\n",
    "for i, line in enumerate(txt):\n",
    "    event = []\n",
    "    \n",
    "    try:\n",
    "        f_info = line.split()\n",
    "        # Date, time, sensor, value, (label)\n",
    "\n",
    "        event.append(f_info[2])\n",
    "        event.append(f_info[3])\n",
    "        if not ('.' in str(np.array(f_info[0])) + f_info[1]):\n",
    "            f_info[1] = f_info[1] + '.000000'\n",
    "        timestamp=datetime.timestamp(datetime.strptime(f_info[0] + f_info[1], \"%Y-%m-%d%H:%M:%S.%f\"))\n",
    "        event.append(float(timestamp))           # 3. timestamp\n",
    "\n",
    "        if len(f_info) != 4: # label\n",
    "            label = str(' '.join(np.array(f_info[4:])))\n",
    "            if 'begin' in label:\n",
    "                activity = label.split('=')[0].strip()\n",
    "                event.append(activity)\n",
    "            elif 'end' in label:\n",
    "                event.append(activity)\n",
    "                activity = \"Idle\"\n",
    "            else:\n",
    "                event.append(activity)\n",
    "        else:\n",
    "            event.append(activity)\n",
    "        \n",
    "        events.append(event)\n",
    "\n",
    "    except:\n",
    "        print(\"SKIP\")\n",
    "\n",
    "raw_length = len(events)\n",
    "\n",
    "print(Counter(np.array(events)[:,3]))"
   ],
   "outputs": [],
   "metadata": {}
  },
  {
   "cell_type": "code",
   "execution_count": null,
   "source": [
    "events = [e for e in events if e[0][0] in list('MD')]\n",
    "\n",
    "startindices = [i for i in range(1, len(events)) if events[i][3]!=events[i-1][3]]\n",
    "startindices = [0]+startindices+[len(events)]\n",
    "\n",
    "dict_consecutiveActivities = {\n",
    "    'chunks':[],\n",
    "    'labels':[],\n",
    "    'lengths':[],\n",
    "}\n",
    "\n",
    "chunksize = 8\n",
    "\n",
    "CoC=[]\n",
    "CoLbl=[]\n",
    "CoLen=[]\n",
    "for i in range(len(startindices)-1):\n",
    "    start, end_ = startindices[i:i+2]\n",
    "    chunk=events[start:end_]\n",
    "\n",
    "    labelset = list(set(np.array(chunk)[:,3]))\n",
    "    assert len(labelset)==1\n",
    "    label = labelset[0]\n",
    "\n",
    "    if len(CoC)==chunksize:\n",
    "        dict_consecutiveActivities['chunks'].append(CoC)\n",
    "        dict_consecutiveActivities['labels'].append(CoLbl)\n",
    "        dict_consecutiveActivities['lengths'].append(CoLen)\n",
    "        # CoC = CoLbl = CoLen = []\n",
    "        CoC, CoLbl, CoLen = [], [], []\n",
    "\n",
    "    CoC.append(chunk)\n",
    "    CoLbl.append(label)\n",
    "    CoLen.append(len(chunk))"
   ],
   "outputs": [],
   "metadata": {}
  },
  {
   "cell_type": "code",
   "execution_count": null,
   "source": [
    "\"\"\"Test: Second Chunks\"\"\"\n",
    "ti = 3\n",
    "test_chunk = np.concatenate(dict_consecutiveActivities['chunks'][ti])\n",
    "test_label = dict_consecutiveActivities['labels'][ti]\n",
    "test_length = dict_consecutiveActivities['lengths'][ti]\n",
    "\n",
    "print(test_chunk.shape, test_label, test_length)\n",
    "\n",
    "transitions = []\n",
    "start=0\n",
    "for i in range(len(test_length)-1):\n",
    "    transitions.append(start+test_length[i])\n",
    "    start+=test_length[i]\n"
   ],
   "outputs": [],
   "metadata": {}
  },
  {
   "cell_type": "code",
   "execution_count": null,
   "source": [
    "# window_size = 30\n",
    "view_size = 5\n",
    "\n",
    "sensor_list = sorted(set(test_chunk[:,0]))\n",
    "\n",
    "for sensor in sensor_list:\n",
    "    print(sensor, sensor_list.index(sensor))\n",
    "\n",
    "# correlation_matrix = np.diag(np.ones(len(sensor_list)))\n",
    "correlation_matrix = np.ones((len(sensor_list), len(sensor_list)))\n",
    "prev1_matrix = prev2_matrix = correlation_matrix\n",
    "dict_timestamps={}\n",
    "l = []\n",
    "r, c = (6, 3)\n",
    "for i, event in enumerate(test_chunk):\n",
    "    sensor = event[0]\n",
    "    timestamp = float(event[2])\n",
    "\n",
    "    if sensor not in dict_timestamps.keys():\n",
    "        dict_timestamps[sensor]=[timestamp]\n",
    "    else:\n",
    "        dict_timestamps[sensor].append(timestamp)\n",
    "    index_r = sensor_list.index(sensor)\n",
    "\n",
    "    sensor_x = dict_timestamps[sensor][-view_size:]\n",
    "    if len(sensor_x)<view_size:\n",
    "        l.append(1 if len(l)==0 else l[-1])\n",
    "        continue\n",
    "\n",
    "    for sensor_ in dict_timestamps.keys():\n",
    "        if sensor_==sensor:\n",
    "            continue\n",
    "        sensor_y = dict_timestamps[sensor_][-view_size:]\n",
    "        if len(sensor_y)<view_size:\n",
    "            continue\n",
    "        index_c = sensor_list.index(sensor_)\n",
    "        # col.append(np.corrcoef(sensor_x, sensor_y)[0,1])\n",
    "        correlation_matrix[index_r, index_c]=np.corrcoef(sensor_x, sensor_y)[0,1]\n",
    "        correlation_matrix[index_c, index_r]=np.corrcoef(sensor_x, sensor_y)[0,1]\n",
    "    l.append(np.average(correlation_matrix+prev1_matrix+prev2_matrix)/3)\n",
    "    prev2_matrix = prev1_matrix\n",
    "    prev1_matrix = correlation_matrix\n",
    "    \n",
    "print(len(test_chunk))\n",
    "print(len(l))\n",
    "    \n",
    "fig = plt.figure(figsize=(10, 1))\n",
    "ax = fig.add_subplot(1, 1, 1)\n",
    "\n",
    "ax.plot(range(len(l)), l)\n",
    "for t in transitions:\n",
    "    plt.axvline(x=t, linestyle=':', color='g')"
   ],
   "outputs": [],
   "metadata": {}
  },
  {
   "cell_type": "markdown",
   "source": [
    "## testbed"
   ],
   "metadata": {}
  },
  {
   "cell_type": "code",
   "execution_count": null,
   "source": [],
   "outputs": [],
   "metadata": {}
  }
 ],
 "metadata": {
  "interpreter": {
   "hash": "31f2aee4e71d21fbe5cf8b01ff0e069b9275f58929596ceb00d14d90e3e16cd6"
  },
  "kernelspec": {
   "name": "python3",
   "display_name": "Python 3.8.10 64-bit"
  },
  "language_info": {
   "codemirror_mode": {
    "name": "ipython",
    "version": 3
   },
   "file_extension": ".py",
   "mimetype": "text/x-python",
   "name": "python",
   "nbconvert_exporter": "python",
   "pygments_lexer": "ipython3",
   "version": "3.8.10"
  },
  "orig_nbformat": 4
 },
 "nbformat": 4,
 "nbformat_minor": 2
}
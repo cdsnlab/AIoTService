{
 "metadata": {
  "language_info": {
   "codemirror_mode": {
    "name": "ipython",
    "version": 3
   },
   "file_extension": ".py",
   "mimetype": "text/x-python",
   "name": "python",
   "nbconvert_exporter": "python",
   "pygments_lexer": "ipython3",
   "version": "3.8.5-final"
  },
  "orig_nbformat": 2,
  "kernelspec": {
   "name": "python3",
   "display_name": "Python 3.8.5 64-bit",
   "metadata": {
    "interpreter": {
     "hash": "31f2aee4e71d21fbe5cf8b01ff0e069b9275f58929596ceb00d14d90e3e16cd6"
    }
   }
  },
  "metadata": {
   "interpreter": {
    "hash": "31f2aee4e71d21fbe5cf8b01ff0e069b9275f58929596ceb00d14d90e3e16cd6"
   }
  }
 },
 "nbformat": 4,
 "nbformat_minor": 2,
 "cells": [
  {
   "source": [
    "# 1 Data Preprocessing\n",
    "---------\n",
    "##    1 Choose Sensor: \n",
    "###        1 ALL unique\n",
    "###        2 integration\n",
    "* SoundWall, SoundCenter, ... -> \"Sound\"\n",
    "* Seat1, Seat2, ... -> \"Seat\"\n",
    "##    2 Choose Values: \n",
    "###        1 Raw\n",
    "####            1 Continuous Values\n",
    "* Sound: 50-100 db\n",
    "* Temperature, Humidity, Brightness\n",
    "####            2 Discrete Values\n",
    "* Motion, Door: ON/OFF, OUT/IN\n",
    "###        2 pick the values considering \"threshold\"\n"
   ],
   "cell_type": "markdown",
   "metadata": {}
  },
  {
   "cell_type": "code",
   "execution_count": 1,
   "metadata": {},
   "outputs": [],
   "source": [
    "import numpy as np\n",
    "import time\n",
    "from feature import extract_feature_testbed as eft\n",
    "from feature import normalize_feature as nf\n",
    "from densityratio import Densratio\n",
    "import matplotlib.pyplot as plt\n",
    "from scipy.signal import find_peaks"
   ]
  },
  {
   "cell_type": "code",
   "execution_count": 2,
   "metadata": {},
   "outputs": [],
   "source": [
    "\"\"\"load data\"\"\"\n",
    "data_folder=\"../date_activity/integrate\"\n",
    "npy_files=[\n",
    "# '180709_174940_C.npy',#: (512, 3)\n",
    "# '170621_200415_D.npy',#: (513, 3)\n",
    "# '180122_190000_P.npy',#: (514, 3)\n",
    "# '180513_184606_G.npy'#: (517, 3)\n",
    "# '180212_145745_C.npy', #(405, 3)\n",
    "# '180515_131702_G.npy', #(412, 3)\n",
    "# '180405_165701_D.npy', #(426, 3)\n",
    "# '180813_095830_P.npy', #(460, 3)\n",
    "# '180418_130100_D.npy',#: (389, 3)\n",
    "# '180512_211802_C.npy',#: (404, 3)\n",
    "# '180529_150020_C.npy',#: (405, 3)\n",
    "# '180831_102801_C.npy',#: (407, 3)\n",
    "# '180508_160402_G.npy',#: (428, 3)\n",
    "# '180515_192400_P.npy',#: (434, 3)\n",
    "# '180813_095830_P.npy' #(175, 3)\n",
    "'180518_145501_C.npy',#: (326, 3)\n",
    "'180813_095830_P.npy',#: (333, 3)\n",
    "'180721_103311_D.npy',#: (690, 3)\n",
    "'180419_144100_G.npy',#: (909, 3)\n",
    "\n",
    "]\n",
    "task_order=[]\n",
    "for item in npy_files:\n",
    "    task_order.append(np.load(\"{}/{}\".format(data_folder, item)))\n",
    "\n",
    "# g=np.load(\"../date_activity/integrate/180516_161050_G.npy\")\n",
    "# c=np.load(\"../date_activity/integrate/180713_155855_C.npy\")\n",
    "# d=np.load(\"../date_activity/integrate/180330_142201_D.npy\")\n",
    "# p=np.load(\"../date_activity/integrate/180530_102731_P.npy\")\n",
    "\n",
    "# task_order=[g,c,d,p]\n",
    "merged=np.concatenate(tuple(task_order), axis=0)\n",
    "atd=[] # end of each activity\n",
    "idx=-1\n",
    "for item in task_order:\n",
    "    idx+=item.shape[0]\n",
    "    atd.append(idx)"
   ]
  },
  {
   "source": [
    "\n",
    "\n",
    "# 2 Feature Extraction\n",
    "---------\n",
    "##    1 Sliding Window Size: 30 (default, paper)\n",
    "##    2 Choose Features:\n",
    "* Temporal\n",
    "* Window\n",
    "* Sensor\n",
    "##    3 View Size: 2 (default, 2-real-time algorithm)\n",
    "###           1 [t-1, t] and [t, t+1] (NO)\n",
    "###           2 [t, t+1] and [t+1, t+2] (NO)\n",
    "###           3 [t-1, t] and [t+1, t+2]\n",
    "###           4 [t-2, t-1] and [t+1, t+2]!"
   ],
   "cell_type": "markdown",
   "metadata": {}
  },
  {
   "cell_type": "code",
   "execution_count": 3,
   "metadata": {},
   "outputs": [],
   "source": [
    "\"\"\"sliding window\"\"\"\n",
    "ws=30\n",
    "windows=[]\n",
    "for i in range(merged.shape[0]):\n",
    "    single_window=merged[i-ws+1:i+1,:]\n",
    "    if i+1<ws:\n",
    "        repeat=np.array([merged[0,:] for j in range(ws-i-1)])\n",
    "        single_window=np.concatenate((repeat,merged[:i+1]), axis=0)\n",
    "    windows.append(single_window)\n",
    "windows=np.array(windows)\n",
    "# print(merged.shape, windows.shape)\n",
    "# print(windows[29])"
   ]
  },
  {
   "cell_type": "code",
   "execution_count": 4,
   "metadata": {},
   "outputs": [],
   "source": [
    "\"\"\"feature extraction\"\"\"\n",
    "sensor_set=set(merged[:,0])\n",
    "features=np.array([eft(windows[i], sensor_set) for i in range(windows.shape[0])])"
   ]
  },
  {
   "cell_type": "code",
   "execution_count": 5,
   "metadata": {},
   "outputs": [
    {
     "output_type": "execute_result",
     "data": {
      "text/plain": [
       "(2258, 2, 2, 15)"
      ]
     },
     "metadata": {},
     "execution_count": 5
    }
   ],
   "source": [
    "\"\"\"view\"\"\"\n",
    "vs=2\n",
    "views=[]\n",
    "for i in range(features.shape[0]):\n",
    "    if i<=1:\n",
    "        nu_l, nu_r=features[0,:], features[0,:]\n",
    "    else:\n",
    "        nu_l=features[i-2]; nu_r=features[i-1]\n",
    "    if i>=features.shape[0]-2:\n",
    "        de_l, de_r=features[-1,:], features[-1,:]\n",
    "    else:\n",
    "        de_l=features[i+1]; de_r=features[i+2]\n",
    "    \n",
    "    views.append([[nu_l, nu_r], [de_l, de_r]])\n",
    "views=np.array(views)\n",
    "views.shape"
   ]
  },
  {
   "source": [
    "# 3 Change Point Detection\n",
    "---------\n",
    "## algorithm: SEP (default, paper)\n"
   ],
   "cell_type": "markdown",
   "metadata": {}
  },
  {
   "cell_type": "code",
   "execution_count": 6,
   "metadata": {},
   "outputs": [
    {
     "output_type": "stream",
     "name": "stderr",
     "text": [
      "WARNING:absl:No GPU/TPU found, falling back to CPU. (Set TF_CPP_MIN_LOG_LEVEL=0 and rerun for more info.)\n",
      "0/2257: elapsed time: 0.00017309188842773438s\n",
      "500/2257: elapsed time: 563.0774958133698s\n",
      "1000/2257: elapsed time: 1122.7860281467438s\n",
      "1500/2257: elapsed time: 1680.2701115608215s\n",
      "2000/2257: elapsed time: 2240.2074959278107s\n"
     ]
    }
   ],
   "source": [
    "scores=[]\n",
    "start=time.time()\n",
    "score_file='scores_3.npy'\n",
    "for i in range(views.shape[0]):\n",
    "    if i%500==0:\n",
    "        print(\"{}/{}: elapsed time: {}s\".format(i, views.shape[0]-1, time.time()-start))\n",
    "        np.save(score_file, scores)\n",
    "    # norm_view, col_norms=nf(views[i], 4)\n",
    "    # norm_view=norm_view.reshape((2,2,-1))*col_norms.max()\n",
    "    # v_b, v_a=norm_view[0], norm_view[1]\n",
    "    v_b, v_a=views[i][0], views[i][1]\n",
    "    scores.append(Densratio(x=v_b, y=v_a).SEPDiv)\n",
    "scores=np.array(scores)\n",
    "np.save(score_file, scores)"
   ]
  },
  {
   "source": [
    "\n",
    "\n",
    "# 4 Evaluation\n",
    "---------\n",
    "## threshold: 0.3 (default)\n",
    "## local peak value "
   ],
   "cell_type": "markdown",
   "metadata": {}
  },
  {
   "cell_type": "code",
   "execution_count": 6,
   "metadata": {},
   "outputs": [
    {
     "output_type": "display_data",
     "data": {
      "text/plain": "<Figure size 432x288 with 1 Axes>",
      "image/svg+xml": "<?xml version=\"1.0\" encoding=\"utf-8\" standalone=\"no\"?>\n<!DOCTYPE svg PUBLIC \"-//W3C//DTD SVG 1.1//EN\"\n  \"http://www.w3.org/Graphics/SVG/1.1/DTD/svg11.dtd\">\n<svg height=\"248.518125pt\" version=\"1.1\" viewBox=\"0 0 372.103125 248.518125\" width=\"372.103125pt\" xmlns=\"http://www.w3.org/2000/svg\" xmlns:xlink=\"http://www.w3.org/1999/xlink\">\n <metadata>\n  <rdf:RDF xmlns:cc=\"http://creativecommons.org/ns#\" xmlns:dc=\"http://purl.org/dc/elements/1.1/\" xmlns:rdf=\"http://www.w3.org/1999/02/22-rdf-syntax-ns#\">\n   <cc:Work>\n    <dc:type rdf:resource=\"http://purl.org/dc/dcmitype/StillImage\"/>\n    <dc:date>2021-04-14T08:44:53.039450</dc:date>\n    <dc:format>image/svg+xml</dc:format>\n    <dc:creator>\n     <cc:Agent>\n      <dc:title>Matplotlib v3.4.1, https://matplotlib.org/</dc:title>\n     </cc:Agent>\n    </dc:creator>\n   </cc:Work>\n  </rdf:RDF>\n </metadata>\n <defs>\n  <style type=\"text/css\">*{stroke-linecap:butt;stroke-linejoin:round;}</style>\n </defs>\n <g id=\"figure_1\">\n  <g id=\"patch_1\">\n   <path d=\"M 0 248.518125 \nL 372.103125 248.518125 \nL 372.103125 0 \nL 0 0 \nz\n\" style=\"fill:none;\"/>\n  </g>\n  <g id=\"axes_1\">\n   <g id=\"patch_2\">\n    <path d=\"M 30.103125 224.64 \nL 364.903125 224.64 \nL 364.903125 7.2 \nL 30.103125 7.2 \nz\n\" style=\"fill:#ffffff;\"/>\n   </g>\n   <g id=\"patch_3\">\n    <path clip-path=\"url(#p31577b59ef)\" d=\"M 45.321307 224.64 \nL 45.321307 7.2 \nL 89.148592 7.2 \nL 89.148592 224.64 \nz\n\" style=\"fill:#ff0000;opacity:0.2;stroke:#ff0000;stroke-linejoin:miter;\"/>\n   </g>\n   <g id=\"patch_4\">\n    <path clip-path=\"url(#p31577b59ef)\" d=\"M 89.148592 224.64 \nL 89.148592 7.2 \nL 134.054702 7.2 \nL 134.054702 224.64 \nz\n\" style=\"fill:#008000;opacity:0.2;stroke:#008000;stroke-linejoin:miter;\"/>\n   </g>\n   <g id=\"patch_5\">\n    <path clip-path=\"url(#p31577b59ef)\" d=\"M 134.054702 224.64 \nL 134.054702 7.2 \nL 227.103399 7.2 \nL 227.103399 224.64 \nz\n\" style=\"fill:#0000ff;opacity:0.2;stroke:#0000ff;stroke-linejoin:miter;\"/>\n   </g>\n   <g id=\"patch_6\">\n    <path clip-path=\"url(#p31577b59ef)\" d=\"M 227.103399 224.64 \nL 227.103399 7.2 \nL 349.684943 7.2 \nL 349.684943 224.64 \nz\n\" style=\"fill:#00bfbf;opacity:0.2;stroke:#00bfbf;stroke-linejoin:miter;\"/>\n   </g>\n   <g id=\"matplotlib.axis_1\">\n    <g id=\"xtick_1\">\n     <g id=\"line2d_1\">\n      <defs>\n       <path d=\"M 0 0 \nL 0 3.5 \n\" id=\"m58621e10de\" style=\"stroke:#000000;stroke-width:0.8;\"/>\n      </defs>\n      <g>\n       <use style=\"stroke:#000000;stroke-width:0.8;\" x=\"45.321307\" xlink:href=\"#m58621e10de\" y=\"224.64\"/>\n      </g>\n     </g>\n     <g id=\"text_1\">\n      <!-- 0 -->\n      <g transform=\"translate(42.140057 239.238438)scale(0.1 -0.1)\">\n       <defs>\n        <path d=\"M 2034 4250 \nQ 1547 4250 1301 3770 \nQ 1056 3291 1056 2328 \nQ 1056 1369 1301 889 \nQ 1547 409 2034 409 \nQ 2525 409 2770 889 \nQ 3016 1369 3016 2328 \nQ 3016 3291 2770 3770 \nQ 2525 4250 2034 4250 \nz\nM 2034 4750 \nQ 2819 4750 3233 4129 \nQ 3647 3509 3647 2328 \nQ 3647 1150 3233 529 \nQ 2819 -91 2034 -91 \nQ 1250 -91 836 529 \nQ 422 1150 422 2328 \nQ 422 3509 836 4129 \nQ 1250 4750 2034 4750 \nz\n\" id=\"DejaVuSans-30\" transform=\"scale(0.015625)\"/>\n       </defs>\n       <use xlink:href=\"#DejaVuSans-30\"/>\n      </g>\n     </g>\n    </g>\n    <g id=\"xtick_2\">\n     <g id=\"line2d_2\">\n      <g>\n       <use style=\"stroke:#000000;stroke-width:0.8;\" x=\"112.747899\" xlink:href=\"#m58621e10de\" y=\"224.64\"/>\n      </g>\n     </g>\n     <g id=\"text_2\">\n      <!-- 500 -->\n      <g transform=\"translate(103.204149 239.238438)scale(0.1 -0.1)\">\n       <defs>\n        <path d=\"M 691 4666 \nL 3169 4666 \nL 3169 4134 \nL 1269 4134 \nL 1269 2991 \nQ 1406 3038 1543 3061 \nQ 1681 3084 1819 3084 \nQ 2600 3084 3056 2656 \nQ 3513 2228 3513 1497 \nQ 3513 744 3044 326 \nQ 2575 -91 1722 -91 \nQ 1428 -91 1123 -41 \nQ 819 9 494 109 \nL 494 744 \nQ 775 591 1075 516 \nQ 1375 441 1709 441 \nQ 2250 441 2565 725 \nQ 2881 1009 2881 1497 \nQ 2881 1984 2565 2268 \nQ 2250 2553 1709 2553 \nQ 1456 2553 1204 2497 \nQ 953 2441 691 2322 \nL 691 4666 \nz\n\" id=\"DejaVuSans-35\" transform=\"scale(0.015625)\"/>\n       </defs>\n       <use xlink:href=\"#DejaVuSans-35\"/>\n       <use x=\"63.623047\" xlink:href=\"#DejaVuSans-30\"/>\n       <use x=\"127.246094\" xlink:href=\"#DejaVuSans-30\"/>\n      </g>\n     </g>\n    </g>\n    <g id=\"xtick_3\">\n     <g id=\"line2d_3\">\n      <g>\n       <use style=\"stroke:#000000;stroke-width:0.8;\" x=\"180.174491\" xlink:href=\"#m58621e10de\" y=\"224.64\"/>\n      </g>\n     </g>\n     <g id=\"text_3\">\n      <!-- 1000 -->\n      <g transform=\"translate(167.449491 239.238438)scale(0.1 -0.1)\">\n       <defs>\n        <path d=\"M 794 531 \nL 1825 531 \nL 1825 4091 \nL 703 3866 \nL 703 4441 \nL 1819 4666 \nL 2450 4666 \nL 2450 531 \nL 3481 531 \nL 3481 0 \nL 794 0 \nL 794 531 \nz\n\" id=\"DejaVuSans-31\" transform=\"scale(0.015625)\"/>\n       </defs>\n       <use xlink:href=\"#DejaVuSans-31\"/>\n       <use x=\"63.623047\" xlink:href=\"#DejaVuSans-30\"/>\n       <use x=\"127.246094\" xlink:href=\"#DejaVuSans-30\"/>\n       <use x=\"190.869141\" xlink:href=\"#DejaVuSans-30\"/>\n      </g>\n     </g>\n    </g>\n    <g id=\"xtick_4\">\n     <g id=\"line2d_4\">\n      <g>\n       <use style=\"stroke:#000000;stroke-width:0.8;\" x=\"247.601083\" xlink:href=\"#m58621e10de\" y=\"224.64\"/>\n      </g>\n     </g>\n     <g id=\"text_4\">\n      <!-- 1500 -->\n      <g transform=\"translate(234.876083 239.238438)scale(0.1 -0.1)\">\n       <use xlink:href=\"#DejaVuSans-31\"/>\n       <use x=\"63.623047\" xlink:href=\"#DejaVuSans-35\"/>\n       <use x=\"127.246094\" xlink:href=\"#DejaVuSans-30\"/>\n       <use x=\"190.869141\" xlink:href=\"#DejaVuSans-30\"/>\n      </g>\n     </g>\n    </g>\n    <g id=\"xtick_5\">\n     <g id=\"line2d_5\">\n      <g>\n       <use style=\"stroke:#000000;stroke-width:0.8;\" x=\"315.027675\" xlink:href=\"#m58621e10de\" y=\"224.64\"/>\n      </g>\n     </g>\n     <g id=\"text_5\">\n      <!-- 2000 -->\n      <g transform=\"translate(302.302675 239.238438)scale(0.1 -0.1)\">\n       <defs>\n        <path d=\"M 1228 531 \nL 3431 531 \nL 3431 0 \nL 469 0 \nL 469 531 \nQ 828 903 1448 1529 \nQ 2069 2156 2228 2338 \nQ 2531 2678 2651 2914 \nQ 2772 3150 2772 3378 \nQ 2772 3750 2511 3984 \nQ 2250 4219 1831 4219 \nQ 1534 4219 1204 4116 \nQ 875 4013 500 3803 \nL 500 4441 \nQ 881 4594 1212 4672 \nQ 1544 4750 1819 4750 \nQ 2544 4750 2975 4387 \nQ 3406 4025 3406 3419 \nQ 3406 3131 3298 2873 \nQ 3191 2616 2906 2266 \nQ 2828 2175 2409 1742 \nQ 1991 1309 1228 531 \nz\n\" id=\"DejaVuSans-32\" transform=\"scale(0.015625)\"/>\n       </defs>\n       <use xlink:href=\"#DejaVuSans-32\"/>\n       <use x=\"63.623047\" xlink:href=\"#DejaVuSans-30\"/>\n       <use x=\"127.246094\" xlink:href=\"#DejaVuSans-30\"/>\n       <use x=\"190.869141\" xlink:href=\"#DejaVuSans-30\"/>\n      </g>\n     </g>\n    </g>\n   </g>\n   <g id=\"matplotlib.axis_2\">\n    <g id=\"ytick_1\">\n     <g id=\"line2d_6\">\n      <defs>\n       <path d=\"M 0 0 \nL -3.5 0 \n\" id=\"m7954eafdf3\" style=\"stroke:#000000;stroke-width:0.8;\"/>\n      </defs>\n      <g>\n       <use style=\"stroke:#000000;stroke-width:0.8;\" x=\"30.103125\" xlink:href=\"#m7954eafdf3\" y=\"214.756364\"/>\n      </g>\n     </g>\n     <g id=\"text_6\">\n      <!-- 0.0 -->\n      <g transform=\"translate(7.2 218.555582)scale(0.1 -0.1)\">\n       <defs>\n        <path d=\"M 684 794 \nL 1344 794 \nL 1344 0 \nL 684 0 \nL 684 794 \nz\n\" id=\"DejaVuSans-2e\" transform=\"scale(0.015625)\"/>\n       </defs>\n       <use xlink:href=\"#DejaVuSans-30\"/>\n       <use x=\"63.623047\" xlink:href=\"#DejaVuSans-2e\"/>\n       <use x=\"95.410156\" xlink:href=\"#DejaVuSans-30\"/>\n      </g>\n     </g>\n    </g>\n    <g id=\"ytick_2\">\n     <g id=\"line2d_7\">\n      <g>\n       <use style=\"stroke:#000000;stroke-width:0.8;\" x=\"30.103125\" xlink:href=\"#m7954eafdf3\" y=\"171.049624\"/>\n      </g>\n     </g>\n     <g id=\"text_7\">\n      <!-- 0.1 -->\n      <g transform=\"translate(7.2 174.848842)scale(0.1 -0.1)\">\n       <use xlink:href=\"#DejaVuSans-30\"/>\n       <use x=\"63.623047\" xlink:href=\"#DejaVuSans-2e\"/>\n       <use x=\"95.410156\" xlink:href=\"#DejaVuSans-31\"/>\n      </g>\n     </g>\n    </g>\n    <g id=\"ytick_3\">\n     <g id=\"line2d_8\">\n      <g>\n       <use style=\"stroke:#000000;stroke-width:0.8;\" x=\"30.103125\" xlink:href=\"#m7954eafdf3\" y=\"127.342884\"/>\n      </g>\n     </g>\n     <g id=\"text_8\">\n      <!-- 0.2 -->\n      <g transform=\"translate(7.2 131.142102)scale(0.1 -0.1)\">\n       <use xlink:href=\"#DejaVuSans-30\"/>\n       <use x=\"63.623047\" xlink:href=\"#DejaVuSans-2e\"/>\n       <use x=\"95.410156\" xlink:href=\"#DejaVuSans-32\"/>\n      </g>\n     </g>\n    </g>\n    <g id=\"ytick_4\">\n     <g id=\"line2d_9\">\n      <g>\n       <use style=\"stroke:#000000;stroke-width:0.8;\" x=\"30.103125\" xlink:href=\"#m7954eafdf3\" y=\"83.636143\"/>\n      </g>\n     </g>\n     <g id=\"text_9\">\n      <!-- 0.3 -->\n      <g transform=\"translate(7.2 87.435362)scale(0.1 -0.1)\">\n       <defs>\n        <path d=\"M 2597 2516 \nQ 3050 2419 3304 2112 \nQ 3559 1806 3559 1356 \nQ 3559 666 3084 287 \nQ 2609 -91 1734 -91 \nQ 1441 -91 1130 -33 \nQ 819 25 488 141 \nL 488 750 \nQ 750 597 1062 519 \nQ 1375 441 1716 441 \nQ 2309 441 2620 675 \nQ 2931 909 2931 1356 \nQ 2931 1769 2642 2001 \nQ 2353 2234 1838 2234 \nL 1294 2234 \nL 1294 2753 \nL 1863 2753 \nQ 2328 2753 2575 2939 \nQ 2822 3125 2822 3475 \nQ 2822 3834 2567 4026 \nQ 2313 4219 1838 4219 \nQ 1578 4219 1281 4162 \nQ 984 4106 628 3988 \nL 628 4550 \nQ 988 4650 1302 4700 \nQ 1616 4750 1894 4750 \nQ 2613 4750 3031 4423 \nQ 3450 4097 3450 3541 \nQ 3450 3153 3228 2886 \nQ 3006 2619 2597 2516 \nz\n\" id=\"DejaVuSans-33\" transform=\"scale(0.015625)\"/>\n       </defs>\n       <use xlink:href=\"#DejaVuSans-30\"/>\n       <use x=\"63.623047\" xlink:href=\"#DejaVuSans-2e\"/>\n       <use x=\"95.410156\" xlink:href=\"#DejaVuSans-33\"/>\n      </g>\n     </g>\n    </g>\n    <g id=\"ytick_5\">\n     <g id=\"line2d_10\">\n      <g>\n       <use style=\"stroke:#000000;stroke-width:0.8;\" x=\"30.103125\" xlink:href=\"#m7954eafdf3\" y=\"39.929403\"/>\n      </g>\n     </g>\n     <g id=\"text_10\">\n      <!-- 0.4 -->\n      <g transform=\"translate(7.2 43.728622)scale(0.1 -0.1)\">\n       <defs>\n        <path d=\"M 2419 4116 \nL 825 1625 \nL 2419 1625 \nL 2419 4116 \nz\nM 2253 4666 \nL 3047 4666 \nL 3047 1625 \nL 3713 1625 \nL 3713 1100 \nL 3047 1100 \nL 3047 0 \nL 2419 0 \nL 2419 1100 \nL 313 1100 \nL 313 1709 \nL 2253 4666 \nz\n\" id=\"DejaVuSans-34\" transform=\"scale(0.015625)\"/>\n       </defs>\n       <use xlink:href=\"#DejaVuSans-30\"/>\n       <use x=\"63.623047\" xlink:href=\"#DejaVuSans-2e\"/>\n       <use x=\"95.410156\" xlink:href=\"#DejaVuSans-34\"/>\n      </g>\n     </g>\n    </g>\n   </g>\n   <g id=\"line2d_11\">\n    <path clip-path=\"url(#p31577b59ef)\" d=\"M 45.321307 214.756364 \nL 60.155157 214.756364 \nL 60.29001 67.608749 \nL 60.424863 214.756364 \nL 60.69457 214.756364 \nL 60.829423 18.894709 \nL 60.964276 214.756364 \nL 92.654774 214.756364 \nL 92.789628 65.93946 \nL 92.924481 214.756364 \nL 104.791561 214.756364 \nL 104.926414 18.126256 \nL 105.061267 214.756364 \nL 113.826724 214.756364 \nL 113.961577 17.908958 \nL 114.096431 214.756364 \nL 124.345273 214.756364 \nL 124.480126 18.182373 \nL 124.614979 214.756364 \nL 136.0775 214.756364 \nL 136.212353 18.474822 \nL 136.347206 214.756364 \nL 138.370004 214.756364 \nL 138.504857 18.031692 \nL 138.63971 214.756364 \nL 163.857256 214.756364 \nL 163.992109 18.283604 \nL 164.126962 214.756364 \nL 171.004474 214.756364 \nL 171.139328 18.136042 \nL 171.274181 214.756364 \nL 177.072868 214.756364 \nL 177.207721 75.268085 \nL 177.342574 214.756364 \nL 183.410967 214.756364 \nL 183.54582 17.924389 \nL 183.680674 214.756364 \nL 185.029205 214.756364 \nL 185.164059 18.297674 \nL 185.298912 214.756364 \nL 213.213521 214.756364 \nL 213.348374 18.219851 \nL 213.483227 214.756364 \nL 235.059737 214.756364 \nL 235.19459 17.083636 \nL 235.329443 214.756364 \nL 251.242119 214.756364 \nL 251.376972 17.930692 \nL 251.511825 214.756364 \nL 252.455797 214.756364 \nL 252.590651 18.904458 \nL 252.725504 214.756364 \nL 259.198457 214.756364 \nL 259.33331 17.083636 \nL 259.468163 214.756364 \nL 274.16716 214.756364 \nL 274.302013 18.159176 \nL 274.436866 214.756364 \nL 276.594517 214.756364 \nL 276.729371 18.734957 \nL 276.864224 214.756364 \nL 282.528058 214.756364 \nL 282.662911 66.666581 \nL 282.797764 214.756364 \nL 284.550855 214.756364 \nL 284.685708 93.414499 \nL 284.820562 214.756364 \nL 285.494828 214.756364 \nL 285.629681 18.281052 \nL 285.764534 214.756364 \nL 287.382772 214.756364 \nL 287.517625 19.137467 \nL 287.652479 214.756364 \nL 289.675276 214.756364 \nL 289.810129 20.068586 \nL 289.944983 214.756364 \nL 291.832927 214.756364 \nL 291.96778 18.221737 \nL 292.102634 214.756364 \nL 294.125431 214.756364 \nL 294.260285 18.658025 \nL 294.395138 214.756364 \nL 299.654412 214.756364 \nL 299.789265 83.658299 \nL 299.924118 214.756364 \nL 300.193825 214.756364 \nL 300.328678 202.107502 \nL 300.463531 214.756364 \nL 300.733237 214.756364 \nL 300.868091 88.951471 \nL 301.002944 214.756364 \nL 301.812063 214.756364 \nL 301.946916 89.134841 \nL 302.081769 214.756364 \nL 302.351476 214.756364 \nL 302.486329 210.062906 \nL 302.621182 214.756364 \nL 302.890888 214.756364 \nL 303.025742 90.766235 \nL 303.160595 214.756364 \nL 303.969714 214.756364 \nL 304.104567 91.518492 \nL 304.23942 214.756364 \nL 304.64398 214.756364 \nL 304.778833 80.074927 \nL 304.913686 214.756364 \nL 305.183392 214.756364 \nL 305.318246 203.574525 \nL 305.453099 214.756364 \nL 306.936484 214.756364 \nL 307.071337 75.700103 \nL 307.20619 214.756364 \nL 308.285016 214.756364 \nL 308.419869 65.145833 \nL 308.554722 214.756364 \nL 312.060905 214.756364 \nL 312.195758 19.186821 \nL 312.330611 214.756364 \nL 313.004877 214.756364 \nL 313.13973 18.166183 \nL 313.274583 214.756364 \nL 316.645913 214.756364 \nL 316.780766 68.506223 \nL 316.915619 214.756364 \nL 320.961215 214.756364 \nL 321.096068 80.575943 \nL 321.230921 214.756364 \nL 321.500628 214.756364 \nL 321.635481 97.599692 \nL 321.770334 214.756364 \nL 326.085636 214.756364 \nL 326.220489 18.153954 \nL 326.355342 214.756364 \nL 327.029608 214.756364 \nL 327.164461 92.621022 \nL 327.299315 214.756364 \nL 333.098002 214.756364 \nL 333.232855 69.349351 \nL 333.367708 214.756364 \nL 337.008744 214.756364 \nL 337.143597 70.646086 \nL 337.27845 214.756364 \nL 341.189193 214.756364 \nL 341.324046 17.967606 \nL 341.458899 214.756364 \nL 342.268018 214.756364 \nL 342.402871 18.330415 \nL 342.537724 214.756364 \nL 343.481697 214.756364 \nL 343.61655 17.822205 \nL 343.751403 214.756364 \nL 345.909054 214.756364 \nL 346.043907 21.867361 \nL 346.17876 214.756364 \nL 349.684943 214.756364 \nL 349.684943 214.756364 \n\" style=\"fill:none;stroke:#1f77b4;stroke-linecap:square;stroke-width:1.5;\"/>\n   </g>\n   <g id=\"line2d_12\">\n    <path clip-path=\"url(#p31577b59ef)\" d=\"M 30.103125 83.636143 \nL 364.903125 83.636143 \n\" style=\"fill:none;stroke:#ff0000;stroke-dasharray:5.55,2.4;stroke-dashoffset:0;stroke-width:1.5;\"/>\n   </g>\n   <g id=\"line2d_13\">\n    <defs>\n     <path d=\"M -3 3 \nL 3 -3 \nM -3 -3 \nL 3 3 \n\" id=\"m5dc518c03b\" style=\"stroke:#ff7f0e;\"/>\n    </defs>\n    <g clip-path=\"url(#p31577b59ef)\">\n     <use style=\"fill:#ff7f0e;stroke:#ff7f0e;\" x=\"60.29001\" xlink:href=\"#m5dc518c03b\" y=\"67.608749\"/>\n     <use style=\"fill:#ff7f0e;stroke:#ff7f0e;\" x=\"60.829423\" xlink:href=\"#m5dc518c03b\" y=\"18.894709\"/>\n     <use style=\"fill:#ff7f0e;stroke:#ff7f0e;\" x=\"92.789628\" xlink:href=\"#m5dc518c03b\" y=\"65.93946\"/>\n     <use style=\"fill:#ff7f0e;stroke:#ff7f0e;\" x=\"104.926414\" xlink:href=\"#m5dc518c03b\" y=\"18.126256\"/>\n     <use style=\"fill:#ff7f0e;stroke:#ff7f0e;\" x=\"113.961577\" xlink:href=\"#m5dc518c03b\" y=\"17.908958\"/>\n     <use style=\"fill:#ff7f0e;stroke:#ff7f0e;\" x=\"124.480126\" xlink:href=\"#m5dc518c03b\" y=\"18.182373\"/>\n     <use style=\"fill:#ff7f0e;stroke:#ff7f0e;\" x=\"136.212353\" xlink:href=\"#m5dc518c03b\" y=\"18.474822\"/>\n     <use style=\"fill:#ff7f0e;stroke:#ff7f0e;\" x=\"138.504857\" xlink:href=\"#m5dc518c03b\" y=\"18.031692\"/>\n     <use style=\"fill:#ff7f0e;stroke:#ff7f0e;\" x=\"163.992109\" xlink:href=\"#m5dc518c03b\" y=\"18.283604\"/>\n     <use style=\"fill:#ff7f0e;stroke:#ff7f0e;\" x=\"171.139328\" xlink:href=\"#m5dc518c03b\" y=\"18.136042\"/>\n     <use style=\"fill:#ff7f0e;stroke:#ff7f0e;\" x=\"177.207721\" xlink:href=\"#m5dc518c03b\" y=\"75.268085\"/>\n     <use style=\"fill:#ff7f0e;stroke:#ff7f0e;\" x=\"183.54582\" xlink:href=\"#m5dc518c03b\" y=\"17.924389\"/>\n     <use style=\"fill:#ff7f0e;stroke:#ff7f0e;\" x=\"185.164059\" xlink:href=\"#m5dc518c03b\" y=\"18.297674\"/>\n     <use style=\"fill:#ff7f0e;stroke:#ff7f0e;\" x=\"213.348374\" xlink:href=\"#m5dc518c03b\" y=\"18.219851\"/>\n     <use style=\"fill:#ff7f0e;stroke:#ff7f0e;\" x=\"235.19459\" xlink:href=\"#m5dc518c03b\" y=\"17.083636\"/>\n     <use style=\"fill:#ff7f0e;stroke:#ff7f0e;\" x=\"251.376972\" xlink:href=\"#m5dc518c03b\" y=\"17.930692\"/>\n     <use style=\"fill:#ff7f0e;stroke:#ff7f0e;\" x=\"252.590651\" xlink:href=\"#m5dc518c03b\" y=\"18.904458\"/>\n     <use style=\"fill:#ff7f0e;stroke:#ff7f0e;\" x=\"259.33331\" xlink:href=\"#m5dc518c03b\" y=\"17.083636\"/>\n     <use style=\"fill:#ff7f0e;stroke:#ff7f0e;\" x=\"274.302013\" xlink:href=\"#m5dc518c03b\" y=\"18.159176\"/>\n     <use style=\"fill:#ff7f0e;stroke:#ff7f0e;\" x=\"276.729371\" xlink:href=\"#m5dc518c03b\" y=\"18.734957\"/>\n     <use style=\"fill:#ff7f0e;stroke:#ff7f0e;\" x=\"282.662911\" xlink:href=\"#m5dc518c03b\" y=\"66.666581\"/>\n     <use style=\"fill:#ff7f0e;stroke:#ff7f0e;\" x=\"285.629681\" xlink:href=\"#m5dc518c03b\" y=\"18.281052\"/>\n     <use style=\"fill:#ff7f0e;stroke:#ff7f0e;\" x=\"287.517625\" xlink:href=\"#m5dc518c03b\" y=\"19.137467\"/>\n     <use style=\"fill:#ff7f0e;stroke:#ff7f0e;\" x=\"289.810129\" xlink:href=\"#m5dc518c03b\" y=\"20.068586\"/>\n     <use style=\"fill:#ff7f0e;stroke:#ff7f0e;\" x=\"291.96778\" xlink:href=\"#m5dc518c03b\" y=\"18.221737\"/>\n     <use style=\"fill:#ff7f0e;stroke:#ff7f0e;\" x=\"294.260285\" xlink:href=\"#m5dc518c03b\" y=\"18.658025\"/>\n     <use style=\"fill:#ff7f0e;stroke:#ff7f0e;\" x=\"304.778833\" xlink:href=\"#m5dc518c03b\" y=\"80.074927\"/>\n     <use style=\"fill:#ff7f0e;stroke:#ff7f0e;\" x=\"307.071337\" xlink:href=\"#m5dc518c03b\" y=\"75.700103\"/>\n     <use style=\"fill:#ff7f0e;stroke:#ff7f0e;\" x=\"308.419869\" xlink:href=\"#m5dc518c03b\" y=\"65.145833\"/>\n     <use style=\"fill:#ff7f0e;stroke:#ff7f0e;\" x=\"312.195758\" xlink:href=\"#m5dc518c03b\" y=\"19.186821\"/>\n     <use style=\"fill:#ff7f0e;stroke:#ff7f0e;\" x=\"313.13973\" xlink:href=\"#m5dc518c03b\" y=\"18.166183\"/>\n     <use style=\"fill:#ff7f0e;stroke:#ff7f0e;\" x=\"316.780766\" xlink:href=\"#m5dc518c03b\" y=\"68.506223\"/>\n     <use style=\"fill:#ff7f0e;stroke:#ff7f0e;\" x=\"321.096068\" xlink:href=\"#m5dc518c03b\" y=\"80.575943\"/>\n     <use style=\"fill:#ff7f0e;stroke:#ff7f0e;\" x=\"326.220489\" xlink:href=\"#m5dc518c03b\" y=\"18.153954\"/>\n     <use style=\"fill:#ff7f0e;stroke:#ff7f0e;\" x=\"333.232855\" xlink:href=\"#m5dc518c03b\" y=\"69.349351\"/>\n     <use style=\"fill:#ff7f0e;stroke:#ff7f0e;\" x=\"337.143597\" xlink:href=\"#m5dc518c03b\" y=\"70.646086\"/>\n     <use style=\"fill:#ff7f0e;stroke:#ff7f0e;\" x=\"341.324046\" xlink:href=\"#m5dc518c03b\" y=\"17.967606\"/>\n     <use style=\"fill:#ff7f0e;stroke:#ff7f0e;\" x=\"342.402871\" xlink:href=\"#m5dc518c03b\" y=\"18.330415\"/>\n     <use style=\"fill:#ff7f0e;stroke:#ff7f0e;\" x=\"343.61655\" xlink:href=\"#m5dc518c03b\" y=\"17.822205\"/>\n     <use style=\"fill:#ff7f0e;stroke:#ff7f0e;\" x=\"346.043907\" xlink:href=\"#m5dc518c03b\" y=\"21.867361\"/>\n    </g>\n   </g>\n   <g id=\"patch_7\">\n    <path d=\"M 30.103125 224.64 \nL 30.103125 7.2 \n\" style=\"fill:none;stroke:#000000;stroke-linecap:square;stroke-linejoin:miter;stroke-width:0.8;\"/>\n   </g>\n   <g id=\"patch_8\">\n    <path d=\"M 364.903125 224.64 \nL 364.903125 7.2 \n\" style=\"fill:none;stroke:#000000;stroke-linecap:square;stroke-linejoin:miter;stroke-width:0.8;\"/>\n   </g>\n   <g id=\"patch_9\">\n    <path d=\"M 30.103125 224.64 \nL 364.903125 224.64 \n\" style=\"fill:none;stroke:#000000;stroke-linecap:square;stroke-linejoin:miter;stroke-width:0.8;\"/>\n   </g>\n   <g id=\"patch_10\">\n    <path d=\"M 30.103125 7.2 \nL 364.903125 7.2 \n\" style=\"fill:none;stroke:#000000;stroke-linecap:square;stroke-linejoin:miter;stroke-width:0.8;\"/>\n   </g>\n  </g>\n </g>\n <defs>\n  <clipPath id=\"p31577b59ef\">\n   <rect height=\"217.44\" width=\"334.8\" x=\"30.103125\" y=\"7.2\"/>\n  </clipPath>\n </defs>\n</svg>\n",
      "image/png": "[encoded data removed]"
     },
     "metadata": {
      "needs_background": "light"
     }
    }
   ],
   "source": [
    "scores=np.load(\"scores_3.npy\")\n",
    "threshold=0.3\n",
    "# final=np.where(scores<threshold, 0, scores)\n",
    "final=scores\n",
    "# plt.plot(range(len(final)), final)\n",
    "peaks, _=find_peaks(final)\n",
    "\n",
    "test=[]         \n",
    "for item in peaks:\n",
    "    if scores[item]>threshold:\n",
    "        test.append(item)\n",
    "# test=np.where(np.any(scores[peaks]>threshold))\n",
    "plt.plot(range(len(final)), final)\n",
    "plt.axhline(y=threshold,linestyle='--',color='r')\n",
    "plt.plot(test, final[test], 'x')\n",
    "\n",
    "clr='rgbc'\n",
    "for i, item in enumerate(atd):\n",
    "    if not i:\n",
    "        plt.axvspan(0, atd[i], alpha=0.2, color=clr[i])\n",
    "    else:\n",
    "        plt.axvspan(atd[i-1], atd[i], alpha=0.2, color=clr[i])\n",
    "# plt.legend()"
   ]
  },
  {
   "cell_type": "code",
   "execution_count": 18,
   "metadata": {},
   "outputs": [
    {
     "output_type": "execute_result",
     "data": {
      "text/plain": [
       "[<matplotlib.lines.Line2D at 0x7f6c4475b730>]"
      ]
     },
     "metadata": {},
     "execution_count": 18
    },
    {
     "output_type": "display_data",
     "data": {
      "text/plain": "<Figure size 432x288 with 1 Axes>",
      "image/svg+xml": "<?xml version=\"1.0\" encoding=\"utf-8\" standalone=\"no\"?>\n<!DOCTYPE svg PUBLIC \"-//W3C//DTD SVG 1.1//EN\"\n  \"http://www.w3.org/Graphics/SVG/1.1/DTD/svg11.dtd\">\n<svg height=\"248.518125pt\" version=\"1.1\" viewBox=\"0 0 372.103125 248.518125\" width=\"372.103125pt\" xmlns=\"http://www.w3.org/2000/svg\" xmlns:xlink=\"http://www.w3.org/1999/xlink\">\n <metadata>\n  <rdf:RDF xmlns:cc=\"http://creativecommons.org/ns#\" xmlns:dc=\"http://purl.org/dc/elements/1.1/\" xmlns:rdf=\"http://www.w3.org/1999/02/22-rdf-syntax-ns#\">\n   <cc:Work>\n    <dc:type rdf:resource=\"http://purl.org/dc/dcmitype/StillImage\"/>\n    <dc:date>2021-04-14T09:11:40.243198</dc:date>\n    <dc:format>image/svg+xml</dc:format>\n    <dc:creator>\n     <cc:Agent>\n      <dc:title>Matplotlib v3.4.1, https://matplotlib.org/</dc:title>\n     </cc:Agent>\n    </dc:creator>\n   </cc:Work>\n  </rdf:RDF>\n </metadata>\n <defs>\n  <style type=\"text/css\">*{stroke-linecap:butt;stroke-linejoin:round;}</style>\n </defs>\n <g id=\"figure_1\">\n  <g id=\"patch_1\">\n   <path d=\"M 0 248.518125 \nL 372.103125 248.518125 \nL 372.103125 0 \nL 0 0 \nz\n\" style=\"fill:none;\"/>\n  </g>\n  <g id=\"axes_1\">\n   <g id=\"patch_2\">\n    <path d=\"M 30.103125 224.64 \nL 364.903125 224.64 \nL 364.903125 7.2 \nL 30.103125 7.2 \nz\n\" style=\"fill:#ffffff;\"/>\n   </g>\n   <g id=\"matplotlib.axis_1\">\n    <g id=\"xtick_1\">\n     <g id=\"line2d_1\">\n      <defs>\n       <path d=\"M 0 0 \nL 0 3.5 \n\" id=\"m493343ee97\" style=\"stroke:#000000;stroke-width:0.8;\"/>\n      </defs>\n      <g>\n       <use style=\"stroke:#000000;stroke-width:0.8;\" x=\"45.321307\" xlink:href=\"#m493343ee97\" y=\"224.64\"/>\n      </g>\n     </g>\n     <g id=\"text_1\">\n      <!-- 0 -->\n      <g transform=\"translate(42.140057 239.238437)scale(0.1 -0.1)\">\n       <defs>\n        <path d=\"M 2034 4250 \nQ 1547 4250 1301 3770 \nQ 1056 3291 1056 2328 \nQ 1056 1369 1301 889 \nQ 1547 409 2034 409 \nQ 2525 409 2770 889 \nQ 3016 1369 3016 2328 \nQ 3016 3291 2770 3770 \nQ 2525 4250 2034 4250 \nz\nM 2034 4750 \nQ 2819 4750 3233 4129 \nQ 3647 3509 3647 2328 \nQ 3647 1150 3233 529 \nQ 2819 -91 2034 -91 \nQ 1250 -91 836 529 \nQ 422 1150 422 2328 \nQ 422 3509 836 4129 \nQ 1250 4750 2034 4750 \nz\n\" id=\"DejaVuSans-30\" transform=\"scale(0.015625)\"/>\n       </defs>\n       <use xlink:href=\"#DejaVuSans-30\"/>\n      </g>\n     </g>\n    </g>\n    <g id=\"xtick_2\">\n     <g id=\"line2d_2\">\n      <g>\n       <use style=\"stroke:#000000;stroke-width:0.8;\" x=\"88.554778\" xlink:href=\"#m493343ee97\" y=\"224.64\"/>\n      </g>\n     </g>\n     <g id=\"text_2\">\n      <!-- 250 -->\n      <g transform=\"translate(79.011028 239.238437)scale(0.1 -0.1)\">\n       <defs>\n        <path d=\"M 1228 531 \nL 3431 531 \nL 3431 0 \nL 469 0 \nL 469 531 \nQ 828 903 1448 1529 \nQ 2069 2156 2228 2338 \nQ 2531 2678 2651 2914 \nQ 2772 3150 2772 3378 \nQ 2772 3750 2511 3984 \nQ 2250 4219 1831 4219 \nQ 1534 4219 1204 4116 \nQ 875 4013 500 3803 \nL 500 4441 \nQ 881 4594 1212 4672 \nQ 1544 4750 1819 4750 \nQ 2544 4750 2975 4387 \nQ 3406 4025 3406 3419 \nQ 3406 3131 3298 2873 \nQ 3191 2616 2906 2266 \nQ 2828 2175 2409 1742 \nQ 1991 1309 1228 531 \nz\n\" id=\"DejaVuSans-32\" transform=\"scale(0.015625)\"/>\n        <path d=\"M 691 4666 \nL 3169 4666 \nL 3169 4134 \nL 1269 4134 \nL 1269 2991 \nQ 1406 3038 1543 3061 \nQ 1681 3084 1819 3084 \nQ 2600 3084 3056 2656 \nQ 3513 2228 3513 1497 \nQ 3513 744 3044 326 \nQ 2575 -91 1722 -91 \nQ 1428 -91 1123 -41 \nQ 819 9 494 109 \nL 494 744 \nQ 775 591 1075 516 \nQ 1375 441 1709 441 \nQ 2250 441 2565 725 \nQ 2881 1009 2881 1497 \nQ 2881 1984 2565 2268 \nQ 2250 2553 1709 2553 \nQ 1456 2553 1204 2497 \nQ 953 2441 691 2322 \nL 691 4666 \nz\n\" id=\"DejaVuSans-35\" transform=\"scale(0.015625)\"/>\n       </defs>\n       <use xlink:href=\"#DejaVuSans-32\"/>\n       <use x=\"63.623047\" xlink:href=\"#DejaVuSans-35\"/>\n       <use x=\"127.246094\" xlink:href=\"#DejaVuSans-30\"/>\n      </g>\n     </g>\n    </g>\n    <g id=\"xtick_3\">\n     <g id=\"line2d_3\">\n      <g>\n       <use style=\"stroke:#000000;stroke-width:0.8;\" x=\"131.788249\" xlink:href=\"#m493343ee97\" y=\"224.64\"/>\n      </g>\n     </g>\n     <g id=\"text_3\">\n      <!-- 500 -->\n      <g transform=\"translate(122.244499 239.238437)scale(0.1 -0.1)\">\n       <use xlink:href=\"#DejaVuSans-35\"/>\n       <use x=\"63.623047\" xlink:href=\"#DejaVuSans-30\"/>\n       <use x=\"127.246094\" xlink:href=\"#DejaVuSans-30\"/>\n      </g>\n     </g>\n    </g>\n    <g id=\"xtick_4\">\n     <g id=\"line2d_4\">\n      <g>\n       <use style=\"stroke:#000000;stroke-width:0.8;\" x=\"175.02172\" xlink:href=\"#m493343ee97\" y=\"224.64\"/>\n      </g>\n     </g>\n     <g id=\"text_4\">\n      <!-- 750 -->\n      <g transform=\"translate(165.47797 239.238437)scale(0.1 -0.1)\">\n       <defs>\n        <path d=\"M 525 4666 \nL 3525 4666 \nL 3525 4397 \nL 1831 0 \nL 1172 0 \nL 2766 4134 \nL 525 4134 \nL 525 4666 \nz\n\" id=\"DejaVuSans-37\" transform=\"scale(0.015625)\"/>\n       </defs>\n       <use xlink:href=\"#DejaVuSans-37\"/>\n       <use x=\"63.623047\" xlink:href=\"#DejaVuSans-35\"/>\n       <use x=\"127.246094\" xlink:href=\"#DejaVuSans-30\"/>\n      </g>\n     </g>\n    </g>\n    <g id=\"xtick_5\">\n     <g id=\"line2d_5\">\n      <g>\n       <use style=\"stroke:#000000;stroke-width:0.8;\" x=\"218.255191\" xlink:href=\"#m493343ee97\" y=\"224.64\"/>\n      </g>\n     </g>\n     <g id=\"text_5\">\n      <!-- 1000 -->\n      <g transform=\"translate(205.530191 239.238437)scale(0.1 -0.1)\">\n       <defs>\n        <path d=\"M 794 531 \nL 1825 531 \nL 1825 4091 \nL 703 3866 \nL 703 4441 \nL 1819 4666 \nL 2450 4666 \nL 2450 531 \nL 3481 531 \nL 3481 0 \nL 794 0 \nL 794 531 \nz\n\" id=\"DejaVuSans-31\" transform=\"scale(0.015625)\"/>\n       </defs>\n       <use xlink:href=\"#DejaVuSans-31\"/>\n       <use x=\"63.623047\" xlink:href=\"#DejaVuSans-30\"/>\n       <use x=\"127.246094\" xlink:href=\"#DejaVuSans-30\"/>\n       <use x=\"190.869141\" xlink:href=\"#DejaVuSans-30\"/>\n      </g>\n     </g>\n    </g>\n    <g id=\"xtick_6\">\n     <g id=\"line2d_6\">\n      <g>\n       <use style=\"stroke:#000000;stroke-width:0.8;\" x=\"261.488662\" xlink:href=\"#m493343ee97\" y=\"224.64\"/>\n      </g>\n     </g>\n     <g id=\"text_6\">\n      <!-- 1250 -->\n      <g transform=\"translate(248.763662 239.238437)scale(0.1 -0.1)\">\n       <use xlink:href=\"#DejaVuSans-31\"/>\n       <use x=\"63.623047\" xlink:href=\"#DejaVuSans-32\"/>\n       <use x=\"127.246094\" xlink:href=\"#DejaVuSans-35\"/>\n       <use x=\"190.869141\" xlink:href=\"#DejaVuSans-30\"/>\n      </g>\n     </g>\n    </g>\n    <g id=\"xtick_7\">\n     <g id=\"line2d_7\">\n      <g>\n       <use style=\"stroke:#000000;stroke-width:0.8;\" x=\"304.722133\" xlink:href=\"#m493343ee97\" y=\"224.64\"/>\n      </g>\n     </g>\n     <g id=\"text_7\">\n      <!-- 1500 -->\n      <g transform=\"translate(291.997133 239.238437)scale(0.1 -0.1)\">\n       <use xlink:href=\"#DejaVuSans-31\"/>\n       <use x=\"63.623047\" xlink:href=\"#DejaVuSans-35\"/>\n       <use x=\"127.246094\" xlink:href=\"#DejaVuSans-30\"/>\n       <use x=\"190.869141\" xlink:href=\"#DejaVuSans-30\"/>\n      </g>\n     </g>\n    </g>\n    <g id=\"xtick_8\">\n     <g id=\"line2d_8\">\n      <g>\n       <use style=\"stroke:#000000;stroke-width:0.8;\" x=\"347.955604\" xlink:href=\"#m493343ee97\" y=\"224.64\"/>\n      </g>\n     </g>\n     <g id=\"text_8\">\n      <!-- 1750 -->\n      <g transform=\"translate(335.230604 239.238437)scale(0.1 -0.1)\">\n       <use xlink:href=\"#DejaVuSans-31\"/>\n       <use x=\"63.623047\" xlink:href=\"#DejaVuSans-37\"/>\n       <use x=\"127.246094\" xlink:href=\"#DejaVuSans-35\"/>\n       <use x=\"190.869141\" xlink:href=\"#DejaVuSans-30\"/>\n      </g>\n     </g>\n    </g>\n   </g>\n   <g id=\"matplotlib.axis_2\">\n    <g id=\"ytick_1\">\n     <g id=\"line2d_9\">\n      <defs>\n       <path d=\"M 0 0 \nL -3.5 0 \n\" id=\"m6151c6afa3\" style=\"stroke:#000000;stroke-width:0.8;\"/>\n      </defs>\n      <g>\n       <use style=\"stroke:#000000;stroke-width:0.8;\" x=\"30.103125\" xlink:href=\"#m6151c6afa3\" y=\"214.756364\"/>\n      </g>\n     </g>\n     <g id=\"text_9\">\n      <!-- 0.0 -->\n      <g transform=\"translate(7.2 218.555582)scale(0.1 -0.1)\">\n       <defs>\n        <path d=\"M 684 794 \nL 1344 794 \nL 1344 0 \nL 684 0 \nL 684 794 \nz\n\" id=\"DejaVuSans-2e\" transform=\"scale(0.015625)\"/>\n       </defs>\n       <use xlink:href=\"#DejaVuSans-30\"/>\n       <use x=\"63.623047\" xlink:href=\"#DejaVuSans-2e\"/>\n       <use x=\"95.410156\" xlink:href=\"#DejaVuSans-30\"/>\n      </g>\n     </g>\n    </g>\n    <g id=\"ytick_2\">\n     <g id=\"line2d_10\">\n      <g>\n       <use style=\"stroke:#000000;stroke-width:0.8;\" x=\"30.103125\" xlink:href=\"#m6151c6afa3\" y=\"170.983449\"/>\n      </g>\n     </g>\n     <g id=\"text_10\">\n      <!-- 0.1 -->\n      <g transform=\"translate(7.2 174.782668)scale(0.1 -0.1)\">\n       <use xlink:href=\"#DejaVuSans-30\"/>\n       <use x=\"63.623047\" xlink:href=\"#DejaVuSans-2e\"/>\n       <use x=\"95.410156\" xlink:href=\"#DejaVuSans-31\"/>\n      </g>\n     </g>\n    </g>\n    <g id=\"ytick_3\">\n     <g id=\"line2d_11\">\n      <g>\n       <use style=\"stroke:#000000;stroke-width:0.8;\" x=\"30.103125\" xlink:href=\"#m6151c6afa3\" y=\"127.210535\"/>\n      </g>\n     </g>\n     <g id=\"text_11\">\n      <!-- 0.2 -->\n      <g transform=\"translate(7.2 131.009754)scale(0.1 -0.1)\">\n       <use xlink:href=\"#DejaVuSans-30\"/>\n       <use x=\"63.623047\" xlink:href=\"#DejaVuSans-2e\"/>\n       <use x=\"95.410156\" xlink:href=\"#DejaVuSans-32\"/>\n      </g>\n     </g>\n    </g>\n    <g id=\"ytick_4\">\n     <g id=\"line2d_12\">\n      <g>\n       <use style=\"stroke:#000000;stroke-width:0.8;\" x=\"30.103125\" xlink:href=\"#m6151c6afa3\" y=\"83.437621\"/>\n      </g>\n     </g>\n     <g id=\"text_12\">\n      <!-- 0.3 -->\n      <g transform=\"translate(7.2 87.23684)scale(0.1 -0.1)\">\n       <defs>\n        <path d=\"M 2597 2516 \nQ 3050 2419 3304 2112 \nQ 3559 1806 3559 1356 \nQ 3559 666 3084 287 \nQ 2609 -91 1734 -91 \nQ 1441 -91 1130 -33 \nQ 819 25 488 141 \nL 488 750 \nQ 750 597 1062 519 \nQ 1375 441 1716 441 \nQ 2309 441 2620 675 \nQ 2931 909 2931 1356 \nQ 2931 1769 2642 2001 \nQ 2353 2234 1838 2234 \nL 1294 2234 \nL 1294 2753 \nL 1863 2753 \nQ 2328 2753 2575 2939 \nQ 2822 3125 2822 3475 \nQ 2822 3834 2567 4026 \nQ 2313 4219 1838 4219 \nQ 1578 4219 1281 4162 \nQ 984 4106 628 3988 \nL 628 4550 \nQ 988 4650 1302 4700 \nQ 1616 4750 1894 4750 \nQ 2613 4750 3031 4423 \nQ 3450 4097 3450 3541 \nQ 3450 3153 3228 2886 \nQ 3006 2619 2597 2516 \nz\n\" id=\"DejaVuSans-33\" transform=\"scale(0.015625)\"/>\n       </defs>\n       <use xlink:href=\"#DejaVuSans-30\"/>\n       <use x=\"63.623047\" xlink:href=\"#DejaVuSans-2e\"/>\n       <use x=\"95.410156\" xlink:href=\"#DejaVuSans-33\"/>\n      </g>\n     </g>\n    </g>\n    <g id=\"ytick_5\">\n     <g id=\"line2d_13\">\n      <g>\n       <use style=\"stroke:#000000;stroke-width:0.8;\" x=\"30.103125\" xlink:href=\"#m6151c6afa3\" y=\"39.664707\"/>\n      </g>\n     </g>\n     <g id=\"text_13\">\n      <!-- 0.4 -->\n      <g transform=\"translate(7.2 43.463925)scale(0.1 -0.1)\">\n       <defs>\n        <path d=\"M 2419 4116 \nL 825 1625 \nL 2419 1625 \nL 2419 4116 \nz\nM 2253 4666 \nL 3047 4666 \nL 3047 1625 \nL 3713 1625 \nL 3713 1100 \nL 3047 1100 \nL 3047 0 \nL 2419 0 \nL 2419 1100 \nL 313 1100 \nL 313 1709 \nL 2253 4666 \nz\n\" id=\"DejaVuSans-34\" transform=\"scale(0.015625)\"/>\n       </defs>\n       <use xlink:href=\"#DejaVuSans-30\"/>\n       <use x=\"63.623047\" xlink:href=\"#DejaVuSans-2e\"/>\n       <use x=\"95.410156\" xlink:href=\"#DejaVuSans-34\"/>\n      </g>\n     </g>\n    </g>\n   </g>\n   <g id=\"line2d_14\">\n    <path clip-path=\"url(#pba3d225f68)\" d=\"M 45.321307 214.756364 \nL 45.667175 214.756364 \nL 45.840108 65.847493 \nL 46.013042 214.756364 \nL 48.779985 214.756364 \nL 48.952918 17.765387 \nL 49.125852 214.756364 \nL 56.216142 214.756364 \nL 56.389075 17.768236 \nL 56.562009 214.756364 \nL 61.05829 214.756364 \nL 61.231224 17.768241 \nL 61.404158 214.756364 \nL 84.231431 214.756364 \nL 84.404365 17.794124 \nL 84.577299 214.756364 \nL 85.0961 214.756364 \nL 85.269034 65.236318 \nL 85.441968 214.756364 \nL 100.487216 214.756364 \nL 100.66015 17.86147 \nL 100.833084 214.756364 \nL 106.194034 214.756364 \nL 106.366968 17.82011 \nL 106.539902 214.756364 \nL 108.096307 214.756364 \nL 108.269241 17.796982 \nL 108.442175 214.756364 \nL 109.306844 214.756364 \nL 109.479778 72.911409 \nL 109.652712 214.756364 \nL 118.126472 214.756364 \nL 118.299406 17.845246 \nL 118.47234 214.756364 \nL 122.449819 214.756364 \nL 122.622753 17.787674 \nL 122.795687 214.756364 \nL 125.043827 214.756364 \nL 125.216761 65.769022 \nL 125.389695 214.756364 \nL 126.427299 214.756364 \nL 126.600232 17.837387 \nL 126.773166 214.756364 \nL 128.502505 214.756364 \nL 128.675439 201.717739 \nL 128.848373 214.756364 \nL 133.344654 214.756364 \nL 133.517588 18.121567 \nL 133.690522 214.756364 \nL 140.262009 214.756364 \nL 140.434943 17.783552 \nL 140.607877 214.756364 \nL 147.525232 214.756364 \nL 147.698166 17.816956 \nL 147.8711 214.756364 \nL 151.156844 214.756364 \nL 151.329778 17.782769 \nL 151.502712 214.756364 \nL 154.788456 214.756364 \nL 154.961389 65.420337 \nL 155.134323 214.756364 \nL 158.074199 214.756364 \nL 158.247133 17.779965 \nL 158.420067 214.756364 \nL 160.149406 214.756364 \nL 160.32234 17.796044 \nL 160.495274 214.756364 \nL 172.600646 214.756364 \nL 172.77358 17.796662 \nL 172.946513 214.756364 \nL 173.292381 214.756364 \nL 173.465315 67.805653 \nL 173.638249 214.756364 \nL 201.30767 214.756364 \nL 201.480604 17.784787 \nL 201.653538 214.756364 \nL 204.593414 214.756364 \nL 204.766348 66.141236 \nL 204.939282 214.756364 \nL 215.661183 214.756364 \nL 215.834117 69.157477 \nL 216.007051 214.756364 \nL 228.977092 214.756364 \nL 229.150026 17.96645 \nL 229.32296 214.756364 \nL 237.450852 214.756364 \nL 237.623786 88.867429 \nL 237.79672 214.756364 \nL 258.894654 214.756364 \nL 259.067588 67.140983 \nL 259.240522 214.756364 \nL 278.263249 214.756364 \nL 278.436183 17.811724 \nL 278.609117 214.756364 \nL 278.782051 214.756364 \nL 278.954985 17.083636 \nL 279.127918 214.756364 \nL 283.105398 214.756364 \nL 283.278332 18.088627 \nL 283.451265 214.756364 \nL 286.391142 214.756364 \nL 286.564075 65.838147 \nL 286.737009 214.756364 \nL 299.188249 214.756364 \nL 299.361183 67.130322 \nL 299.534117 214.756364 \nL 300.744654 214.756364 \nL 300.917588 65.171667 \nL 301.090522 214.756364 \nL 302.128125 214.756364 \nL 302.301059 70.474208 \nL 302.473993 214.756364 \nL 304.376265 214.756364 \nL 304.549199 74.36133 \nL 304.722133 214.756364 \nL 322.015522 214.756364 \nL 322.188456 65.102847 \nL 322.361389 214.756364 \nL 323.571927 214.756364 \nL 323.744861 65.102847 \nL 323.917794 214.756364 \nL 328.241142 214.756364 \nL 328.414075 17.780715 \nL 328.587009 214.756364 \nL 333.08329 214.756364 \nL 333.256224 66.415698 \nL 333.429158 214.756364 \nL 341.902918 214.756364 \nL 342.075852 66.813932 \nL 342.248786 214.756364 \nL 346.399199 214.756364 \nL 346.572133 76.045221 \nL 346.745067 214.756364 \nL 349.684943 214.756364 \nL 349.684943 214.756364 \n\" style=\"fill:none;stroke:#1f77b4;stroke-linecap:square;stroke-width:1.5;\"/>\n   </g>\n   <g id=\"line2d_15\">\n    <path clip-path=\"url(#pba3d225f68)\" d=\"M 30.103125 83.437621 \nL 364.903125 83.437621 \n\" style=\"fill:none;stroke:#ff0000;stroke-dasharray:5.55,2.4;stroke-dashoffset:0;stroke-width:1.5;\"/>\n   </g>\n   <g id=\"line2d_16\">\n    <defs>\n     <path d=\"M -3 3 \nL 3 -3 \nM -3 -3 \nL 3 3 \n\" id=\"mfc0d3fef77\" style=\"stroke:#ff7f0e;\"/>\n    </defs>\n    <g clip-path=\"url(#pba3d225f68)\">\n     <use style=\"fill:#ff7f0e;stroke:#ff7f0e;\" x=\"45.840108\" xlink:href=\"#mfc0d3fef77\" y=\"65.847493\"/>\n     <use style=\"fill:#ff7f0e;stroke:#ff7f0e;\" x=\"48.952918\" xlink:href=\"#mfc0d3fef77\" y=\"17.765387\"/>\n     <use style=\"fill:#ff7f0e;stroke:#ff7f0e;\" x=\"56.389075\" xlink:href=\"#mfc0d3fef77\" y=\"17.768236\"/>\n     <use style=\"fill:#ff7f0e;stroke:#ff7f0e;\" x=\"61.231224\" xlink:href=\"#mfc0d3fef77\" y=\"17.768241\"/>\n     <use style=\"fill:#ff7f0e;stroke:#ff7f0e;\" x=\"84.404365\" xlink:href=\"#mfc0d3fef77\" y=\"17.794124\"/>\n     <use style=\"fill:#ff7f0e;stroke:#ff7f0e;\" x=\"85.269034\" xlink:href=\"#mfc0d3fef77\" y=\"65.236318\"/>\n     <use style=\"fill:#ff7f0e;stroke:#ff7f0e;\" x=\"100.66015\" xlink:href=\"#mfc0d3fef77\" y=\"17.86147\"/>\n     <use style=\"fill:#ff7f0e;stroke:#ff7f0e;\" x=\"106.366968\" xlink:href=\"#mfc0d3fef77\" y=\"17.82011\"/>\n     <use style=\"fill:#ff7f0e;stroke:#ff7f0e;\" x=\"108.269241\" xlink:href=\"#mfc0d3fef77\" y=\"17.796982\"/>\n     <use style=\"fill:#ff7f0e;stroke:#ff7f0e;\" x=\"109.479778\" xlink:href=\"#mfc0d3fef77\" y=\"72.911409\"/>\n     <use style=\"fill:#ff7f0e;stroke:#ff7f0e;\" x=\"118.299406\" xlink:href=\"#mfc0d3fef77\" y=\"17.845246\"/>\n     <use style=\"fill:#ff7f0e;stroke:#ff7f0e;\" x=\"122.622753\" xlink:href=\"#mfc0d3fef77\" y=\"17.787674\"/>\n     <use style=\"fill:#ff7f0e;stroke:#ff7f0e;\" x=\"125.216761\" xlink:href=\"#mfc0d3fef77\" y=\"65.769022\"/>\n     <use style=\"fill:#ff7f0e;stroke:#ff7f0e;\" x=\"126.600232\" xlink:href=\"#mfc0d3fef77\" y=\"17.837387\"/>\n     <use style=\"fill:#ff7f0e;stroke:#ff7f0e;\" x=\"133.517588\" xlink:href=\"#mfc0d3fef77\" y=\"18.121567\"/>\n     <use style=\"fill:#ff7f0e;stroke:#ff7f0e;\" x=\"140.434943\" xlink:href=\"#mfc0d3fef77\" y=\"17.783552\"/>\n     <use style=\"fill:#ff7f0e;stroke:#ff7f0e;\" x=\"147.698166\" xlink:href=\"#mfc0d3fef77\" y=\"17.816956\"/>\n     <use style=\"fill:#ff7f0e;stroke:#ff7f0e;\" x=\"151.329778\" xlink:href=\"#mfc0d3fef77\" y=\"17.782769\"/>\n     <use style=\"fill:#ff7f0e;stroke:#ff7f0e;\" x=\"154.961389\" xlink:href=\"#mfc0d3fef77\" y=\"65.420337\"/>\n     <use style=\"fill:#ff7f0e;stroke:#ff7f0e;\" x=\"158.247133\" xlink:href=\"#mfc0d3fef77\" y=\"17.779965\"/>\n     <use style=\"fill:#ff7f0e;stroke:#ff7f0e;\" x=\"160.32234\" xlink:href=\"#mfc0d3fef77\" y=\"17.796044\"/>\n     <use style=\"fill:#ff7f0e;stroke:#ff7f0e;\" x=\"172.77358\" xlink:href=\"#mfc0d3fef77\" y=\"17.796662\"/>\n     <use style=\"fill:#ff7f0e;stroke:#ff7f0e;\" x=\"173.465315\" xlink:href=\"#mfc0d3fef77\" y=\"67.805653\"/>\n     <use style=\"fill:#ff7f0e;stroke:#ff7f0e;\" x=\"201.480604\" xlink:href=\"#mfc0d3fef77\" y=\"17.784787\"/>\n     <use style=\"fill:#ff7f0e;stroke:#ff7f0e;\" x=\"204.766348\" xlink:href=\"#mfc0d3fef77\" y=\"66.141236\"/>\n     <use style=\"fill:#ff7f0e;stroke:#ff7f0e;\" x=\"215.834117\" xlink:href=\"#mfc0d3fef77\" y=\"69.157477\"/>\n     <use style=\"fill:#ff7f0e;stroke:#ff7f0e;\" x=\"229.150026\" xlink:href=\"#mfc0d3fef77\" y=\"17.96645\"/>\n     <use style=\"fill:#ff7f0e;stroke:#ff7f0e;\" x=\"259.067588\" xlink:href=\"#mfc0d3fef77\" y=\"67.140983\"/>\n     <use style=\"fill:#ff7f0e;stroke:#ff7f0e;\" x=\"278.436183\" xlink:href=\"#mfc0d3fef77\" y=\"17.811724\"/>\n     <use style=\"fill:#ff7f0e;stroke:#ff7f0e;\" x=\"278.954985\" xlink:href=\"#mfc0d3fef77\" y=\"17.083636\"/>\n     <use style=\"fill:#ff7f0e;stroke:#ff7f0e;\" x=\"283.278332\" xlink:href=\"#mfc0d3fef77\" y=\"18.088627\"/>\n     <use style=\"fill:#ff7f0e;stroke:#ff7f0e;\" x=\"286.564075\" xlink:href=\"#mfc0d3fef77\" y=\"65.838147\"/>\n     <use style=\"fill:#ff7f0e;stroke:#ff7f0e;\" x=\"299.361183\" xlink:href=\"#mfc0d3fef77\" y=\"67.130322\"/>\n     <use style=\"fill:#ff7f0e;stroke:#ff7f0e;\" x=\"300.917588\" xlink:href=\"#mfc0d3fef77\" y=\"65.171667\"/>\n     <use style=\"fill:#ff7f0e;stroke:#ff7f0e;\" x=\"302.301059\" xlink:href=\"#mfc0d3fef77\" y=\"70.474208\"/>\n     <use style=\"fill:#ff7f0e;stroke:#ff7f0e;\" x=\"304.549199\" xlink:href=\"#mfc0d3fef77\" y=\"74.36133\"/>\n     <use style=\"fill:#ff7f0e;stroke:#ff7f0e;\" x=\"322.188456\" xlink:href=\"#mfc0d3fef77\" y=\"65.102847\"/>\n     <use style=\"fill:#ff7f0e;stroke:#ff7f0e;\" x=\"323.744861\" xlink:href=\"#mfc0d3fef77\" y=\"65.102847\"/>\n     <use style=\"fill:#ff7f0e;stroke:#ff7f0e;\" x=\"328.414075\" xlink:href=\"#mfc0d3fef77\" y=\"17.780715\"/>\n     <use style=\"fill:#ff7f0e;stroke:#ff7f0e;\" x=\"333.256224\" xlink:href=\"#mfc0d3fef77\" y=\"66.415698\"/>\n     <use style=\"fill:#ff7f0e;stroke:#ff7f0e;\" x=\"342.075852\" xlink:href=\"#mfc0d3fef77\" y=\"66.813932\"/>\n     <use style=\"fill:#ff7f0e;stroke:#ff7f0e;\" x=\"346.572133\" xlink:href=\"#mfc0d3fef77\" y=\"76.045221\"/>\n    </g>\n   </g>\n   <g id=\"patch_3\">\n    <path d=\"M 30.103125 224.64 \nL 30.103125 7.2 \n\" style=\"fill:none;stroke:#000000;stroke-linecap:square;stroke-linejoin:miter;stroke-width:0.8;\"/>\n   </g>\n   <g id=\"patch_4\">\n    <path d=\"M 364.903125 224.64 \nL 364.903125 7.2 \n\" style=\"fill:none;stroke:#000000;stroke-linecap:square;stroke-linejoin:miter;stroke-width:0.8;\"/>\n   </g>\n   <g id=\"patch_5\">\n    <path d=\"M 30.103125 224.64 \nL 364.903125 224.64 \n\" style=\"fill:none;stroke:#000000;stroke-linecap:square;stroke-linejoin:miter;stroke-width:0.8;\"/>\n   </g>\n   <g id=\"patch_6\">\n    <path d=\"M 30.103125 7.2 \nL 364.903125 7.2 \n\" style=\"fill:none;stroke:#000000;stroke-linecap:square;stroke-linejoin:miter;stroke-width:0.8;\"/>\n   </g>\n  </g>\n </g>\n <defs>\n  <clipPath id=\"pba3d225f68\">\n   <rect height=\"217.44\" width=\"334.8\" x=\"30.103125\" y=\"7.2\"/>\n  </clipPath>\n </defs>\n</svg>\n",
      "image/png": "[encoded data removed]"
     },
     "metadata": {
      "needs_background": "light"
     }
    }
   ],
   "source": [
    "scores__=np.load(\"scores_removeAC_PE_SEOFF_separate.npy\")\n",
    "threshold=0.3\n",
    "# final=np.where(scores<threshold, 0, scores)\n",
    "final=scores__\n",
    "# plt.plot(range(len(final)), final)\n",
    "peaks, _=find_peaks(final)\n",
    "\n",
    "test=[]\n",
    "for item in peaks:\n",
    "    if scores__[item]>threshold:\n",
    "        test.append(item)\n",
    "# test=np.where(np.any(scores[peaks]>threshold))\n",
    "plt.plot(range(len(final)), final)\n",
    "plt.axhline(y=threshold,linestyle='--',color='r')\n",
    "plt.plot(test, final[test], 'x')"
   ]
  },
  {
   "cell_type": "code",
   "execution_count": 51,
   "metadata": {},
   "outputs": [
    {
     "output_type": "stream",
     "name": "stdout",
     "text": [
      "[111, 115, 352, 442, 509, 587, 674, 691, 880, 933, 978, 1025, 1037, 1246, 1408, 1528, 1537, 1587, 1698, 1716, 1760, 1782, 1796, 1813, 1829, 1846, 1924, 1941, 1951, 1979, 1986, 2013, 2045, 2083, 2135, 2164, 2195, 2203, 2212, 2230]\n[325, 658, 1348, 2257]\n"
     ]
    }
   ],
   "source": [
    "print(test)\n",
    "print(atd)"
   ]
  },
  {
   "cell_type": "code",
   "execution_count": 17,
   "metadata": {},
   "outputs": [
    {
     "output_type": "stream",
     "name": "stdout",
     "text": [
      "windows\n",
      "902 ['SO' 'HIGH' '1532169861.415']\n",
      "903 ['SO' 'HIGH' '1532169862.736']\n",
      "904 ['SO' 'HIGH' '1532169865.324']\n",
      "905 ['SO' 'HIGH' '1532169871.414']\n",
      "906 ['SO' 'HIGH' '1532169872.725']\n",
      "907 ['SO' 'HIGH' '1532169875.311']\n",
      "908 ['SO' 'HIGH' '1532169881.404']\n",
      "909 ['SO' 'HIGH' '1532169882.256']\n",
      "910 ['SO' 'HIGH' '1532169882.738']\n",
      "911 ['SO' 'HIGH' '1532169885.542']\n",
      "912 ['SO' 'HIGH' '1532169891.415']\n",
      "913 ['SO' 'HIGH' '1532169892.736']\n",
      "914 ['SO' 'HIGH' '1532169895.324']\n",
      "915 ['SO' 'HIGH' '1532169901.414']\n",
      "916 ['SO' 'HIGH' '1532169902.725']\n",
      "917 ['SO' 'HIGH' '1532169905.311']\n",
      "918 ['SO' 'HIGH' '1532169911.404']\n",
      "919 ['SO' 'HIGH' '1532169912.256']\n",
      "920 ['SO' 'HIGH' '1532169912.738']\n",
      "921 ['MT' 'ON' '1532169914.658']\n",
      "922 ['SO' 'HIGH' '1532169915.554']\n",
      "923 ['SO' 'HIGH' '1532169921.415']\n",
      "924 ['SO' 'HIGH' '1532169922.736']\n",
      "925 ['SO' 'HIGH' '1532169925.324']\n",
      "926 ['SO' 'HIGH' '1532169931.414']\n",
      "927 ['SO' 'HIGH' '1532169932.725']\n",
      "928 ['SO' 'LOW' '1532169935.311']\n",
      "929 ['SO' 'HIGH' '1532169941.404']\n",
      "930 ['SO' 'HIGH' '1532169942.256']\n",
      "931 ['SO' 'HIGH' '1532169942.738']\n",
      "932 ['MT' 'ON' '1532169944.934']\n",
      "==============================\n",
      "933 ['SO' 'HIGH' '1532169945.567'] *\n",
      "==============================\n",
      "934 ['SO' 'HIGH' '1532169951.415']\n",
      "935 ['SO' 'HIGH' '1532169952.736']\n",
      "Original View\n",
      "[[[81  1  1  0 29  0  0  1  0  0  0  0  0 28  0]\n",
      "  [82  4  1  0 28  0  0  2  0  0  2  0  0  0  0]]\n",
      "\n",
      " [[80  1  1  0 28  0  0  2  0  0  0  0  0  6  0]\n",
      "  [80  1  1  0 28  0  0  2  0  0  0  0  0  7  0]]]\n",
      "Cross-Validation: lambda 10.0 sigma 10.0\n",
      "K(center, numer)\n",
      "[[0.018 1.   ]\n",
      " [1.    0.018]]\n",
      "K(center, denom)\n",
      "[[0.738 0.095]\n",
      " [0.672 0.126]]\n",
      "0.4498387265315875\n",
      "0.4498387265315875\n"
     ]
    }
   ],
   "source": [
    "\"\"\"Analysis\"\"\"\n",
    "non_idx=933\n",
    "\n",
    "print('windows')\n",
    "print(non_idx-ws-1,windows[non_idx-ws-1][-1])\n",
    "for i in range(ws):\n",
    "    print(non_idx-ws+i,windows[non_idx-1][i])\n",
    "print('='*30)\n",
    "print(non_idx,windows[non_idx][-1],'*')\n",
    "print('='*30)\n",
    "print(non_idx+1,windows[non_idx+1][-1])\n",
    "print(non_idx+2,windows[non_idx+2][-1])\n",
    "print('Original View')\n",
    "print(views[non_idx].astype(int))\n",
    "# view_, maxx=nf(views[non_idx], 4)\n",
    "# view_=view_.reshape((2,2,-1))*maxx.max()\n",
    "# print('Revised View')\n",
    "# print(view_.astype(int))\n",
    "\n",
    "# dre=Densratio(x=view_[0], y=view_[1])\n",
    "dre=Densratio(x=views[non_idx][0], y=views[non_idx][1])\n",
    "print('Cross-Validation:','lambda',dre.lambda_,'sigma',dre.sigma)\n",
    "# print('denominator (t+1 and t+2)')\n",
    "# print(dre.y.astype(int))\n",
    "\n",
    "\n",
    "# print('Kernel center from numerator')\n",
    "# print(dre.kernel_centers.astype(int))\n",
    "print('K(center, numer)')\n",
    "print(np.round(dre.phi_x,3))\n",
    "print('K(center, denom)')\n",
    "print(np.round(dre.phi_y,3))\n",
    "print(dre.SEPDiv)\n",
    "print(dre.SEPDiv_)"
   ]
  },
  {
   "cell_type": "code",
   "execution_count": 9,
   "metadata": {},
   "outputs": [
    {
     "output_type": "stream",
     "name": "stdout",
     "text": [
      "7 / 389\n1.8 %\n4 / 404\n0.99 %\n11 / 428\n2.57 %\n9 / 434\n2.07 %\n"
     ]
    }
   ],
   "source": [
    "prev_sum=0\n",
    "for j, item in enumerate(atd):\n",
    "    if not j:\n",
    "        denom=item+1\n",
    "    else:\n",
    "        denom=atd[j]-atd[j-1]\n",
    "    numer=sum([1 if scores[t]>threshold and t<item else 0 for t in test])\n",
    "    value=numer-prev_sum\n",
    "    print(value,'/', denom)\n",
    "    prev_sum=numer\n",
    "    print(round(value*100/denom, 2), '%')"
   ]
  },
  {
   "cell_type": "code",
   "execution_count": null,
   "metadata": {},
   "outputs": [],
   "source": []
  }
 ]
}
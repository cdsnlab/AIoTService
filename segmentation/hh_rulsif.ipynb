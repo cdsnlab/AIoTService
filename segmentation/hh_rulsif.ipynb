{
 "cells": [
  {
   "cell_type": "code",
   "execution_count": 1,
   "metadata": {},
   "outputs": [],
   "source": [
    "\"\"\"import packages\"\"\"\n",
    "import os, glob\n",
    "import pandas as pd\n",
    "import numpy as np\n",
    "import math, random\n",
    "from datetime import datetime\n",
    "import pickle\n",
    "from matplotlib import pyplot as plt\n",
    "import argparse\n",
    "import path, sys, re, time\n",
    "from collections import Counter"
   ]
  },
  {
   "cell_type": "code",
   "execution_count": 2,
   "metadata": {},
   "outputs": [],
   "source": [
    "from module_.featureExtraction import feature_extraction\n",
    "from module_.changePointDetection import change_point_detection"
   ]
  },
  {
   "cell_type": "code",
   "execution_count": 6,
   "metadata": {},
   "outputs": [
    {
     "name": "stdout",
     "output_type": "stream",
     "text": [
      "4456 [240, 248]\n",
      "[['MA015' 'ON' '1342750158.9523' 'Toilet']\n",
      " ['MA015' 'ON' '1342750161.252048' 'Toilet']\n",
      " ['MA015' 'ON' '1342750171.387414' 'Toilet']\n",
      " ['MA015' 'ON' '1342750176.565344' 'Toilet']\n",
      " ['MA015' 'ON' '1342750182.242239' 'Toilet']\n",
      " ['MA015' 'ON' '1342750185.642422' 'Toilet']\n",
      " ['MA015' 'ON' '1342750192.714222' 'Toilet']\n",
      " ['MA015' 'ON' '1342750194.43453' 'Toilet']\n",
      " ['MA015' 'ON' '1342750201.751574' '']\n",
      " ['M011' 'ON' '1342750207.430253' '']]\n"
     ]
    }
   ],
   "source": [
    "# load ppsed data\n",
    "events=np.load(\"./preprocessed/hh/hh101/pp.npy\")\n",
    "# print(events.shape)\n",
    "\n",
    "# unique sensor list\n",
    "sensor_list=sorted(set(events[:,0]))\n",
    "# print(sensor_list)\n",
    "\n",
    "# transition idx: start of next activity\n",
    "trs=[i for i in range(events.shape[0]-1) if events[i,-1]!=events[max(i-1, 0),-1]]\n",
    "print(len(trs), trs[:2])\n",
    "print(events[240:250])\n",
    "\n",
    "# features=feature_extraction(events, 'hh101', sensor_list)\n",
    "# scores, _, _, _ = change_point_detection(features, 'rulsif', save=True)\n"
   ]
  },
  {
   "cell_type": "code",
   "execution_count": 3,
   "metadata": {},
   "outputs": [
    {
     "data": {
      "text/plain": [
       "(219513, 30, 4)"
      ]
     },
     "execution_count": 3,
     "metadata": {},
     "output_type": "execute_result"
    }
   ],
   "source": [
    "\"\"\"sliding window\"\"\"\n",
    "ws=30\n",
    "windows=[]\n",
    "for i in range(events.shape[0]):\n",
    "    window=events[i-ws+1:i+1,:]\n",
    "    if i-ws+1<0:\n",
    "        repeat=np.array([events[0,:] for j in range(ws-i-1)])\n",
    "        window=np.concatenate((repeat,events[:i+1]), axis=0)\n",
    "    windows.append(window)\n",
    "windows=np.array(windows)\n",
    "windows.shape"
   ]
  },
  {
   "cell_type": "code",
   "execution_count": 6,
   "metadata": {
    "tags": []
   },
   "outputs": [
    {
     "name": "stdout",
     "output_type": "stream",
     "text": [
      "500/219513 elapsed time: 582.9997804164886\n",
      "1000/219513 elapsed time: 1159.6860611438751\n",
      "1500/219513 elapsed time: 1737.7762799263\n",
      "2000/219513 elapsed time: 2317.0540986061096\n",
      "2500/219513 elapsed time: 2894.4299731254578\n",
      "3000/219513 elapsed time: 3470.786099433899\n",
      "3500/219513 elapsed time: 4049.1391830444336\n",
      "4000/219513 elapsed time: 4628.603989601135\n",
      "4500/219513 elapsed time: 5207.53546333313\n",
      "5000/219513 elapsed time: 5787.6814057827\n",
      "5500/219513 elapsed time: 6367.925613641739\n",
      "6000/219513 elapsed time: 6946.541858673096\n",
      "6500/219513 elapsed time: 7522.8583290576935\n",
      "7000/219513 elapsed time: 8102.630624055862\n",
      "7500/219513 elapsed time: 8682.065217971802\n",
      "8000/219513 elapsed time: 9258.9493496418\n",
      "8500/219513 elapsed time: 9835.588384628296\n",
      "9000/219513 elapsed time: 10416.636788129807\n",
      "9500/219513 elapsed time: 10993.707657575607\n",
      "10000/219513 elapsed time: 11570.96715927124\n",
      "10500/219513 elapsed time: 12148.590377569199\n",
      "11000/219513 elapsed time: 12728.587332248688\n",
      "11500/219513 elapsed time: 13310.583128213882\n",
      "12000/219513 elapsed time: 13891.726247310638\n",
      "12500/219513 elapsed time: 14469.310126304626\n",
      "13000/219513 elapsed time: 15047.532762289047\n",
      "13500/219513 elapsed time: 15626.543052196503\n",
      "14000/219513 elapsed time: 16204.20993232727\n",
      "14500/219513 elapsed time: 16783.964958429337\n",
      "15000/219513 elapsed time: 17361.450710058212\n",
      "15500/219513 elapsed time: 17939.739356279373\n",
      "16000/219513 elapsed time: 18519.07288646698\n",
      "16500/219513 elapsed time: 19096.930767536163\n",
      "17000/219513 elapsed time: 19673.811294794083\n",
      "17500/219513 elapsed time: 20253.080903291702\n",
      "18000/219513 elapsed time: 20833.59202480316\n",
      "18500/219513 elapsed time: 21413.702431201935\n",
      "19000/219513 elapsed time: 21993.231843948364\n",
      "19500/219513 elapsed time: 22570.976643800735\n",
      "20000/219513 elapsed time: 23148.241067886353\n",
      "20500/219513 elapsed time: 23726.487949848175\n",
      "21000/219513 elapsed time: 24307.509030342102\n",
      "21500/219513 elapsed time: 24886.508496522903\n",
      "22000/219513 elapsed time: 25465.50842523575\n",
      "22500/219513 elapsed time: 26045.92250585556\n",
      "23000/219513 elapsed time: 26624.708172798157\n",
      "23500/219513 elapsed time: 27204.380103111267\n",
      "24000/219513 elapsed time: 27781.84894680977\n",
      "24500/219513 elapsed time: 28361.705061912537\n",
      "25000/219513 elapsed time: 28939.52145934105\n",
      "25500/219513 elapsed time: 29520.165996074677\n",
      "26000/219513 elapsed time: 30096.756118297577\n",
      "26500/219513 elapsed time: 30672.694590568542\n",
      "27000/219513 elapsed time: 31252.893582820892\n",
      "27500/219513 elapsed time: 31829.699793100357\n",
      "28000/219513 elapsed time: 32407.112417697906\n",
      "28500/219513 elapsed time: 32983.06399655342\n",
      "29000/219513 elapsed time: 33559.194527864456\n",
      "29500/219513 elapsed time: 34137.15848326683\n",
      "30000/219513 elapsed time: 34714.16503405571\n",
      "30500/219513 elapsed time: 35295.47499728203\n",
      "31000/219513 elapsed time: 35873.0734603405\n",
      "31500/219513 elapsed time: 36449.728479623795\n",
      "32000/219513 elapsed time: 37028.302079200745\n",
      "32500/219513 elapsed time: 37607.3766951561\n",
      "33000/219513 elapsed time: 38184.24346256256\n",
      "33500/219513 elapsed time: 38761.91362476349\n",
      "34000/219513 elapsed time: 39339.261573791504\n",
      "34500/219513 elapsed time: 39918.88474369049\n",
      "35000/219513 elapsed time: 40498.15561366081\n",
      "35500/219513 elapsed time: 41073.83815050125\n",
      "36000/219513 elapsed time: 41651.527317523956\n",
      "36500/219513 elapsed time: 42226.2235929966\n",
      "37000/219513 elapsed time: 42805.93609905243\n",
      "37500/219513 elapsed time: 43386.18753361702\n",
      "38000/219513 elapsed time: 43964.251407146454\n",
      "38500/219513 elapsed time: 44541.20445251465\n",
      "39000/219513 elapsed time: 45119.9084777832\n",
      "39500/219513 elapsed time: 45696.80124402046\n",
      "40000/219513 elapsed time: 46323.93358922005\n"
     ]
    },
    {
     "ename": "KeyboardInterrupt",
     "evalue": "",
     "output_type": "error",
     "traceback": [
      "\u001b[0;31m---------------------------------------------------------------------------\u001b[0m",
      "\u001b[0;31mKeyboardInterrupt\u001b[0m                         Traceback (most recent call last)",
      "\u001b[0;32m<ipython-input-6-9ac2454470c5>\u001b[0m in \u001b[0;36m<module>\u001b[0;34m\u001b[0m\n\u001b[1;32m     18\u001b[0m     \u001b[0mx_tn\u001b[0m\u001b[0;34m=\u001b[0m\u001b[0mnp\u001b[0m\u001b[0;34m.\u001b[0m\u001b[0marray\u001b[0m\u001b[0;34m(\u001b[0m\u001b[0msamples_n\u001b[0m\u001b[0;34m[\u001b[0m\u001b[0;36m2\u001b[0m\u001b[0;34m:\u001b[0m\u001b[0;34m]\u001b[0m\u001b[0;34m)\u001b[0m\u001b[0;34m.\u001b[0m\u001b[0mreshape\u001b[0m\u001b[0;34m(\u001b[0m\u001b[0;34m(\u001b[0m\u001b[0;36m2\u001b[0m\u001b[0;34m,\u001b[0m \u001b[0;34m-\u001b[0m\u001b[0;36m1\u001b[0m\u001b[0;34m)\u001b[0m\u001b[0;34m)\u001b[0m\u001b[0;34m\u001b[0m\u001b[0;34m\u001b[0m\u001b[0m\n\u001b[1;32m     19\u001b[0m \u001b[0;34m\u001b[0m\u001b[0m\n\u001b[0;32m---> 20\u001b[0;31m     \u001b[0mdre\u001b[0m\u001b[0;34m=\u001b[0m\u001b[0mdr\u001b[0m\u001b[0;34m(\u001b[0m\u001b[0mx\u001b[0m\u001b[0;34m=\u001b[0m\u001b[0mx_t\u001b[0m\u001b[0;34m,\u001b[0m \u001b[0my\u001b[0m\u001b[0;34m=\u001b[0m\u001b[0mx_tn\u001b[0m\u001b[0;34m,\u001b[0m \u001b[0malpha\u001b[0m\u001b[0;34m=\u001b[0m\u001b[0;36m0.5\u001b[0m\u001b[0;34m)\u001b[0m\u001b[0;34m\u001b[0m\u001b[0;34m\u001b[0m\u001b[0m\n\u001b[0m\u001b[1;32m     21\u001b[0m     \u001b[0mscores\u001b[0m\u001b[0;34m.\u001b[0m\u001b[0mappend\u001b[0m\u001b[0;34m(\u001b[0m\u001b[0mdre\u001b[0m\u001b[0;34m.\u001b[0m\u001b[0mPEDiv\u001b[0m\u001b[0;34m)\u001b[0m\u001b[0;34m\u001b[0m\u001b[0;34m\u001b[0m\u001b[0m\n\u001b[1;32m     22\u001b[0m \u001b[0;34m\u001b[0m\u001b[0m\n",
      "\u001b[0;32m~/Dropbox/segmentation/module_/densityratio.py\u001b[0m in \u001b[0;36m__init__\u001b[0;34m(self, x, y, alpha, sigma, lamb, kernel_num)\u001b[0m\n\u001b[1;32m     61\u001b[0m         \u001b[0;31m# self.__kernel  = jit(partial(gauss_kernel,centers=self.__centers))\u001b[0m\u001b[0;34m\u001b[0m\u001b[0;34m\u001b[0m\u001b[0;34m\u001b[0m\u001b[0m\n\u001b[1;32m     62\u001b[0m \u001b[0;34m\u001b[0m\u001b[0m\n\u001b[0;32m---> 63\u001b[0;31m         self._RuLSIF(x = self.__x,\n\u001b[0m\u001b[1;32m     64\u001b[0m                      \u001b[0my\u001b[0m \u001b[0;34m=\u001b[0m \u001b[0mself\u001b[0m\u001b[0;34m.\u001b[0m\u001b[0m__y\u001b[0m\u001b[0;34m,\u001b[0m\u001b[0;34m\u001b[0m\u001b[0;34m\u001b[0m\u001b[0m\n\u001b[1;32m     65\u001b[0m                      \u001b[0malpha\u001b[0m \u001b[0;34m=\u001b[0m \u001b[0malpha\u001b[0m\u001b[0;34m,\u001b[0m\u001b[0;34m\u001b[0m\u001b[0;34m\u001b[0m\u001b[0m\n",
      "\u001b[0;32m~/Dropbox/segmentation/module_/densityratio.py\u001b[0m in \u001b[0;36m_RuLSIF\u001b[0;34m(self, x, y, alpha, s_sigma, s_lambda)\u001b[0m\n\u001b[1;32m    159\u001b[0m             \u001b[0mlambda_\u001b[0m \u001b[0;34m=\u001b[0m \u001b[0ms_lambda\u001b[0m\u001b[0;34m[\u001b[0m\u001b[0;36m0\u001b[0m\u001b[0;34m]\u001b[0m\u001b[0;34m\u001b[0m\u001b[0;34m\u001b[0m\u001b[0m\n\u001b[1;32m    160\u001b[0m         \u001b[0;32melse\u001b[0m\u001b[0;34m:\u001b[0m\u001b[0;34m\u001b[0m\u001b[0;34m\u001b[0m\u001b[0m\n\u001b[0;32m--> 161\u001b[0;31m             \u001b[0moptimized_params\u001b[0m \u001b[0;34m=\u001b[0m \u001b[0mself\u001b[0m\u001b[0;34m.\u001b[0m\u001b[0m_optimize_sigma_lambda\u001b[0m\u001b[0;34m(\u001b[0m\u001b[0mx\u001b[0m\u001b[0;34m,\u001b[0m\u001b[0my\u001b[0m\u001b[0;34m,\u001b[0m\u001b[0malpha\u001b[0m\u001b[0;34m,\u001b[0m\u001b[0ms_sigma\u001b[0m\u001b[0;34m,\u001b[0m\u001b[0ms_lambda\u001b[0m\u001b[0;34m)\u001b[0m\u001b[0;34m\u001b[0m\u001b[0;34m\u001b[0m\u001b[0m\n\u001b[0m\u001b[1;32m    162\u001b[0m             \u001b[0msigma\u001b[0m \u001b[0;34m=\u001b[0m \u001b[0moptimized_params\u001b[0m\u001b[0;34m[\u001b[0m\u001b[0;34m'sigma'\u001b[0m\u001b[0;34m]\u001b[0m\u001b[0;34m\u001b[0m\u001b[0;34m\u001b[0m\u001b[0m\n\u001b[1;32m    163\u001b[0m             \u001b[0mlambda_\u001b[0m \u001b[0;34m=\u001b[0m \u001b[0moptimized_params\u001b[0m\u001b[0;34m[\u001b[0m\u001b[0;34m'lambda'\u001b[0m\u001b[0;34m]\u001b[0m\u001b[0;34m\u001b[0m\u001b[0;34m\u001b[0m\u001b[0m\n",
      "\u001b[0;32m~/Dropbox/segmentation/module_/densityratio.py\u001b[0m in \u001b[0;36m_optimize_sigma_lambda\u001b[0;34m(self, x, y, alpha, s_sigma, s_lambda)\u001b[0m\n\u001b[1;32m    224\u001b[0m                 \u001b[0mr_y\u001b[0m \u001b[0;34m=\u001b[0m \u001b[0;34m(\u001b[0m\u001b[0mphi_y\u001b[0m \u001b[0;34m*\u001b[0m \u001b[0mB2\u001b[0m\u001b[0;34m)\u001b[0m\u001b[0;34m.\u001b[0m\u001b[0msum\u001b[0m\u001b[0;34m(\u001b[0m\u001b[0maxis\u001b[0m\u001b[0;34m=\u001b[0m\u001b[0;36m0\u001b[0m\u001b[0;34m)\u001b[0m\u001b[0;34m.\u001b[0m\u001b[0mT\u001b[0m\u001b[0;34m\u001b[0m\u001b[0;34m\u001b[0m\u001b[0m\n\u001b[1;32m    225\u001b[0m \u001b[0;34m\u001b[0m\u001b[0m\n\u001b[0;32m--> 226\u001b[0;31m                 \u001b[0mscore\u001b[0m \u001b[0;34m=\u001b[0m \u001b[0;34m(\u001b[0m\u001b[0;34m(\u001b[0m\u001b[0mnp\u001b[0m\u001b[0;34m.\u001b[0m\u001b[0mdot\u001b[0m\u001b[0;34m(\u001b[0m\u001b[0mr_y\u001b[0m\u001b[0;34m.\u001b[0m\u001b[0mT\u001b[0m\u001b[0;34m,\u001b[0m\u001b[0mr_y\u001b[0m\u001b[0;34m)\u001b[0m\u001b[0;34m.\u001b[0m\u001b[0mravel\u001b[0m\u001b[0;34m(\u001b[0m\u001b[0;34m)\u001b[0m\u001b[0;34m/\u001b[0m\u001b[0;36m2.\u001b[0m \u001b[0;34m-\u001b[0m \u001b[0mr_x\u001b[0m\u001b[0;34m.\u001b[0m\u001b[0msum\u001b[0m\u001b[0;34m(\u001b[0m\u001b[0maxis\u001b[0m\u001b[0;34m=\u001b[0m\u001b[0;36m0\u001b[0m\u001b[0;34m)\u001b[0m\u001b[0;34m)\u001b[0m\u001b[0;34m/\u001b[0m\u001b[0mself\u001b[0m\u001b[0;34m.\u001b[0m\u001b[0m__n_minimum\u001b[0m\u001b[0;34m)\u001b[0m\u001b[0;34m.\u001b[0m\u001b[0mitem\u001b[0m\u001b[0;34m(\u001b[0m\u001b[0;34m)\u001b[0m \u001b[0;31m#LOOCV\u001b[0m\u001b[0;34m\u001b[0m\u001b[0;34m\u001b[0m\u001b[0m\n\u001b[0m\u001b[1;32m    227\u001b[0m \u001b[0;34m\u001b[0m\u001b[0m\n\u001b[1;32m    228\u001b[0m                 \u001b[0;32mif\u001b[0m \u001b[0;34m(\u001b[0m\u001b[0mscore\u001b[0m \u001b[0;34m<\u001b[0m \u001b[0mscore_new\u001b[0m\u001b[0;34m)\u001b[0m\u001b[0;34m:\u001b[0m\u001b[0;34m\u001b[0m\u001b[0;34m\u001b[0m\u001b[0m\n",
      "\u001b[0;32m~/.local/lib/python3.8/site-packages/jax/_src/numpy/lax_numpy.py\u001b[0m in \u001b[0;36mdot\u001b[0;34m(a, b, precision)\u001b[0m\n\u001b[1;32m   3683\u001b[0m \u001b[0;32mdef\u001b[0m \u001b[0mdot\u001b[0m\u001b[0;34m(\u001b[0m\u001b[0ma\u001b[0m\u001b[0;34m,\u001b[0m \u001b[0mb\u001b[0m\u001b[0;34m,\u001b[0m \u001b[0;34m*\u001b[0m\u001b[0;34m,\u001b[0m \u001b[0mprecision\u001b[0m\u001b[0;34m=\u001b[0m\u001b[0;32mNone\u001b[0m\u001b[0;34m)\u001b[0m\u001b[0;34m:\u001b[0m  \u001b[0;31m# pylint: disable=missing-docstring\u001b[0m\u001b[0;34m\u001b[0m\u001b[0;34m\u001b[0m\u001b[0m\n\u001b[1;32m   3684\u001b[0m   \u001b[0m_check_arraylike\u001b[0m\u001b[0;34m(\u001b[0m\u001b[0;34m\"dot\"\u001b[0m\u001b[0;34m,\u001b[0m \u001b[0ma\u001b[0m\u001b[0;34m,\u001b[0m \u001b[0mb\u001b[0m\u001b[0;34m)\u001b[0m\u001b[0;34m\u001b[0m\u001b[0;34m\u001b[0m\u001b[0m\n\u001b[0;32m-> 3685\u001b[0;31m   \u001b[0ma\u001b[0m\u001b[0;34m,\u001b[0m \u001b[0mb\u001b[0m \u001b[0;34m=\u001b[0m \u001b[0m_promote_dtypes\u001b[0m\u001b[0;34m(\u001b[0m\u001b[0ma\u001b[0m\u001b[0;34m,\u001b[0m \u001b[0mb\u001b[0m\u001b[0;34m)\u001b[0m\u001b[0;34m\u001b[0m\u001b[0;34m\u001b[0m\u001b[0m\n\u001b[0m\u001b[1;32m   3686\u001b[0m   \u001b[0ma_ndim\u001b[0m\u001b[0;34m,\u001b[0m \u001b[0mb_ndim\u001b[0m \u001b[0;34m=\u001b[0m \u001b[0mndim\u001b[0m\u001b[0;34m(\u001b[0m\u001b[0ma\u001b[0m\u001b[0;34m)\u001b[0m\u001b[0;34m,\u001b[0m \u001b[0mndim\u001b[0m\u001b[0;34m(\u001b[0m\u001b[0mb\u001b[0m\u001b[0;34m)\u001b[0m\u001b[0;34m\u001b[0m\u001b[0;34m\u001b[0m\u001b[0m\n\u001b[1;32m   3687\u001b[0m   \u001b[0;32mif\u001b[0m \u001b[0ma_ndim\u001b[0m \u001b[0;34m==\u001b[0m \u001b[0;36m0\u001b[0m \u001b[0;32mor\u001b[0m \u001b[0mb_ndim\u001b[0m \u001b[0;34m==\u001b[0m \u001b[0;36m0\u001b[0m\u001b[0;34m:\u001b[0m\u001b[0;34m\u001b[0m\u001b[0;34m\u001b[0m\u001b[0m\n",
      "\u001b[0;32m~/.local/lib/python3.8/site-packages/jax/_src/numpy/lax_numpy.py\u001b[0m in \u001b[0;36m_promote_dtypes\u001b[0;34m(*args)\u001b[0m\n\u001b[1;32m    276\u001b[0m     \u001b[0mto_dtype\u001b[0m\u001b[0;34m,\u001b[0m \u001b[0mweak_type\u001b[0m \u001b[0;34m=\u001b[0m \u001b[0mdtypes\u001b[0m\u001b[0;34m.\u001b[0m\u001b[0m_lattice_result_type\u001b[0m\u001b[0;34m(\u001b[0m\u001b[0;34m*\u001b[0m\u001b[0margs\u001b[0m\u001b[0;34m)\u001b[0m\u001b[0;34m\u001b[0m\u001b[0;34m\u001b[0m\u001b[0m\n\u001b[1;32m    277\u001b[0m     \u001b[0mto_dtype\u001b[0m \u001b[0;34m=\u001b[0m \u001b[0mdtypes\u001b[0m\u001b[0;34m.\u001b[0m\u001b[0mcanonicalize_dtype\u001b[0m\u001b[0;34m(\u001b[0m\u001b[0mto_dtype\u001b[0m\u001b[0;34m)\u001b[0m\u001b[0;34m\u001b[0m\u001b[0;34m\u001b[0m\u001b[0m\n\u001b[0;32m--> 278\u001b[0;31m     \u001b[0;32mreturn\u001b[0m \u001b[0;34m[\u001b[0m\u001b[0mlax\u001b[0m\u001b[0;34m.\u001b[0m\u001b[0mconvert_element_type\u001b[0m\u001b[0;34m(\u001b[0m\u001b[0mx\u001b[0m\u001b[0;34m,\u001b[0m \u001b[0mto_dtype\u001b[0m\u001b[0;34m,\u001b[0m \u001b[0mweak_type\u001b[0m\u001b[0;34m)\u001b[0m \u001b[0;32mfor\u001b[0m \u001b[0mx\u001b[0m \u001b[0;32min\u001b[0m \u001b[0margs\u001b[0m\u001b[0;34m]\u001b[0m\u001b[0;34m\u001b[0m\u001b[0;34m\u001b[0m\u001b[0m\n\u001b[0m\u001b[1;32m    279\u001b[0m \u001b[0;34m\u001b[0m\u001b[0m\n\u001b[1;32m    280\u001b[0m \u001b[0;32mdef\u001b[0m \u001b[0m_promote_dtypes_inexact\u001b[0m\u001b[0;34m(\u001b[0m\u001b[0;34m*\u001b[0m\u001b[0margs\u001b[0m\u001b[0;34m)\u001b[0m\u001b[0;34m:\u001b[0m\u001b[0;34m\u001b[0m\u001b[0;34m\u001b[0m\u001b[0m\n",
      "\u001b[0;32m~/.local/lib/python3.8/site-packages/jax/_src/numpy/lax_numpy.py\u001b[0m in \u001b[0;36m<listcomp>\u001b[0;34m(.0)\u001b[0m\n\u001b[1;32m    276\u001b[0m     \u001b[0mto_dtype\u001b[0m\u001b[0;34m,\u001b[0m \u001b[0mweak_type\u001b[0m \u001b[0;34m=\u001b[0m \u001b[0mdtypes\u001b[0m\u001b[0;34m.\u001b[0m\u001b[0m_lattice_result_type\u001b[0m\u001b[0;34m(\u001b[0m\u001b[0;34m*\u001b[0m\u001b[0margs\u001b[0m\u001b[0;34m)\u001b[0m\u001b[0;34m\u001b[0m\u001b[0;34m\u001b[0m\u001b[0m\n\u001b[1;32m    277\u001b[0m     \u001b[0mto_dtype\u001b[0m \u001b[0;34m=\u001b[0m \u001b[0mdtypes\u001b[0m\u001b[0;34m.\u001b[0m\u001b[0mcanonicalize_dtype\u001b[0m\u001b[0;34m(\u001b[0m\u001b[0mto_dtype\u001b[0m\u001b[0;34m)\u001b[0m\u001b[0;34m\u001b[0m\u001b[0;34m\u001b[0m\u001b[0m\n\u001b[0;32m--> 278\u001b[0;31m     \u001b[0;32mreturn\u001b[0m \u001b[0;34m[\u001b[0m\u001b[0mlax\u001b[0m\u001b[0;34m.\u001b[0m\u001b[0mconvert_element_type\u001b[0m\u001b[0;34m(\u001b[0m\u001b[0mx\u001b[0m\u001b[0;34m,\u001b[0m \u001b[0mto_dtype\u001b[0m\u001b[0;34m,\u001b[0m \u001b[0mweak_type\u001b[0m\u001b[0;34m)\u001b[0m \u001b[0;32mfor\u001b[0m \u001b[0mx\u001b[0m \u001b[0;32min\u001b[0m \u001b[0margs\u001b[0m\u001b[0;34m]\u001b[0m\u001b[0;34m\u001b[0m\u001b[0;34m\u001b[0m\u001b[0m\n\u001b[0m\u001b[1;32m    279\u001b[0m \u001b[0;34m\u001b[0m\u001b[0m\n\u001b[1;32m    280\u001b[0m \u001b[0;32mdef\u001b[0m \u001b[0m_promote_dtypes_inexact\u001b[0m\u001b[0;34m(\u001b[0m\u001b[0;34m*\u001b[0m\u001b[0margs\u001b[0m\u001b[0;34m)\u001b[0m\u001b[0;34m:\u001b[0m\u001b[0;34m\u001b[0m\u001b[0;34m\u001b[0m\u001b[0m\n",
      "\u001b[0;32m~/.local/lib/python3.8/site-packages/jax/_src/lax/lax.py\u001b[0m in \u001b[0;36mconvert_element_type\u001b[0;34m(operand, new_dtype, weak_type)\u001b[0m\n\u001b[1;32m    431\u001b[0m   \u001b[0;31m# Don't canonicalize old_dtype because x64 context might cause\u001b[0m\u001b[0;34m\u001b[0m\u001b[0;34m\u001b[0m\u001b[0;34m\u001b[0m\u001b[0m\n\u001b[1;32m    432\u001b[0m   \u001b[0;31m# un-canonicalized operands to be passed in.\u001b[0m\u001b[0;34m\u001b[0m\u001b[0;34m\u001b[0m\u001b[0;34m\u001b[0m\u001b[0m\n\u001b[0;32m--> 433\u001b[0;31m   \u001b[0mold_dtype\u001b[0m \u001b[0;34m=\u001b[0m \u001b[0mnp\u001b[0m\u001b[0;34m.\u001b[0m\u001b[0mresult_type\u001b[0m\u001b[0;34m(\u001b[0m\u001b[0moperand\u001b[0m\u001b[0;34m)\u001b[0m\u001b[0;34m\u001b[0m\u001b[0;34m\u001b[0m\u001b[0m\n\u001b[0m\u001b[1;32m    434\u001b[0m   \u001b[0mold_weak_type\u001b[0m \u001b[0;34m=\u001b[0m \u001b[0mdtypes\u001b[0m\u001b[0;34m.\u001b[0m\u001b[0mis_weakly_typed\u001b[0m\u001b[0;34m(\u001b[0m\u001b[0moperand\u001b[0m\u001b[0;34m)\u001b[0m\u001b[0;34m\u001b[0m\u001b[0;34m\u001b[0m\u001b[0m\n\u001b[1;32m    435\u001b[0m \u001b[0;34m\u001b[0m\u001b[0m\n",
      "\u001b[0;32m<__array_function__ internals>\u001b[0m in \u001b[0;36mresult_type\u001b[0;34m(*args, **kwargs)\u001b[0m\n",
      "\u001b[0;31mKeyboardInterrupt\u001b[0m: "
     ]
    }
   ],
   "source": [
    "\"\"\"feature extraction and ATD\n",
    "    * feature space is updated when a new event occurs\n",
    "        - min and max for normalization is updated, so feature value is also updated?\n",
    "    * dissimilarity measure between x(t) and x(t+n)\n",
    "    * x(t)=[f(t-(n-1),..., f(t)] whose length is n\n",
    "    * x(t+n)=[f(t+n-(n-1)),..., f(t+n)] whose length is n\n",
    "    in case of n=2, x(t)=[f(t-1), f(t)] and x(t+2)=[f(t+1), f(t+2)]\n",
    "\"\"\"\n",
    "n=2\n",
    "max_wd=0.\n",
    "scores=[]\n",
    "start=time.time()\n",
    "features=[]\n",
    "for i in range(windows.shape[0]):\n",
    "    tn1=max(i-1, 0); tp1=min(windows.shape[0]-1, i+1); tp2=min(windows.shape[0]-1, i+2)\n",
    "    samples=np.array([windows[tn1], windows[i], windows[tp1], windows[tp2]]).reshape((4, ws, -1))\n",
    "    samples_n, max_wd=wtfr(samples, sensor_set, max_wd)\n",
    "    features.append(samples_n)\n",
    "    x_t=np.array(samples_n[:2]).reshape((2, -1))\n",
    "    x_tn=np.array(samples_n[2:]).reshape((2, -1))\n",
    "\n",
    "    dre=dr(x=x_t, y=x_tn, alpha=0.5)\n",
    "    scores.append(dre.PEDiv)\n",
    "\n",
    "    if i!=0 and i%500==0:\n",
    "        print(\"{}/{} elapsed time: {}\".format(i, windows.shape[0], time.time()-start))\n",
    "        np.save(\"scores/casas_rulsif.npy\", scores)"
   ]
  },
  {
   "cell_type": "code",
   "execution_count": 4,
   "metadata": {},
   "outputs": [
    {
     "data": {
      "text/plain": [
       "40001"
      ]
     },
     "execution_count": 4,
     "metadata": {},
     "output_type": "execute_result"
    }
   ],
   "source": [
    "load_scores=np.load(\"scores/casas_rulsif.npy\"); len(load_scores)"
   ]
  },
  {
   "cell_type": "code",
   "execution_count": 6,
   "metadata": {},
   "outputs": [],
   "source": [
    "# trs[417] = 38961\n",
    "events_=events[:38962]\n",
    "scores_=load_scores[:38962]\n",
    "trs_=trs[:418]\n",
    "\n",
    "final_score=[]\n",
    "for i in range(len(scores_)):\n",
    "    prev1=max(0, i-1); prev2=max(0, i-2)\n",
    "    final_score.append(scores_[prev1]+scores_[prev2])\n",
    "\n",
    "threshold=0.9\n",
    "candidates=[]\n",
    "\"\"\"minimum distance between two transitions=1\"\"\"\n",
    "# from scipy.signal import find_peaks\n",
    "# peaks, _=find_peaks(final_score, distance=1)\n",
    "\n",
    "# for item in peaks:\n",
    "#     if final_score[item]>threshold:\n",
    "#         candidates.append(i)\n",
    "# len(candidates)\n",
    "\n",
    "idx=0\n",
    "for i in range(len(final_score)):\n",
    "    if final_score[i]>threshold:\n",
    "        if abs(i-idx)==1:\n",
    "            continue\n",
    "        else:\n",
    "            candidates.append(i)\n",
    "            idx=i"
   ]
  },
  {
   "cell_type": "code",
   "execution_count": 8,
   "metadata": {},
   "outputs": [
    {
     "name": "stdout",
     "output_type": "stream",
     "text": [
      "0.19298245614035087\n",
      "0.9836926838149237\n",
      "1779\n"
     ]
    }
   ],
   "source": [
    "trs_t=np.array([float(events[idx][-2]) for idx in trs_])\n",
    "trs_t_=np.array([float(events[idx+1][-2]) for idx in trs_])\n",
    "tp, tn, fp, fn=[],[],[],[]\n",
    "for i in range(len(events_)):\n",
    "    if i in candidates: # positive\n",
    "        if i in trs_:\n",
    "            tp.append(i)\n",
    "            continue\n",
    "        timestamp_=float(events_[i][-2])\n",
    "        if sum(abs(trs_t-timestamp_)<15)!=0:\n",
    "            tp.append(i)\n",
    "            continue\n",
    "        if sum(abs(trs_t_-timestamp_)<15)!=0:\n",
    "            tp.append(i)\n",
    "            continue\n",
    "        fp.append(i)\n",
    "    else:\n",
    "        if i in trs_:\n",
    "            fn.append(i)\n",
    "            continue\n",
    "        tn.append(i)\n",
    "tp_, tn_, fp_, fn_=len(tp), len(tn), len(fp), len(fn)\n",
    "\n",
    "print(tp_/(tp_+fn_))\n",
    "print(tn_/(tn_+fp_))\n",
    "\n",
    "print(tp[0])"
   ]
  }
 ],
 "metadata": {
  "interpreter": {
   "hash": "31f2aee4e71d21fbe5cf8b01ff0e069b9275f58929596ceb00d14d90e3e16cd6"
  },
  "kernelspec": {
   "display_name": "Python 3.6.9 64-bit",
   "name": "python3"
  },
  "language_info": {
   "codemirror_mode": {
    "name": "ipython",
    "version": 3
   },
   "file_extension": ".py",
   "mimetype": "text/x-python",
   "name": "python",
   "nbconvert_exporter": "python",
   "pygments_lexer": "ipython3",
   "version": "3.8.10"
  },
  "orig_nbformat": 2
 },
 "nbformat": 4,
 "nbformat_minor": 2
}
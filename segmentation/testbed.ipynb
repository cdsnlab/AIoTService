{
 "cells": [
  {
   "cell_type": "markdown",
   "source": [
    "# Import packages and modules"
   ],
   "metadata": {}
  },
  {
   "cell_type": "code",
   "execution_count": null,
   "source": [
    "import os, glob\n",
    "import json\n",
    "import pandas as pd\n",
    "import numpy as np\n",
    "import math, random\n",
    "import datetime as dt\n",
    "import pickle\n",
    "from matplotlib import pyplot as plt\n",
    "import argparse\n",
    "import path, sys, re, time\n",
    "from collections import Counter\n",
    "from scipy.spatial import distance_matrix\n",
    "from scipy.signal import find_peaks\n",
    "\n",
    "\n",
    "from module_.info.testbed import activityfiles_new\n",
    "from module_.info.config import config, feature_name\n",
    "from module_.readText import create_episodes, time_correction\n",
    "from module_.featureExtraction import feature_extraction\n",
    "from module_.changePointDetection import change_point_detection"
   ],
   "outputs": [],
   "metadata": {}
  },
  {
   "cell_type": "code",
   "execution_count": 1,
   "source": [
    "from module_.replication import replication\n",
    "\n",
    "result = replication(\"check\", \"RuLSIF\")\n",
    "print(result/300)"
   ],
   "outputs": [
    {
     "output_type": "stream",
     "name": "stdout",
     "text": [
      "271 300\n"
     ]
    },
    {
     "output_type": "display_data",
     "data": {
      "text/plain": [
       "<Figure size 720x72 with 0 Axes>"
      ]
     },
     "metadata": {}
    }
   ],
   "metadata": {}
  },
  {
   "cell_type": "markdown",
   "source": [
    "# Data Collection and Preprocessing"
   ],
   "metadata": {}
  },
  {
   "cell_type": "code",
   "execution_count": null,
   "source": [
    "\"\"\"\n",
    "load raw files\n",
    "\"\"\"\n",
    "\n",
    "dir_=\"dataset/testbed/npy/seminar/MS\"\n",
    "task_dict={i:[np.load(\"{}/{}\".format(dir_, name)) for name in v] for i, v in enumerate(activityfiles_new.values())}\n",
    "initial_dict={i:k[0] for i, k in enumerate(activityfiles_new.keys())}\n",
    "label_dict={k[0]:k for k in activityfiles_new.keys()}\n",
    "\n",
    "episodes, trs, tags = create_episodes(task_dict, initial_dict)\n",
    "episodes=[time_correction(eps, trs[i]) for i, eps in enumerate(episodes)]"
   ],
   "outputs": [],
   "metadata": {
    "tags": []
   }
  },
  {
   "cell_type": "code",
   "execution_count": null,
   "source": [
    "data_name = 'testbed'\n",
    "metric = 'RuLSIF'\n",
    "\n",
    "folder = \"./features/{}\".format(data_name)\n",
    "if not os.path.exists(folder):\n",
    "    os.mkdir(folder)\n",
    "\n",
    "# fig = plt.figure(constrained_layout=True, figsize=(15, 15))\n",
    "\n",
    "sensor_set=set()\n",
    "\n",
    "for _, v in task_dict.items():\n",
    "    for v_ in v:\n",
    "        sensor_set = sensor_set | set(np.array(v_)[:,0])\n",
    "sensor_list=sorted(sensor_set)\n",
    "\n",
    "for ei, eps in enumerate(episodes):\n",
    "    activityfolder=\"{}/{}\".format(folder, tags[ei])\n",
    "    if not os.path.exists(activityfolder):\n",
    "        os.mkdir(activityfolder)\n",
    "    eps=np.array(eps)\n",
    "    \n",
    "    features = np.array(feature_extraction(eps, data_name, sensor_list))\n",
    "\n",
    "    assert len(eps)==len(features)\n",
    "    \n",
    "    x_ = range(len(eps))\n",
    "\n",
    "    scores = np.array(change_point_detection(features, data_name, metric))\n",
    "    scores[scores<0]=0\n",
    "\n",
    "    assert len(eps)==len(scores)\n",
    "\n",
    "    plt.bar(range(len(scores)), scores); plt.axvline(x=trs[ei], linestyle=':', color='r')\n",
    "    break"
   ],
   "outputs": [],
   "metadata": {}
  }
 ],
 "metadata": {
  "interpreter": {
   "hash": "31f2aee4e71d21fbe5cf8b01ff0e069b9275f58929596ceb00d14d90e3e16cd6"
  },
  "kernelspec": {
   "name": "python3",
   "display_name": "Python 3.8.10 64-bit"
  },
  "language_info": {
   "codemirror_mode": {
    "name": "ipython",
    "version": 3
   },
   "file_extension": ".py",
   "mimetype": "text/x-python",
   "name": "python",
   "nbconvert_exporter": "python",
   "pygments_lexer": "ipython3",
   "version": "3.8.10"
  },
  "metadata": {
   "interpreter": {
    "hash": "31f2aee4e71d21fbe5cf8b01ff0e069b9275f58929596ceb00d14d90e3e16cd6"
   }
  },
  "orig_nbformat": 2
 },
 "nbformat": 4,
 "nbformat_minor": 2
}
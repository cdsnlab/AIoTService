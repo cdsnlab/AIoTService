{
 "cells": [
  {
   "cell_type": "code",
   "execution_count": 1,
   "metadata": {},
   "outputs": [],
   "source": [
    "#Reference : https://wikidocs.net/22893\n",
    "import pandas as pd\n",
    "import tensorflow as tf\n",
    "import urllib3\n",
    "import zipfile\n",
    "import shutil\n",
    "import os\n",
    "from tensorflow.keras.preprocessing.sequence import pad_sequences\n",
    "from tensorflow.keras.utils import to_categorical\n",
    "\n",
    "tf.debugging.set_log_device_placement(True)"
   ]
  },
  {
   "cell_type": "code",
   "execution_count": 2,
   "metadata": {},
   "outputs": [],
   "source": [
    "http = urllib3.PoolManager()\n",
    "url ='http://www.manythings.org/anki/fra-eng.zip'\n",
    "filename = 'fra-eng.zip'\n",
    "path = os.getcwd()\n",
    "zipfilename = os.path.join(path, filename)\n",
    "with http.request('GET', url, preload_content=False) as r, open(zipfilename, 'wb') as out_file:       \n",
    "    shutil.copyfileobj(r, out_file)\n",
    "\n",
    "with zipfile.ZipFile(zipfilename, 'r') as zip_ref:\n",
    "    zip_ref.extractall(path)"
   ]
  },
  {
   "cell_type": "code",
   "execution_count": 3,
   "metadata": {},
   "outputs": [
    {
     "data": {
      "text/plain": [
       "178009"
      ]
     },
     "execution_count": 3,
     "metadata": {},
     "output_type": "execute_result"
    }
   ],
   "source": [
    "lines = pd.read_csv('fra.txt', names=['src', 'tar', 'lic'], sep='\\t')\n",
    "del lines['lic']\n",
    "len(lines)"
   ]
  },
  {
   "cell_type": "code",
   "execution_count": 4,
   "metadata": {},
   "outputs": [
    {
     "data": {
      "text/html": [
       "<div>\n",
       "<style scoped>\n",
       "    .dataframe tbody tr th:only-of-type {\n",
       "        vertical-align: middle;\n",
       "    }\n",
       "\n",
       "    .dataframe tbody tr th {\n",
       "        vertical-align: top;\n",
       "    }\n",
       "\n",
       "    .dataframe thead th {\n",
       "        text-align: right;\n",
       "    }\n",
       "</style>\n",
       "<table border=\"1\" class=\"dataframe\">\n",
       "  <thead>\n",
       "    <tr style=\"text-align: right;\">\n",
       "      <th></th>\n",
       "      <th>src</th>\n",
       "      <th>tar</th>\n",
       "    </tr>\n",
       "  </thead>\n",
       "  <tbody>\n",
       "    <tr>\n",
       "      <th>21233</th>\n",
       "      <td>There's no answer.</td>\n",
       "      <td>Il n'y a pas de réponse.</td>\n",
       "    </tr>\n",
       "    <tr>\n",
       "      <th>15353</th>\n",
       "      <td>I'd love to stay.</td>\n",
       "      <td>J'adorerais rester.</td>\n",
       "    </tr>\n",
       "    <tr>\n",
       "      <th>45634</th>\n",
       "      <td>What did you do to it?</td>\n",
       "      <td>Qu'y avez-vous fait ?</td>\n",
       "    </tr>\n",
       "    <tr>\n",
       "      <th>23523</th>\n",
       "      <td>Has Tom been fired?</td>\n",
       "      <td>Tom a-t-il été viré ?</td>\n",
       "    </tr>\n",
       "    <tr>\n",
       "      <th>57437</th>\n",
       "      <td>Take me to the hospital.</td>\n",
       "      <td>Amène-moi à l'hôpital.</td>\n",
       "    </tr>\n",
       "    <tr>\n",
       "      <th>21503</th>\n",
       "      <td>This will be easy.</td>\n",
       "      <td>Ça sera facile.</td>\n",
       "    </tr>\n",
       "    <tr>\n",
       "      <th>25238</th>\n",
       "      <td>Is that depressing?</td>\n",
       "      <td>Est-ce déprimant ?</td>\n",
       "    </tr>\n",
       "    <tr>\n",
       "      <th>664</th>\n",
       "      <td>I noticed.</td>\n",
       "      <td>J'ai remarqué.</td>\n",
       "    </tr>\n",
       "    <tr>\n",
       "      <th>21772</th>\n",
       "      <td>Was that too much?</td>\n",
       "      <td>Était-ce trop ?</td>\n",
       "    </tr>\n",
       "    <tr>\n",
       "      <th>55341</th>\n",
       "      <td>I just want to be loved.</td>\n",
       "      <td>Je veux simplement être aimé.</td>\n",
       "    </tr>\n",
       "  </tbody>\n",
       "</table>\n",
       "</div>"
      ],
      "text/plain": [
       "                            src                            tar\n",
       "21233        There's no answer.       Il n'y a pas de réponse.\n",
       "15353         I'd love to stay.            J'adorerais rester.\n",
       "45634    What did you do to it?          Qu'y avez-vous fait ?\n",
       "23523       Has Tom been fired?          Tom a-t-il été viré ?\n",
       "57437  Take me to the hospital.         Amène-moi à l'hôpital.\n",
       "21503        This will be easy.                Ça sera facile.\n",
       "25238       Is that depressing?             Est-ce déprimant ?\n",
       "664                  I noticed.                 J'ai remarqué.\n",
       "21772        Was that too much?                Était-ce trop ?\n",
       "55341  I just want to be loved.  Je veux simplement être aimé."
      ]
     },
     "execution_count": 4,
     "metadata": {},
     "output_type": "execute_result"
    }
   ],
   "source": [
    "lines = lines.loc[:, 'src':'tar']\n",
    "lines = lines[0:60000] # 6만개만 저장\n",
    "lines.sample(10)"
   ]
  },
  {
   "cell_type": "code",
   "execution_count": 5,
   "metadata": {},
   "outputs": [
    {
     "data": {
      "text/html": [
       "<div>\n",
       "<style scoped>\n",
       "    .dataframe tbody tr th:only-of-type {\n",
       "        vertical-align: middle;\n",
       "    }\n",
       "\n",
       "    .dataframe tbody tr th {\n",
       "        vertical-align: top;\n",
       "    }\n",
       "\n",
       "    .dataframe thead th {\n",
       "        text-align: right;\n",
       "    }\n",
       "</style>\n",
       "<table border=\"1\" class=\"dataframe\">\n",
       "  <thead>\n",
       "    <tr style=\"text-align: right;\">\n",
       "      <th></th>\n",
       "      <th>src</th>\n",
       "      <th>tar</th>\n",
       "    </tr>\n",
       "  </thead>\n",
       "  <tbody>\n",
       "    <tr>\n",
       "      <th>17837</th>\n",
       "      <td>You're not alone.</td>\n",
       "      <td>\\t Vous n'êtes pas seul. \\n</td>\n",
       "    </tr>\n",
       "    <tr>\n",
       "      <th>1124</th>\n",
       "      <td>Be serious.</td>\n",
       "      <td>\\t Soyez sérieux ! \\n</td>\n",
       "    </tr>\n",
       "    <tr>\n",
       "      <th>10985</th>\n",
       "      <td>I had no doubts.</td>\n",
       "      <td>\\t Je n'eus aucun doute. \\n</td>\n",
       "    </tr>\n",
       "    <tr>\n",
       "      <th>41722</th>\n",
       "      <td>I didn't fall in love.</td>\n",
       "      <td>\\t Je ne suis pas tombée amoureuse. \\n</td>\n",
       "    </tr>\n",
       "    <tr>\n",
       "      <th>44688</th>\n",
       "      <td>They didn't choose me.</td>\n",
       "      <td>\\t Elles ne m'ont pas choisie. \\n</td>\n",
       "    </tr>\n",
       "    <tr>\n",
       "      <th>46099</th>\n",
       "      <td>You all did good work.</td>\n",
       "      <td>\\t Vous avez tous fait du bon travail. \\n</td>\n",
       "    </tr>\n",
       "    <tr>\n",
       "      <th>13216</th>\n",
       "      <td>What'll you eat?</td>\n",
       "      <td>\\t Qu'allez-vous manger ? \\n</td>\n",
       "    </tr>\n",
       "    <tr>\n",
       "      <th>10326</th>\n",
       "      <td>Do I look tired?</td>\n",
       "      <td>\\t Ai-je l'air fatiguée ? \\n</td>\n",
       "    </tr>\n",
       "    <tr>\n",
       "      <th>14913</th>\n",
       "      <td>I just opened it.</td>\n",
       "      <td>\\t Je viens de l'ouvrir. \\n</td>\n",
       "    </tr>\n",
       "    <tr>\n",
       "      <th>25140</th>\n",
       "      <td>I'm sure I'm right.</td>\n",
       "      <td>\\t Je suis certaine d'avoir raison. \\n</td>\n",
       "    </tr>\n",
       "  </tbody>\n",
       "</table>\n",
       "</div>"
      ],
      "text/plain": [
       "                          src                                        tar\n",
       "17837       You're not alone.                \\t Vous n'êtes pas seul. \\n\n",
       "1124              Be serious.                      \\t Soyez sérieux ! \\n\n",
       "10985        I had no doubts.                \\t Je n'eus aucun doute. \\n\n",
       "41722  I didn't fall in love.     \\t Je ne suis pas tombée amoureuse. \\n\n",
       "44688  They didn't choose me.          \\t Elles ne m'ont pas choisie. \\n\n",
       "46099  You all did good work.  \\t Vous avez tous fait du bon travail. \\n\n",
       "13216        What'll you eat?               \\t Qu'allez-vous manger ? \\n\n",
       "10326        Do I look tired?               \\t Ai-je l'air fatiguée ? \\n\n",
       "14913       I just opened it.                \\t Je viens de l'ouvrir. \\n\n",
       "25140     I'm sure I'm right.     \\t Je suis certaine d'avoir raison. \\n"
      ]
     },
     "execution_count": 5,
     "metadata": {},
     "output_type": "execute_result"
    }
   ],
   "source": [
    "lines.tar = lines.tar.apply(lambda x : '\\t '+ x + ' \\n')\n",
    "lines.sample(10)"
   ]
  },
  {
   "cell_type": "code",
   "execution_count": 6,
   "metadata": {},
   "outputs": [],
   "source": [
    "# 글자 집합 구축\n",
    "src_vocab=set()\n",
    "for line in lines.src: # 1줄씩 읽음\n",
    "    for char in line: # 1개의 글자씩 읽음\n",
    "        src_vocab.add(char)\n",
    "\n",
    "tar_vocab=set()\n",
    "for line in lines.tar:\n",
    "    for char in line:\n",
    "        tar_vocab.add(char)"
   ]
  },
  {
   "cell_type": "code",
   "execution_count": 7,
   "metadata": {},
   "outputs": [
    {
     "name": "stdout",
     "output_type": "stream",
     "text": [
      "79\n",
      "106\n"
     ]
    }
   ],
   "source": [
    "src_vocab_size = len(src_vocab)+1\n",
    "tar_vocab_size = len(tar_vocab)+1\n",
    "print(src_vocab_size)\n",
    "print(tar_vocab_size)"
   ]
  },
  {
   "cell_type": "code",
   "execution_count": 8,
   "metadata": {},
   "outputs": [
    {
     "name": "stdout",
     "output_type": "stream",
     "text": [
      "['W', 'X', 'Y', 'Z', 'a', 'b', 'c', 'd', 'e', 'f', 'g', 'h', 'i', 'j', 'k', 'l', 'm', 'n', 'o', 'p', 'q', 'r', 's', 't', 'u', 'v', 'w', 'x', 'y', 'z']\n",
      "['T', 'U', 'V', 'W', 'X', 'Y', 'Z', 'a', 'b', 'c', 'd', 'e', 'f', 'g', 'h', 'i', 'j', 'k', 'l', 'm', 'n', 'o', 'p', 'q', 'r', 's', 't', 'u', 'v', 'w']\n"
     ]
    }
   ],
   "source": [
    "src_vocab = sorted(list(src_vocab))\n",
    "tar_vocab = sorted(list(tar_vocab))\n",
    "print(src_vocab[45:75])\n",
    "print(tar_vocab[45:75])"
   ]
  },
  {
   "cell_type": "code",
   "execution_count": 9,
   "metadata": {},
   "outputs": [
    {
     "name": "stdout",
     "output_type": "stream",
     "text": [
      "{' ': 1, '!': 2, '\"': 3, '$': 4, '%': 5, '&': 6, \"'\": 7, ',': 8, '-': 9, '.': 10, '/': 11, '0': 12, '1': 13, '2': 14, '3': 15, '4': 16, '5': 17, '6': 18, '7': 19, '8': 20, '9': 21, ':': 22, '?': 23, 'A': 24, 'B': 25, 'C': 26, 'D': 27, 'E': 28, 'F': 29, 'G': 30, 'H': 31, 'I': 32, 'J': 33, 'K': 34, 'L': 35, 'M': 36, 'N': 37, 'O': 38, 'P': 39, 'Q': 40, 'R': 41, 'S': 42, 'T': 43, 'U': 44, 'V': 45, 'W': 46, 'X': 47, 'Y': 48, 'Z': 49, 'a': 50, 'b': 51, 'c': 52, 'd': 53, 'e': 54, 'f': 55, 'g': 56, 'h': 57, 'i': 58, 'j': 59, 'k': 60, 'l': 61, 'm': 62, 'n': 63, 'o': 64, 'p': 65, 'q': 66, 'r': 67, 's': 68, 't': 69, 'u': 70, 'v': 71, 'w': 72, 'x': 73, 'y': 74, 'z': 75, 'é': 76, '’': 77, '€': 78}\n",
      "{'\\t': 1, '\\n': 2, ' ': 3, '!': 4, '\"': 5, '$': 6, '%': 7, '&': 8, \"'\": 9, '(': 10, ')': 11, ',': 12, '-': 13, '.': 14, '0': 15, '1': 16, '2': 17, '3': 18, '4': 19, '5': 20, '6': 21, '7': 22, '8': 23, '9': 24, ':': 25, '?': 26, 'A': 27, 'B': 28, 'C': 29, 'D': 30, 'E': 31, 'F': 32, 'G': 33, 'H': 34, 'I': 35, 'J': 36, 'K': 37, 'L': 38, 'M': 39, 'N': 40, 'O': 41, 'P': 42, 'Q': 43, 'R': 44, 'S': 45, 'T': 46, 'U': 47, 'V': 48, 'W': 49, 'X': 50, 'Y': 51, 'Z': 52, 'a': 53, 'b': 54, 'c': 55, 'd': 56, 'e': 57, 'f': 58, 'g': 59, 'h': 60, 'i': 61, 'j': 62, 'k': 63, 'l': 64, 'm': 65, 'n': 66, 'o': 67, 'p': 68, 'q': 69, 'r': 70, 's': 71, 't': 72, 'u': 73, 'v': 74, 'w': 75, 'x': 76, 'y': 77, 'z': 78, '\\xa0': 79, '«': 80, '»': 81, 'À': 82, 'Ç': 83, 'É': 84, 'Ê': 85, 'Ô': 86, 'à': 87, 'â': 88, 'ç': 89, 'è': 90, 'é': 91, 'ê': 92, 'ë': 93, 'î': 94, 'ï': 95, 'ô': 96, 'ù': 97, 'û': 98, 'œ': 99, 'С': 100, '\\u2009': 101, '\\u200b': 102, '‘': 103, '’': 104, '\\u202f': 105}\n"
     ]
    }
   ],
   "source": [
    "src_to_index = dict([(word, i+1) for i, word in enumerate(src_vocab)])\n",
    "tar_to_index = dict([(word, i+1) for i, word in enumerate(tar_vocab)])\n",
    "print(src_to_index)\n",
    "print(tar_to_index)"
   ]
  },
  {
   "cell_type": "code",
   "execution_count": 10,
   "metadata": {},
   "outputs": [
    {
     "name": "stdout",
     "output_type": "stream",
     "text": [
      "[[30, 64, 10], [31, 58, 10], [31, 58, 10], [41, 70, 63, 2], [41, 70, 63, 2]]\n"
     ]
    }
   ],
   "source": [
    "encoder_input = []\n",
    "for line in lines.src: #입력 데이터에서 1줄씩 문장을 읽음\n",
    "    temp_X = []\n",
    "    for w in line: #각 줄에서 1개씩 글자를 읽음\n",
    "      temp_X.append(src_to_index[w]) # 글자를 해당되는 정수로 변환\n",
    "    encoder_input.append(temp_X)\n",
    "print(encoder_input[:5])"
   ]
  },
  {
   "cell_type": "code",
   "execution_count": 11,
   "metadata": {},
   "outputs": [
    {
     "name": "stdout",
     "output_type": "stream",
     "text": [
      "[[1, 3, 48, 53, 3, 4, 3, 2], [1, 3, 45, 53, 64, 73, 72, 3, 4, 3, 2], [1, 3, 45, 53, 64, 73, 72, 14, 3, 2], [1, 3, 29, 67, 73, 70, 71, 105, 4, 3, 2], [1, 3, 29, 67, 73, 70, 57, 78, 105, 4, 3, 2]]\n"
     ]
    }
   ],
   "source": [
    "decoder_input = []\n",
    "for line in lines.tar:\n",
    "    temp_X = []\n",
    "    for w in line:\n",
    "      temp_X.append(tar_to_index[w])\n",
    "    decoder_input.append(temp_X)\n",
    "print(decoder_input[:5])"
   ]
  },
  {
   "cell_type": "code",
   "execution_count": 12,
   "metadata": {},
   "outputs": [
    {
     "name": "stdout",
     "output_type": "stream",
     "text": [
      "[[3, 48, 53, 3, 4, 3, 2], [3, 45, 53, 64, 73, 72, 3, 4, 3, 2], [3, 45, 53, 64, 73, 72, 14, 3, 2], [3, 29, 67, 73, 70, 71, 105, 4, 3, 2], [3, 29, 67, 73, 70, 57, 78, 105, 4, 3, 2]]\n"
     ]
    }
   ],
   "source": [
    "decoder_target = []\n",
    "for line in lines.tar:\n",
    "    t=0\n",
    "    temp_X = []\n",
    "    for w in line:\n",
    "      if t>0:\n",
    "        temp_X.append(tar_to_index[w])\n",
    "      t=t+1\n",
    "    decoder_target.append(temp_X)\n",
    "print(decoder_target[:5])"
   ]
  },
  {
   "cell_type": "code",
   "execution_count": 13,
   "metadata": {},
   "outputs": [
    {
     "name": "stdout",
     "output_type": "stream",
     "text": [
      "24\n",
      "76\n"
     ]
    }
   ],
   "source": [
    "max_src_len = max([len(line) for line in lines.src])\n",
    "max_tar_len = max([len(line) for line in lines.tar])\n",
    "print(max_src_len)\n",
    "print(max_tar_len)"
   ]
  },
  {
   "cell_type": "code",
   "execution_count": 14,
   "metadata": {},
   "outputs": [],
   "source": [
    "encoder_input = pad_sequences(encoder_input, maxlen=max_src_len, padding='post')\n",
    "decoder_input = pad_sequences(decoder_input, maxlen=max_tar_len, padding='post')\n",
    "decoder_target = pad_sequences(decoder_target, maxlen=max_tar_len, padding='post')"
   ]
  },
  {
   "cell_type": "code",
   "execution_count": 15,
   "metadata": {},
   "outputs": [],
   "source": [
    "encoder_input = to_categorical(encoder_input)\n",
    "decoder_input = to_categorical(decoder_input)\n",
    "decoder_target = to_categorical(decoder_target)"
   ]
  },
  {
   "cell_type": "code",
   "execution_count": 16,
   "metadata": {},
   "outputs": [],
   "source": [
    "from tensorflow.keras.layers import Input, LSTM, Embedding, Dense\n",
    "from tensorflow.keras.models import Model\n",
    "import numpy as np"
   ]
  },
  {
   "cell_type": "code",
   "execution_count": 17,
   "metadata": {},
   "outputs": [
    {
     "name": "stdout",
     "output_type": "stream",
     "text": [
      "Executing op RandomUniform in device /job:localhost/replica:0/task:0/device:GPU:0\n",
      "Executing op Sub in device /job:localhost/replica:0/task:0/device:GPU:0\n",
      "Executing op Mul in device /job:localhost/replica:0/task:0/device:GPU:0\n",
      "Executing op Add in device /job:localhost/replica:0/task:0/device:GPU:0\n",
      "Executing op VarHandleOp in device /job:localhost/replica:0/task:0/device:GPU:0\n",
      "Executing op VarIsInitializedOp in device /job:localhost/replica:0/task:0/device:GPU:0\n",
      "Executing op LogicalNot in device /job:localhost/replica:0/task:0/device:GPU:0\n",
      "Executing op Assert in device /job:localhost/replica:0/task:0/device:GPU:0\n",
      "Executing op AssignVariableOp in device /job:localhost/replica:0/task:0/device:GPU:0\n",
      "Executing op RandomStandardNormal in device /job:localhost/replica:0/task:0/device:GPU:0\n",
      "Executing op Qr in device /job:localhost/replica:0/task:0/device:GPU:0\n",
      "Executing op DiagPart in device /job:localhost/replica:0/task:0/device:GPU:0\n",
      "Executing op Sign in device /job:localhost/replica:0/task:0/device:GPU:0\n",
      "Executing op Transpose in device /job:localhost/replica:0/task:0/device:GPU:0\n",
      "Executing op Reshape in device /job:localhost/replica:0/task:0/device:GPU:0\n",
      "Executing op VarHandleOp in device /job:localhost/replica:0/task:0/device:GPU:0\n",
      "Executing op Fill in device /job:localhost/replica:0/task:0/device:GPU:0\n",
      "Executing op ConcatV2 in device /job:localhost/replica:0/task:0/device:GPU:0\n",
      "Executing op VarHandleOp in device /job:localhost/replica:0/task:0/device:GPU:0\n"
     ]
    }
   ],
   "source": [
    "encoder_inputs = Input(shape=(None, src_vocab_size))\n",
    "encoder_lstm = LSTM(units=256, return_state=True)\n",
    "encoder_outputs, state_h, state_c = encoder_lstm(encoder_inputs)\n",
    "# encoder_outputs도 같이 리턴받기는 했지만 여기서는 필요없으므로 이 값은 버림.\n",
    "encoder_states = [state_h, state_c]\n",
    "# LSTM은 바닐라 RNN과는 달리 상태가 두 개. 바로 은닉 상태와 셀 상태."
   ]
  },
  {
   "cell_type": "code",
   "execution_count": 18,
   "metadata": {},
   "outputs": [
    {
     "name": "stdout",
     "output_type": "stream",
     "text": [
      "Executing op VarHandleOp in device /job:localhost/replica:0/task:0/device:GPU:0\n",
      "Executing op VarHandleOp in device /job:localhost/replica:0/task:0/device:GPU:0\n",
      "Executing op VarHandleOp in device /job:localhost/replica:0/task:0/device:GPU:0\n"
     ]
    }
   ],
   "source": [
    "decoder_inputs = Input(shape=(None, tar_vocab_size))\n",
    "decoder_lstm = LSTM(units=256, return_sequences=True, return_state=True)\n",
    "decoder_outputs, _, _= decoder_lstm(decoder_inputs, initial_state=encoder_states)\n",
    "# 디코더의 첫 상태를 인코더의 은닉 상태, 셀 상태로 합니다.\n",
    "decoder_softmax_layer = Dense(tar_vocab_size, activation='softmax')\n",
    "decoder_outputs = decoder_softmax_layer(decoder_outputs)\n",
    "\n",
    "model = Model([encoder_inputs, decoder_inputs], decoder_outputs)\n",
    "model.compile(optimizer=\"rmsprop\", loss=\"categorical_crossentropy\")"
   ]
  },
  {
   "cell_type": "code",
   "execution_count": 19,
   "metadata": {},
   "outputs": [
    {
     "name": "stdout",
     "output_type": "stream",
     "text": [
      "Executing op RangeDataset in device /job:localhost/replica:0/task:0/device:CPU:0\n",
      "Executing op RepeatDataset in device /job:localhost/replica:0/task:0/device:CPU:0\n",
      "Executing op MapDataset in device /job:localhost/replica:0/task:0/device:CPU:0\n",
      "Executing op PrefetchDataset in device /job:localhost/replica:0/task:0/device:CPU:0\n",
      "Executing op FlatMapDataset in device /job:localhost/replica:0/task:0/device:CPU:0\n",
      "Executing op TensorDataset in device /job:localhost/replica:0/task:0/device:CPU:0\n",
      "Executing op RepeatDataset in device /job:localhost/replica:0/task:0/device:CPU:0\n",
      "Executing op ZipDataset in device /job:localhost/replica:0/task:0/device:CPU:0\n",
      "Executing op ParallelMapDataset in device /job:localhost/replica:0/task:0/device:CPU:0\n",
      "Executing op RangeDataset in device /job:localhost/replica:0/task:0/device:CPU:0\n",
      "Executing op RepeatDataset in device /job:localhost/replica:0/task:0/device:CPU:0\n",
      "Executing op MapDataset in device /job:localhost/replica:0/task:0/device:CPU:0\n",
      "Executing op PrefetchDataset in device /job:localhost/replica:0/task:0/device:CPU:0\n",
      "Executing op FlatMapDataset in device /job:localhost/replica:0/task:0/device:CPU:0\n",
      "Executing op TensorDataset in device /job:localhost/replica:0/task:0/device:CPU:0\n",
      "Executing op RepeatDataset in device /job:localhost/replica:0/task:0/device:CPU:0\n",
      "Executing op ZipDataset in device /job:localhost/replica:0/task:0/device:CPU:0\n",
      "Executing op ParallelMapDataset in device /job:localhost/replica:0/task:0/device:CPU:0\n",
      "Executing op DatasetCardinality in device /job:localhost/replica:0/task:0/device:CPU:0\n",
      "Train on 48000 samples, validate on 12000 samples\n",
      "Epoch 1/50\n",
      "Executing op ModelDataset in device /job:localhost/replica:0/task:0/device:CPU:0\n",
      "Executing op AnonymousIteratorV2 in device /job:localhost/replica:0/task:0/device:CPU:0\n",
      "Executing op MakeIterator in device /job:localhost/replica:0/task:0/device:CPU:0\n",
      "Executing op VarHandleOp in device /job:localhost/replica:0/task:0/device:GPU:0\n",
      "Executing op AssignVariableOp in device /job:localhost/replica:0/task:0/device:GPU:0\n",
      "Executing op VarHandleOp in device /job:localhost/replica:0/task:0/device:GPU:0\n",
      "Executing op VarHandleOp in device /job:localhost/replica:0/task:0/device:GPU:0\n",
      "Executing op VarHandleOp in device /job:localhost/replica:0/task:0/device:GPU:0\n",
      "Executing op VarHandleOp in device /job:localhost/replica:0/task:0/device:GPU:0\n",
      "Executing op VarHandleOp in device /job:localhost/replica:0/task:0/device:GPU:0\n",
      "Executing op LogicalNot in device /job:localhost/replica:0/task:0/device:GPU:0\n",
      "Executing op Assert in device /job:localhost/replica:0/task:0/device:GPU:0\n",
      "Executing op VarHandleOp in device /job:localhost/replica:0/task:0/device:GPU:0\n",
      "Executing op VarHandleOp in device /job:localhost/replica:0/task:0/device:GPU:0\n",
      "Executing op VarHandleOp in device /job:localhost/replica:0/task:0/device:GPU:0\n",
      "Executing op VarHandleOp in device /job:localhost/replica:0/task:0/device:GPU:0\n",
      "Executing op VarHandleOp in device /job:localhost/replica:0/task:0/device:GPU:0\n",
      "Executing op VarHandleOp in device /job:localhost/replica:0/task:0/device:GPU:0\n",
      "Executing op VarHandleOp in device /job:localhost/replica:0/task:0/device:GPU:0\n",
      "Executing op __inference_distributed_function_5026 in device /job:localhost/replica:0/task:0/device:GPU:0\n",
      "47808/48000 [============================>.] - ETA: 0s - loss: 0.7849Executing op ModelDataset in device /job:localhost/replica:0/task:0/device:CPU:0\n",
      "Executing op AnonymousIteratorV2 in device /job:localhost/replica:0/task:0/device:CPU:0\n",
      "Executing op __inference_distributed_function_7479 in device /job:localhost/replica:0/task:0/device:GPU:0\n",
      "48000/48000 [==============================] - 49s 1ms/sample - loss: 0.7839 - val_loss: 0.6807\n",
      "Epoch 2/50\n",
      "47872/48000 [============================>.] - ETA: 0s - loss: 0.4757- ETA: 0s - losExecuting op ModelDataset in device /job:localhost/replica:0/task:0/device:CPU:0\n",
      "Executing op DeleteIterator in device /job:localhost/replica:0/task:0/device:CPU:0\n",
      "48000/48000 [==============================] - 17s 349us/sample - loss: 0.4755 - val_loss: 0.5541\n",
      "Epoch 3/50\n",
      "47872/48000 [============================>.] - ETA: 0s - loss: 0.3964Executing op ModelDataset in device /job:localhost/replica:0/task:0/device:CPU:0\n",
      "48000/48000 [==============================] - 18s 366us/sample - loss: 0.3963 - val_loss: 0.4847\n",
      "Epoch 4/50\n",
      "47872/48000 [============================>.] - ETA: 0s - loss: 0.3520Executing op ModelDataset in device /job:localhost/replica:0/task:0/device:CPU:0\n",
      "48000/48000 [==============================] - 17s 357us/sample - loss: 0.3519 - val_loss: 0.4464\n",
      "Epoch 5/50\n",
      "47872/48000 [============================>.] - ETA: 0s - loss: 0.3227Executing op ModelDataset in device /job:localhost/replica:0/task:0/device:CPU:0\n",
      "48000/48000 [==============================] - 17s 364us/sample - loss: 0.3227 - val_loss: 0.4197\n",
      "Epoch 6/50\n",
      "47872/48000 [============================>.] - ETA: 0s - loss: 0.3011Executing op ModelDataset in device /job:localhost/replica:0/task:0/device:CPU:0\n",
      "48000/48000 [==============================] - 17s 360us/sample - loss: 0.3012 - val_loss: 0.4024\n",
      "Epoch 7/50\n",
      "47872/48000 [============================>.] - ETA: 0s - loss: 0.2846Executing op ModelDataset in device /job:localhost/replica:0/task:0/device:CPU:0\n",
      "48000/48000 [==============================] - 17s 364us/sample - loss: 0.2846 - val_loss: 0.3892\n",
      "Epoch 8/50\n",
      "47872/48000 [============================>.] - ETA: 0s - loss: 0.2712Executing op ModelDataset in device /job:localhost/replica:0/task:0/device:CPU:0\n",
      "48000/48000 [==============================] - 17s 361us/sample - loss: 0.2712 - val_loss: 0.3803\n",
      "Epoch 9/50\n",
      "47872/48000 [============================>.] - ETA: 0s - loss: 0.2601Executing op ModelDataset in device /job:localhost/replica:0/task:0/device:CPU:0\n",
      "48000/48000 [==============================] - 17s 362us/sample - loss: 0.2601 - val_loss: 0.3729\n",
      "Epoch 10/50\n",
      "47872/48000 [============================>.] - ETA: 0s - loss: 0.2505Executing op ModelDataset in device /job:localhost/replica:0/task:0/device:CPU:0\n",
      "48000/48000 [==============================] - 17s 360us/sample - loss: 0.2505 - val_loss: 0.3687\n",
      "Epoch 11/50\n",
      "47872/48000 [============================>.] - ETA: 0s - loss: 0.2421Executing op ModelDataset in device /job:localhost/replica:0/task:0/device:CPU:0\n",
      "48000/48000 [==============================] - 17s 355us/sample - loss: 0.2421 - val_loss: 0.3639\n",
      "Epoch 12/50\n",
      "47872/48000 [============================>.] - ETA: 0s - loss: 0.2346Executing op ModelDataset in device /job:localhost/replica:0/task:0/device:CPU:0\n",
      "48000/48000 [==============================] - 18s 366us/sample - loss: 0.2346 - val_loss: 0.3596\n",
      "Epoch 13/50\n",
      "47872/48000 [============================>.] - ETA: 0s - loss: 0.2277Executing op ModelDataset in device /job:localhost/replica:0/task:0/device:CPU:0\n",
      "48000/48000 [==============================] - 17s 356us/sample - loss: 0.2277 - val_loss: 0.3582\n",
      "Epoch 14/50\n",
      "47872/48000 [============================>.] - ETA: 0s - loss: 0.2216- ETAExecuting op ModelDataset in device /job:localhost/replica:0/task:0/device:CPU:0\n",
      "48000/48000 [==============================] - 18s 367us/sample - loss: 0.2216 - val_loss: 0.3583\n",
      "Epoch 15/50\n",
      "47872/48000 [============================>.] - ETA: 0s - loss: 0.2159Executing op ModelDataset in device /job:localhost/replica:0/task:0/device:CPU:0\n",
      "48000/48000 [==============================] - 17s 364us/sample - loss: 0.2159 - val_loss: 0.3567\n",
      "Epoch 16/50\n",
      "47872/48000 [============================>.] - ETA: 0s - loss: 0.2105Executing op ModelDataset in device /job:localhost/replica:0/task:0/device:CPU:0\n",
      "48000/48000 [==============================] - 18s 367us/sample - loss: 0.2105 - val_loss: 0.3558\n",
      "Epoch 17/50\n",
      "47872/48000 [============================>.] - ETA: 0s - loss: 0.2058Executing op ModelDataset in device /job:localhost/replica:0/task:0/device:CPU:0\n",
      "48000/48000 [==============================] - 17s 364us/sample - loss: 0.2057 - val_loss: 0.3568\n",
      "Epoch 18/50\n",
      "47872/48000 [============================>.] - ETA: 0s - loss: 0.2013Executing op ModelDataset in device /job:localhost/replica:0/task:0/device:CPU:0\n",
      "48000/48000 [==============================] - 17s 358us/sample - loss: 0.2012 - val_loss: 0.3573\n"
     ]
    },
    {
     "name": "stdout",
     "output_type": "stream",
     "text": [
      "Epoch 19/50\n",
      "47872/48000 [============================>.] - ETA: 0s - loss: 0.1969Executing op ModelDataset in device /job:localhost/replica:0/task:0/device:CPU:0\n",
      "48000/48000 [==============================] - 17s 363us/sample - loss: 0.1969 - val_loss: 0.3570\n",
      "Epoch 20/50\n",
      "47872/48000 [============================>.] - ETA: 0s - loss: 0.1929Executing op ModelDataset in device /job:localhost/replica:0/task:0/device:CPU:0\n",
      "48000/48000 [==============================] - 17s 364us/sample - loss: 0.1929 - val_loss: 0.3591\n",
      "Epoch 21/50\n",
      "47872/48000 [============================>.] - ETA: 0s - loss: 0.1892Executing op ModelDataset in device /job:localhost/replica:0/task:0/device:CPU:0\n",
      "48000/48000 [==============================] - 17s 363us/sample - loss: 0.1892 - val_loss: 0.3590\n",
      "Epoch 22/50\n",
      "47872/48000 [============================>.] - ETA: 0s - loss: 0.1856Executing op ModelDataset in device /job:localhost/replica:0/task:0/device:CPU:0\n",
      "48000/48000 [==============================] - 18s 366us/sample - loss: 0.1856 - val_loss: 0.3615\n",
      "Epoch 23/50\n",
      "47872/48000 [============================>.] - ETA: 0s - loss: 0.1822Executing op ModelDataset in device /job:localhost/replica:0/task:0/device:CPU:0\n",
      "48000/48000 [==============================] - 17s 363us/sample - loss: 0.1823 - val_loss: 0.3629\n",
      "Epoch 24/50\n",
      "47872/48000 [============================>.] - ETA: 0s - loss: 0.1790Executing op ModelDataset in device /job:localhost/replica:0/task:0/device:CPU:0\n",
      "48000/48000 [==============================] - 17s 364us/sample - loss: 0.1790 - val_loss: 0.3639\n",
      "Epoch 25/50\n",
      "47872/48000 [============================>.] - ETA: 0s - loss: 0.1759Executing op ModelDataset in device /job:localhost/replica:0/task:0/device:CPU:0\n",
      "48000/48000 [==============================] - 17s 363us/sample - loss: 0.1759 - val_loss: 0.3659\n",
      "Epoch 26/50\n",
      "47872/48000 [============================>.] - ETA: 0s - loss: 0.1729Executing op ModelDataset in device /job:localhost/replica:0/task:0/device:CPU:0\n",
      "48000/48000 [==============================] - 17s 362us/sample - loss: 0.1730 - val_loss: 0.3683\n",
      "Epoch 27/50\n",
      "47872/48000 [============================>.] - ETA: 0s - loss: 0.1702Executing op ModelDataset in device /job:localhost/replica:0/task:0/device:CPU:0\n",
      "48000/48000 [==============================] - 17s 364us/sample - loss: 0.1702 - val_loss: 0.3709\n",
      "Epoch 28/50\n",
      "47872/48000 [============================>.] - ETA: 0s - loss: 0.1675Executing op ModelDataset in device /job:localhost/replica:0/task:0/device:CPU:0\n",
      "48000/48000 [==============================] - 17s 357us/sample - loss: 0.1675 - val_loss: 0.3733\n",
      "Epoch 29/50\n",
      "47872/48000 [============================>.] - ETA: 0s - loss: 0.1650Executing op ModelDataset in device /job:localhost/replica:0/task:0/device:CPU:0\n",
      "48000/48000 [==============================] - 17s 364us/sample - loss: 0.1650 - val_loss: 0.3738\n",
      "Epoch 30/50\n",
      "47872/48000 [============================>.] - ETA: 0s - loss: 0.1626Executing op ModelDataset in device /job:localhost/replica:0/task:0/device:CPU:0\n",
      "48000/48000 [==============================] - 17s 361us/sample - loss: 0.1626 - val_loss: 0.3780\n",
      "Epoch 31/50\n",
      "47872/48000 [============================>.] - ETA: 0s - loss: 0.1601Executing op ModelDataset in device /job:localhost/replica:0/task:0/device:CPU:0\n",
      "48000/48000 [==============================] - 18s 366us/sample - loss: 0.1602 - val_loss: 0.3793\n",
      "Epoch 32/50\n",
      "47872/48000 [============================>.] - ETA: 0s - loss: 0.1579Executing op ModelDataset in device /job:localhost/replica:0/task:0/device:CPU:0\n",
      "48000/48000 [==============================] - 17s 356us/sample - loss: 0.1579 - val_loss: 0.3831\n",
      "Epoch 33/50\n",
      "47872/48000 [============================>.] - ETA: 0s - loss: 0.1557Executing op ModelDataset in device /job:localhost/replica:0/task:0/device:CPU:0\n",
      "48000/48000 [==============================] - 18s 367us/sample - loss: 0.1557 - val_loss: 0.3858\n",
      "Epoch 34/50\n",
      "47872/48000 [============================>.] - ETA: 0s - loss: 0.1536Executing op ModelDataset in device /job:localhost/replica:0/task:0/device:CPU:0\n",
      "48000/48000 [==============================] - 17s 360us/sample - loss: 0.1535 - val_loss: 0.3858\n",
      "Epoch 35/50\n",
      "47872/48000 [============================>.] - ETA: 0s - loss: 0.1517Executing op ModelDataset in device /job:localhost/replica:0/task:0/device:CPU:0\n",
      "48000/48000 [==============================] - 18s 369us/sample - loss: 0.1518 - val_loss: 0.3899\n",
      "Epoch 36/50\n",
      "47872/48000 [============================>.] - ETA: 0s - loss: 0.1498Executing op ModelDataset in device /job:localhost/replica:0/task:0/device:CPU:0\n",
      "48000/48000 [==============================] - 17s 356us/sample - loss: 0.1498 - val_loss: 0.3923\n",
      "Epoch 37/50\n",
      "47872/48000 [============================>.] - ETA: 0s - loss: 0.1480- ETA: 0s - losExecuting op ModelDataset in device /job:localhost/replica:0/task:0/device:CPU:0\n",
      "48000/48000 [==============================] - 17s 362us/sample - loss: 0.1480 - val_loss: 0.3947\n",
      "Epoch 38/50\n",
      "47872/48000 [============================>.] - ETA: 0s - loss: 0.1461Executing op ModelDataset in device /job:localhost/replica:0/task:0/device:CPU:0\n",
      "48000/48000 [==============================] - 17s 360us/sample - loss: 0.1461 - val_loss: 0.3973\n",
      "Epoch 39/50\n",
      "47872/48000 [============================>.] - ETA: 0s - loss: 0.1444Executing op ModelDataset in device /job:localhost/replica:0/task:0/device:CPU:0\n",
      "48000/48000 [==============================] - 17s 364us/sample - loss: 0.1444 - val_loss: 0.3983\n",
      "Epoch 40/50\n",
      "47872/48000 [============================>.] - ETA: 0s - loss: 0.1428Executing op ModelDataset in device /job:localhost/replica:0/task:0/device:CPU:0\n",
      "48000/48000 [==============================] - 17s 359us/sample - loss: 0.1428 - val_loss: 0.4012\n",
      "Epoch 41/50\n",
      "47872/48000 [============================>.] - ETA: 0s - loss: 0.1412Executing op ModelDataset in device /job:localhost/replica:0/task:0/device:CPU:0\n",
      "48000/48000 [==============================] - 17s 363us/sample - loss: 0.1412 - val_loss: 0.4052\n",
      "Epoch 42/50\n",
      "47872/48000 [============================>.] - ETA: 0s - loss: 0.1397Executing op ModelDataset in device /job:localhost/replica:0/task:0/device:CPU:0\n",
      "48000/48000 [==============================] - 17s 364us/sample - loss: 0.1398 - val_loss: 0.4072\n",
      "Epoch 43/50\n",
      "47872/48000 [============================>.] - ETA: 0s - loss: 0.1382Executing op ModelDataset in device /job:localhost/replica:0/task:0/device:CPU:0\n",
      "48000/48000 [==============================] - 18s 369us/sample - loss: 0.1382 - val_loss: 0.4106\n",
      "Epoch 44/50\n",
      "47872/48000 [============================>.] - ETA: 0s - loss: 0.1367Executing op ModelDataset in device /job:localhost/replica:0/task:0/device:CPU:0\n",
      "48000/48000 [==============================] - 17s 362us/sample - loss: 0.1367 - val_loss: 0.4134\n",
      "Epoch 45/50\n",
      "47872/48000 [============================>.] - ETA: 0s - loss: 0.1352Executing op ModelDataset in device /job:localhost/replica:0/task:0/device:CPU:0\n",
      "48000/48000 [==============================] - 17s 362us/sample - loss: 0.1353 - val_loss: 0.4139\n",
      "Epoch 46/50\n",
      "47872/48000 [============================>.] - ETA: 0s - loss: 0.1341Executing op ModelDataset in device /job:localhost/replica:0/task:0/device:CPU:0\n",
      "48000/48000 [==============================] - 17s 364us/sample - loss: 0.1341 - val_loss: 0.4178\n",
      "Epoch 47/50\n",
      "47872/48000 [============================>.] - ETA: 0s - loss: 0.1327Executing op ModelDataset in device /job:localhost/replica:0/task:0/device:CPU:0\n",
      "48000/48000 [==============================] - 18s 367us/sample - loss: 0.1327 - val_loss: 0.4200\n",
      "Epoch 48/50\n",
      "47872/48000 [============================>.] - ETA: 0s - loss: 0.1313Executing op ModelDataset in device /job:localhost/replica:0/task:0/device:CPU:0\n",
      "48000/48000 [==============================] - 17s 353us/sample - loss: 0.1313 - val_loss: 0.4228\n",
      "Epoch 49/50\n",
      "47872/48000 [============================>.] - ETA: 0s - loss: 0.1303Executing op ModelDataset in device /job:localhost/replica:0/task:0/device:CPU:0\n",
      "48000/48000 [==============================] - 17s 354us/sample - loss: 0.1303 - val_loss: 0.4237\n",
      "Epoch 50/50\n",
      "47872/48000 [============================>.] - ETA: 0s - loss: 0.1291Executing op ModelDataset in device /job:localhost/replica:0/task:0/device:CPU:0\n"
     ]
    },
    {
     "name": "stdout",
     "output_type": "stream",
     "text": [
      "\b\b\b\b\b\b\b\b\b\b\b\b\b\b\b\b\b\b\b\b\b\b\b\b\b\b\b\b\b\b\b\b\b\b\b\b\b\b\b\b\b\b\b\b\b\b\b\b\b\b\b\b\b\b\b\b\b\b\b\b\b\b\b\b\b\b\b\b\b\r",
      "48000/48000 [==============================] - 17s 363us/sample - loss: 0.1291 - val_loss: 0.4277\n"
     ]
    },
    {
     "data": {
      "text/plain": [
       "<tensorflow.python.keras.callbacks.History at 0x25182894dc8>"
      ]
     },
     "execution_count": 19,
     "metadata": {},
     "output_type": "execute_result"
    }
   ],
   "source": [
    "model.fit(x=[encoder_input, decoder_input], y=decoder_target, batch_size=64, epochs=50, validation_split=0.2)"
   ]
  },
  {
   "cell_type": "code",
   "execution_count": null,
   "metadata": {},
   "outputs": [],
   "source": []
  },
  {
   "cell_type": "code",
   "execution_count": null,
   "metadata": {},
   "outputs": [],
   "source": []
  }
 ],
 "metadata": {
  "kernelspec": {
   "display_name": "tf2.0-gpu",
   "language": "python",
   "name": "tf2.0-gpu"
  },
  "language_info": {
   "codemirror_mode": {
    "name": "ipython",
    "version": 3
   },
   "file_extension": ".py",
   "mimetype": "text/x-python",
   "name": "python",
   "nbconvert_exporter": "python",
   "pygments_lexer": "ipython3",
   "version": "3.7.9"
  }
 },
 "nbformat": 4,
 "nbformat_minor": 4
}
